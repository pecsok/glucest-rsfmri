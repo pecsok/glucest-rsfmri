{
 "cells": [
  {
   "cell_type": "markdown",
   "id": "38e45b22-d9b0-4f97-a151-f923cb4a393b",
   "metadata": {},
   "source": [
    "# Extract2Slice"
   ]
  },
  {
   "cell_type": "markdown",
   "id": "38cdb3a7-3147-4035-b2c1-1bacc5accbe7",
   "metadata": {},
   "source": [
    "This notebook:\n",
    "1. loads packages\n",
    "2. loops through subjects\n",
    "3. applies subject slice to nmap to extract data "
   ]
  },
  {
   "cell_type": "markdown",
   "id": "7982cff0-ab85-4c8c-89fa-27bd18e169cb",
   "metadata": {},
   "source": [
    "## Load Packages"
   ]
  },
  {
   "cell_type": "code",
   "execution_count": 1,
   "id": "f448dad2-778b-4eda-a131-10b30669ddf5",
   "metadata": {},
   "outputs": [
    {
     "name": "stderr",
     "output_type": "stream",
     "text": [
      "pixdim[1,2,3] should be non-zero; setting 0 dims to 1\n"
     ]
    },
    {
     "ename": "ModuleNotFoundError",
     "evalue": "No module named 'abagen'",
     "output_type": "error",
     "traceback": [
      "\u001b[0;31m---------------------------------------------------------------------------\u001b[0m",
      "\u001b[0;31mModuleNotFoundError\u001b[0m                       Traceback (most recent call last)",
      "Cell \u001b[0;32mIn[1], line 20\u001b[0m\n\u001b[1;32m     18\u001b[0m \u001b[38;5;28;01mimport\u001b[39;00m \u001b[38;5;21;01mwarnings\u001b[39;00m\n\u001b[1;32m     19\u001b[0m \u001b[38;5;28;01mimport\u001b[39;00m \u001b[38;5;21;01mnibabel\u001b[39;00m \u001b[38;5;28;01mas\u001b[39;00m \u001b[38;5;21;01mnib\u001b[39;00m\n\u001b[0;32m---> 20\u001b[0m \u001b[38;5;28;01mimport\u001b[39;00m \u001b[38;5;21;01mabagen\u001b[39;00m \u001b[38;5;66;03m## This is important for certification purposes \u001b[39;00m\n",
      "\u001b[0;31mModuleNotFoundError\u001b[0m: No module named 'abagen'"
     ]
    }
   ],
   "source": [
    "import os\n",
    "import numpy as np\n",
    "import pandas as pd"
   ]
  },
  {
   "cell_type": "markdown",
   "id": "b318884b-a968-4698-abd7-27b6c7ca8c47",
   "metadata": {},
   "source": [
    "## Set variables"
   ]
  },
  {
   "cell_type": "code",
   "execution_count": 2,
   "id": "6fc98b88-4751-46e6-81d1-906cfa5b54e3",
   "metadata": {},
   "outputs": [],
   "source": [
    "# Set path for downloading neuromaps data\n",
    "cest_path = '/Users/pecsok/Desktop/ImageData/PMACS_remote/data/cest/'\n",
    "nmaps_path = '/Users/pecsok/Desktop/ImageData/PMACS_remote/data/nmaps/'\n",
    "outpath = '/Users/pecsok/Desktop/ImageData/PMACS_remote/data/nmaps/subj_data/'\n",
    "extract = '/Users/pecsok/Desktop/ImageData/PMACS_remote/\n",
    "\n",
    "subjlist_csv = '/Users/pecsok/Desktop/ImageData/PMACS_remote/data/subject_list_031124.csv'\n",
    "subjlist = pd.read_csv(subjlist_csv)\n",
    "\n",
    "\n",
    "nmaps = ('mGluR', 'NMDA')"
   ]
  },
  {
   "cell_type": "markdown",
   "id": "727fdb39-3cfe-49ee-8f88-e3428063561d",
   "metadata": {},
   "source": [
    "## Loop through subjects and extract nmaps slice data"
   ]
  },
  {
   "cell_type": "code",
   "execution_count": null,
   "id": "01b70dab-14ca-4770-8785-8e62a2ac6eaf",
   "metadata": {},
   "outputs": [],
   "source": [
    "# Loop through subjects\n",
    "for index, row in subjlist.iterrows():\n",
    "    bblid = row['BBLID']\n",
    "    ses = row['SCANID_CEST']\n",
    "    case = bblid + \"_\" + ses\n",
    "    print(case)\n",
    "\n",
    "    for nmap in nmaps:\n",
    "        print(nmap)\n",
    "        cmd = ['bsub', extract, rawdata, outpath, case, nmap]\n",
    "        os.system(' '.join(cmd))"
   ]
  }
 ],
 "metadata": {
  "kernelspec": {
   "display_name": "Python 3 (ipykernel)",
   "language": "python",
   "name": "python3"
  },
  "language_info": {
   "codemirror_mode": {
    "name": "ipython",
    "version": 3
   },
   "file_extension": ".py",
   "mimetype": "text/x-python",
   "name": "python",
   "nbconvert_exporter": "python",
   "pygments_lexer": "ipython3",
   "version": "3.11.7"
  }
 },
 "nbformat": 4,
 "nbformat_minor": 5
}
