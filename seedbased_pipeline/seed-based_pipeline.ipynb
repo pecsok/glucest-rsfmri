{
 "cells": [
  {
   "cell_type": "markdown",
   "id": "e4a87149-537c-4d4f-9684-b373d18d4255",
   "metadata": {},
   "source": [
    "# Seed-based fMRI-GluCEST Script\n",
    "\n",
    "Inputs:\n",
    "- Seed of interest\n",
    "- Subject's GluCEST slice (anatomical)\n",
    "- MNI atlas\n",
    "- Subject's fMRI nii\n",
    "\n",
    "Actions:\n",
    "1. Create subject-specific seed for fMRI extraction\n",
    "2. Extract fMRI data from that seed\n",
    "\n",
    "\n",
    "Outputs:"
   ]
  },
  {
   "cell_type": "code",
   "execution_count": null,
   "id": "751eff5c-c3bb-4b29-a81b-764d08f8a4c5",
   "metadata": {},
   "outputs": [],
   "source": [
    "import sklearn; sklearn.set_config(print_changed_only=False)\n",
    "from nilearn import maskers\n",
    "https://nilearn.github.io/stable/auto_examples/03_connectivity/plot_seed_to_voxel_correlation.html "
   ]
  },
  {
   "cell_type": "code",
   "execution_count": null,
   "id": "03bf5e5b-a13d-40bd-b8e0-73e06db97494",
   "metadata": {},
   "outputs": [],
   "source": [
    "niftimasker"
   ]
  }
 ],
 "metadata": {
  "kernelspec": {
   "display_name": "Python 3 (ipykernel)",
   "language": "python",
   "name": "python3"
  },
  "language_info": {
   "codemirror_mode": {
    "name": "ipython",
    "version": 3
   },
   "file_extension": ".py",
   "mimetype": "text/x-python",
   "name": "python",
   "nbconvert_exporter": "python",
   "pygments_lexer": "ipython3",
   "version": "3.11.7"
  }
 },
 "nbformat": 4,
 "nbformat_minor": 5
}
