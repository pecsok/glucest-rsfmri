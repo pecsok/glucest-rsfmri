


import os
import glob
import numpy as np
import pandas as pd
#import network_fcon as fc
import scipy as sp
from scipy.stats import pearsonr
from scipy.stats import linregress
import seaborn as sns
import matplotlib.pyplot as plt
import re
import seaborn as sns
import statsmodels.formula.api as smf





# Set Variables
fieldstrength = '3T'
bblids = []
sesids = []
nmaps = ["mGluR5", "NMDA","GABA"]
diag_scores = ["dx_pscat", "hstatus","sex", "age", "race","ethnic"] # ,"axis1_desc1","axis1_stat1"
diag_details = ["axis1_desc1", "axis1_desc2", "axis1_desc3","axis1_desc4","axis1_desc5", "axis1_desc6"]
#subjlist = subjlist[subjlist['fieldstrength'] == fieldstrength]
#subjs = subjlist['BBLID']

# Import group dataframes and set indices
#subjlist = pd.read_csv(path + "data/pipeline_input_all_subj.csv", sep=',') 
cestmat = pd.read_csv("cest_parcelmat" + fieldstrength + ".csv", sep=',') 
fcmat = pd.read_csv("fc_parcelmat_" + fieldstrength + ".csv", sep=',')
rehomat = pd.read_csv("reho_parcelmat" + fieldstrength + ".csv", sep=',')
grp_df = pd.read_csv("filtered_grp_df" + fieldstrength + ".csv", sep=',')

# Reformat some dfs
cestmat.set_index('BBLID', inplace = True)
fcmat.set_index('BBLID', inplace = True)
rehomat.set_index('BBLID', inplace = True)
grp_df.set_index('BBLID', inplace = True)
print(grp_df)





def filter(df, filter_list):
    filtered_columns = [col for col in df.columns if not any(substring in col for substring in filter_list)]
    return df[filtered_columns]

def keep(df, keep_list):
    keep_columns = [col for col in df.columns if any(substring in col for substring in keep_list)]
    return df[keep_columns]   

def corr_sig(df=None):
    p_matrix = np.zeros(shape=(df.shape[1],df.shape[1]))
    for col in df.columns:
        for col2 in df.drop(col,axis=1).columns:
            valid_data = df[[col,col2]].dropna()
            if not valid_data.empty:
                _ , p = pearsonr(valid_data[col],valid_data[col2])
                p_matrix[df.columns.to_list().index(col),df.columns.to_list().index(col2)] = p
            else:
                p_matrix[df.columns.to_list().index(col),df.columns.to_list().index(col2)] = np.nan
    return p_matrix





# Filter df to exclude subj info
subj_info = ["BBLID"] + ["Session"] + diag_scores + ["count"]
heat_df = filter(grp_df, subj_info)
corr_df=heat_df.corr()
#print(heat_df)


# Correlation matrix
plt.figure(figsize=(11,9))
sns.heatmap(corr_df, annot=False, cmap='coolwarm',linewidth=0.7)
plt.title('Glu-FC Heatmap\nGross network architecture emerges more strongly in fc+reho\nbut also evident in within-Glu correlations')
plt.show()





pvals = corr_sig(heat_df)
mask01 = np.invert(np.tril(pvals<0.01))
plt.figure(figsize=(11,9))
sns.heatmap(corr_df, mask=mask01, annot=False, cmap='coolwarm',linewidth=0.7)
plt.title('Glu-FC Heatmap\nwith a p value threshold of <0.01')
#plt.tick_params(axis='both', which='major', labelsize=10)
plt.show()


# Correlation matrix GluCEST-GluCEST
cestcorr_df = corr_df.filter(like="NZ", axis=0).filter(like="NZ", axis=1)
plt.figure(figsize=(11,9))
sns.heatmap(cestcorr_df, annot=False, cmap='coolwarm',linewidth=0.7)
plt.title('GluCEST-GluCEST Heatmap\nGross network architecture emerges')
#plt.tick_params(axis='both', which='major', labelsize=10)
plt.show()


# Keep only signficant values
cestvals = cestcorr_df.filter(like="NZ", axis=0).filter(like="NZ", axis=1)
cestpvals = corr_sig(cestvals)
mask01 = np.invert(np.tril(cestpvals<0.000001))

plt.figure(figsize=(11,9))
sns.heatmap(cestcorr_df, mask=mask01, annot=False, cmap='coolwarm',linewidth=0.7)
plt.title('Glu-FC Heatmap\nwith a p value threshold of <0.01')
plt.show()


# Correlation matrix GluCEST-GluCEST
cestfccorr_df = corr_df.filter(like="NZ", axis=0).filter(like="fc_", axis=1)
plt.figure(figsize=(11,9))
sns.heatmap(cestfccorr_df, annot=False, cmap='coolwarm',linewidth=0.7)
plt.title('Glu-FC Heatmap\nNo strongly distinguishable network patterns\nMaybe horizontal stripes suggest GluCEST in certain network are correlated with brain-wide connectivity patterns?')
#plt.tick_params(axis='both', which='major', labelsize=10)
plt.show()


# Keep only signficant values
cestfcvals = cestfccorr_df.filter(like="NZ", axis=0).filter(like="fc_", axis=1)
cestfcpvals = corr_sig(cestfcvals)
mask01 = np.invert(np.tril(cestfcpvals<0.000000001))

plt.figure(figsize=(11,9))
sns.heatmap(cestfccorr_df, mask=mask01, annot=False, cmap='coolwarm',linewidth=0.7)
plt.title('Glu-FC Heatmap\nwith a p value threshold of <0.00001\nGlu-FC Coupling most network-specific in visual and default networks')
plt.show()


# Correlation matrix GluCEST-GluCEST
cestrhcorr_df = corr_df.filter(like="NZ", axis=0).filter(like="reho_", axis=1)
plt.figure(figsize=(11,9))
sns.heatmap(cestrhcorr_df, annot=False, cmap='coolwarm',linewidth=0.7)
plt.title('GluCEST-ReHo Heatmap\nGross network architecture emerges')
#plt.tick_params(axis='both', which='major', labelsize=10)
plt.show()


# Keep only signficant values
cestrhvals = cestrhcorr_df.filter(like="NZ", axis=0).filter(like="reho_", axis=1)
cestrhpvals = corr_sig(cestrhvals)
mask01 = np.invert(np.tril(cestrhpvals<0.000001))

plt.figure(figsize=(11,9))
sns.heatmap(cestrhcorr_df, mask=mask01, annot=False, cmap='coolwarm',linewidth=0.7)
plt.title('Glu-ReHo Heatmap\nwith a p value threshold of <0.01\nGlu-ReHo Coupling most network-specific in visual and default networks')
plt.show()








# Read in nmap data 
nmapsdf = pd.read_csv("receptor_data_scale1000_17.csv", sep=',', header=None)
nmapsdf.columns = nmaps 

# Trim cestmat and keep only the columns with avg values.
cestNZMeans = keep(grp_df, ["NZMean"])
#print(cestNZMeans)
cestavgs = cestNZMeans.mean(axis=0)
# Make new df to store avg nmap values and average CEST values.
glunmaps = nmapsdf.copy()
glunmaps.index = range(1,1001)
glunmaps["CESTavg"] = np.nan
# Add values to new df
for i in range(501,1001):
    cestparcel = f'NZMean_{i}'
    if cestparcel in cestavgs.index:
        #print(cestparcel)
        #print(cestavgs[cestparcel])
        glunmaps.loc[i,"CESTavg"] = cestavgs[cestparcel]
glunmaps = glunmaps.dropna(subset=["CESTavg"])


# Loop through nmaps and make correlation plots
# @Maggie, add color by SA axis value.
for nmap in nmaps:
    formula = f'CESTavg ~ {nmap}'
    rval, pval = pearsonr(glunmaps[nmap],glunmaps["CESTavg"])
    print(nmap)
    print("r=" + str(rval)," p=" + str(pval))

for nmap in nmaps:
    plot = sns.lmplot(x=nmap, y='CESTavg', data=glunmaps)
    plt.xlabel(nmap)
    plt.ylabel("CESTavg")
    #slope, intercept, r_value, p_value, std_err = linregress(graph_df.loc[graph_df['dx_pscat'] == 'PSY', network], graph_df.loc[graph_df['dx_pscat'] == 'PSY', cestcol])
    #plt.text(0.1, 0.8, f'PSY Group\nSlope: {slope:.2f}\nR^2: {r_value**2:.2f}\np: {p_value:.2f}', transform=plt.gca().transAxes)
    # Generate and add slope, r2 and p for subset 2
    #slope, intercept, r_value, p_value, std_err = linregress(graph_df[network], graph_df[cestcol])
    #plt.text(0.4, 0.8, f'HC Group\nSlope: {slope:.2f}\nR^2: {r_value**2:.2f}\np: {p_value:.2f}', transform=plt.gca().transAxes)
    
    plt.title('Linear Regression between ' + nmap + ' and CEST')
    plt.show() 






# Read in nmap data 
nmapsdf = pd.read_csv("receptor_data_scale100_17.csv", sep=',', header=None)
nmapsdf.columns = nmaps 

# Trim cestmat and keep only the columns with avg values.
NC_df = grp_df[grp_df["hstatus"]== "NC"]
NC_cestNZMeans = NC_df.loc[:, (grp_df.columns.str.contains("NZMean"))]
PSY_df = grp_df[grp_df["hstatus"]!= "NC"]
PSY_cestNZMeans = PSY_df.loc[:, (grp_df.columns.str.contains("NZMean"))]
print(NC_cestNZMeans)

# Healthy
cestavgs = NC_cestNZMeans.mean(axis=0)
# Make new df to store avg nmap values and average CEST values.
glunmaps = nmapsdf.copy()
glunmaps.index = range(1,101)
glunmaps["CESTavg"] = np.nan
# Add values to new df
for i in range(51,101):
    cestparcel = f'NZMean_{i}'
    if cestparcel in cestavgs.index:
        #print(cestparcel)
        #print(cestavgs[cestparcel])
        glunmaps.loc[i,"CESTavg"] = cestavgs[cestparcel]
glunmaps = glunmaps.dropna(subset=["CESTavg"])




import statsmodels.api as sm

x=glunmaps[nmaps]
y=glunmaps["CESTavg"]
x = sm.add_constant(x)
model = sm.OLS(y, x).fit()
print(model.summary())



# @Maggie, this is a temporary chunk. Move this to the end of the pipeline_parcellated script.
columns = cestmat.columns[cestmat.notnull().sum() > len(cestmat)*.75]
parcels = [col.split('_')[1] for col in columns if '_' in col]

unique_list = list(set(parcels))
seen = set()
unique_list = [x for x in parcels if not 
               (x in seen or seen.add(x))]
parcels = unique_list
print(parcels)


receptor_names = np.array(["NMDA","mGluR5","GABAa"])
np.save(path+'data/receptor_names_pet.npy', receptor_names)

# make final region x receptor matrix
receptor_data = np.zeros([nnodes, len(receptor_names)])


# NMDA Data
receptor_data[:, 0] = r[:, 0]


# plot each receptor map
if scale == 'scale1000_17':
    annot = datasets.fetch_schaefer2018('fsaverage')['1000Parcels17Networks']
    type(annot)
    print(annot)
    
    for k in range(len(receptor_names)):
        brain = plotting.plot_fsaverage(data=receptor_data[:, k],
                                        lhannot=annot.lh,
                                        rhannot=annot.rh,
                                        colormap='plasma',
                                        views=['lat', 'med'],
                                        data_kws={'representation': "wireframe"})
        brain.save_image(path+'figures/scale1000_17/surface_receptor_'+receptor_names[k]+'.png')
