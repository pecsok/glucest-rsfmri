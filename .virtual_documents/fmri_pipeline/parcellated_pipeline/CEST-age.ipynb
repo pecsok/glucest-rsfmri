





import os
import glob
import numpy as np
import pandas as pd
#import network_fcon as fc
import scipy as sp
from scipy.stats import pearsonr
from scipy.stats import linregress
import seaborn as sns
import matplotlib.pyplot as plt
import re
import seaborn as sns
import statsmodels.formula.api as smf





# Set Variables
fieldstrength = '3T'
atlas = 'S1000'
bblids = []
sesids = []
nmaps = ["NMDA", "mGluR5", "GABA","D2"]
diag_scores = ["dx_pscat", "hstatus","sex", "age", "race","ethnic"] # ,"axis1_desc1","axis1_stat1"
diag_details = ["axis1_desc1", "axis1_desc2", "axis1_desc3","axis1_desc4","axis1_desc5", "axis1_desc6"]
#subjlist = subjlist[subjlist['fieldstrength'] == fieldstrength]
#subjs = subjlist['BBLID']

# Import group dataframes and set indices
#subjlist = pd.read_csv(path + "data/pipeline_input_all_subj.csv", sep=',') 
cestmat = pd.read_csv("cest_parcelmat" + fieldstrength + atlas + ".csv", sep=',') 
fcmat = pd.read_csv("fc_parcelmat_" + fieldstrength + atlas + ".csv", sep=',')
rehomat = pd.read_csv("reho_parcelmat" + fieldstrength + atlas + ".csv", sep=',')
grp_df = pd.read_csv("filtered_grp_df" + fieldstrength + atlas + ".csv", sep=',')

# Reformat some dfs
cestmat.set_index('BBLID', inplace = True)
fcmat.set_index('BBLID', inplace = True)
rehomat.set_index('BBLID', inplace = True)
grp_df.set_index('BBLID', inplace = True)






def filter(df, filter_list):
    filtered_columns = [col for col in df.columns if not any(substring in col for substring in filter_list)]
    return df[filtered_columns]

def keep(df, keep_list):
    keep_columns = [col for col in df.columns if any(substring in col for substring in keep_list)]
    return df[keep_columns]   

def corr_sig(df=None):
    p_matrix = np.zeros(shape=(df.shape[1],df.shape[1]))
    for col in df.columns:
        for col2 in df.drop(col,axis=1).columns:
            valid_data = df[[col,col2]].dropna()
            if not valid_data.empty:
                _ , p = pearsonr(valid_data[col],valid_data[col2])
                p_matrix[df.columns.to_list().index(col),df.columns.to_list().index(col2)] = p
            else:
                p_matrix[df.columns.to_list().index(col),df.columns.to_list().index(col2)] = np.nan
    return p_matrix






# AGE-CEST 
vis = [str(x) for x in range(500,569)]
mn = [str(x) for x in range(569,659)]
da = [str(x) for x in range(659,721)]
sn = [str(x) for x in range(721,798)]
lim = [str(x) for x in range(798,829)]
ecn = [str(x) for x in range(829,911)]
dmn = [str(x) for x in range(911,980)]

network_dict = {
    'VIS': vis,
    'MN': mn,
    'DA': da,
    'SN': sn,
    'LIM': lim,
    'ECN': ecn,
    'DMN': dmn
}




for network_name, parcel_range in network_dict.items():
    # Select columns corresponding to parcels in the current network
    parcel_cols = [col for col in cestdata.columns if col.startswith("NZMean_") and int(col.split("_")[1]) in parcel_range]
    
    if not parcel_cols:
        continue  # Skip if no matching columns are found for the current network
    
    # Create a DataFrame for the selected parcels and include 'age' and 'hstatus'
    graphdf = cestdata[['age', 'hstatus'] + parcel_cols].copy()
    
    # Ensure data is numeric and handle any coercion
    for col in parcel_cols:
        graphdf[col] = pd.to_numeric(graphdf[col], errors='coerce')
    
    graphdf['age'] = pd.to_numeric(graphdf['age'], errors='coerce')
    print(graphdf)
    # Calculate the mean CEST value across all parcels in this network
    graphdf['CESTavg'] = graphdf[parcel_cols].mean(axis=1)
    
    # Drop rows with NaN in either the CESTavg or any of the parcel columns
    plot_data = graphdf.dropna(subset=['CESTavg', 'age'])

    # Define a color palette for plotting
    palette = nmap_palette.get(nmap, "Set1")
    
    # Plot the data using seaborn
    plot = sns.lmplot(x='age', y='CESTavg', hue='hstatus', data=plot_data, palette=palette)
    plt.xlabel("Age")
    plt.ylabel("CEST Average")
    plt.title(f'Linear Regression between Age and CEST within {network_name}')
    plt.show()


# AGE-CEST 
vis = [str(x) for x in range(500,569)]
mn = [str(x) for x in range(569,659)]
da = [str(x) for x in range(659,721)]
sn = [str(x) for x in range(721,798)]
lim = [str(x) for x in range(798,829)]
ecn = [str(x) for x in range(829,911)]
dmn = [str(x) for x in range(911,980)]

network_dict = {
    'VIS': vis,
    'MN': mn,
    'DA': da,
    'SN': sn,
    'LIM': lim,
    'ECN': ecn,
    'DMN': dmn
}



#print(grp_df)
#cestdata = grp_df.filter(like="NZ", axis=1).filter(like="fc", axis=1)
cestdata = grp_df.filter(regex="NZMean|age", axis=1)
print(cestdata)

for network_name, parcel_range in network_dict.items():
    graphdf = cestdata[cestdata['parcel'].str.extract('(\d+)')[0].isin(parcel_range)]
    #print(graphdf)
    #cestdf[cestdf['parcel'].str.extract('(\d+)').astype(float).between(500, 510)]
    graphdf[nmap] = pd.to_numeric(graphdf[nmap], errors='coerce')
    graphdf['CESTavg'] = pd.to_numeric(graphdf['CESTavg']) #, errors='coerce'
    plot_data = graphdf.dropna(subset=[nmap, 'CESTavg'])
    palette = nmap_palette.get(nmap) # Default to "Set1" if nmap not in dictionary
    plot = sns.lmplot(x=nmap, y='CESTavg', hue='hstatus', data=plot_data, palette=palette)
    plt.xlabel(nmap)
    plt.ylabel("CESTavg")
    plt.title('Linear Regression between ' + nmap + ' and CEST within ' + network_name)
    plt.show() 



