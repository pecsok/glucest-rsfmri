





import pandas as pd
from nilearn.datasets import fetch_atlas_schaefer_2018
from neuromaps.parcellate import Parcellater
import warnings
from neuromaps.datasets import fetch_fslr, fetch_annotation
from neuromaps import datasets, images, nulls, resampling, stats, transforms, parcellate
from neuromaps.parcellate import Parcellater 
from neuromaps.resampling import resample_images
from neuromaps.images import dlabel_to_gifti
import neuromaps
import nibabel as nib
import os
import numpy as np
import mayavi
from PIL import Image
import hcp_utils as hcp
import nilearn.plotting as plotting
import warnings
#import abagen ## This is important for certification purposes 
warnings.filterwarnings('ignore')





scale = 'scale1000_17'

schaefer = fetch_atlas_schaefer_2018(n_rois=1000, yeo_networks=17)

path = "/Users/pecsok/projects/Neuromaps/pecsok_pfns/neuromaps/data/maps/PET_nifti_images/"
outpath = "/Users/pecsok/projects/Neuromaps/pecsok_pfns/neuromaps/data/parcellated/PET_parcellated/"+scale+"/"
print(schaefer['maps'])





receptors_nii = [path+'GABAa-bz_flumazenil_hc16_norgaard.nii',
                 path+'GABAa_flumazenil_hc6_dukart.nii',
                 path+'mGluR5_abp_hc22_rosaneto.nii',
                 path+'mGluR5_abp_hc28_dubois.nii',
                 path+'mGluR5_abp_hc73_smart.nii',
                 path+'NMDA_ge179_hc29_galovic.nii.gz',
                 path+'D2_flb457_hc37_smith.nii.gz',
                 path+'D2_flb457_hc55_sandiego.nii.gz'
                ]

           #      path+'D2_raclopride_hc7_alakurtti.nii',
           #      path+'DAT_fpcit_hc174_dukart_spect.nii',
           #      path+'DAT_fepe2i_hc6_sasaki.nii.gz'
           #      path+'D1_SCH23390_hc13_kaller.nii',
           #      path+'D2_fallypride_hc49_jaworska.nii',





parcellated = {}
parcellater = Parcellater(schaefer['maps'], 'MNI152')
for receptor in receptors_nii:
    parcellated[receptor] = parcellater.fit_transform(receptor, 'MNI152', True)
    name = receptor.split('/')[-1]  # get nifti file name
    name = name.split('.')[0]  # remove .nii
    np.savetxt(outpath+name+'.csv', parcellated[receptor], delimiter=',')


scale = 'Harvard_Oxford_sub'
outpath = "/Users/pecsok/projects/Neuromaps/pecsok_pfns/neuromaps/data/parcellated/PET_parcellated/"+scale+"/"

# Dictionary 
#schaefer['maps']
hosub = nib.load("/Users/pecsok/neuromaps-data/atlases/HarvardOxford/HarvardOxford-sub-maxprob-thr0-1mm.nii.gz")



hosub = nib.load("/Users/pecsok/neuromaps-data/atlases/HarvardOxford/HarvardOxford-sub-maxprob-thr0-1mm.nii.gz")
parcellated = {}
parcellater = Parcellater(hosub, 'MNI152')
for receptor in receptors_nii:
    parcellated[receptor] = parcellater.fit_transform(receptor, 'MNI152', True)
    name = receptor.split('/')[-1]  # get nifti file name
    name = name.split('.')[0]  # remove .nii
    np.savetxt(outpath+name+'.csv', parcellated[receptor], delimiter=',')
    
