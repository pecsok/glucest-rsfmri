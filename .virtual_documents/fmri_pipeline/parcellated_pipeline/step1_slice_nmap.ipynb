








import os
import numpy as np
import pandas as pd





# Set path for downloading neuromaps data
#root = '/project/bbl_roalf_pecsokphd/projects/glucest-rsfmri' # or 
root = '/Users/pecsok/Desktop/ImageData/PMACS_remote'

cest_path = root + '/data/cest'
nmaps_path = root + '/data/nmaps'
outpath = root + '/data/nmaps/subj_data'

extract = root + '/github/glucest-rsfmri/cest_nmaps_pipeline/cest2_extract_slice.py'

structural_path = root + '/data/cest/preprocessed'
subjlist_csv = root + '/data/subject_list_031124.csv'
subjlist = pd.read_csv(subjlist_csv)

nmaps = (root + '/data/nmaps/average_mGluR.nii.gz', root + '/data/nmaps/average_NMDA.nii.gz')





# Loop through subjects
for index, row in subjlist.iterrows():
    bblid = str(int(row['BBLID']))
    ses = str(int(row['SCANID_CEST']))
    case = bblid + "_" + ses
    print(case)

    # Set path to subject's structural data
    structural = structural_path + case 
    
    for nmap in nmaps:
        print(nmap)
        cmd = ['bsub', extract, structural_path, outpath, bblid, nmap]
        os.system(' '.join(cmd))


## DEFINE PATHS ##
structural=$1
pre=$2
post=$3
atlas=$4
log=$5
case=$6
method=$7
reso=$8
str=$9
nmap=$10

