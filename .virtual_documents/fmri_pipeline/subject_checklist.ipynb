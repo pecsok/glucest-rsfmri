import os



# Import CSV with Subject list

# Set path variables. 
/data/cest/7T_data


# 



