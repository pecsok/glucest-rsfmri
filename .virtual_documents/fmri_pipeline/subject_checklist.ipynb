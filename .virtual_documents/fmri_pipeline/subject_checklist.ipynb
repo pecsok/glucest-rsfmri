import os



# Import CSV with Subject list

# Set path variables. 
datadir = /data/cest/7T_data

# Create output df:
col names: BBLID, Session, Data_There


for i in range 0-# rows in df:
bblid = df$BBLID[i]
session = df$session[i]

Add a new row to the output directory, adding BBLID and Session to a new row

if /data/cest/7T_data/bblid/session is a directory (using glob.glob?)

  status_csv .loc (new row) and col = Data_There = "Yes"
else"
  status_csv .loc (new row) and col = Data_There = "No"




