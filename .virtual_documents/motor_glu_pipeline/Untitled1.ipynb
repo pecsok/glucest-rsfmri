# Add new CNB data

import os
import glob
import numpy as np
import pandas as pd
import scipy as sp
from scipy.stats import pearsonr
from scipy.stats import linregress
import seaborn as sns
import matplotlib.pyplot as plt
import re
import shutil


# Read in existing grp_df and new cnb
cnbmat = pd.read_csv("/Users/pecsok/projects/GluCEST-fMRI/glucest-rsfmri/motor_glu_pipeline/maggie_datarequest_fullcnb1_0521_edited.csv", sep=',') 
grp_df = pd.read_csv("/Users/pecsok/projects/GluCEST-fMRI/glucest-rsfmri/motor_glu_pipeline/grp_df_r_copy.csv", sep=',') 
CNB_valids = ["tap_valid"] 
CNB_scores = ["tap_tot"]

cnbmat.set_index('bblid', inplace = True)

#rint(cnbmat)


for bblid in grp_df['BBLID'].astype(int):
    for i in range(len(CNB_scores)):
        CNB_score = CNB_scores[i]
        CNB_valid = CNB_valids[i]
        scores = cnbmat[CNB_score]
        if int(bblid) in scores.index:
            score = scores[int(bblid)]
            valids = cnbmat[CNB_valid]
            valid = str(valids[int(bblid)])
            if 'V' in valid and : 
                grp_df.loc[grp_df['BBLID'] == bblid, grp_df.columns == CNB_score] = score 



# Loop through the CNB scores
for i in range(len(CNB_scores)):
    CNB_score = CNB_scores[i]
    CNB_valid = CNB_valids[i]
    # Select score of interest & validity of that score
    scores = cnbmat[CNB_score]
    if int(bblid) in scores.index:
        score = scores[int(bblid)]
        valids = cnbmat[CNB_valid]
        valid = str(valids[int(bblid)])
        # If score was valid, add to grp_df
        if 'V' in valid: 
            grp_df.loc[grp_df['BBLID'] == bblid, grp_df.columns == CNB_score] = score 




