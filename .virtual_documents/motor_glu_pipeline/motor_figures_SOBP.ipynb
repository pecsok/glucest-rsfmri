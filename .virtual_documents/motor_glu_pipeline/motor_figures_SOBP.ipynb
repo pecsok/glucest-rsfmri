





import os
import glob
import numpy as np
import pandas as pd
import scipy as sp
from scipy.stats import pearsonr
from scipy.stats import linregress
import seaborn as sns
import matplotlib.pyplot as plt
import re
from sklearn import linear_model
import statsmodels.api as sm
import statsmodels.formula.api as smf
from scipy.stats import ttest_ind





grp_df = pd.read_csv('grp_df_3T.csv')
diag_df = pd.read_csv('diag_df_3T.csv')

# Choose what to analyse
networks = ["Cont", "Default", "DorsAttn", "Vis", "SalVentAttn", "SomMot", "Limbic"] 
#network = "SomMot"
CESTnetworks = ["avgCEST_SomMot", "ctCEST_SomMot", "avgCEST_Vis", "ctCEST_Vis"]
CNB_scores = ["tap_tot","volt_cr", "volt_rtcr"]
CNB_valids = ["tap_valid"] 
diag_scores = ["hstatus"]
demo_scores = ["sex", "age", "race","ethnic","dateDiff"]
diag_details = ["axis1_desc1", "axis1_desc2", "axis1_desc3","axis1_desc4","axis1_desc5", "axis1_desc6"]
covariate_age = 'age' 
covariate_sex = 'sex'


nancount = grp_df['avgCEST_SomMot'].isna().sum()
print(nancount)
print(grp_df)


# Add some values by hand from old motor glu project
grp_df.loc[grp_df['BBLID'] == 81725, grp_df.columns == 'avgCEST_SomMot'] = 9.210462
grp_df.loc[grp_df['BBLID'] == 87225, grp_df.columns == 'avgCEST_SomMot'] = 7.665792
grp_df.loc[grp_df['BBLID'] == 88608, grp_df.columns == 'avgCEST_SomMot'] = 7.385416
grp_df.loc[grp_df['BBLID'] == 90877, grp_df.columns == 'avgCEST_SomMot'] = 8.690862
grp_df.loc[grp_df['BBLID'] == 92155, grp_df.columns == 'avgCEST_SomMot'] = 8.394454


print(grp_df.loc[grp_df['BBLID'] == 92155])





# Standardize groups and keep only PSD or healthy

grp_df['hstatus'] = grp_df['hstatus'].replace('NC', 'HC')
grp_df['hstatus'] = grp_df['hstatus'].replace('PROR', 'PSY')
grp_df['hstatus'] = grp_df['hstatus'].replace('PRO', 'PSY')
grp_df['hstatus'] = grp_df['hstatus'].replace('S', 'PSY')
grp_df['hstatus'] = grp_df['hstatus'].replace('O', 'Other')
grp_df['hstatus'] = grp_df['hstatus'].replace('Unknown', 'Other')
grp_df['hstatus'] = grp_df['hstatus'].replace('MDD', 'Other')

#Trim NaNs and by diagnosis; rename sex variable.
#grp_df = grp_df.dropna(subset=['avgCEST_SomMot', 'SomMot', 'hstatus']) #
#grp_df = grp_df[grp_df['hstatus'] != 'Other']
grp_df['sex'] = np.where(grp_df['sex'] == 1, 'M', 'F')

#Exclude tap-tot outliers, which are >2.5 standard deviations from the mean.
grp_df = grp_df[grp_df['BBLID'] != 94703]
grp_df = grp_df[grp_df['BBLID'] != 80557]

value_counts = grp_df['hstatus'].value_counts() 

print(value_counts)
#print(grp_df)
grp_df.to_csv('grp_df_3T.csv', index=True)












#Unknown
pd.set_option('display.max_rows', None)

#print(cleaned_df)


# Exclude missing values
grp_df = grp_df.dropna(subset=['age'])
grp_df = grp_df[grp_df['age'] != 'Unknown']
grp_df['age'] = pd.to_numeric(grp_df['age'], errors='coerce')

# Age
age_mean_sd_all = grp_df['age'].mean(), grp_df['age'].std(), grp_df['age'].mode(), grp_df['age'].median()
age_grps = grp_df.groupby("hstatus").agg(
    Age_avg = ("age", "mean"),
    Age_std = ("age", "std"))
# Sex
sex_counts = grp_df.groupby('hstatus')['sex'].value_counts() 
total_f = sex_counts.loc(axis=0)[:, 'F'].sum()
# Tap_tot
tap_mean_sd_all = grp_df['tap_tot'].mean(), grp_df['tap_tot'].std()
tap_grps = grp_df.groupby("hstatus").agg(
    tap_avg = ("tap_tot", "mean"),
    tap_std = ("tap_tot", "std"))
# CEST
cest_mean_sd_all = grp_df['avgCEST_SomMot'].mean(), grp_df['avgCEST_SomMot'].std(), grp_df['avgCEST_SomMot'].mode(), grp_df['avgCEST_SomMot'].median()
cest_grps = grp_df.groupby("hstatus").agg(
    cest_avg = ("avgCEST_SomMot", "mean"),
    cest_std = ("avgCEST_SomMot", "std"))
# FC
fc_mean_sd_all = grp_df['SomMot'].mean(), grp_df['SomMot'].std(), grp_df['SomMot'].mode(), grp_df['SomMot'].median()
fc_grps = grp_df.groupby("hstatus").agg(
    fc_avg = ("SomMot", "mean"),
    fc_std = ("SomMot", "std"))

race_counts = grp_df.groupby('hstatus')['race'].value_counts()    


# Table 1 of manuscript should have:
# Average age (SD)
# Male/female
# Tap_tot scores
# Racial demographics
# Medications?
# Comorbidities

columns = ['Whole sample', 'PSY', 'HC']


demographics_table = pd.DataFrame({
    columns[0]: [f"{age_mean_sd_all[0]:.2f} ({age_mean_sd_all[1]:.2f})",
                 f"{total_f} ({total_f/sex_counts.sum():.2f})",
                 f"{tap_mean_sd_all[0]:.2f} ({tap_mean_sd_all[1]:.2f})",
                 f"{cest_mean_sd_all[0]:.2f} ({cest_mean_sd_all[1]:.2f})",
                 f"{fc_mean_sd_all[0]:.2f} ({fc_mean_sd_all[1]:.2f})"],
    
    columns[1]: [f"{age_grps.loc['PSY', 'Age_avg']:.2f} ({age_grps.loc['PSY', 'Age_std']:.2f})",
                 f"{sex_counts.loc[('PSY', 'F')]} ({sex_counts.loc[('PSY', 'F')]/sex_counts.sum():.2f})",
                 f"{tap_grps.loc['PSY', 'tap_avg']:.2f} ({tap_grps.loc['PSY', 'tap_std']:.2f})",
                 f"{cest_grps.loc['PSY', 'cest_avg']:.2f} ({cest_grps.loc['PSY', 'cest_std']:.2f})",
                 f"{fc_grps.loc['PSY', 'fc_avg']:.2f} ({fc_grps.loc['PSY', 'fc_std']:.2f})"],
    
    columns[2]: [f"{age_grps.loc['HC', 'Age_avg']:.2f} ({age_grps.loc['HC', 'Age_std']:.2f})",
                 f"{sex_counts.loc[('HC', 'F')]} ({sex_counts.loc[('HC', 'F')]/sex_counts.sum():.2f})",
                 f"{tap_grps.loc['HC', 'tap_avg']:.2f} ({tap_grps.loc['HC', 'tap_std']:.2f})",
                 f"{cest_grps.loc['HC', 'cest_avg']:.2f} ({cest_grps.loc['HC', 'cest_std']:.2f})",
                 f"{fc_grps.loc['HC', 'fc_avg']:.2f} ({fc_grps.loc['HC', 'fc_std']:.2f})"],
                 }, index=['Age (SD)', 'Sex (%)', 'Tapping Score avg (SD)', 'Avg SomMot GluCEST (SD)', 'Avg within-SomMot FC'])
                 
# Display the styled DataFrame
print(demographics_table)    






vars = ['age', 'SomMot', 'avgCEST_SomMot', 'ctCEST_SomMot']
for var in vars:
    # QA: Compare mean and median to see if distribution is roughly normal. Visualize mode in histograms.
    mm_df = grp_df[var].mean(), grp_df[var].median()
    print(var + " Mean: " + f"{mm_df[0]:.2f}")
    print(var + " Median: " + f"{mm_df[1]:.2f}")
    
    # Make histogram
    plt.figure()
    input = pd.Series(grp_df[var])
    input.plot.hist(grid=True, bins=15, rwidth=0.9, color='#607c8e')
    plt.title('Histogram of ' + var)
    plt.xlabel(var)
    plt.ylabel('Counts')
    plt.grid(axis='y', alpha=0.75)
    plt.show()






colors = pd.DataFrame({'Network': ["Cont", "Default", "DorsAttn", "Vis", "SalVentAttn", "SomMot", "Limbic"],
    'Color': ['PuOr', 'PuRd_r', 'PiYG_r', 'PRGn', 'PiYG', 'GnBu_r', 'terrain_r']}) # 

for network in networks:
    # Quality control figures
    #network="Vis"
    cestcol = "avgCEST_" + network
    metrics = [cestcol, network]

    for metric in metrics:
        graph_df = grp_df
        graph_df = graph_df.dropna(subset=[network, cestcol, 'hstatus'])
        #print(graph_df)
        # Create a linear regression model for fcon
        color = colors.loc[colors['Network'] == network, 'Color'].values[0]
        sns.set_palette(color)
        plot = sns.lmplot(x='age', y=metric, data=graph_df, markers= "*") #hue='hstatus', 
        plt.xlabel("Age", fontsize=16)
        plt.ylabel(metric, fontsize=16)
        plt.title('Age versus ' + metric, fontsize = 20)
        # Generate and add slope, r2 and p for subset 1
        slope, intercept, r_value, p_value, std_err = linregress(graph_df.loc[graph_df['hstatus'] == 'PSY', 'age'], graph_df.loc[graph_df['hstatus'] == 'PSY', metric])
        plt.text(0.1, 0.8, f'PSY Group\nSlope: {slope:.2f}\nR^2: {r_value**2:.2f}\np: {p_value:.2f}', transform=plt.gca().transAxes)
        #     # Generate and add slope, r2 and p for subset 2
        slope, intercept, r_value, p_value, std_err = linregress(graph_df.loc[graph_df['hstatus'] == 'HC', 'age'], graph_df.loc[graph_df['hstatus'] == 'HC', metric])
        plt.text(0.4, 0.8, f'HC Group\nSlope: {slope:.2f}\nR^2: {r_value**2:.2f}\np: {p_value:.2f}', transform=plt.gca().transAxes)
        # Generate and add slope, r2 and p for all data
        slope, intercept, r_value, p_value, std_err = linregress(graph_df['age'], graph_df[metric])
        plt.text(0.7, 0.8, f'All\nSlope: {slope:.2f}\nR^2: {r_value**2:.2f}\np: {p_value:.2f}', transform=plt.gca().transAxes)
        plt.show() 

        # Bar plots assessing sex differences
        sns.barplot(x='sex', y=metric, data=graph_df, estimator='mean', label=metric) #yerr=avg_df[cestcol + '_std'],
        plt.xlabel('Sex')
        plt.ylabel('Mean ' + metric)
        plt.title('Average ' + metric + ' for males vs females')
        plt.legend()
        plt.show()
        t_statistic, p_value = ttest_ind(graph_df.loc[graph_df['sex'] == 'M', metric],
                                         graph_df.loc[graph_df['sex'] == 'F', metric])
        print(metric + 't test: t=' + str(t_statistic) + ', p=' + str(p_value))







        # Bar plots assessing sex differences
        sns.barplot(x='sex', y=metric, data=graph_df, estimator='mean', label=metric) #yerr=avg_df[cestcol + '_std'],
        plt.xlabel('Diagnosis')
        plt.ylabel('Mean ' + metric)
        plt.title('Average ' + metric + ' for PSY and HC')
        plt.legend()
        plt.show()
        t_statistic, p_value = ttest_ind(graph_df.loc[graph_df['hstatus'] == 'PSY', metric],
                                         graph_df.loc[graph_df['hstatus'] == 'F', metric])
        print(metric + 't test: t=' + str(t_statistic) + ', p=' + str(p_value))
    


graph_df.reset_index(inplace=True)
#print(graph_df)


# Create a scatter plot with a linear regression line
for network in networks:
    cestcol = "avgCEST_" + network
    #graph_df = grp_df[grp_df['hstatus'] != 'Other']
    graph_df = grp_df
    graph_df = graph_df.dropna(subset=[network, cestcol, 'hstatus']) #, 
    # Create a linear regression model for fcon
    color = colors.loc[colors['Network'] == network, 'Color'].values[0]
    sns.set_palette(color)
    plot = sns.lmplot(x=network, y=cestcol, data=graph_df, markers= "x") #hue='hstatus', 
    if network == "SalVentAttn":
        plt.xlabel("SN", fontsize=16)
        plt.ylabel("avgCEST_SN", fontsize=16)
        plt.title('SN FC versus SN GluCEST', fontsize = 20)
    else:
        plt.xlabel(network, fontsize=16)
        plt.ylabel(cestcol, fontsize=16)
        plt.title(network + ' FC versus ' + network + ' GluCEST' , fontsize = 20)
    # Generate and add slope, r2 and p for subset 1
    slope, intercept, r_value, p_value, std_err = linregress(graph_df.loc[graph_df['hstatus'] == 'PSY', network], graph_df.loc[graph_df['hstatus'] == 'PSY', cestcol])
    plt.text(0.1, 0.8, f'PSY Group\nSlope: {slope:.2f}\nR^2: {r_value**2:.2f}\np: {p_value:.2f}', transform=plt.gca().transAxes)
#     # Generate and add slope, r2 and p for subset 2
    slope, intercept, r_value, p_value, std_err = linregress(graph_df.loc[graph_df['hstatus'] == 'HC', network], graph_df.loc[graph_df['hstatus'] == 'HC', cestcol])
    plt.text(0.4, 0.8, f'HC Group\nSlope: {slope:.2f}\nR^2: {r_value**2:.2f}\np: {p_value:.2f}', transform=plt.gca().transAxes)
    # Generate and add slope, r2 and p for all data
    slope, intercept, r_value, p_value, std_err = linregress(graph_df[network], graph_df[cestcol])
    plt.text(0.7, 0.8, f'All\nSlope: {slope:.2f}\nR^2: {r_value**2:.2f}\np: {p_value:.2f}', transform=plt.gca().transAxes)
    plt.show() 

    # Create CNB correlation plot for each network fcon and cest 
    for CNB_score in CNB_scores:
     #   graph_df = grp_df[grp_df['hstatus'] != 'Other']
        graph_df = grp_df
        graph_df = graph_df.dropna(subset=[CNB_score, cestcol, 'hstatus']) #
        # Add labels and a title to the plot
        plot = sns.lmplot(x=cestcol, y=CNB_score,data=graph_df) # hue='hstatus',
        if network == "SalVentAttn":
            plt.xlabel("avgCEST_SN", fontsize=16)
            plt.title('SN GluCEST versus ' + CNB_score, fontsize = 20)
        else: 
            plt.xlabel(cestcol, fontsize=16)
            plt.title(network + ' GluCEST versus ' + CNB_score, fontsize = 20)
        plt.ylabel(CNB_score, fontsize=16)
        # Generate and add slope, r2 and p for subset 1
        slope, intercept, r_value, p_value, std_err = linregress(graph_df.loc[graph_df['hstatus'] == 'PSY', CNB_score], graph_df.loc[graph_df['hstatus'] == 'PSY', cestcol])
        plt.text(0.1, 0.8, f'PSY Group\nSlope: {slope:.2f}\nR^2: {r_value**2:.2f}\np: {p_value:.2f}', transform=plt.gca().transAxes)
        # Generate and add slope, r2 and p for subset 2
        slope, intercept, r_value, p_value, std_err = linregress(graph_df.loc[graph_df['hstatus'] == 'HC', CNB_score], graph_df.loc[graph_df['hstatus'] == 'HC', cestcol])
        plt.text(0.4, 0.8, f'HC Group\nSlope: {slope:.2f}\nR^2: {r_value**2:.2f}\np: {p_value:.2f}', transform=plt.gca().transAxes)
        # Generate and add slope, r2 and p for all data
        slope, intercept, r_value, p_value, std_err = linregress(graph_df[CNB_score], graph_df[cestcol])
        plt.text(0.7, 0.8, f'All\nSlope: {slope:.2f}\nR^2: {r_value**2:.2f}\np: {p_value:.2f}', transform=plt.gca().transAxes)   
        # Show the plot
        plt.show()    

        #graph_df = grp_df[grp_df['hstatus'] != 'Other']
        graph_df = grp_df
        graph_df = graph_df.dropna(subset=[CNB_score, network]) # 'hstatus'
        # Add labels and a title to the plot
        plot = sns.lmplot(x=network, y=CNB_score, data=graph_df, markers= "s") #hue='hstatus',
        if network == "SalVentAttn":
            plt.xlabel("SN", fontsize=16)
            plt.title('SN FC versus ' + CNB_score, fontsize = 20)
        else:
            plt.xlabel(network, fontsize=16)
            plt.title(network + ' FC versus ' + CNB_score, fontsize = 20)
        plt.ylabel(CNB_score, fontsize=16)
        # Generate and add slope, r2 and p for subset 1
        slope, intercept, r_value, p_value, std_err = linregress(graph_df.loc[graph_df['hstatus'] == 'PSY', CNB_score], graph_df.loc[graph_df['hstatus'] == 'PSY', network])
        plt.text(0.1, 0.8, f'PSY Group\nSlope: {slope:.2f}\nR^2: {r_value**2:.2f}\np: {p_value:.2f}', transform=plt.gca().transAxes)
        # Generate and add slope, r2 and p for subset 2
        slope, intercept, r_value, p_value, std_err = linregress(graph_df.loc[graph_df['hstatus'] == 'HC', CNB_score], graph_df.loc[graph_df['hstatus'] == 'HC', network])
        plt.text(0.4, 0.8, f'HC Group\nSlope: {slope:.2f}\nR^2: {r_value**2:.2f}\np: {p_value:.2f}', transform=plt.gca().transAxes)
        # Generate and add slope, r2 and p for all data
        slope, intercept, r_value, p_value, std_err = linregress(graph_df[CNB_score], graph_df[network])
        plt.text(0.7, 0.8, f'All\nSlope: {slope:.2f}\nR^2: {r_value**2:.2f}\np: {p_value:.2f}', transform=plt.gca().transAxes)   
        # Show the plot
        plt.show()  




# Create a scatter plot with a linear regression line
for network in networks:
    cestcol = "avgCEST_" + network
    #graph_df = grp_df[grp_df['hstatus'] != 'Other']
    graph_df = grp_df
    graph_df = graph_df.dropna(subset=[network, cestcol, 'hstatus']) #, 
    # Create a linear regression model for fcon
    color = colors.loc[colors['Network'] == network, 'Color'].values[0]
    sns.set_palette(color)
    plot = sns.lmplot(x=network, y=cestcol, data=graph_df, markers= "x") #hue='hstatus', 
    
    # Make bar graph comparing diagnostic groups
    avg_df = grp_df.groupby('hstatus').agg({cestcol: ['mean', 'std'], network: ['mean', 'std']}).reset_index()
    # Flatten the multi-level columns
    avg_df.columns = ['_'.join(col).strip() for col in avg_df.columns.values]
    print(avg_df)

    
    # Plot CEST bar graph with error bars
    sns.barplot(x='hstatus_', y=cestcol + '_mean', data=avg_df, yerr=avg_df[cestcol + '_std'], label='CEST')
    plt.xlabel('Diagnostic Group')
    plt.ylabel('Mean Value')
    plt.ylim(7, 16)
    plt.title('Average CEST for each hstatus group')
    plt.legend()
    plt.show()
    t_statistic, p_value = ttest_ind(grp_df.loc[grp_df['hstatus'] == 'PSY', 'avgCEST_SomMot'],
                                     grp_df.loc[grp_df['hstatus'] == 'HC', 'avgCEST_SomMot'])
    print('CEST t test: t=' + str(t_statistic) + ', p=' + str(p_value))
    # Plot fcon bar graph with error bars
    sns.barplot(x='hstatus_', y=network + '_mean', data=avg_df, yerr=avg_df[network + '_std'], label='fcon')
    plt.xlabel('Diagnostic Group')
    plt.ylabel('Mean Value')
    plt.title('Average fcon for each hstatus group')
    plt.legend()
    plt.show()
    t_statistic, p_value = ttest_ind(grp_df.loc[grp_df['hstatus'] == 'PSY', 'SomMot'],
                                     grp_df.loc[grp_df['hstatus'] == 'HC', 'SomMot'])
    print('FC t test: t=' + str(t_statistic) + ', p=' + str(p_value))






print(grp_df.columns)


#for network in networks:
#    for CNB_score in CNB_scores:

network = "Vis"
cestcol = "avgCEST_" + network
graph_df=grp_df.dropna(subset=[cestcol, CNB_score])
formula = f'{CNB_score} ~ {cestcol} + {covariate_age}'
model = smf.ols(formula=formula, data=graph_df).fit()
print('CEST-FC Association in all') 
print(model.summary())

fig, ax = plt.subplots()
ax.scatter(graph_df[cestcol], graph_df[CNB_score], label='Actual Data')
# Generate x values for the line
x_line = pd.DataFrame({network: np.linspace(graph_df[cestcol].min(), graph_df[cestcol].max(), 100),
                       covariate_age: np.mean(graph_df[covariate_age])})  # Use mean value for the network variable
# Predictions for the regression line
y_line = model.predict(x_line)
# Plot the regression line
ax.plot(x_line[network], y_line, color='red', label='Regression Line')
ax.set_xlabel(network)
ax.set_ylabel(cestcol)
ax.set_title('Multiple Linear Regression Plot for ' + network + ' & ' + cestcol)
ax.legend()
plt.show()


for network in networks:
    cestcol = "avgCEST_" + network
    formula = f'{cestcol} ~ {network} + {covariate_age}'
    model = smf.ols(formula=formula, data=graph_df).fit()
    print('CEST-FC Association in all') 
    print(model.summary())

    fig, ax = plt.subplots()
    ax.scatter(graph_df[network], graph_df[cestcol], label='Actual Data')
    # Generate x values for the line
    x_line = pd.DataFrame({network: np.linspace(graph_df[network].min(), graph_df[network].max(), 100),
                           covariate_age: np.mean(graph_df[covariate_age])})  # Use mean value for the network variable
    # Predictions for the regression line
    y_line = model.predict(x_line)
    # Plot the regression line
    ax.plot(x_line[network], y_line, color='red', label='Regression Line')
    ax.set_xlabel(network)
    ax.set_ylabel(cestcol)
    ax.set_title('Multiple Linear Regression Plot for ' + network + ' & ' + cestcol)
    ax.legend()
    plt.show()


graph_df = grp_df
print(graph_df.columns.tolist())
print("is panda") if type(graph_df) == pd.core.frame.DataFrame else print("not panda")

cestcol='avgCEST_Vis'
network='Vis'

formula = f'{cestcol} ~ {network} + {covariate_age}'
model = smf.ols(formula=formula, data=graph_df).fit()
print('CEST-FC Association in all') 
print(model.summary())

fig, ax = plt.subplots()
ax.scatter(graph_df[network], graph_df[cestcol], label='Actual Data')
# Generate x values for the line
x_line = pd.DataFrame({network: np.linspace(graph_df[network].min(), graph_df[network].max(), 100),
                       covariate_age: np.mean(graph_df[covariate_age])})  # Use mean value for the network variable
# Predictions for the regression line
y_line = model.predict(x_line)
# Plot the regression line
ax.plot(x_line[network], y_line, color='red', label='Regression Line')
ax.set_xlabel(network)
ax.set_ylabel(cestcol)
ax.set_title('Multiple Linear Regression Plot for ' + network + ' & ' + cestcol)
ax.legend()
plt.show()



for network in networks:
    formula = f'{cestcol} ~ {network} + {covariate_age}'
    model = smf.ols(formula=formula, data=graph_df).fit()
    print('CEST-FC Association in all') 
    print(model.summary())

    fig, ax = plt.subplots()
    ax.scatter(graph_df[network], graph_df[cestcol], label='Actual Data')
    # Generate x values for the line
    x_line = pd.DataFrame({network: np.linspace(graph_df[network].min(), graph_df[network].max(), 100),
                           covariate_age: np.mean(graph_df[covariate_age])})  # Use mean value for the network variable
    # Predictions for the regression line
    y_line = model.predict(x_line)
    # Plot the regression line
    ax.plot(x_line[network], y_line, color='red', label='Regression Line')
    ax.set_xlabel(network)
    ax.set_ylabel(cestcol)
    ax.set_title('Multiple Linear Regression Plot for ' + network + ' & ' + cestcol)
    ax.legend()
    plt.show()
    



# First, replicate main findings of CEST and FC vs taptot using multiple linear regression to control for age and sex.p
for CNB_score in CNB_scores:
    for metric in metrics: 
        formula = f'{CNB_score} ~ {metric} + {covariate_age}' #FIX add covariate_sex
        model = smf.ols(formula=formula, data=graph_df).fit()
        print('Regression of ' + metric + ' vs taptot in all') 
        print(model.summary())

        fig, ax = plt.subplots()
        ax.scatter(graph_df[metric], graph_df['tap_tot'], label='Actual Data')
        # Generate x values for the line
        x_line = pd.DataFrame({metric: np.linspace(graph_df[metric].min(), graph_df[metric].max(), 100),
                               covariate_age: np.mean(graph_df[covariate_age])}) #FIX: add covariate_sex: graph_df[covariate_age] 
        # Predictions for the regression line
        y_line = model.predict(x_line)
        # Plot the regression line
        ax.plot(x_line[metric], y_line, color='red', label='Regression Line')
        ax.set_xlabel(metric)
        ax.set_ylabel('Tapping Score')
        ax.set_title('Multiple Linear Regression Plot for ' + CNB_score + ' & ' + metric)
        ax.legend()
        plt.show()






# Regression by hstatus of CEST and FC versus Tapping Score.
statuses = ['HC', 'PSY']
# Create a figure outside the loop to have a single plot
#fig, ax = plt.subplots()

for status in statuses:
    for metric in metrics:
        for CNB_score in CNB_scores:
            ##################################
            graph_df = grp_df[grp_df['hstatus'] == status]
            # Define formula and model
            formula = f'{CNB_score} ~ {metric} + {covariate_age}' #FIX add covariate_sex
            model = smf.ols(formula=formula, data=graph_df).fit()
            print('Regression of ' + metric + ' vs taptot in all') 
            print(model.summary())

            fig, ax = plt.subplots()
            ax.scatter(graph_df[metric], graph_df['tap_tot'], label='Actual Data')
            # Generate x values for the line
            x_line = pd.DataFrame({metric: np.linspace(graph_df[metric].min(), graph_df[metric].max(), 100),
                                   covariate_age: np.mean(graph_df[covariate_age])}) #FIX: add covariate_sex: graph_df[covariate_age] 
            # Predictions for the regression line
            y_line = model.predict(x_line)
            # Plot the regression line
            ax.plot(x_line[metric], y_line, color='red', label='Regression Line')
            ax.set_xlabel(metric)
            ax.set_ylabel('Tapping Score')
            ax.set_title('Multiple Linear Regression Plot for ' + CNB_score + ' & ' + metric)
            ax.legend()
            plt.show()






colors = pd.DataFrame({'Network': ["Cont", "Default", "DorsAttn", "Vis", "SalVentAttn", "SomMot", "Limbic"],
    'Color': ['PuOr', 'PuRd_r', 'PiYG_r', 'PRGn', 'PiYG', 'GnBu_r', 'terrain_r']}) # 

# Multiple linear regression predicting TapTot using SomMot and FC
#for network in networks:
    
network = "Vis"    
    
cestcol = "avgCEST_" + network
# Create a linear regression model for fcon

# Create CNB correlation plot for each network fcon and cest 
for CNB_score in CNB_scores:
 #   graph_df = grp_df[grp_df['hstatus'] != 'Other']
    graph_df = grp_df
    graph_df = graph_df.dropna(subset=[CNB_score, cestcol, network])
    graph_df = graph_df[[CNB_score, cestcol, network]]
    # Define x values and target variable
    X = graph_df[[cestcol, network]]
    Y = graph_df[CNB_score]

    ##################################
    # Define formula and model
    formula = f'{CNB_score} ~ {cestcol} + {network}'
    model = smf.ols(formula=formula, data=graph_df).fit()
    print('\n\n\n' + network + ' & ' + CNB_score) 
    print(model.summary())

    # Plotting the regression line
    fig, ax = plt.subplots()
    ax.scatter(graph_df[cestcol], graph_df[CNB_score], label='Actual Data')
    # Generate x values for the line
    x_line = pd.DataFrame({cestcol: np.linspace(graph_df[cestcol].min(), graph_df[cestcol].max(), 100),
                           network: np.mean(graph_df[network])})  # Use mean value for the network variable
    # Predictions for the regression line
    y_line = model.predict(x_line)
    # Plot the regression line
    ax.plot(x_line[cestcol], y_line, color='red', label='Regression Line')
    ax.set_xlabel(cestcol)
    ax.set_ylabel(CNB_score)
    ax.set_title('Multiple Linear Regression Plot for ' + CNB_score + ' & ' + network)
    ax.legend()
    plt.show()





# BBS
colors = pd.DataFrame({'Network': ["Cont", "Default", "DorsAttn", "Vis", "SalVentAttn", "SomMot", "Limbic"],
    'Color': ['PuOr', 'PuRd_r', 'PiYG_r', 'PRGn', 'PiYG', 'GnBu_r', 'terrain_r']}) # 

# Create a scatter plot with a multiple linear regression 
for network in networks:
    cestcol = "avgCEST_" + network
    for CNB_score in CNB_scores:
     #   graph_df = grp_df[grp_df['hstatus'] != 'Other']
        graph_df = grp_df
        graph_df = graph_df.dropna(subset=[CNB_score, cestcol, network])
        graph_df = graph_df[[CNB_score, cestcol, network]]
        # Define x values and target variable
        X = graph_df[[cestcol, network]]
        Y = graph_df[CNB_score]

        ##################################
        fig = plt.figure()
        ax = fig.add_subplot(111, projection = '3d')
        ax.scatter(graph_df[CNB_score], graph_df[cestcol], graph_df[network])
        ax.set_xlabel(CNB_score)
        ax.set_ylabel(cestcol)
        ax.set_zlabel(network)
        plt.show()


###Save Output


!jupyter nbconvert --to html motor_figures.ipynb --output motor_figures_7T.html
