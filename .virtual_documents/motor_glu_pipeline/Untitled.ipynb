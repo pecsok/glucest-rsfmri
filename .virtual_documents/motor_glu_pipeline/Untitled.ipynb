import os
import glob
import numpy as np
import pandas as pd
import scipy as sp
from scipy.stats import pearsonr
from scipy.stats import linregress
import seaborn as sns
import matplotlib.pyplot as plt
import re
import shutil


# import fcmat
fcmat_glob = f"/Users/pecsok/projects/GluCEST-fMRI/glucest-rsfmri/motor_glu_pipeline/fcmat117847.csv"
fcmat = pd.read_csv(glob.glob(fcmat_glob)[0], sep=',') # read in fcmat
np.fill_diagonal(fcmat.values, 1)
fcmat = fcmat.transpose()


mask = np.triu(np.ones_like(fcmat, dtype=bool))
#fcmat[ = fcmat.mask(mask)

i_lower = np.triu_indices(100, -1)
fcmat[i_lower] = fcmat.T[i_lower]

print(fcmat)
