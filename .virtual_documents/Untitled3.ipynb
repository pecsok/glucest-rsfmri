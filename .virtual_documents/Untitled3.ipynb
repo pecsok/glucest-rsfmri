### Import Pkgs


import os
import glob
import numpy as np
import pandas as pd
#import network_fcon as fc
import scipy as sp
from scipy.stats import pearsonr
from scipy.stats import linregress
import seaborn as sns
import matplotlib.pyplot as plt
import re
import seaborn as sns
import statsmodels.formula.api as smf


# Set Variables
fieldstrength = '3T'
parcellation = 'S100_17N'
bblids = []
sesids = []

# Read in data
data = pd.read_csv("~/Desktop/test/GluCEST-ROI-Schaefer2018_100Parcels_17Networks-Measures_UNI.tsv", sep='\t') 
# Add custom column with timepoint information
data["timepoint"] = ['Pre', 'Post','Post','Pre','Pre','Post','Post','Pre','Post','Post','Pre','Post']
data["Subject"] = data['Subject'].apply(lambda x: x.split('/')[1])


data["Subject"]
#print(list(data.columns))


def weighted_average(raw_data, mean_names, count_names):
    #raw_data = data
    #mean_names = colnames for weights
    #count_names = names of counts
    weights = []
    for i in range(0, raw_data.shape[0]):
        sum_count = 0
        weight_count = 0
        for j in range(0, len(mean_names)):
            if not pd.isnull(raw_data[mean_names[j]][i]) and not pd.isnull(raw_data[count_names[j]][i]):
                weight_count += raw_data[mean_names[j]][i] * raw_data[count_names[j]][i]
                sum_count += raw_data[count_names[j]][i]
        if sum_count != 0:
            weights.append(weight_count/sum_count)
        else:
            weights.append(np.nan)
    return weights
            
        

#print(data["wt_24"])
grp_df = pd.DataFrame(zip(
    data["Subject"].tolist(),
    data["timepoint"].tolist(),
    weighted_average(data, ["NZMean_24", "NZMean_25", "NZMean_26", "NZMean_27"], ["NZcount_24", "NZcount_25", "NZcount_26", "NZcount_27"]),
    weighted_average(data, ["NZMean_73", "NZMean_74", "NZMean_77"], ["NZcount_73", "NZcount_74", "NZcount_77"]),
    weighted_average(data, ["NZMean_9"], ["NZcount_9"]),
    weighted_average(data, ["NZMean_60"], ["NZcount_60"])),
                  columns = ["Subject", "timepoint", "SNlcest","SNrcest","MNlcest","MNrcest"])

grp_df





regions = ["SNlcest","SNrcest","MNlcest","MNrcest"]


results = {}
for region in regions:
    t, p = sp.stats.ttest_ind(grp_df[grp_df["timepoint"]=="Pre"][region].dropna(),grp_df[grp_df["timepoint"]=="Post"][region].dropna())
    results[region] = (t, p)
    # Create box plot
    plt.figure(figsize=(10, 6))
    sns.boxplot(data=grp_df[grp_df["timepoint"].isin(["Pre", "Post"])], x="timepoint", y=region)
    plt.title(f'Box plot for {region} (t-statistic: {t:.2f}, p-value: {p:.2e})')
    plt.xlabel('Timepoint')
    plt.ylabel(region)
    plt.show()
    

print(results)
    








cestdf_onsite = pd.DataFrame(index=subjs, columns=regions)
cestdf_offsite = pd.DataFrame(index=subjs, columns=regions)
regions = ["SNlcest","SNrcest","MNlcest","MNrcest"]

for subj in subjs:
    preexists = grp_df['Subject'].str.contains(subj) & grp_df['Subject'].str.contains('onsite') & (grp_df['timepoint'] == 'Pre')
    postexists = grp_df['Subject'].str.contains(subj) & grp_df['Subject'].str.contains('onsite') & (grp_df['timepoint'] == 'Post')  
    if preexists.any() and postexists.any():
        for region in regions:
            # If both pre and post data exist, then update cestdf_onsite for that subj row and that region
            pre_value = grp_df.loc[preexists, region].values[0]
            post_value = grp_df.loc[postexists, region].values[0]
            cestdf_onsite.loc[subj, region] = post_value - pre_value

for subj in subjs:
    preexists = grp_df['Subject'].str.contains(subj) & grp_df['Subject'].str.contains('offsite') & (grp_df['timepoint'] == 'Pre')
    postexists = grp_df['Subject'].str.contains(subj) & grp_df['Subject'].str.contains('offsite') & (grp_df['timepoint'] == 'Post')  
    if preexists.any() and postexists.any():
        for region in regions:
            # If both pre and post data exist, then update cestdf_onsite for that subj row and that region
            pre_value = grp_df.loc[preexists, region].values[0]
            post_value = grp_df.loc[postexists, region].values[0]
            cestdf_offsite.loc[subj, region] = post_value - pre_value

print(cestdf_onsite)
print(cestdf_offsite)
