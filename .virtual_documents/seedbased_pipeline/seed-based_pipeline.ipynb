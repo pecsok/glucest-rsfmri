


import sklearn; sklearn.set_config(print_changed_only=False)
from nilearn import maskers
https://nilearn.github.io/stable/auto_examples/03_connectivity/plot_seed_to_voxel_correlation.html 


niftimasker
