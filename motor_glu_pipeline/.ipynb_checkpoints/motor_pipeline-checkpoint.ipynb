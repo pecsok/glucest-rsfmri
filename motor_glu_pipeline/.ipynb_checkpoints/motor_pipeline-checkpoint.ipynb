{
 "cells": [
  {
   "cell_type": "markdown",
   "id": "549b8fc7",
   "metadata": {},
   "source": [
    "## Pipeline Script \n",
    "This script "
   ]
  },
  {
   "cell_type": "markdown",
   "id": "faed04e7",
   "metadata": {},
   "source": [
    "### Import Packages"
   ]
  },
  {
   "cell_type": "code",
   "execution_count": 1,
   "id": "18b02078",
   "metadata": {
    "tags": []
   },
   "outputs": [],
   "source": [
    "import os\n",
    "import glob\n",
    "import numpy as np\n",
    "import pandas as pd\n",
    "import scipy as sp\n",
    "from scipy.stats import pearsonr\n",
    "from scipy.stats import linregress\n",
    "import seaborn as sns\n",
    "import matplotlib.pyplot as plt\n",
    "import re"
   ]
  },
  {
   "cell_type": "markdown",
   "id": "02f51435",
   "metadata": {},
   "source": [
    "### Define paths and variables"
   ]
  },
  {
   "cell_type": "code",
   "execution_count": 2,
   "id": "d1c02784",
   "metadata": {
    "tags": []
   },
   "outputs": [
    {
     "name": "stdout",
     "output_type": "stream",
     "text": [
      "Empty DataFrame\n",
      "Columns: [BBLID, Session, sex, age, race, ethnic, dateDiff, SomMot, avgCEST_SomMot, ctCEST_SomMot, tap_tot, hstatus]\n",
      "Index: []\n"
     ]
    },
    {
     "ename": "FileNotFoundError",
     "evalue": "[Errno 2] No such file or directory: '/Users/pecsok/Desktop/ImageData/PMACS_remote/data/subject_list_111623.csv'",
     "output_type": "error",
     "traceback": [
      "\u001b[0;31m---------------------------------------------------------------------------\u001b[0m",
      "\u001b[0;31mFileNotFoundError\u001b[0m                         Traceback (most recent call last)",
      "Cell \u001b[0;32mIn[2], line 26\u001b[0m\n\u001b[1;32m     23\u001b[0m sesids \u001b[38;5;241m=\u001b[39m []\n\u001b[1;32m     25\u001b[0m \u001b[38;5;66;03m# Import group dataframes and set indices\u001b[39;00m\n\u001b[0;32m---> 26\u001b[0m subjlist \u001b[38;5;241m=\u001b[39m pd\u001b[38;5;241m.\u001b[39mread_csv(\u001b[38;5;124m\"\u001b[39m\u001b[38;5;124m~/Desktop/ImageData/PMACS_remote/data/subject_list_111623.csv\u001b[39m\u001b[38;5;124m\"\u001b[39m, sep\u001b[38;5;241m=\u001b[39m\u001b[38;5;124m'\u001b[39m\u001b[38;5;124m,\u001b[39m\u001b[38;5;124m'\u001b[39m) \n\u001b[1;32m     27\u001b[0m cnbmat \u001b[38;5;241m=\u001b[39m pd\u001b[38;5;241m.\u001b[39mread_csv(clinpath \u001b[38;5;241m+\u001b[39m \u001b[38;5;124m\"\u001b[39m\u001b[38;5;124m/cnb.csv\u001b[39m\u001b[38;5;124m\"\u001b[39m, sep\u001b[38;5;241m=\u001b[39m\u001b[38;5;124m'\u001b[39m\u001b[38;5;124m,\u001b[39m\u001b[38;5;124m'\u001b[39m) \n\u001b[1;32m     28\u001b[0m diagmat \u001b[38;5;241m=\u001b[39m pd\u001b[38;5;241m.\u001b[39mread_csv(clinpath \u001b[38;5;241m+\u001b[39m \u001b[38;5;124m\"\u001b[39m\u001b[38;5;124m/diagnosis.csv\u001b[39m\u001b[38;5;124m\"\u001b[39m, sep\u001b[38;5;241m=\u001b[39m\u001b[38;5;124m'\u001b[39m\u001b[38;5;124m,\u001b[39m\u001b[38;5;124m'\u001b[39m)\n",
      "File \u001b[0;32m~/anaconda3/lib/python3.11/site-packages/pandas/io/parsers/readers.py:912\u001b[0m, in \u001b[0;36mread_csv\u001b[0;34m(filepath_or_buffer, sep, delimiter, header, names, index_col, usecols, dtype, engine, converters, true_values, false_values, skipinitialspace, skiprows, skipfooter, nrows, na_values, keep_default_na, na_filter, verbose, skip_blank_lines, parse_dates, infer_datetime_format, keep_date_col, date_parser, date_format, dayfirst, cache_dates, iterator, chunksize, compression, thousands, decimal, lineterminator, quotechar, quoting, doublequote, escapechar, comment, encoding, encoding_errors, dialect, on_bad_lines, delim_whitespace, low_memory, memory_map, float_precision, storage_options, dtype_backend)\u001b[0m\n\u001b[1;32m    899\u001b[0m kwds_defaults \u001b[38;5;241m=\u001b[39m _refine_defaults_read(\n\u001b[1;32m    900\u001b[0m     dialect,\n\u001b[1;32m    901\u001b[0m     delimiter,\n\u001b[0;32m   (...)\u001b[0m\n\u001b[1;32m    908\u001b[0m     dtype_backend\u001b[38;5;241m=\u001b[39mdtype_backend,\n\u001b[1;32m    909\u001b[0m )\n\u001b[1;32m    910\u001b[0m kwds\u001b[38;5;241m.\u001b[39mupdate(kwds_defaults)\n\u001b[0;32m--> 912\u001b[0m \u001b[38;5;28;01mreturn\u001b[39;00m _read(filepath_or_buffer, kwds)\n",
      "File \u001b[0;32m~/anaconda3/lib/python3.11/site-packages/pandas/io/parsers/readers.py:577\u001b[0m, in \u001b[0;36m_read\u001b[0;34m(filepath_or_buffer, kwds)\u001b[0m\n\u001b[1;32m    574\u001b[0m _validate_names(kwds\u001b[38;5;241m.\u001b[39mget(\u001b[38;5;124m\"\u001b[39m\u001b[38;5;124mnames\u001b[39m\u001b[38;5;124m\"\u001b[39m, \u001b[38;5;28;01mNone\u001b[39;00m))\n\u001b[1;32m    576\u001b[0m \u001b[38;5;66;03m# Create the parser.\u001b[39;00m\n\u001b[0;32m--> 577\u001b[0m parser \u001b[38;5;241m=\u001b[39m TextFileReader(filepath_or_buffer, \u001b[38;5;241m*\u001b[39m\u001b[38;5;241m*\u001b[39mkwds)\n\u001b[1;32m    579\u001b[0m \u001b[38;5;28;01mif\u001b[39;00m chunksize \u001b[38;5;129;01mor\u001b[39;00m iterator:\n\u001b[1;32m    580\u001b[0m     \u001b[38;5;28;01mreturn\u001b[39;00m parser\n",
      "File \u001b[0;32m~/anaconda3/lib/python3.11/site-packages/pandas/io/parsers/readers.py:1407\u001b[0m, in \u001b[0;36mTextFileReader.__init__\u001b[0;34m(self, f, engine, **kwds)\u001b[0m\n\u001b[1;32m   1404\u001b[0m     \u001b[38;5;28mself\u001b[39m\u001b[38;5;241m.\u001b[39moptions[\u001b[38;5;124m\"\u001b[39m\u001b[38;5;124mhas_index_names\u001b[39m\u001b[38;5;124m\"\u001b[39m] \u001b[38;5;241m=\u001b[39m kwds[\u001b[38;5;124m\"\u001b[39m\u001b[38;5;124mhas_index_names\u001b[39m\u001b[38;5;124m\"\u001b[39m]\n\u001b[1;32m   1406\u001b[0m \u001b[38;5;28mself\u001b[39m\u001b[38;5;241m.\u001b[39mhandles: IOHandles \u001b[38;5;241m|\u001b[39m \u001b[38;5;28;01mNone\u001b[39;00m \u001b[38;5;241m=\u001b[39m \u001b[38;5;28;01mNone\u001b[39;00m\n\u001b[0;32m-> 1407\u001b[0m \u001b[38;5;28mself\u001b[39m\u001b[38;5;241m.\u001b[39m_engine \u001b[38;5;241m=\u001b[39m \u001b[38;5;28mself\u001b[39m\u001b[38;5;241m.\u001b[39m_make_engine(f, \u001b[38;5;28mself\u001b[39m\u001b[38;5;241m.\u001b[39mengine)\n",
      "File \u001b[0;32m~/anaconda3/lib/python3.11/site-packages/pandas/io/parsers/readers.py:1661\u001b[0m, in \u001b[0;36mTextFileReader._make_engine\u001b[0;34m(self, f, engine)\u001b[0m\n\u001b[1;32m   1659\u001b[0m     \u001b[38;5;28;01mif\u001b[39;00m \u001b[38;5;124m\"\u001b[39m\u001b[38;5;124mb\u001b[39m\u001b[38;5;124m\"\u001b[39m \u001b[38;5;129;01mnot\u001b[39;00m \u001b[38;5;129;01min\u001b[39;00m mode:\n\u001b[1;32m   1660\u001b[0m         mode \u001b[38;5;241m+\u001b[39m\u001b[38;5;241m=\u001b[39m \u001b[38;5;124m\"\u001b[39m\u001b[38;5;124mb\u001b[39m\u001b[38;5;124m\"\u001b[39m\n\u001b[0;32m-> 1661\u001b[0m \u001b[38;5;28mself\u001b[39m\u001b[38;5;241m.\u001b[39mhandles \u001b[38;5;241m=\u001b[39m get_handle(\n\u001b[1;32m   1662\u001b[0m     f,\n\u001b[1;32m   1663\u001b[0m     mode,\n\u001b[1;32m   1664\u001b[0m     encoding\u001b[38;5;241m=\u001b[39m\u001b[38;5;28mself\u001b[39m\u001b[38;5;241m.\u001b[39moptions\u001b[38;5;241m.\u001b[39mget(\u001b[38;5;124m\"\u001b[39m\u001b[38;5;124mencoding\u001b[39m\u001b[38;5;124m\"\u001b[39m, \u001b[38;5;28;01mNone\u001b[39;00m),\n\u001b[1;32m   1665\u001b[0m     compression\u001b[38;5;241m=\u001b[39m\u001b[38;5;28mself\u001b[39m\u001b[38;5;241m.\u001b[39moptions\u001b[38;5;241m.\u001b[39mget(\u001b[38;5;124m\"\u001b[39m\u001b[38;5;124mcompression\u001b[39m\u001b[38;5;124m\"\u001b[39m, \u001b[38;5;28;01mNone\u001b[39;00m),\n\u001b[1;32m   1666\u001b[0m     memory_map\u001b[38;5;241m=\u001b[39m\u001b[38;5;28mself\u001b[39m\u001b[38;5;241m.\u001b[39moptions\u001b[38;5;241m.\u001b[39mget(\u001b[38;5;124m\"\u001b[39m\u001b[38;5;124mmemory_map\u001b[39m\u001b[38;5;124m\"\u001b[39m, \u001b[38;5;28;01mFalse\u001b[39;00m),\n\u001b[1;32m   1667\u001b[0m     is_text\u001b[38;5;241m=\u001b[39mis_text,\n\u001b[1;32m   1668\u001b[0m     errors\u001b[38;5;241m=\u001b[39m\u001b[38;5;28mself\u001b[39m\u001b[38;5;241m.\u001b[39moptions\u001b[38;5;241m.\u001b[39mget(\u001b[38;5;124m\"\u001b[39m\u001b[38;5;124mencoding_errors\u001b[39m\u001b[38;5;124m\"\u001b[39m, \u001b[38;5;124m\"\u001b[39m\u001b[38;5;124mstrict\u001b[39m\u001b[38;5;124m\"\u001b[39m),\n\u001b[1;32m   1669\u001b[0m     storage_options\u001b[38;5;241m=\u001b[39m\u001b[38;5;28mself\u001b[39m\u001b[38;5;241m.\u001b[39moptions\u001b[38;5;241m.\u001b[39mget(\u001b[38;5;124m\"\u001b[39m\u001b[38;5;124mstorage_options\u001b[39m\u001b[38;5;124m\"\u001b[39m, \u001b[38;5;28;01mNone\u001b[39;00m),\n\u001b[1;32m   1670\u001b[0m )\n\u001b[1;32m   1671\u001b[0m \u001b[38;5;28;01massert\u001b[39;00m \u001b[38;5;28mself\u001b[39m\u001b[38;5;241m.\u001b[39mhandles \u001b[38;5;129;01mis\u001b[39;00m \u001b[38;5;129;01mnot\u001b[39;00m \u001b[38;5;28;01mNone\u001b[39;00m\n\u001b[1;32m   1672\u001b[0m f \u001b[38;5;241m=\u001b[39m \u001b[38;5;28mself\u001b[39m\u001b[38;5;241m.\u001b[39mhandles\u001b[38;5;241m.\u001b[39mhandle\n",
      "File \u001b[0;32m~/anaconda3/lib/python3.11/site-packages/pandas/io/common.py:859\u001b[0m, in \u001b[0;36mget_handle\u001b[0;34m(path_or_buf, mode, encoding, compression, memory_map, is_text, errors, storage_options)\u001b[0m\n\u001b[1;32m    854\u001b[0m \u001b[38;5;28;01melif\u001b[39;00m \u001b[38;5;28misinstance\u001b[39m(handle, \u001b[38;5;28mstr\u001b[39m):\n\u001b[1;32m    855\u001b[0m     \u001b[38;5;66;03m# Check whether the filename is to be opened in binary mode.\u001b[39;00m\n\u001b[1;32m    856\u001b[0m     \u001b[38;5;66;03m# Binary mode does not support 'encoding' and 'newline'.\u001b[39;00m\n\u001b[1;32m    857\u001b[0m     \u001b[38;5;28;01mif\u001b[39;00m ioargs\u001b[38;5;241m.\u001b[39mencoding \u001b[38;5;129;01mand\u001b[39;00m \u001b[38;5;124m\"\u001b[39m\u001b[38;5;124mb\u001b[39m\u001b[38;5;124m\"\u001b[39m \u001b[38;5;129;01mnot\u001b[39;00m \u001b[38;5;129;01min\u001b[39;00m ioargs\u001b[38;5;241m.\u001b[39mmode:\n\u001b[1;32m    858\u001b[0m         \u001b[38;5;66;03m# Encoding\u001b[39;00m\n\u001b[0;32m--> 859\u001b[0m         handle \u001b[38;5;241m=\u001b[39m \u001b[38;5;28mopen\u001b[39m(\n\u001b[1;32m    860\u001b[0m             handle,\n\u001b[1;32m    861\u001b[0m             ioargs\u001b[38;5;241m.\u001b[39mmode,\n\u001b[1;32m    862\u001b[0m             encoding\u001b[38;5;241m=\u001b[39mioargs\u001b[38;5;241m.\u001b[39mencoding,\n\u001b[1;32m    863\u001b[0m             errors\u001b[38;5;241m=\u001b[39merrors,\n\u001b[1;32m    864\u001b[0m             newline\u001b[38;5;241m=\u001b[39m\u001b[38;5;124m\"\u001b[39m\u001b[38;5;124m\"\u001b[39m,\n\u001b[1;32m    865\u001b[0m         )\n\u001b[1;32m    866\u001b[0m     \u001b[38;5;28;01melse\u001b[39;00m:\n\u001b[1;32m    867\u001b[0m         \u001b[38;5;66;03m# Binary mode\u001b[39;00m\n\u001b[1;32m    868\u001b[0m         handle \u001b[38;5;241m=\u001b[39m \u001b[38;5;28mopen\u001b[39m(handle, ioargs\u001b[38;5;241m.\u001b[39mmode)\n",
      "\u001b[0;31mFileNotFoundError\u001b[0m: [Errno 2] No such file or directory: '/Users/pecsok/Desktop/ImageData/PMACS_remote/data/subject_list_111623.csv'"
     ]
    }
   ],
   "source": [
    "# Set paths\n",
    "fcpath = \"/Users/pecsok/Desktop/ImageData/PMACS_remote/data/fmri/postprocessed/7T/xcp_d\"\n",
    "outpath = \"~/Desktop/ImageData/PMACS_remote/analysis/postprocessing/\"\n",
    "clinpath = \"~/Desktop/ImageData/PMACS_remote/data/clinical\"\n",
    "cestpath = \"/Users/pecsok/Desktop/ImageData/PMACS_remote/data/cest/output_measures/UNI/\"\n",
    "\n",
    "# Choose what to analyse\n",
    "networks = [\"SomMot\"] \n",
    "CESTnetworks = [\"avgCEST_SomMot\", \"ctCEST_SomMot\"]\n",
    "CNB_scores = [\"tap_tot\"]\n",
    "CNB_valids = [\"tap_valid\"] \n",
    "diag_scores = [\"hstatus\"]\n",
    "demo_scores = [\"sex\", \"age\", \"race\",\"ethnic\",\"dateDiff\"]\n",
    "diag_details = [\"axis1_desc1\", \"axis1_desc2\", \"axis1_desc3\",\"axis1_desc4\",\"axis1_desc5\", \"axis1_desc6\"]\n",
    "\n",
    "# Make dataframe based on metrics of interest\n",
    "grp_df = pd.DataFrame(columns = [\"BBLID\"] + [\"Session\"] + demo_scores + networks + CESTnetworks + CNB_scores + diag_scores)\n",
    "diag_df = pd.DataFrame(columns = [\"BBLID\"] + [\"Session\"] + diag_scores + diag_details)\n",
    "print(grp_df)\n",
    "\n",
    "# Initialize empty lists and vars\n",
    "bblids = []\n",
    "sesids = []\n",
    "\n",
    "# Import group dataframes and set indices\n",
    "subjlist = pd.read_csv(\"~/Desktop/ImageData/PMACS_remote/data/subject_list_111623.csv\", sep=',') \n",
    "cnbmat = pd.read_csv(clinpath + \"/cnb.csv\", sep=',') \n",
    "diagmat = pd.read_csv(clinpath + \"/diagnosis.csv\", sep=',')\n",
    "demomat = pd.read_csv(clinpath + \"/demographics.csv\", sep=',')\n",
    "# cestmat = pd.read_csv(clinpath + \"/demographics.csv\", sep='\\t') add grp CEST map here\n",
    "cnbmat.set_index('bblid', inplace = True)\n",
    "diagmat.set_index('bblid', inplace = True)\n",
    "demomat.set_index('bblid', inplace = True)\n",
    "\n",
    "# Set up renaming dictionary for CEST df\n",
    "schaefer_indices = pd.read_csv('~/Desktop/ImageData/PMACS_remote/github/glucest-rsfmri/Schaefer2018_100Parcels_17Networks_order_FSLMNI152_2mm.Centroid_RAS.csv', sep=',') # Load the CSV with the mapping of numbers to labels\n",
    "schaefer_dict = dict(zip(schaefer_indices['ROI Label'], schaefer_indices['ROI Name']))\n",
    "\n",
    "print(\"yes\")"
   ]
  },
  {
   "cell_type": "markdown",
   "id": "5c428aa5",
   "metadata": {},
   "source": [
    "### Choose which modules to run"
   ]
  },
  {
   "cell_type": "code",
   "execution_count": 71,
   "id": "670d0539",
   "metadata": {
    "tags": []
   },
   "outputs": [],
   "source": [
    "runfcon = False\n",
    "runCNB = False\n",
    "rundiag = True\n",
    "rundemo = False\n",
    "runcest = False\n",
    "run_grpanalysis = True"
   ]
  },
  {
   "cell_type": "markdown",
   "id": "1e2359da",
   "metadata": {
    "tags": []
   },
   "source": [
    "## Stage 1: Create Group Data Frame\n",
    "### Import data, loop through subjects, and establish file paths\n",
    "\n",
    "\n",
    "FIX THIS ERROR:\n",
    "/var/folders/ls/hy_z7hgd4_13km3h7j84vqh40000gp/T/ipykernel_77945/3898733492.py:72: FutureWarning: Setting an item of incompatible dtype is deprecated and will raise in a future error of pandas. Value 'PSY' has dtype incompatible with float64, please explicitly cast to a compatible dtype first.\n",
    "  grp_df.loc[grp_df['BBLID'].astype(str) == bblid, grp_df.columns == diag_score] = diagnosis"
   ]
  },
  {
   "cell_type": "code",
   "execution_count": 82,
   "id": "5ba3234c-4125-4621-813b-b692b1e5dd61",
   "metadata": {
    "tags": []
   },
   "outputs": [
    {
     "name": "stdout",
     "output_type": "stream",
     "text": [
      "Processing subject 20645\n",
      "Processing subject 120217\n",
      "Processing subject 125511\n",
      "Processing subject 105176\n",
      "Processing subject 132179\n",
      "Processing subject 15305\n",
      "Processing subject 17621\n",
      "Processing subject 98831\n",
      "Processing subject 116019\n",
      "Processing subject 17648\n",
      "Processing subject 96902\n",
      "Processing subject 118864\n",
      "Processing subject 20325\n",
      "Processing subject 80557\n",
      "Processing subject 20642\n",
      "Processing subject 94028\n",
      "Processing subject 125073\n",
      "Processing subject 121085\n",
      "Processing subject 85369\n",
      "Processing subject 93292\n",
      "Processing subject 116354\n",
      "Processing subject 90281\n",
      "Processing subject 96659\n",
      "Processing subject 93274\n",
      "Processing subject 20902\n",
      "Processing subject 93242\n",
      "Processing subject 106880\n",
      "Processing subject 94288\n",
      "Processing subject 90077\n",
      "Processing subject 20754\n",
      "Processing subject 21874\n",
      "Processing subject 121407\n",
      "Processing subject 102041\n",
      "Processing subject 88760\n",
      "Processing subject 20303\n",
      "Processing subject 119791\n",
      "Processing subject 106057\n",
      "Processing subject 127065\n",
      "Processing subject 20871\n",
      "Processing subject 19970\n",
      "Processing subject 92089\n",
      "Processing subject 115783\n",
      "Processing subject 20011\n",
      "Processing subject 20543\n",
      "Processing subject 85743\n",
      "Processing subject 83835\n",
      "Processing subject 16962\n",
      "Processing subject 20792\n",
      "Processing subject 95257\n",
      "Processing subject 17519\n",
      "Processing subject 19981\n",
      "Processing subject 93734\n",
      "Processing subject 132641\n",
      "Processing subject 88608\n",
      "Processing subject 93757\n",
      "Processing subject 97994\n",
      "Processing subject 105979\n",
      "Processing subject 92211\n",
      "Processing subject 91962\n",
      "Processing subject 91422\n",
      "Processing subject 94276\n",
      "Processing subject 112126\n",
      "Processing subject 111720\n",
      "Processing subject 98370\n",
      "Processing subject 20903\n",
      "Processing subject 89279\n",
      "Processing subject 90217\n",
      "Processing subject 127935\n",
      "Processing subject 94703\n",
      "Processing subject 91335\n",
      "Processing subject 89095\n",
      "     BBLID  Session  sex  age  race  ethnic  dateDiff  SomMot  avgCEST_SomMot  \\\n",
      "0    20645    11274  NaN  NaN   NaN     NaN       NaN     NaN             NaN   \n",
      "1   120217    10702  NaN  NaN   NaN     NaN       NaN     NaN             NaN   \n",
      "2   125511    10565  NaN  NaN   NaN     NaN       NaN     NaN             NaN   \n",
      "3   105176     9362  NaN  NaN   NaN     NaN       NaN     NaN             NaN   \n",
      "4   132179    10780  NaN  NaN   NaN     NaN       NaN     NaN             NaN   \n",
      "5    15305     8635  NaN  NaN   NaN     NaN       NaN     NaN             NaN   \n",
      "6    17621     9270  NaN  NaN   NaN     NaN       NaN     NaN             NaN   \n",
      "7    98831    10084  NaN  NaN   NaN     NaN       NaN     NaN             NaN   \n",
      "8   116019    10078  NaN  NaN   NaN     NaN       NaN     NaN             NaN   \n",
      "9    17648     8704  NaN  NaN   NaN     NaN       NaN     NaN             NaN   \n",
      "10   96902    11870  NaN  NaN   NaN     NaN       NaN     NaN             NaN   \n",
      "11  118864    11724  NaN  NaN   NaN     NaN       NaN     NaN             NaN   \n",
      "12   20325    11667  NaN  NaN   NaN     NaN       NaN     NaN             NaN   \n",
      "13   80557    10863  NaN  NaN   NaN     NaN       NaN     NaN             NaN   \n",
      "14   20642    11272  NaN  NaN   NaN     NaN       NaN     NaN             NaN   \n",
      "15   94028     PNC3  NaN  NaN   NaN     NaN       NaN     NaN             NaN   \n",
      "16  125073    11756  NaN  NaN   NaN     NaN       NaN     NaN             NaN   \n",
      "17  121085    10973  NaN  NaN   NaN     NaN       NaN     NaN             NaN   \n",
      "18   85369     PNC3  NaN  NaN   NaN     NaN       NaN     NaN             NaN   \n",
      "19   93292    10306  NaN  NaN   NaN     NaN       NaN     NaN             NaN   \n",
      "20  116354    11647  NaN  NaN   NaN     NaN       NaN     NaN             NaN   \n",
      "21   90281    10147  NaN  NaN   NaN     NaN       NaN     NaN             NaN   \n",
      "22   96659    10229  NaN  NaN   NaN     NaN       NaN     NaN             NaN   \n",
      "23   93274    10785  NaN  NaN   NaN     NaN       NaN     NaN             NaN   \n",
      "24   20902  motive2  NaN  NaN   NaN     NaN       NaN     NaN             NaN   \n",
      "25   93242  motive2  NaN  NaN   NaN     NaN       NaN     NaN             NaN   \n",
      "26  106880    10302  NaN  NaN   NaN     NaN       NaN     NaN             NaN   \n",
      "27   94288    11948  NaN  NaN   NaN     NaN       NaN     NaN             NaN   \n",
      "28   90077    10627  NaN  NaN   NaN     NaN       NaN     NaN             NaN   \n",
      "29   20754  motive2  NaN  NaN   NaN     NaN       NaN     NaN             NaN   \n",
      "30   21874    12043  NaN  NaN   NaN     NaN       NaN     NaN             NaN   \n",
      "31  121407     9257  NaN  NaN   NaN     NaN       NaN     NaN             NaN   \n",
      "32  102041    10603  NaN  NaN   NaN     NaN       NaN     NaN             NaN   \n",
      "33   88760  motive2  NaN  NaN   NaN     NaN       NaN     NaN             NaN   \n",
      "34   20303    12276  NaN  NaN   NaN     NaN       NaN     NaN             NaN   \n",
      "35  119791    10082  NaN  NaN   NaN     NaN       NaN     NaN             NaN   \n",
      "36  106057     7955  NaN  NaN   NaN     NaN       NaN     NaN             NaN   \n",
      "37  127065  motive2  NaN  NaN   NaN     NaN       NaN     NaN             NaN   \n",
      "38   20871  motive2  NaN  NaN   NaN     NaN       NaN     NaN             NaN   \n",
      "39   19970    10801  NaN  NaN   NaN     NaN       NaN     NaN             NaN   \n",
      "40   92089  motive2  NaN  NaN   NaN     NaN       NaN     NaN             NaN   \n",
      "41  115783    11653  NaN  NaN   NaN     NaN       NaN     NaN             NaN   \n",
      "42   20011    10846  NaN  NaN   NaN     NaN       NaN     NaN             NaN   \n",
      "43   20543    11271  NaN  NaN   NaN     NaN       NaN     NaN             NaN   \n",
      "44   85743    10974  NaN  NaN   NaN     NaN       NaN     NaN             NaN   \n",
      "45   83835    10777  NaN  NaN   NaN     NaN       NaN     NaN             NaN   \n",
      "46   16962     9037  NaN  NaN   NaN     NaN       NaN     NaN             NaN   \n",
      "47   20792  motive2  NaN  NaN   NaN     NaN       NaN     NaN             NaN   \n",
      "48   95257  motive2  NaN  NaN   NaN     NaN       NaN     NaN             NaN   \n",
      "49   17519     9423  NaN  NaN   NaN     NaN       NaN     NaN             NaN   \n",
      "50   19981    10852  NaN  NaN   NaN     NaN       NaN     NaN             NaN   \n",
      "51   93734    10092  NaN  NaN   NaN     NaN       NaN     NaN             NaN   \n",
      "52  132641     8997  NaN  NaN   NaN     NaN       NaN     NaN             NaN   \n",
      "53   88608  motive2  NaN  NaN   NaN     NaN       NaN     NaN             NaN   \n",
      "54   93757    12061  NaN  NaN   NaN     NaN       NaN     NaN             NaN   \n",
      "55   97994    10896  NaN  NaN   NaN     NaN       NaN     NaN             NaN   \n",
      "56  105979    10067  NaN  NaN   NaN     NaN       NaN     NaN             NaN   \n",
      "57   92211    10435  NaN  NaN   NaN     NaN       NaN     NaN             NaN   \n",
      "58   91962  motive1  NaN  NaN   NaN     NaN       NaN     NaN             NaN   \n",
      "59   91422  motive1  NaN  NaN   NaN     NaN       NaN     NaN             NaN   \n",
      "60   94276    10957  NaN  NaN   NaN     NaN       NaN     NaN             NaN   \n",
      "61  112126  motive1  NaN  NaN   NaN     NaN       NaN     NaN             NaN   \n",
      "62  111720    11689  NaN  NaN   NaN     NaN       NaN     NaN             NaN   \n",
      "63   98370  motive2  NaN  NaN   NaN     NaN       NaN     NaN             NaN   \n",
      "64   20903  motive2  NaN  NaN   NaN     NaN       NaN     NaN             NaN   \n",
      "65   89279  motive1  NaN  NaN   NaN     NaN       NaN     NaN             NaN   \n",
      "66   90217    12064  NaN  NaN   NaN     NaN       NaN     NaN             NaN   \n",
      "67  127935  motive2  NaN  NaN   NaN     NaN       NaN     NaN             NaN   \n",
      "68   94703    11928  NaN  NaN   NaN     NaN       NaN     NaN             NaN   \n",
      "69   91335     9346  NaN  NaN   NaN     NaN       NaN     NaN             NaN   \n",
      "70   89095     9972  NaN  NaN   NaN     NaN       NaN     NaN             NaN   \n",
      "\n",
      "    ctCEST_SomMot  tap_tot  hstatus  \n",
      "0             NaN      NaN      NaN  \n",
      "1             NaN      NaN      PSY  \n",
      "2             NaN      NaN        O  \n",
      "3             NaN      NaN      PRO  \n",
      "4             NaN      NaN      PRO  \n",
      "5             NaN      NaN       NC  \n",
      "6             NaN      NaN       NC  \n",
      "7             NaN      NaN       NC  \n",
      "8             NaN      NaN      PRO  \n",
      "9             NaN      NaN        S  \n",
      "10            NaN      NaN       NC  \n",
      "11            NaN      NaN       NC  \n",
      "12            NaN      NaN     PROR  \n",
      "13            NaN      NaN       NC  \n",
      "14            NaN      NaN      NaN  \n",
      "15            NaN      NaN      PRO  \n",
      "16            NaN      NaN      PRO  \n",
      "17            NaN      NaN       NC  \n",
      "18            NaN      NaN      PRO  \n",
      "19            NaN      NaN      PRO  \n",
      "20            NaN      NaN      PRO  \n",
      "21            NaN      NaN       NC  \n",
      "22            NaN      NaN       NC  \n",
      "23            NaN      NaN      PSY  \n",
      "24            NaN      NaN      NaN  \n",
      "25            NaN      NaN      NaN  \n",
      "26            NaN      NaN       NC  \n",
      "27            NaN      NaN       NC  \n",
      "28            NaN      NaN      PSY  \n",
      "29            NaN      NaN      NaN  \n",
      "30            NaN      NaN      NaN  \n",
      "31            NaN      NaN       NC  \n",
      "32            NaN      NaN       NC  \n",
      "33            NaN      NaN       NC  \n",
      "34            NaN      NaN       NC  \n",
      "35            NaN      NaN      PRO  \n",
      "36            NaN      NaN      PRO  \n",
      "37            NaN      NaN      NaN  \n",
      "38            NaN      NaN  Unknown  \n",
      "39            NaN      NaN        S  \n",
      "40            NaN      NaN  Unknown  \n",
      "41            NaN      NaN       NC  \n",
      "42            NaN      NaN      PRO  \n",
      "43            NaN      NaN      MDD  \n",
      "44            NaN      NaN       NC  \n",
      "45            NaN      NaN      NaN  \n",
      "46            NaN      NaN        S  \n",
      "47            NaN      NaN      PRO  \n",
      "48            NaN      NaN  Unknown  \n",
      "49            NaN      NaN       NC  \n",
      "50            NaN      NaN      NaN  \n",
      "51            NaN      NaN       NC  \n",
      "52            NaN      NaN      PRO  \n",
      "53            NaN      NaN      PRO  \n",
      "54            NaN      NaN        S  \n",
      "55            NaN      NaN       NC  \n",
      "56            NaN      NaN        O  \n",
      "57            NaN      NaN     PROR  \n",
      "58            NaN      NaN      PRO  \n",
      "59            NaN      NaN       NC  \n",
      "60            NaN      NaN        S  \n",
      "61            NaN      NaN       NC  \n",
      "62            NaN      NaN       NC  \n",
      "63            NaN      NaN  Unknown  \n",
      "64            NaN      NaN  Unknown  \n",
      "65            NaN      NaN      PRO  \n",
      "66            NaN      NaN      PRO  \n",
      "67            NaN      NaN  Unknown  \n",
      "68            NaN      NaN      PSY  \n",
      "69            NaN      NaN        S  \n",
      "70            NaN      NaN      MDD  \n"
     ]
    }
   ],
   "source": [
    "# Generates list of all file names\n",
    "folder_names = [folder for folder in glob.glob(os.path.join(fcpath, \"*\")) if os.path.isdir(folder)]\n",
    "#subje\n",
    "\n",
    "# Loop through subjects\n",
    "for subj_path in folder_names: # loop through all rows of the spreadsheet\n",
    "    if \"sub\" in subj_path:\n",
    "        # Extract bblid id:\n",
    "        bblid = subj_path.split('-')[1]\n",
    "        print(\"Processing subject \" + bblid)\n",
    "        # Extract session id: \n",
    "        items = os.listdir(subj_path)\n",
    "        ses_folder = [item for item in items if item.startswith(\"ses\")]\n",
    "        ses = ses_folder[0].split('-')[1]\n",
    "        ses_path = os.path.join(fcpath, subj_path, ses_folder[0]) # full path to session\n",
    "        \n",
    "        \n",
    "        # Add to running list of IDs grp analysis later:\n",
    "        bblids.append(bblid)\n",
    "        sesids.append(ses)\n",
    "        # Start new row in grp_df for this subject:\n",
    "        ids = [bblid, ses]  # Values for the first two columns\n",
    "        grp_df.loc[len(grp_df)] = ids + [float('nan')] * (len(grp_df.columns) - len(ids))\n",
    "        diag_df.loc[len(diag_df)] = ids + [float('nan')] * (len(diag_df.columns) - len(ids))\n",
    "        \n",
    "        # Run a subset of subjs or exclude specific subjs.\n",
    "        if bblid != \"20902\" and bblid != \"93242\"  and bblid != \"20754\" and bblid != \"127065\":\n",
    "            ##################################################################################################\n",
    "            ## FC\n",
    "            ##################################################################################################\n",
    "            if runfcon:\n",
    "                os.path.join(fcpath, \"sub-\" + bblid, \"ses-\" + ses)\n",
    "                ses_path = os.path.join(fcpath, subj_path, ses_folder[0]) # full path to session\n",
    "                fcmat_glob = f\"{ses_path}/func/*Schaefer117_measure-pearsoncorrelation_conmat.tsv\"\n",
    "                if os.path.isfile(glob.glob(fcmat_glob)[0]):\n",
    "                    fcmat = pd.read_csv(glob.glob(fcmat_glob)[0], sep='\\t') # read in fcmat\n",
    "                    fcmat.set_index('Node', inplace = True)\n",
    "                    # Loop through the networks\n",
    "                    for network in networks:\n",
    "                        print(\"Running \" + network + \" fcon\")\n",
    "                        # Select rows and columns corresponding to the network\n",
    "                        network_fc = fcmat.loc[fcmat.index.str.contains(network), fcmat.columns[fcmat.columns.str.contains(network)]]\n",
    "                        # Calculate avg network fc and add value to proper column in grp_df\n",
    "                        grp_df.loc[len(grp_df)-1, network] = network_fc.values.mean()\n",
    "            \n",
    "            ##################################################################################################\n",
    "            ## CNB\n",
    "            ##################################################################################################\n",
    "            if runCNB:\n",
    "                # Loop through the CNB scores\n",
    "                for i in range(len(CNB_scores)):\n",
    "                    CNB_score = CNB_scores[i]\n",
    "                    CNB_valid = CNB_valids[i]\n",
    "                    # Select score of interest & validity of that score\n",
    "                    scores = cnbmat[CNB_score]\n",
    "                    if int(bblid) in scores.index:\n",
    "                        score = scores[int(bblid)]\n",
    "                        valids = cnbmat[CNB_valid]\n",
    "                        valid = str(valids[int(bblid)])\n",
    "                        # If score was valid, add to grp_df\n",
    "                        if 'V' in valid: \n",
    "                            grp_df.loc[grp_df['BBLID'] == bblid, grp_df.columns == CNB_score] = score \n",
    "            ##################################################################################################\n",
    "            ## Diagnosis\n",
    "            ##################################################################################################\n",
    "            if rundiag:\n",
    "                # Add hstatus\n",
    "                for i in range(len(diag_scores)):\n",
    "                    diag_score = diag_scores[i]\n",
    "                    # Select score of interest and add to grp_df\n",
    "                    diagnoses = diagmat[diag_score]\n",
    "                    if int(bblid) in diagnoses.index:\n",
    "                        diagnosis = diagnoses[int(bblid)]\n",
    "                        grp_df.loc[grp_df['BBLID'].astype(str) == bblid, grp_df.columns == diag_score] = diagnosis \n",
    "                        diag_df.loc[diag_df['BBLID'].astype(str) == bblid, diag_df.columns == diag_score] = diagnosis \n",
    "                    else:\n",
    "                        diagnosis = \"Unknown\"\n",
    "                        grp_df.loc[grp_df['BBLID'].astype(str) == bblid, grp_df.columns == diag_score] = diagnosis \n",
    "                        diag_df.loc[diag_df['BBLID'].astype(str) == bblid, diag_df.columns == diag_score] = diagnosis\n",
    "     \n",
    "                # Loop through diag scores\n",
    "                for i in range(len(diag_details)):\n",
    "                    diag_detail = diag_details[i]\n",
    "                    # Select score of interest and add to grp_df\n",
    "                    comorbidities = diagmat[diag_detail]\n",
    "                    if int(bblid) in comorbidities.index:\n",
    "                        comorbidity = comorbidities[int(bblid)]\n",
    "                       # print(comorbidity)\n",
    "                        diag_df.loc[diag_df['BBLID'].astype(str) == bblid, diag_df.columns == diag_detail] = comorbidity \n",
    "                    else:\n",
    "                        comorbidity = \"Unknown\"\n",
    "                        diag_df.loc[diag_df['BBLID'].astype(str) == bblid, diag_df.columns == diag_detail] = comorbidity\n",
    "            ##################################################################################################\n",
    "            ## Demographics\n",
    "            ##################################################################################################\n",
    "            if rundemo:\n",
    "                # Loop through the CNB scores\n",
    "                for i in range(len(demo_scores)):\n",
    "                    demo_score = demo_scores[i]\n",
    "                    # Select metric of interest\n",
    "                    scores = demomat[demo_score]\n",
    "                    if int(bblid) in scores.index:\n",
    "                        score = scores[int(bblid)]\n",
    "                        # Add to grp_df\n",
    "                        grp_df.loc[grp_df['BBLID'] == bblid, grp_df.columns == demo_score] = score \n",
    "\n",
    "            ##################################################################################################\n",
    "            ## CEST\n",
    "            ##################################################################################################\n",
    "            if runcest and bblid != \"88760\" : #88760's CEST output is empty for some reason.\n",
    "                print(\"Processing \" + bblid + \"'s CEST data'\")\n",
    "                # Extract Glu Session ID\n",
    "                if bblid in subjlist['BBLID'].astype(str).values:\n",
    "                    gluses = subjlist.loc[subjlist['BBLID'].astype(str) == bblid, 'SCANID_CEST'].values[0].astype(str) #.\n",
    "                    cestid = bblid + \"_\" + gluses\n",
    "                    # Import data\n",
    "                    for network in networks:\n",
    "                        cest_pattern = cestpath + cestid + \"/\" + cestid + \"-2d-GluCEST-s100_7-\" + network + \"-measures_UNI.tsv\"\n",
    "                        cestfile = glob.glob(cest_pattern)\n",
    "                        for file in cestfile:\n",
    "                            if os.path.isfile(file):\n",
    "                                cestmat = pd.read_csv(file, sep='\\t') \n",
    "                                means = [] \n",
    "                                counts = []\n",
    "                                col_name = \"avgCEST_\" + network # for grp_df\n",
    "                                ct_name = \"ctCEST_\" + network # for grp_df\n",
    "                                for index, value in enumerate(cestmat.loc[0,:]):\n",
    "                                     if \"Mean\" in cestmat.columns[index] and not np.isnan(value):\n",
    "                                        # cestmat.at[0, cestmat.columns[index]] = float(value) * float(cestmat.iloc[0, index + 1])\n",
    "                                        means.append(cestmat.at[0, cestmat.columns[index]])\n",
    "                                        counts.append(cestmat.at[0, cestmat.columns[index + 1]])\n",
    "                                if sum(counts) == 0:\n",
    "                                    grp_df.loc[grp_df['BBLID'] == bblid, grp_df.columns == col_name] = \"NaN\"\n",
    "                                    grp_df.loc[grp_df['BBLID'] == bblid, grp_df.columns == col_name] = \"NaN\"\n",
    "                                else:\n",
    "                                    grp_df.loc[grp_df['BBLID'] == bblid, grp_df.columns == col_name] = sum(means) # / sum(counts)\n",
    "                                    grp_df.loc[grp_df['BBLID'] == bblid, grp_df.columns == ct_name] = sum(counts) # / sum(counts)\n",
    "                             \n",
    "                             \n",
    "print(grp_df)\n",
    "# sum_of_mean_columns now contains the sum of values in columns with \"Mean\" in the column name."
   ]
  },
  {
   "cell_type": "markdown",
   "id": "f95187c9",
   "metadata": {
    "tags": []
   },
   "source": [
    "## Stage 2: Group Comparisons and Regressions"
   ]
  },
  {
   "cell_type": "code",
   "execution_count": 85,
   "id": "611e0f79-7de7-4cd6-b193-a80adfa5f5c8",
   "metadata": {},
   "outputs": [],
   "source": [
    "#grp_df.to_csv('grp_df_3T_012624.csv', index=True)\n",
    "diag_df.to_csv('diag_df_3T_012624.csv', index=True)"
   ]
  },
  {
   "cell_type": "code",
   "execution_count": 84,
   "id": "387ace24-c2ab-4f50-8f20-00cfabd0b239",
   "metadata": {},
   "outputs": [],
   "source": [
    "#grp_df = pd.read_csv('012624_grp_df_3T.csv')\n",
    "pd.set_option('display.max_rows', None)\n"
   ]
  },
  {
   "cell_type": "markdown",
   "id": "5f251423",
   "metadata": {},
   "source": [
    "### Data Trimming"
   ]
  },
  {
   "cell_type": "code",
   "execution_count": null,
   "id": "ba21c4bd",
   "metadata": {
    "tags": []
   },
   "outputs": [],
   "source": []
  },
  {
   "cell_type": "code",
   "execution_count": null,
   "id": "8a577530-61d5-4fa7-a517-c8d42b4d7601",
   "metadata": {},
   "outputs": [],
   "source": []
  },
  {
   "cell_type": "code",
   "execution_count": null,
   "id": "27e558a1-3eaa-42af-b472-251e661596ef",
   "metadata": {
    "tags": []
   },
   "outputs": [],
   "source": []
  },
  {
   "cell_type": "code",
   "execution_count": null,
   "id": "26c669ea-43d7-4962-8ca2-4b7e36453e79",
   "metadata": {
    "tags": []
   },
   "outputs": [],
   "source": []
  },
  {
   "cell_type": "code",
   "execution_count": null,
   "id": "a234650b-9841-4e0f-ac13-03d896eaefcc",
   "metadata": {
    "tags": []
   },
   "outputs": [],
   "source": []
  },
  {
   "cell_type": "code",
   "execution_count": null,
   "id": "d1aead24",
   "metadata": {
    "tags": []
   },
   "outputs": [],
   "source": []
  },
  {
   "cell_type": "code",
   "execution_count": null,
   "id": "2966ad47-eef6-473f-98fd-b543aa7e58bf",
   "metadata": {
    "tags": []
   },
   "outputs": [],
   "source": []
  },
  {
   "cell_type": "code",
   "execution_count": 86,
   "id": "0c531941-90be-4113-ae10-4212662c6d0d",
   "metadata": {
    "tags": []
   },
   "outputs": [],
   "source": [
    "#CLUNKIER COMPREHENSIVE VERSION:\n",
    "\n",
    "\n"
   ]
  },
  {
   "cell_type": "code",
   "execution_count": 87,
   "id": "270b32cd-5e4c-4276-8bd9-20d93d48a6f4",
   "metadata": {
    "tags": []
   },
   "outputs": [],
   "source": [
    "#BBS"
   ]
  },
  {
   "cell_type": "code",
   "execution_count": 34,
   "id": "ee3b975c-fb80-4e17-8f18-c8ccd16891c9",
   "metadata": {
    "tags": []
   },
   "outputs": [
    {
     "name": "stdout",
     "output_type": "stream",
     "text": [
      "[NbConvertApp] WARNING | Config option `kernel_spec_manager_class` not recognized by `NbConvertApp`.\n",
      "[NbConvertApp] Converting notebook motor_pipeline.ipynb to html\n",
      "[NbConvertApp] Writing 1146801 bytes to motor_pipeline_3T.html\n"
     ]
    }
   ],
   "source": [
    "!jupyter nbconvert --to html motor_pipeline.ipynb --output motor_pipeline_3T.html"
   ]
  }
 ],
 "metadata": {
  "kernelspec": {
   "display_name": "Python 3 (ipykernel)",
   "language": "python",
   "name": "python3"
  },
  "language_info": {
   "codemirror_mode": {
    "name": "ipython",
    "version": 3
   },
   "file_extension": ".py",
   "mimetype": "text/x-python",
   "name": "python",
   "nbconvert_exporter": "python",
   "pygments_lexer": "ipython3",
   "version": "3.11.5"
  }
 },
 "nbformat": 4,
 "nbformat_minor": 5
}
