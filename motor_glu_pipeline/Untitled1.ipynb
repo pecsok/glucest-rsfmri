{
 "cells": [
  {
   "cell_type": "code",
   "execution_count": 2,
   "id": "fe1e795f-d075-4e4e-ac2b-0664b3111665",
   "metadata": {},
   "outputs": [],
   "source": [
    "# Add new CNB data\n",
    "\n",
    "import os\n",
    "import glob\n",
    "import numpy as np\n",
    "import pandas as pd\n",
    "import scipy as sp\n",
    "from scipy.stats import pearsonr\n",
    "from scipy.stats import linregress\n",
    "import seaborn as sns\n",
    "import matplotlib.pyplot as plt\n",
    "import re\n",
    "import shutil"
   ]
  },
  {
   "cell_type": "code",
   "execution_count": 37,
   "id": "603ebde3-b31c-4b28-b456-a7e9de5cea7f",
   "metadata": {},
   "outputs": [],
   "source": [
    "# Read in existing grp_df and new cnb\n",
    "cnbmat = pd.read_csv(\"/Users/pecsok/projects/GluCEST-fMRI/glucest-rsfmri/motor_glu_pipeline/maggie_datarequest_fullcnb1_0521_edited.csv\", sep=',') \n",
    "grp_df = pd.read_csv(\"/Users/pecsok/projects/GluCEST-fMRI/glucest-rsfmri/motor_glu_pipeline/grp_df_r_copy.csv\", sep=',') \n",
    "CNB_valids = [\"tap_valid\"] \n",
    "CNB_scores = [\"tap_tot\"]\n",
    "\n",
    "cnbmat.set_index('bblid', inplace = True)\n",
    "grp_df.insert(48,'lagtime_CNB', 0)\n",
    "#rint(cnbmat)"
   ]
  },
  {
   "cell_type": "code",
   "execution_count": 38,
   "id": "c514f94c-6bb5-4d71-a569-d2bbc6f480bf",
   "metadata": {},
   "outputs": [],
   "source": [
    "for bblid in grp_df['BBLID'].astype(int):\n",
    "    for i in range(len(CNB_scores)):\n",
    "        CNB_score = CNB_scores[i]\n",
    "        CNB_valid = CNB_valids[i]\n",
    "        scores = cnbmat[CNB_score]\n",
    "        if int(bblid) in scores.index:\n",
    "            score = scores[int(bblid)]\n",
    "            valids = cnbmat[CNB_valid]\n",
    "            valid = str(valids[int(bblid)])\n",
    "            lagtimes = cnbmat['lagtime']\n",
    "            lagtime = lagtimes[int(bblid)]\n",
    "            if 'V' in valid: \n",
    "                grp_df.loc[grp_df['BBLID'] == bblid, grp_df.columns == CNB_score] = score \n",
    "                grp_df.loc[grp_df['BBLID'] == bblid, grp_df.columns == 'lagtime_CNB'] = lagtime   \n"
   ]
  },
  {
   "cell_type": "code",
   "execution_count": 17,
   "id": "60ee9454-2e6a-4e99-a27b-c37964abbc75",
   "metadata": {},
   "outputs": [],
   "source": []
  },
  {
   "cell_type": "code",
   "execution_count": 39,
   "id": "aff4bffa-3ea5-433a-81bd-6225026c1b2e",
   "metadata": {},
   "outputs": [
    {
     "name": "stdout",
     "output_type": "stream",
     "text": [
      "     X   BBLID Session  SCANID_CEST sex  race  ethnic  dateDiff      Cont  \\\n",
      "0   27  116354   11647        11774   F   2.0     2.0      53.0  0.287297   \n",
      "1   81   96465   11557        12069   M   1.0     2.0     117.0  0.350607   \n",
      "2   51  126532   12260        12582   F   1.0     2.0      11.0  0.312119   \n",
      "3   75   92211   10435        10981   F   2.0     2.0       9.0  0.332712   \n",
      "4    7  132179   10780        10760   F   2.0     2.0       0.0  0.249576   \n",
      "..  ..     ...     ...          ...  ..   ...     ...       ...       ...   \n",
      "67  34   93274   10785        10765   F   5.0     2.0      11.0  0.237538   \n",
      "68  62  128079   11639        11934   M   2.0     2.0      57.0  0.251355   \n",
      "69   2  128865   12165        12325   M   1.0     2.0      49.0  0.188255   \n",
      "70  14   96902   11870        11903   F   1.0     1.0       6.0  0.187910   \n",
      "71  61   85743   10974        10944   F   1.0     2.0       2.0  0.258891   \n",
      "\n",
      "     Default  ...  Cont_all  Default_all  DorsAttn_all   Vis_all  \\\n",
      "0   0.230269  ... -0.009043     0.032184      0.118386  0.082838   \n",
      "1   0.349160  ...  0.009255     0.001383      0.034139  0.070768   \n",
      "2   0.271701  ...  0.026499     0.045823      0.063468  0.046469   \n",
      "3   0.375548  ...  0.178275     0.188026      0.202359  0.246246   \n",
      "4   0.370652  ...  0.078639     0.121640      0.171280  0.147071   \n",
      "..       ...  ...       ...          ...           ...       ...   \n",
      "67  0.364754  ...  0.040231     0.047395      0.037645  0.026300   \n",
      "68  0.211222  ... -0.020353     0.015549      0.047772  0.068286   \n",
      "69  0.330561  ... -0.005475    -0.018173      0.052895  0.053545   \n",
      "70  0.398913  ... -0.040424    -0.034134      0.170632  0.125908   \n",
      "71  0.339351  ...  0.074456     0.077860      0.093279  0.137357   \n",
      "\n",
      "    SalVentAttn_all  SomMot_all  Limbic_all    cest_fc  diag_group  \\\n",
      "0         -0.035714    0.117982   -0.073662  11.035589         PSY   \n",
      "1          0.041380    0.077575   -0.031841   9.005269          HC   \n",
      "2          0.035182    0.031231   -0.037590  13.835189         PSY   \n",
      "3          0.096133    0.237769    0.112180  13.325586         PSY   \n",
      "4          0.120879    0.150269   -0.032963  13.837269         PSY   \n",
      "..              ...         ...         ...        ...         ...   \n",
      "67         0.093787    0.084349   -0.007893  16.137579         PSY   \n",
      "68        -0.010638    0.118235    0.035064  15.041018         PSY   \n",
      "69         0.107339    0.089024   -0.111685  21.955025         PSY   \n",
      "70         0.095307    0.155528   -0.099200  13.801842          HC   \n",
      "71         0.108935    0.185391   -0.080356  15.330126          HC   \n",
      "\n",
      "    lagtime_CNB  \n",
      "0           0.0  \n",
      "1         526.0  \n",
      "2         298.0  \n",
      "3         788.0  \n",
      "4          50.0  \n",
      "..          ...  \n",
      "67         63.0  \n",
      "68        267.0  \n",
      "69        184.0  \n",
      "70         62.0  \n",
      "71          NaN  \n",
      "\n",
      "[72 rows x 49 columns]\n"
     ]
    }
   ],
   "source": [
    "print(grp_df)\n",
    "grp_df.to_csv('grp_df_3T_allCNB.csv', index=True)"
   ]
  }
 ],
 "metadata": {
  "kernelspec": {
   "display_name": "Python 3 (ipykernel)",
   "language": "python",
   "name": "python3"
  },
  "language_info": {
   "codemirror_mode": {
    "name": "ipython",
    "version": 3
   },
   "file_extension": ".py",
   "mimetype": "text/x-python",
   "name": "python",
   "nbconvert_exporter": "python",
   "pygments_lexer": "ipython3",
   "version": "3.11.7"
  }
 },
 "nbformat": 4,
 "nbformat_minor": 5
}
