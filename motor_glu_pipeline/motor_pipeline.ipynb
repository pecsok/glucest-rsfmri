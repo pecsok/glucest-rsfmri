{
 "cells": [
  {
   "cell_type": "markdown",
   "id": "549b8fc7",
   "metadata": {},
   "source": [
    "## Pipeline Script \n",
    "This script "
   ]
  },
  {
   "cell_type": "markdown",
   "id": "faed04e7",
   "metadata": {},
   "source": [
    "### Import Packages"
   ]
  },
  {
   "cell_type": "code",
   "execution_count": 1,
   "id": "18b02078",
   "metadata": {
    "tags": []
   },
   "outputs": [],
   "source": [
    "import os\n",
    "import glob\n",
    "import numpy as np\n",
    "import pandas as pd\n",
    "import scipy as sp\n",
    "from scipy.stats import pearsonr\n",
    "from scipy.stats import linregress\n",
    "import seaborn as sns\n",
    "import matplotlib.pyplot as plt\n",
    "import re\n",
    "import shutil"
   ]
  },
  {
   "cell_type": "markdown",
   "id": "02f51435",
   "metadata": {
    "tags": []
   },
   "source": [
    "### Define paths and variables"
   ]
  },
  {
   "cell_type": "code",
   "execution_count": 3,
   "id": "d1c02784",
   "metadata": {
    "tags": []
   },
   "outputs": [
    {
     "name": "stdout",
     "output_type": "stream",
     "text": [
      "Empty DataFrame\n",
      "Columns: [BBLID, Session, sex, age, race, ethnic, dateDiff, SomMot, avgCEST_SomMot, ctCEST_SomMot, tap_tot, hstatus]\n",
      "Index: []\n",
      "yes\n"
     ]
    }
   ],
   "source": [
    "# Set paths\n",
    "fcpath = \"/Users/pecsok/Desktop/ImageData/PMACS_remote/data/fmri/postprocessed/7T/xcp_d\"\n",
    "outpath = \"~/Desktop/ImageData/PMACS_remote/analysis/postprocessing/\"\n",
    "clinpath = \"~/Desktop/ImageData/PMACS_remote/data/clinical\"\n",
    "cestpath = \"/Users/pecsok/Desktop/ImageData/PMACS_remote/data/cest/output_measures/UNI/\"\n",
    "\n",
    "# Choose what to analyse\n",
    "networks = [\"SomMot\"] \n",
    "CESTnetworks = [\"avgCEST_SomMot\", \"ctCEST_SomMot\"]\n",
    "CNB_scores = [\"tap_tot\"]\n",
    "CNB_valids = [\"tap_valid\"] \n",
    "diag_scores = [\"hstatus\"]\n",
    "demo_scores = [\"sex\", \"age\", \"race\",\"ethnic\",\"dateDiff\"]\n",
    "diag_details = [\"axis1_desc1\", \"axis1_desc2\", \"axis1_desc3\",\"axis1_desc4\",\"axis1_desc5\", \"axis1_desc6\"]\n",
    "\n",
    "# Make dataframe based on metrics of interest\n",
    "grp_df = pd.DataFrame(columns = [\"BBLID\"] + [\"Session\"] + demo_scores + networks + CESTnetworks + CNB_scores + diag_scores)\n",
    "diag_df = pd.DataFrame(columns = [\"BBLID\"] + [\"Session\"] + diag_scores + diag_details)\n",
    "print(grp_df)\n",
    "\n",
    "# Initialize empty lists and vars\n",
    "bblids = []\n",
    "sesids = []\n",
    "\n",
    "# Import group dataframes and set indices\n",
    "subjlist = pd.read_csv(\"~/Desktop/ImageData/PMACS_remote/data/subject_list_111623.csv\", sep=',') \n",
    "cnbmat = pd.read_csv(clinpath + \"/cnb.csv\", sep=',') \n",
    "diagmat = pd.read_csv(clinpath + \"/diagnosis.csv\", sep=',')\n",
    "demomat = pd.read_csv(clinpath + \"/demographics.csv\", sep=',')\n",
    "# cestmat = pd.read_csv(clinpath + \"/demographics.csv\", sep='\\t') add grp CEST map here\n",
    "cnbmat.set_index('bblid', inplace = True)\n",
    "diagmat.set_index('bblid', inplace = True)\n",
    "demomat.set_index('bblid', inplace = True)\n",
    "\n",
    "# Set up renaming dictionary for CEST df\n",
    "schaefer_indices = pd.read_csv('~/Desktop/ImageData/PMACS_remote/github/glucest-rsfmri/Schaefer2018_100Parcels_17Networks_order_FSLMNI152_2mm.Centroid_RAS.csv', sep=',') # Load the CSV with the mapping of numbers to labels\n",
    "schaefer_dict = dict(zip(schaefer_indices['ROI Label'], schaefer_indices['ROI Name']))\n",
    "\n",
    "print(\"yes\")"
   ]
  },
  {
   "cell_type": "markdown",
   "id": "5c428aa5",
   "metadata": {},
   "source": [
    "### Choose which modules to run"
   ]
  },
  {
   "cell_type": "code",
   "execution_count": 4,
   "id": "670d0539",
   "metadata": {
    "tags": []
   },
   "outputs": [],
   "source": [
    "runfcon = True\n",
    "runCNB = True\n",
    "rundiag = True\n",
    "rundemo = True\n",
    "runcest = True\n",
    "run_grpanalysis = True"
   ]
  },
  {
   "cell_type": "markdown",
   "id": "1e2359da",
   "metadata": {
    "tags": []
   },
   "source": [
    "## Stage 1: Create Group Data Frame\n",
    "### Import data, loop through subjects, and establish file paths\n",
    "\n",
    "\n",
    "FIX THIS ERROR:\n",
    "/var/folders/ls/hy_z7hgd4_13km3h7j84vqh40000gp/T/ipykernel_77945/3898733492.py:72: FutureWarning: Setting an item of incompatible dtype is deprecated and will raise in a future error of pandas. Value 'PSY' has dtype incompatible with float64, please explicitly cast to a compatible dtype first.\n",
    "  grp_df.loc[grp_df['BBLID'].astype(str) == bblid, grp_df.columns == diag_score] = diagnosis"
   ]
  },
  {
   "cell_type": "code",
   "execution_count": 5,
   "id": "5ba3234c-4125-4621-813b-b692b1e5dd61",
   "metadata": {
    "tags": []
   },
   "outputs": [
    {
     "name": "stdout",
     "output_type": "stream",
     "text": [
      "Processing subject 19830\n",
      "Running SomMot fcon\n",
      "Processing 19830's CEST data'\n",
      "Processing subject 20645\n",
      "Running SomMot fcon\n",
      "Processing 20645's CEST data'\n",
      "Processing subject 125511\n",
      "Running SomMot fcon\n",
      "Processing 125511's CEST data'\n",
      "Processing subject 116019\n",
      "Running SomMot fcon\n",
      "Processing 116019's CEST data'\n",
      "Processing subject 19790\n",
      "Running SomMot fcon\n",
      "Processing 19790's CEST data'\n",
      "Processing subject 80557\n",
      "Running SomMot fcon\n",
      "Processing 80557's CEST data'\n",
      "Processing subject 20642\n",
      "Running SomMot fcon\n",
      "Processing 20642's CEST data'\n",
      "Processing subject 20180\n",
      "Running SomMot fcon\n",
      "Processing 20180's CEST data'\n",
      "Processing subject 139272\n",
      "Running SomMot fcon\n",
      "Processing 139272's CEST data'\n",
      "Processing subject 121085\n",
      "Running SomMot fcon\n",
      "Processing 121085's CEST data'\n",
      "Processing subject 93292\n",
      "Running SomMot fcon\n",
      "Processing 93292's CEST data'\n",
      "Processing subject 90281\n",
      "Running SomMot fcon\n",
      "Processing 90281's CEST data'\n",
      "Processing subject 96659\n",
      "Running SomMot fcon\n",
      "Processing 96659's CEST data'\n",
      "Processing subject 93274\n",
      "Running SomMot fcon\n",
      "Processing 93274's CEST data'\n",
      "Processing subject 106880\n",
      "Running SomMot fcon\n",
      "Processing 106880's CEST data'\n",
      "Processing subject 90077\n",
      "Running SomMot fcon\n",
      "Processing 90077's CEST data'\n",
      "Processing subject 121407\n",
      "Running SomMot fcon\n",
      "Processing 121407's CEST data'\n",
      "Processing subject 102041\n",
      "Running SomMot fcon\n",
      "Processing 102041's CEST data'\n",
      "Processing subject 119791\n",
      "Running SomMot fcon\n",
      "Processing 119791's CEST data'\n",
      "Processing subject 106057\n",
      "Running SomMot fcon\n",
      "Processing 106057's CEST data'\n",
      "Processing subject 20011\n",
      "Running SomMot fcon\n",
      "Processing 20011's CEST data'\n",
      "Processing subject 20543\n",
      "Running SomMot fcon\n",
      "Processing 20543's CEST data'\n",
      "Processing subject 87225\n",
      "Running SomMot fcon\n",
      "Processing 87225's CEST data'\n",
      "Processing subject 19981\n",
      "Running SomMot fcon\n",
      "Processing 19981's CEST data'\n",
      "Processing subject 132641\n",
      "Running SomMot fcon\n",
      "Processing 132641's CEST data'\n",
      "Processing subject 88608\n",
      "Running SomMot fcon\n",
      "Processing 88608's CEST data'\n",
      "Processing subject 97994\n",
      "Running SomMot fcon\n",
      "Processing 97994's CEST data'\n",
      "Processing subject 105979\n",
      "Running SomMot fcon\n",
      "Processing 105979's CEST data'\n",
      "Processing subject 92155\n",
      "Running SomMot fcon\n",
      "Processing 92155's CEST data'\n",
      "Processing subject 90877\n",
      "Running SomMot fcon\n",
      "Processing 90877's CEST data'\n",
      "Processing subject 112126\n",
      "Running SomMot fcon\n",
      "Processing 112126's CEST data'\n",
      "Processing subject 89095\n",
      "Running SomMot fcon\n",
      "Processing 89095's CEST data'\n",
      "     BBLID Session  sex    age  race  ethnic  dateDiff    SomMot  \\\n",
      "0    19830   10789  2.0  21.92   1.0     2.0       0.0  0.504323   \n",
      "1    20645   11260  1.0  19.84   2.0     2.0       0.0  0.572062   \n",
      "2   125511   10906  2.0  20.86   1.0     2.0       0.0       NaN   \n",
      "3   116019   11135  2.0  25.72   2.0     1.0       0.0  0.476986   \n",
      "4    19790   10819  2.0  23.37   1.0     2.0       0.0  0.517550   \n",
      "5    80557   10738  2.0  29.28   2.0     2.0       0.0  0.530501   \n",
      "6    20642   11261  1.0  25.59   NaN     NaN       0.0  0.474266   \n",
      "7    20180   11011  1.0  15.43   1.0     2.0      15.0  0.207787   \n",
      "8   139272   10739  NaN    NaN   NaN     NaN       NaN  0.272185   \n",
      "9   121085   10851  2.0  20.84   1.0     2.0      14.0  0.439968   \n",
      "10   93292   10938  2.0  25.32   2.0     2.0       0.0  0.458101   \n",
      "11   90281   10902  2.0  22.89   1.0     2.0      52.0  0.495047   \n",
      "12   96659   11096  1.0  17.74   1.0     2.0       0.0  0.363063   \n",
      "13   93274   10765  2.0  24.64   5.0     2.0      11.0  0.438165   \n",
      "14  106880   10699  1.0  22.62   2.0     2.0       0.0  0.330849   \n",
      "15   90077   10962  2.0  21.34   1.0     2.0       0.0  0.276265   \n",
      "16  121407   10688  2.0  25.78   2.0     2.0       0.0  0.389875   \n",
      "17  102041   10821  1.0  23.43   1.0     2.0       0.0  0.519093   \n",
      "18  119791   10705  1.0  21.70   5.0     2.0       0.0  0.371118   \n",
      "19  106057   11122  2.0  20.12   1.0     2.0       5.0  0.616235   \n",
      "20   20011   10888  2.0  21.42   1.0     2.0       0.0  0.537007   \n",
      "21   20543   11259  1.0  21.51   1.0     1.0       0.0  0.562704   \n",
      "22   87225   10933  NaN    NaN   NaN     NaN       NaN  0.470389   \n",
      "23   19981   11106  2.0  23.33   2.0     2.0       0.0  0.625642   \n",
      "24  132641   10692  2.0  23.73   2.0     2.0       0.0  0.631874   \n",
      "25   88608   10764  1.0  25.36   2.0     2.0       1.0  0.323271   \n",
      "26   97994   11114  1.0  19.07   1.0     2.0       0.0  0.457556   \n",
      "27  105979   10791  2.0  24.00   1.0     2.0       0.0  0.372234   \n",
      "28   92155   11022  NaN    NaN   NaN     NaN       NaN  0.399691   \n",
      "29   90877   10907  NaN    NaN   NaN     NaN       NaN  0.520693   \n",
      "30  112126   11157  2.0  21.83   2.0     2.0       0.0  0.221894   \n",
      "31   89095   11100  2.0  24.62   1.0     2.0       0.0  0.397562   \n",
      "\n",
      "    avgCEST_SomMot  ctCEST_SomMot    tap_tot  hstatus  \n",
      "0         7.723693          743.0        NaN       NC  \n",
      "1         7.390558          639.0        NaN      NaN  \n",
      "2         7.388057          535.0  104.00000        O  \n",
      "3         8.048849          506.0  103.33330      PRO  \n",
      "4         8.941838          598.0        NaN        O  \n",
      "5         6.923363          731.0   72.33333       NC  \n",
      "6         8.205851          640.0        NaN      NaN  \n",
      "7         8.360912          427.0   92.00000      MDD  \n",
      "8              NaN            NaN        NaN  Unknown  \n",
      "9         8.731863          683.0        NaN       NC  \n",
      "10        7.416647          563.0  105.33330      PRO  \n",
      "11        7.336883          543.0   97.00000       NC  \n",
      "12             NaN            NaN   95.00000       NC  \n",
      "13        8.874376          707.0  116.33330      PSY  \n",
      "14        7.077155          499.0   92.66666       NC  \n",
      "15        7.627305          718.0   93.33333      PSY  \n",
      "16        6.892677          716.0  117.00000       NC  \n",
      "17        8.036966          574.0  103.33330       NC  \n",
      "18        8.222816          613.0  128.00000      PRO  \n",
      "19        7.866533          457.0  120.00000      PRO  \n",
      "20        8.032503          576.0        NaN      PRO  \n",
      "21        8.078890          723.0        NaN      MDD  \n",
      "22             NaN            NaN        NaN  Unknown  \n",
      "23        7.778362          589.0        NaN      NaN  \n",
      "24        7.681239          720.0   96.33333      PRO  \n",
      "25        7.964384          680.0  110.00000      PRO  \n",
      "26        7.400841          668.0  101.66670       NC  \n",
      "27        7.430732          640.0   92.00000        O  \n",
      "28             NaN            NaN        NaN  Unknown  \n",
      "29             NaN            NaN        NaN  Unknown  \n",
      "30        8.525817          548.0  104.66670       NC  \n",
      "31        8.374417          755.0  125.66670      MDD  \n"
     ]
    }
   ],
   "source": [
    "# Generates list of all file names\n",
    "folder_names = [folder for folder in glob.glob(os.path.join(fcpath, \"*\")) if os.path.isdir(folder)]\n",
    "#subje\n",
    "\n",
    "# Loop through subjects\n",
    "for subj_path in folder_names: # loop through all rows of the spreadsheet\n",
    "    if \"sub\" in subj_path:\n",
    "        # Extract bblid id:\n",
    "        bblid = subj_path.split('-')[1]\n",
    "        print(\"Processing subject \" + bblid)\n",
    "        # Extract session id: \n",
    "        items = os.listdir(subj_path)\n",
    "        ses_folder = [item for item in items if item.startswith(\"ses\")]\n",
    "        ses = ses_folder[0].split('-')[1]\n",
    "        ses_path = os.path.join(fcpath, subj_path, ses_folder[0]) # full path to session\n",
    "        \n",
    "        \n",
    "        # Add to running list of IDs grp analysis later:\n",
    "        bblids.append(bblid)\n",
    "        sesids.append(ses)\n",
    "        # Start new row in grp_df for this subject:\n",
    "        ids = [bblid, ses]  # Values for the first two columns\n",
    "        grp_df.loc[len(grp_df)] = ids + [float('nan')] * (len(grp_df.columns) - len(ids))\n",
    "        diag_df.loc[len(diag_df)] = ids + [float('nan')] * (len(diag_df.columns) - len(ids))\n",
    "        \n",
    "        # Run a subset of subjs or exclude specific subjs.\n",
    "        if bblid != \"20902\" and bblid != \"93242\"  and bblid != \"20754\" and bblid != \"127065\":\n",
    "            ##################################################################################################\n",
    "            ## FC\n",
    "            ##################################################################################################\n",
    "            if runfcon:\n",
    "                os.path.join(fcpath, \"sub-\" + bblid, \"ses-\" + ses)\n",
    "                ses_path = os.path.join(fcpath, subj_path, ses_folder[0]) # full path to session\n",
    "                fcmat_glob = f\"{ses_path}/func/*Schaefer117_measure-pearsoncorrelation_conmat.tsv\"\n",
    "                if os.path.isfile(glob.glob(fcmat_glob)[0]):\n",
    "                    fcmat = pd.read_csv(glob.glob(fcmat_glob)[0], sep='\\t') # read in fcmat\n",
    "                    fcmat.set_index('Node', inplace = True)\n",
    "                    # Loop through the networks\n",
    "                    for network in networks:\n",
    "                        print(\"Running \" + network + \" fcon\")\n",
    "                        # Select rows and columns corresponding to the network\n",
    "                        network_fc = fcmat.loc[fcmat.index.str.contains(network), fcmat.columns[fcmat.columns.str.contains(network)]]\n",
    "                        # Calculate avg network fc and add value to proper column in grp_df\n",
    "                        grp_df.loc[len(grp_df)-1, network] = network_fc.values.mean()\n",
    "            \n",
    "            ##################################################################################################\n",
    "            ## CNB\n",
    "            ##################################################################################################\n",
    "            if runCNB:\n",
    "                # Loop through the CNB scores\n",
    "                for i in range(len(CNB_scores)):\n",
    "                    CNB_score = CNB_scores[i]\n",
    "                    CNB_valid = CNB_valids[i]\n",
    "                    # Select score of interest & validity of that score\n",
    "                    scores = cnbmat[CNB_score]\n",
    "                    if int(bblid) in scores.index:\n",
    "                        score = scores[int(bblid)]\n",
    "                        valids = cnbmat[CNB_valid]\n",
    "                        valid = str(valids[int(bblid)])\n",
    "                        # If score was valid, add to grp_df\n",
    "                        if 'V' in valid: \n",
    "                            grp_df.loc[grp_df['BBLID'] == bblid, grp_df.columns == CNB_score] = score \n",
    "            ##################################################################################################\n",
    "            ## Diagnosis\n",
    "            ##################################################################################################\n",
    "            if rundiag:\n",
    "                # Add hstatus\n",
    "                for i in range(len(diag_scores)):\n",
    "                    diag_score = diag_scores[i]\n",
    "                    # Select score of interest and add to grp_df\n",
    "                    diagnoses = diagmat[diag_score]\n",
    "                    if int(bblid) in diagnoses.index:\n",
    "                        diagnosis = diagnoses[int(bblid)]\n",
    "                        grp_df.loc[grp_df['BBLID'].astype(str) == bblid, grp_df.columns == diag_score] = diagnosis \n",
    "                        diag_df.loc[diag_df['BBLID'].astype(str) == bblid, diag_df.columns == diag_score] = diagnosis \n",
    "                    else:\n",
    "                        diagnosis = \"Unknown\"\n",
    "                        grp_df.loc[grp_df['BBLID'].astype(str) == bblid, grp_df.columns == diag_score] = diagnosis \n",
    "                        diag_df.loc[diag_df['BBLID'].astype(str) == bblid, diag_df.columns == diag_score] = diagnosis\n",
    "     \n",
    "                # Loop through diag scores\n",
    "                for i in range(len(diag_details)):\n",
    "                    diag_detail = diag_details[i]\n",
    "                    # Select score of interest and add to grp_df\n",
    "                    comorbidities = diagmat[diag_detail]\n",
    "                    if int(bblid) in comorbidities.index:\n",
    "                        comorbidity = comorbidities[int(bblid)]\n",
    "                       # print(comorbidity)\n",
    "                        diag_df.loc[diag_df['BBLID'].astype(str) == bblid, diag_df.columns == diag_detail] = comorbidity \n",
    "                    else:\n",
    "                        comorbidity = \"Unknown\"\n",
    "                        diag_df.loc[diag_df['BBLID'].astype(str) == bblid, diag_df.columns == diag_detail] = comorbidity\n",
    "            ##################################################################################################\n",
    "            ## Demographics\n",
    "            ##################################################################################################\n",
    "            if rundemo:\n",
    "                # Loop through the CNB scores\n",
    "                for i in range(len(demo_scores)):\n",
    "                    demo_score = demo_scores[i]\n",
    "                    # Select metric of interest\n",
    "                    scores = demomat[demo_score]\n",
    "                    if int(bblid) in scores.index:\n",
    "                        score = scores[int(bblid)]\n",
    "                        # Add to grp_df\n",
    "                        grp_df.loc[grp_df['BBLID'] == bblid, grp_df.columns == demo_score] = score \n",
    "\n",
    "            ##################################################################################################\n",
    "            ## CEST\n",
    "            ##################################################################################################\n",
    "            if runcest and bblid != \"88760\" : #88760's CEST output is empty for some reason.\n",
    "                print(\"Processing \" + bblid + \"'s CEST data'\")\n",
    "                # Extract Glu Session ID\n",
    "                if bblid in subjlist['BBLID'].astype(str).values:\n",
    "                    gluses = subjlist.loc[subjlist['BBLID'].astype(str) == bblid, 'SCANID_CEST'].values[0].astype(str) #.\n",
    "                    cestid = bblid + \"_\" + gluses\n",
    "                    # Import data\n",
    "                    for network in networks:\n",
    "                        cest_pattern = cestpath + cestid + \"/\" + cestid + \"-2d-GluCEST-s100_7-\" + network + \"-measures_UNI.tsv\"\n",
    "                        cestfile = glob.glob(cest_pattern)\n",
    "                        for file in cestfile:\n",
    "                            if os.path.isfile(file):\n",
    "                                cestmat = pd.read_csv(file, sep='\\t') \n",
    "                                means = [] \n",
    "                                counts = []\n",
    "                                col_name = \"avgCEST_\" + network # for grp_df\n",
    "                                ct_name = \"ctCEST_\" + network # for grp_df\n",
    "                                for index, value in enumerate(cestmat.loc[0,:]):\n",
    "                                     if \"Mean\" in cestmat.columns[index] and not np.isnan(value):\n",
    "                                        # cestmat.at[0, cestmat.columns[index]] = float(value) * float(cestmat.iloc[0, index + 1])\n",
    "                                        means.append(cestmat.at[0, cestmat.columns[index]])\n",
    "                                        counts.append(cestmat.at[0, cestmat.columns[index + 1]])\n",
    "                                if sum(counts) == 0:\n",
    "                                    grp_df.loc[grp_df['BBLID'] == bblid, grp_df.columns == col_name] = \"NaN\"\n",
    "                                    grp_df.loc[grp_df['BBLID'] == bblid, grp_df.columns == col_name] = \"NaN\"\n",
    "                                else:\n",
    "                                    grp_df.loc[grp_df['BBLID'] == bblid, grp_df.columns == col_name] = sum(means) # / sum(counts)\n",
    "                                    grp_df.loc[grp_df['BBLID'] == bblid, grp_df.columns == ct_name] = sum(counts) # / sum(counts)\n",
    "                             \n",
    "                             \n",
    "print(grp_df)\n",
    "# sum_of_mean_columns now contains the sum of values in columns with \"Mean\" in the column name."
   ]
  },
  {
   "cell_type": "markdown",
   "id": "f95187c9",
   "metadata": {
    "tags": []
   },
   "source": [
    "## Stage 2: Group Comparisons and Regressions"
   ]
  },
  {
   "cell_type": "code",
   "execution_count": 6,
   "id": "611e0f79-7de7-4cd6-b193-a80adfa5f5c8",
   "metadata": {},
   "outputs": [],
   "source": [
    "grp_df.to_csv('grp_df_7T_012624.csv', index=True)\n",
    "diag_df.to_csv('diag_df_7T_012624.csv', index=True)"
   ]
  },
  {
   "cell_type": "code",
   "execution_count": 84,
   "id": "387ace24-c2ab-4f50-8f20-00cfabd0b239",
   "metadata": {},
   "outputs": [],
   "source": [
    "#grp_df = pd.read_csv('012624_grp_df_3T.csv')\n",
    "pd.set_option('display.max_rows', None)\n"
   ]
  },
  {
   "cell_type": "markdown",
   "id": "5f251423",
   "metadata": {},
   "source": [
    "### Data Trimming"
   ]
  },
  {
   "cell_type": "code",
   "execution_count": null,
   "id": "ba21c4bd",
   "metadata": {
    "tags": []
   },
   "outputs": [],
   "source": []
  },
  {
   "cell_type": "code",
   "execution_count": null,
   "id": "8a577530-61d5-4fa7-a517-c8d42b4d7601",
   "metadata": {},
   "outputs": [],
   "source": []
  },
  {
   "cell_type": "code",
   "execution_count": null,
   "id": "27e558a1-3eaa-42af-b472-251e661596ef",
   "metadata": {
    "tags": []
   },
   "outputs": [],
   "source": []
  },
  {
   "cell_type": "code",
   "execution_count": null,
   "id": "26c669ea-43d7-4962-8ca2-4b7e36453e79",
   "metadata": {
    "tags": []
   },
   "outputs": [],
   "source": []
  },
  {
   "cell_type": "code",
   "execution_count": null,
   "id": "a234650b-9841-4e0f-ac13-03d896eaefcc",
   "metadata": {
    "tags": []
   },
   "outputs": [],
   "source": []
  },
  {
   "cell_type": "code",
   "execution_count": null,
   "id": "d1aead24",
   "metadata": {
    "tags": []
   },
   "outputs": [],
   "source": []
  },
  {
   "cell_type": "code",
   "execution_count": null,
   "id": "2966ad47-eef6-473f-98fd-b543aa7e58bf",
   "metadata": {
    "tags": []
   },
   "outputs": [],
   "source": []
  },
  {
   "cell_type": "code",
   "execution_count": 86,
   "id": "0c531941-90be-4113-ae10-4212662c6d0d",
   "metadata": {
    "tags": []
   },
   "outputs": [],
   "source": [
    "#CLUNKIER COMPREHENSIVE VERSION:\n",
    "\n",
    "\n"
   ]
  },
  {
   "cell_type": "code",
   "execution_count": 87,
   "id": "270b32cd-5e4c-4276-8bd9-20d93d48a6f4",
   "metadata": {
    "tags": []
   },
   "outputs": [],
   "source": [
    "#BBS"
   ]
  },
  {
   "cell_type": "code",
   "execution_count": 34,
   "id": "ee3b975c-fb80-4e17-8f18-c8ccd16891c9",
   "metadata": {
    "tags": []
   },
   "outputs": [
    {
     "name": "stdout",
     "output_type": "stream",
     "text": [
      "[NbConvertApp] WARNING | Config option `kernel_spec_manager_class` not recognized by `NbConvertApp`.\n",
      "[NbConvertApp] Converting notebook motor_pipeline.ipynb to html\n",
      "[NbConvertApp] Writing 1146801 bytes to motor_pipeline_3T.html\n"
     ]
    }
   ],
   "source": [
    "!jupyter nbconvert --to html motor_pipeline.ipynb --output motor_pipeline_3T.html"
   ]
  }
 ],
 "metadata": {
  "kernelspec": {
   "display_name": "Python 3 (ipykernel)",
   "language": "python",
   "name": "python3"
  },
  "language_info": {
   "codemirror_mode": {
    "name": "ipython",
    "version": 3
   },
   "file_extension": ".py",
   "mimetype": "text/x-python",
   "name": "python",
   "nbconvert_exporter": "python",
   "pygments_lexer": "ipython3",
   "version": "3.11.5"
  }
 },
 "nbformat": 4,
 "nbformat_minor": 5
}
