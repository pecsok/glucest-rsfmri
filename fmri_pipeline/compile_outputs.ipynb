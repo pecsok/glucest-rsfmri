{
 "cells": [
  {
   "cell_type": "markdown",
   "id": "09f55055-37de-45b4-8c7a-e196f3095f45",
   "metadata": {
    "tags": []
   },
   "source": [
    "## Compile outputs"
   ]
  },
  {
   "cell_type": "markdown",
   "id": "bd45011b-e1dd-4e24-a167-fedaa78ff068",
   "metadata": {},
   "source": [
    "This script concatenates pyGluCEST output tsvs for the 7 network parcellation"
   ]
  },
  {
   "cell_type": "markdown",
   "id": "390dc05a-835d-488c-a091-ea833727330b",
   "metadata": {},
   "source": [
    "### Import Packages"
   ]
  },
  {
   "cell_type": "code",
   "execution_count": 11,
   "id": "62af9bcf-ac06-40fa-a483-682d8e8cea46",
   "metadata": {},
   "outputs": [],
   "source": [
    "import os\n",
    "import glob\n",
    "import numpy as np\n",
    "import pandas as pd\n",
    "import scipy as sp\n",
    "from scipy.stats import pearsonr\n",
    "from scipy.stats import linregress\n",
    "import seaborn as sns\n",
    "import matplotlib.pyplot as plt\n",
    "import re\n",
    "import shutil\n",
    "\n",
    "# Set paths and variables\n",
    "cestpath = \"/Users/pecsok/Desktop/ImageData/PMACS_remote/data/cest/\"\n",
    "batches = ['output_measures/UNI', 'analysis_batch2/output_measures/UNI']\n",
    "networks = [\"Cont\", \"Default\", \"DorsAttn\", \"Vis\", \"SalVentAttn\", \"SomMot\", \"Limbic\"] "
   ]
  },
  {
   "cell_type": "code",
   "execution_count": 12,
   "id": "9311bdf1-9987-4201-a4aa-cb76d1a09168",
   "metadata": {
    "tags": []
   },
   "outputs": [],
   "source": [
    "# Loop through networks and import original CEST output file\n",
    "for network in networks:\n",
    "    for batch in batches:\n",
    "        cest_pattern = cestpath + batch + \"/\" + \"all-GluCEST-s100_7-\" + network + \"-measures_UNI.tsv\"\n",
    "        cestfile = glob.glob(cest_pattern)\n",
    "        for file in cestfile:\n",
    "            if os.path.isfile(file):\n",
    "                cestmat = pd.read_csv(file, sep='\\t')\n",
    "                \n"
   ]
  }
 ],
 "metadata": {
  "kernelspec": {
   "display_name": "Python 3 (ipykernel)",
   "language": "python",
   "name": "python3"
  },
  "language_info": {
   "codemirror_mode": {
    "name": "ipython",
    "version": 3
   },
   "file_extension": ".py",
   "mimetype": "text/x-python",
   "name": "python",
   "nbconvert_exporter": "python",
   "pygments_lexer": "ipython3",
   "version": "3.11.5"
  }
 },
 "nbformat": 4,
 "nbformat_minor": 5
}
