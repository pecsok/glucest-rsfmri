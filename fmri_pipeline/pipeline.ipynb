{
 "cells": [
  {
   "cell_type": "markdown",
   "id": "549b8fc7",
   "metadata": {},
   "source": [
    "## Pipeline Script \n",
    "This script "
   ]
  },
  {
   "cell_type": "markdown",
   "id": "faed04e7",
   "metadata": {},
   "source": [
    "### Import Packages"
   ]
  },
  {
   "cell_type": "code",
   "execution_count": 6,
   "id": "18b02078",
   "metadata": {},
   "outputs": [],
   "source": [
    "import os\n",
    "import glob\n",
    "import numpy as np\n",
    "import pandas as pd\n",
    "#import network_fcon as fc\n",
    "from scipy.stats import pearsonr"
   ]
  },
  {
   "cell_type": "markdown",
   "id": "02f51435",
   "metadata": {},
   "source": [
    "### Define paths and variables"
   ]
  },
  {
   "cell_type": "code",
   "execution_count": 65,
   "id": "d1c02784",
   "metadata": {},
   "outputs": [
    {
     "name": "stdout",
     "output_type": "stream",
     "text": [
      "                   Value\n",
      "Matrix Row Column       \n",
      "0      0   0         NaN\n",
      "           1         NaN\n",
      "           2         NaN\n",
      "           3         NaN\n",
      "           4         NaN\n",
      "...                  ...\n",
      "99     699 696       NaN\n",
      "           697       NaN\n",
      "           698       NaN\n",
      "           699       NaN\n",
      "           700       NaN\n",
      "\n",
      "[49070000 rows x 1 columns]\n"
     ]
    }
   ],
   "source": [
    "# Main folder path\n",
    "# subjs = \"subject_list.csv\"\n",
    "inpath = \"/Users/pecsok/Desktop/Maggie/Graduate School/Project1_GluCEST_rsfMRI/xcp_output/xcp_d_test/\" \n",
    "outpath = \"~/Desktop/ImageData/PMACS_remote/analysis/postprocessing\"\n",
    "# Choose what to analyse\n",
    "networks = [\"SalVentAttn\", \"Default\"] \n",
    "CNB_scores = [\"matrix\", \"verbal\"]\n",
    "clinical_scores = [\"BDI\", \"PROMIS-Anx\"]\n",
    "# Make dataframe based on metrics of interest\n",
    "columns = [\"BBLID\"] + [\"Session\"] + networks_of_interest\n",
    "fcon_df = pd.DataFrame(columns=columns)\n",
    "clin_df = pd.DataFrame(columns=[\"BBLID\", \"Session\"] + CNB_scores_of_interest + clinical_scores_of_interest)\n",
    "# Initialize empty lists and vars\n",
    "bblids = []\n",
    "sesids = []\n",
    "\n",
    "# Initialize empty matrix for fcmats # FIX if desired:\n",
    "num_matrices = 100  # You can change this to the desired number\n",
    "matrix_shape = (700, 701)\n",
    "index = pd.MultiIndex.from_product([range(num_matrices), range(matrix_shape[0]), range(matrix_shape[1])], names=['Matrix', 'Row', 'Column'])\n",
    "# Create an empty NumPy array with NaN values to represent the data\n",
    "data = np.empty((num_matrices * matrix_shape[0] * matrix_shape[1],))\n",
    "data[:] = np.nan\n",
    "# Create a Pandas DataFrame with the MultiIndex\n",
    "fcmats = pd.DataFrame(data, index=index, columns=['Value'])"
   ]
  },
  {
   "cell_type": "markdown",
   "id": "5c428aa5",
   "metadata": {},
   "source": [
    "### Choose which modules to run"
   ]
  },
  {
   "cell_type": "code",
   "execution_count": 42,
   "id": "670d0539",
   "metadata": {},
   "outputs": [],
   "source": [
    "runfcon = True\n",
    "runALFF = True\n",
    "runCNB = True\n",
    "runCEST = True\n",
    "runClinical = True"
   ]
  },
  {
   "cell_type": "markdown",
   "id": "1e2359da",
   "metadata": {},
   "source": [
    "### Import data, loop through subjects, and establish file paths"
   ]
  },
  {
   "cell_type": "code",
   "execution_count": 72,
   "id": "715f9bd4",
   "metadata": {},
   "outputs": [
    {
     "name": "stdout",
     "output_type": "stream",
     "text": [
      "Processing subject 116019copy\n"
     ]
    },
    {
     "ename": "TypeError",
     "evalue": "'DataFrame' object is not callable",
     "output_type": "error",
     "traceback": [
      "\u001b[0;31m---------------------------------------------------------------------------\u001b[0m",
      "\u001b[0;31mTypeError\u001b[0m                                 Traceback (most recent call last)",
      "Cell \u001b[0;32mIn[72], line 34\u001b[0m\n\u001b[1;32m     30\u001b[0m \u001b[38;5;66;03m# Loop through the networks\u001b[39;00m\n\u001b[1;32m     31\u001b[0m \u001b[38;5;28;01mfor\u001b[39;00m network \u001b[38;5;129;01min\u001b[39;00m networks:\n\u001b[1;32m     32\u001b[0m     \u001b[38;5;66;03m# Select rows and columns corresponding to the network\u001b[39;00m\n\u001b[1;32m     33\u001b[0m     \u001b[38;5;66;03m#network_indices = [index for index in fcmat.index if network in index]\u001b[39;00m\n\u001b[0;32m---> 34\u001b[0m     \u001b[38;5;28mprint\u001b[39m(\u001b[43mfcmat\u001b[49m\u001b[43m(\u001b[49m\u001b[38;5;241;43m50\u001b[39;49m\u001b[43m,\u001b[49m\u001b[38;5;241;43m0\u001b[39;49m\u001b[43m)\u001b[49m)\n\u001b[1;32m     35\u001b[0m     network_fc \u001b[38;5;241m=\u001b[39m fcmat\u001b[38;5;241m.\u001b[39mloc[fcmat\u001b[38;5;241m.\u001b[39mindex\u001b[38;5;241m.\u001b[39mstr\u001b[38;5;241m.\u001b[39mcontains(network), fcmat\u001b[38;5;241m.\u001b[39mcolumns\u001b[38;5;241m.\u001b[39mstr\u001b[38;5;241m.\u001b[39mcontains(network)]\n\u001b[1;32m     36\u001b[0m     \u001b[38;5;66;03m#network_fc = fcmat.loc[network_indices, network_indices]\u001b[39;00m\n\u001b[1;32m     37\u001b[0m     \u001b[38;5;66;03m# Calculate the average connectivity within the network\u001b[39;00m\n",
      "\u001b[0;31mTypeError\u001b[0m: 'DataFrame' object is not callable"
     ]
    }
   ],
   "source": [
    "# Generate list of subjects glob.glob(inpath + 'sub-*) # Generates list of all file names\n",
    "folder_names = [folder for folder in glob.glob(os.path.join(inpath, \"*\")) if os.path.isdir(folder)]\n",
    "\n",
    "subjlist_md = []\n",
    "allsubj_rsns = []\n",
    "\n",
    "for subj_path in folder_names:\n",
    "    # Extract bblid id:\n",
    "    bblid = subj_path.split('-')[1]\n",
    "    print(\"Processing subject \" + bblid)\n",
    "    # Extract session id: \n",
    "    items = os.listdir(subj_path)\n",
    "    ses_folder = [item for item in items if item.startswith(\"ses\")]\n",
    "    ses = ses_folder[0].split('-')[1]\n",
    "    ses_path = os.path.join(input_path, subj_path, ses_folder[0]) # full path to session\n",
    "    # Add to running list of bblids for grp analysis later:\n",
    "    bblids.append(bblid)\n",
    "    sesids.append(ses)\n",
    "    \n",
    "    if runfcon:\n",
    "        #subj_fcon(ses_path, subj, ses, fcmats, grp_df, networks_of_interest):\n",
    "        fcmat_glob = f\"{ses_path}/func/*Schaefer717_measure-pearsoncorrelation_conmat.tsv\"\n",
    "        fcmat = pd.read_csv(glob.glob(fcmat_glob)[0], sep='\\t') # read in fcmat\n",
    "        # Add to 3D matrix for group analysis later\n",
    "        #fcmats = df\n",
    "        #fcmats = pd.concat([fcmats, fcmat], level='Matrix')\n",
    "        #fcmats.shape\n",
    "        # Make list for this subject's avg network values\n",
    "        avg_fc = []\n",
    "        # Loop through the networks\n",
    "        for network in networks:\n",
    "            # Select rows and columns corresponding to the network\n",
    "            #network_indices = [index for index in fcmat.index if network in index]\n",
    "            print(fcmat)\n",
    "            network_fc = fcmat.loc[fcmat.index.str.contains(network), fcmat.columns.str.contains(network)]\n",
    "            #network_fc = fcmat.loc[network_indices, network_indices]\n",
    "            # Calculate the average connectivity within the network\n",
    "            avg_fc.append(network_fc.values.mean())\n",
    "            print(avg_fc)\n",
    "            # Calculate avg within-network connectivity for the current subject\n",
    "            #avg_fcon = subj_fcon(fcmat, networks_of_interest) \n",
    "            temp_df = pd.DataFrame(bblid, columns=[\"BBLID\"])\n",
    "            temp_df[\"Session\"] = ses\n",
    "            temp_df[networks_of_interest] = avg_fcon\n",
    "            # Append the subject's data as a new row to the DataFrame\n",
    "            grp_df = grp_df.append(temp_df, ignore_index=True)\n",
    "        \n",
    "        \n",
    "\n"
   ]
  },
  {
   "cell_type": "markdown",
   "id": "ee974edf",
   "metadata": {},
   "source": [
    "### Network FCON \n",
    "Call fcon function and calculate network-level connectivity measures for subject and add  subject data to group file for future group analysis"
   ]
  },
  {
   "cell_type": "code",
   "execution_count": null,
   "id": "a12b55e9",
   "metadata": {},
   "outputs": [],
   "source": [
    "        path_to_fcmat = f\"{subj_path}/func/*Schaefer717_measure-pearsoncorrelation_conmat.tsv\"\n",
    "              fcmat = pd.read_csv(path_to_fcmat, sep='\\t')\n",
    "              # Add to 3D matrix for group analysis later\n",
    "              fcmats = pd.concat([fcmats, fcmat], axis=2)\n",
    "              # Calculate avg within-network connectivity for the current subject\n",
    "              avg_fcon = subj_fcon(fcmat, networks_of_interest) \n",
    "              temp_df = pd.DataFrame(bblid, columns=[\"BBLID\"])\n",
    "              temp_df[\"Session\"] = ses\n",
    "              temp_df[networks_of_interest] = avg_fcon\n",
    "              # Append the subject's data as a new row to the DataFrame\n",
    "              grp_df = grp_df.append(temp_df, ignore_index=True)\n",
    "                    \n",
    "          \n",
    "          \n",
    "          if runalff:\n",
    "              path_to_fcmat = f\"{subj_path}/func/*Schaefer717_measure-pearsoncorrelation_conmat.tsv\"\n",
    "              fcmat = pd.read_csv(path_to_fcmat, sep='\\t')\n",
    "              # Add to 3D matrix for group analysis later\n",
    "              fcmats = pd.concat([fcmats, fcmat], axis=2)\n",
    "              # Calculate avg within-network connectivity for the current subject\n",
    "              avg_fcon = subj_fcon(fcmat, networks_of_interest) \n",
    "              temp_df = pd.DataFrame(bblid, columns=[\"BBLID\"])\n",
    "              temp_df[\"Session\"] = ses\n",
    "              temp_df[networks_of_interest] = avg_fcon\n",
    "              # Append the subject's data as a new row to the DataFrame\n",
    "              grp_df = grp_df.append(temp_df, ignore_index=True)      \n",
    "          \n",
    "          if runcnb:\n",
    "              \n",
    "              "
   ]
  }
 ],
 "metadata": {
  "kernelspec": {
   "display_name": "Python 3 (ipykernel)",
   "language": "python",
   "name": "python3"
  },
  "language_info": {
   "codemirror_mode": {
    "name": "ipython",
    "version": 3
   },
   "file_extension": ".py",
   "mimetype": "text/x-python",
   "name": "python",
   "nbconvert_exporter": "python",
   "pygments_lexer": "ipython3",
   "version": "3.8.17"
  }
 },
 "nbformat": 4,
 "nbformat_minor": 5
}
