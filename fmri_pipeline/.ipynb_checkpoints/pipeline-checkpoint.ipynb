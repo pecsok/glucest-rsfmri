{
 "cells": [
  {
   "cell_type": "markdown",
   "id": "549b8fc7",
   "metadata": {},
   "source": [
    "## Pipeline Script \n",
    "This script "
   ]
  },
  {
   "cell_type": "markdown",
   "id": "faed04e7",
   "metadata": {},
   "source": [
    "### Import Packages"
   ]
  },
  {
   "cell_type": "code",
   "execution_count": 4,
   "id": "18b02078",
   "metadata": {},
   "outputs": [],
   "source": [
    "import os\n",
    "import numpy as np\n",
    "import pandas as pd\n",
    "import network_fcon as fc\n",
    "from scipy.stats import pearsonr"
   ]
  },
  {
   "cell_type": "markdown",
   "id": "02f51435",
   "metadata": {},
   "source": [
    "### Define paths and variables"
   ]
  },
  {
   "cell_type": "code",
   "execution_count": 6,
   "id": "d1c02784",
   "metadata": {},
   "outputs": [
    {
     "name": "stdout",
     "output_type": "stream",
     "text": [
      "Empty DataFrame\n",
      "Columns: [BBLID, Session, SalVentAttn, Default, matrix, verbal, BDI, PROMIS-Anx]\n",
      "Index: []\n"
     ]
    }
   ],
   "source": [
    "# Main folder path\n",
    "# subjs = \"subject_list.csv\"\n",
    "input_path = \"~/Desktop/Maggie/Graduate\\ School/Project1_GluCEST_rsfMRI/xcp_output/xcp_d/\" \n",
    "output_path = \"~/Desktop/Maggie/Graduate\\ School/Project1_GluCEST_rsfMRI/analyses\"\n",
    "# Initialize empty lists and vars\n",
    "bblids = []\n",
    "sesids = []\n",
    "fcmats = []\n",
    "# Choose what to analyse\n",
    "networks_of_interest = [\"SalVentAttn\", \"Default\"] \n",
    "CNB_scores_of_interest = [\"matrix\", \"verbal\"]\n",
    "clinical_scores_of_interest = [\"BDI\", \"PROMIS-Anx\"]\n",
    "# Make dataframe based on metrics of interest\n",
    "columns = [\"BBLID\"] + [\"Session\"] + networks_of_interest + CNB_scores_of_interest + clinical_scores_of_interest\n",
    "grp_df = pd.DataFrame(columns=columns)\n",
    "print(grp_df)"
   ]
  },
  {
   "cell_type": "markdown",
   "id": "5c428aa5",
   "metadata": {},
   "source": [
    "### Choose which modules to run"
   ]
  },
  {
   "cell_type": "code",
   "execution_count": null,
   "id": "670d0539",
   "metadata": {},
   "outputs": [],
   "source": [
    "runfcon = TRUE\n",
    "runALFF = TRUE\n",
    "runCNB = TRUE\n",
    "runCEST = TRUE\n",
    "runClinical = TRUE\n"
   ]
  },
  {
   "cell_type": "markdown",
   "id": "1e2359da",
   "metadata": {},
   "source": [
    "### Import data, loop through subjects, and establish file paths"
   ]
  },
  {
   "cell_type": "code",
   "execution_count": null,
   "id": "715f9bd4",
   "metadata": {},
   "outputs": [],
   "source": [
    "# Generate list of subjects glob.glob(inpath + 'sub-*) # Generates list of all file names\n",
    "folder_names = [folder for folder in glob.glob(os.path.join(inpath, \"*\")) if os.path.isdir(folder)]\n",
    "\n",
    "subjlist_md = []\n",
    "    \n",
    "allsubj_rsns = []\n",
    "for subj_path in os.listdir(input_path):\n",
    "          # Extract bblid and session id FIX how to extract session:\n",
    "          bblid = subj_path.split('-')[1]\n",
    "          # Assuming 'session' is the name of the daughter folder \n",
    "          # FIX These lines are definitely buggy\n",
    "          daughter_folder = os.path.join(input_path, subj_path, 'session') \n",
    "          ses = daughter_folder.split('-')[1]\n",
    "          subj_path = subj_path.append(daughter) # full path to session\n",
    "          # Add to running list of bblids for grp analysis later:\n",
    "          bblids.append(bblid)\n",
    "          sesids.append(ses)\n",
    "          \n",
    "          if runfcon:\n",
    "              path_to_fcmat = f\"{subj_path}/func/*Schaefer717_measure-pearsoncorrelation_conmat.tsv\"\n",
    "              fcmat = pd.read_csv(path_to_fcmat, sep='\\t')\n",
    "              # Add to 3D matrix for group analysis later\n",
    "              fcmats = pd.concat([fcmats, fcmat], axis=2)\n",
    "              # Calculate avg within-network connectivity for the current subject\n",
    "              avg_fcon = subj_fcon(fcmat, networks_of_interest) \n",
    "              temp_df = pd.DataFrame(bblid, columns=[\"BBLID\"])\n",
    "              temp_df[\"Session\"] = ses\n",
    "              temp_df[networks_of_interest] = avg_fcon\n",
    "              # Append the subject's data as a new row to the DataFrame\n",
    "              grp_df = grp_df.append(temp_df, ignore_index=True)\n",
    "          \n",
    "          \n",
    "          if runalff:\n",
    "              path_to_fcmat = f\"{subj_path}/func/*Schaefer717_measure-pearsoncorrelation_conmat.tsv\"\n",
    "              fcmat = pd.read_csv(path_to_fcmat, sep='\\t')\n",
    "              # Add to 3D matrix for group analysis later\n",
    "              fcmats = pd.concat([fcmats, fcmat], axis=2)\n",
    "              # Calculate avg within-network connectivity for the current subject\n",
    "              avg_fcon = subj_fcon(fcmat, networks_of_interest) \n",
    "              temp_df = pd.DataFrame(bblid, columns=[\"BBLID\"])\n",
    "              temp_df[\"Session\"] = ses\n",
    "              temp_df[networks_of_interest] = avg_fcon\n",
    "              # Append the subject's data as a new row to the DataFrame\n",
    "              grp_df = grp_df.append(temp_df, ignore_index=True)      \n",
    "          \n",
    "          if runcnb:\n",
    "              \n",
    "              "
   ]
  },
  {
   "cell_type": "markdown",
   "id": "ee974edf",
   "metadata": {},
   "source": [
    "### Network FCON \n",
    "Call fcon function and calculate network-level connectivity measures for subject and add  subject data to group file for future group analysis"
   ]
  },
  {
   "cell_type": "code",
   "execution_count": null,
   "id": "a12b55e9",
   "metadata": {},
   "outputs": [],
   "source": []
  }
 ],
 "metadata": {
  "kernelspec": {
   "display_name": "Python 3 (ipykernel)",
   "language": "python",
   "name": "python3"
  },
  "language_info": {
   "codemirror_mode": {
    "name": "ipython",
    "version": 3
   },
   "file_extension": ".py",
   "mimetype": "text/x-python",
   "name": "python",
   "nbconvert_exporter": "python",
   "pygments_lexer": "ipython3",
   "version": "3.11.4"
  }
 },
 "nbformat": 4,
 "nbformat_minor": 5
}
