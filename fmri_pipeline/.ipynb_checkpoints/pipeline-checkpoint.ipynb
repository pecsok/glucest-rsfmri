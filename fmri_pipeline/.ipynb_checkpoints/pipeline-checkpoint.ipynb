{
 "cells": [
  {
   "cell_type": "markdown",
   "id": "549b8fc7",
   "metadata": {},
   "source": [
    "## Pipeline Script \n",
    "This script "
   ]
  },
  {
   "cell_type": "markdown",
   "id": "faed04e7",
   "metadata": {},
   "source": [
    "### Import Packages"
   ]
  },
  {
   "cell_type": "code",
   "execution_count": 167,
   "id": "18b02078",
   "metadata": {},
   "outputs": [],
   "source": [
    "import os\n",
    "import glob\n",
    "import numpy as np\n",
    "import pandas as pd\n",
    "import network_fcon as fc\n",
    "from scipy.stats import pearsonr"
   ]
  },
  {
   "cell_type": "markdown",
   "id": "02f51435",
   "metadata": {},
   "source": [
    "### Define paths and variables"
   ]
  },
  {
   "cell_type": "code",
   "execution_count": 168,
   "id": "d1c02784",
   "metadata": {},
   "outputs": [
    {
     "name": "stdout",
     "output_type": "stream",
     "text": [
      "Empty DataFrame\n",
      "Columns: [BBLID, Session, SalVentAttn, VisCent, tap_tot, er40_cr, BDI, PROMIS-Anx]\n",
      "Index: []\n"
     ]
    }
   ],
   "source": [
    "# Set paths\n",
    "inpath = \"/Users/pecsok/Desktop/Maggie/Graduate School/Project1_GluCEST_rsfMRI/xcp_output/xcp_d_test/\" \n",
    "outpath = \"~/Desktop/ImageData/PMACS_remote/analysis/postprocessing\"\n",
    "clinpath = \"~/Desktop/ImageData/PMACS_remote/data/clinical\"\n",
    "# Choose what to analyse\n",
    "networks = [\"SalVentAttn\", \"VisCent\"] \n",
    "CNB_scores = [\"tap_tot\", \"er40_cr\"]\n",
    "CNB_valid = [\"tap_valid\", \"er40_valid\"]\n",
    "clinical_scores = [\"BDI\", \"PROMIS-Anx\"]\n",
    "# Make dataframe based on metrics of interest\n",
    "columns = [\"BBLID\"] + [\"Session\"] + networks\n",
    "fcon_df = pd.DataFrame(columns=columns)\n",
    "clin_df = pd.DataFrame(columns=[\"BBLID\", \"Session\"] + CNB_scores + clinical_scores)\n",
    "grp_df = pd.DataFrame(columns=columns + CNB_scores + clinical_scores)\n",
    "print(grp_df)\n",
    "# Initialize empty lists and vars\n",
    "bblids = []\n",
    "sesids = []\n",
    "\n",
    "# Import group dataframes and set indices\n",
    "cnbmat = pd.read_csv(clinpath + \"/cnb.csv\", sep=',') \n",
    "diagmat = pd.read_csv(clinpath + \"/diagnosis.csv\", sep=',')\n",
    "demomat = pd.read_csv(clinpath + \"/demographics.csv\", sep=',')\n",
    "cnbmat.set_index('bblid', inplace = True)\n",
    "diagmat.set_index('bblid', inplace = True)\n",
    "demomat.set_index('bblid', inplace = True)\n",
    "\n",
    "#### Troubleshooting: Initialize empty matrix for fcmats # FIX if desired:\n",
    "num_matrices = 100  # You can change this to the desired number\n",
    "matrix_shape = (700, 701)\n",
    "index = pd.MultiIndex.from_product([range(num_matrices), range(matrix_shape[0]), range(matrix_shape[1])], names=['Matrix', 'Row', 'Column'])\n",
    "fcmats = pd.DataFrame(data, index=index, columns=['Value'])"
   ]
  },
  {
   "cell_type": "markdown",
   "id": "5c428aa5",
   "metadata": {},
   "source": [
    "### Choose which modules to run"
   ]
  },
  {
   "cell_type": "code",
   "execution_count": 169,
   "id": "670d0539",
   "metadata": {},
   "outputs": [],
   "source": [
    "runfcon = False\n",
    "runALFF = True\n",
    "runCNB = True\n",
    "runCEST = True\n",
    "runClinical = True"
   ]
  },
  {
   "cell_type": "markdown",
   "id": "1e2359da",
   "metadata": {},
   "source": [
    "### Import data, loop through subjects, and establish file paths"
   ]
  },
  {
   "cell_type": "code",
   "execution_count": 173,
   "id": "715f9bd4",
   "metadata": {},
   "outputs": [
    {
     "name": "stdout",
     "output_type": "stream",
     "text": [
      "Processing subject 18199\n",
      "tap_tot\n"
     ]
    },
    {
     "ename": "KeyError",
     "evalue": "'t'",
     "output_type": "error",
     "traceback": [
      "\u001b[0;31m---------------------------------------------------------------------------\u001b[0m",
      "\u001b[0;31mKeyError\u001b[0m                                  Traceback (most recent call last)",
      "File \u001b[0;32m~/anaconda3/envs/glucestfmri/lib/python3.8/site-packages/pandas/core/indexes/base.py:3653\u001b[0m, in \u001b[0;36mIndex.get_loc\u001b[0;34m(self, key)\u001b[0m\n\u001b[1;32m   3652\u001b[0m \u001b[38;5;28;01mtry\u001b[39;00m:\n\u001b[0;32m-> 3653\u001b[0m     \u001b[38;5;28;01mreturn\u001b[39;00m \u001b[38;5;28;43mself\u001b[39;49m\u001b[38;5;241;43m.\u001b[39;49m\u001b[43m_engine\u001b[49m\u001b[38;5;241;43m.\u001b[39;49m\u001b[43mget_loc\u001b[49m\u001b[43m(\u001b[49m\u001b[43mcasted_key\u001b[49m\u001b[43m)\u001b[49m\n\u001b[1;32m   3654\u001b[0m \u001b[38;5;28;01mexcept\u001b[39;00m \u001b[38;5;167;01mKeyError\u001b[39;00m \u001b[38;5;28;01mas\u001b[39;00m err:\n",
      "File \u001b[0;32m~/anaconda3/envs/glucestfmri/lib/python3.8/site-packages/pandas/_libs/index.pyx:147\u001b[0m, in \u001b[0;36mpandas._libs.index.IndexEngine.get_loc\u001b[0;34m()\u001b[0m\n",
      "File \u001b[0;32m~/anaconda3/envs/glucestfmri/lib/python3.8/site-packages/pandas/_libs/index.pyx:176\u001b[0m, in \u001b[0;36mpandas._libs.index.IndexEngine.get_loc\u001b[0;34m()\u001b[0m\n",
      "File \u001b[0;32mpandas/_libs/hashtable_class_helper.pxi:7080\u001b[0m, in \u001b[0;36mpandas._libs.hashtable.PyObjectHashTable.get_item\u001b[0;34m()\u001b[0m\n",
      "File \u001b[0;32mpandas/_libs/hashtable_class_helper.pxi:7088\u001b[0m, in \u001b[0;36mpandas._libs.hashtable.PyObjectHashTable.get_item\u001b[0;34m()\u001b[0m\n",
      "\u001b[0;31mKeyError\u001b[0m: 't'",
      "\nThe above exception was the direct cause of the following exception:\n",
      "\u001b[0;31mKeyError\u001b[0m                                  Traceback (most recent call last)",
      "Cell \u001b[0;32mIn[173], line 45\u001b[0m\n\u001b[1;32m     43\u001b[0m \u001b[38;5;28mprint\u001b[39m(CNB_score)\n\u001b[1;32m     44\u001b[0m \u001b[38;5;66;03m# Select score of interest\u001b[39;00m\n\u001b[0;32m---> 45\u001b[0m score \u001b[38;5;241m=\u001b[39m \u001b[43mcnbmat\u001b[49m\u001b[38;5;241;43m.\u001b[39;49m\u001b[43mat\u001b[49m\u001b[43m[\u001b[49m\u001b[38;5;28;43mfloat\u001b[39;49m\u001b[43m(\u001b[49m\u001b[43mbblid\u001b[49m\u001b[43m)\u001b[49m\u001b[43m,\u001b[49m\u001b[43m \u001b[49m\u001b[43mCNB_score\u001b[49m\u001b[43m[\u001b[49m\u001b[43mi\u001b[49m\u001b[43m]\u001b[49m\u001b[43m]\u001b[49m\n\u001b[1;32m     46\u001b[0m \u001b[38;5;28mprint\u001b[39m(score)\n\u001b[1;32m     47\u001b[0m \u001b[38;5;66;03m#score2 = cnbmat.loc[cnbmat.index == float(bblid), cnbmat.columns == CNB_score]\u001b[39;00m\n\u001b[1;32m     48\u001b[0m \u001b[38;5;66;03m#print(score2)\u001b[39;00m\n",
      "File \u001b[0;32m~/anaconda3/envs/glucestfmri/lib/python3.8/site-packages/pandas/core/indexing.py:2417\u001b[0m, in \u001b[0;36m_AtIndexer.__getitem__\u001b[0;34m(self, key)\u001b[0m\n\u001b[1;32m   2415\u001b[0m     \u001b[38;5;28;01mif\u001b[39;00m \u001b[38;5;129;01mnot\u001b[39;00m \u001b[38;5;28misinstance\u001b[39m(key, \u001b[38;5;28mtuple\u001b[39m) \u001b[38;5;129;01mor\u001b[39;00m \u001b[38;5;129;01mnot\u001b[39;00m \u001b[38;5;28mall\u001b[39m(is_scalar(x) \u001b[38;5;28;01mfor\u001b[39;00m x \u001b[38;5;129;01min\u001b[39;00m key):\n\u001b[1;32m   2416\u001b[0m         \u001b[38;5;28;01mraise\u001b[39;00m \u001b[38;5;167;01mValueError\u001b[39;00m(\u001b[38;5;124m\"\u001b[39m\u001b[38;5;124mInvalid call for scalar access (getting)!\u001b[39m\u001b[38;5;124m\"\u001b[39m)\n\u001b[0;32m-> 2417\u001b[0m     \u001b[38;5;28;01mreturn\u001b[39;00m \u001b[38;5;28;43mself\u001b[39;49m\u001b[38;5;241;43m.\u001b[39;49m\u001b[43mobj\u001b[49m\u001b[38;5;241;43m.\u001b[39;49m\u001b[43mloc\u001b[49m\u001b[43m[\u001b[49m\u001b[43mkey\u001b[49m\u001b[43m]\u001b[49m\n\u001b[1;32m   2419\u001b[0m \u001b[38;5;28;01mreturn\u001b[39;00m \u001b[38;5;28msuper\u001b[39m()\u001b[38;5;241m.\u001b[39m\u001b[38;5;21m__getitem__\u001b[39m(key)\n",
      "File \u001b[0;32m~/anaconda3/envs/glucestfmri/lib/python3.8/site-packages/pandas/core/indexing.py:1097\u001b[0m, in \u001b[0;36m_LocationIndexer.__getitem__\u001b[0;34m(self, key)\u001b[0m\n\u001b[1;32m   1095\u001b[0m     \u001b[38;5;28;01mif\u001b[39;00m \u001b[38;5;28mself\u001b[39m\u001b[38;5;241m.\u001b[39m_is_scalar_access(key):\n\u001b[1;32m   1096\u001b[0m         \u001b[38;5;28;01mreturn\u001b[39;00m \u001b[38;5;28mself\u001b[39m\u001b[38;5;241m.\u001b[39mobj\u001b[38;5;241m.\u001b[39m_get_value(\u001b[38;5;241m*\u001b[39mkey, takeable\u001b[38;5;241m=\u001b[39m\u001b[38;5;28mself\u001b[39m\u001b[38;5;241m.\u001b[39m_takeable)\n\u001b[0;32m-> 1097\u001b[0m     \u001b[38;5;28;01mreturn\u001b[39;00m \u001b[38;5;28;43mself\u001b[39;49m\u001b[38;5;241;43m.\u001b[39;49m\u001b[43m_getitem_tuple\u001b[49m\u001b[43m(\u001b[49m\u001b[43mkey\u001b[49m\u001b[43m)\u001b[49m\n\u001b[1;32m   1098\u001b[0m \u001b[38;5;28;01melse\u001b[39;00m:\n\u001b[1;32m   1099\u001b[0m     \u001b[38;5;66;03m# we by definition only have the 0th axis\u001b[39;00m\n\u001b[1;32m   1100\u001b[0m     axis \u001b[38;5;241m=\u001b[39m \u001b[38;5;28mself\u001b[39m\u001b[38;5;241m.\u001b[39maxis \u001b[38;5;129;01mor\u001b[39;00m \u001b[38;5;241m0\u001b[39m\n",
      "File \u001b[0;32m~/anaconda3/envs/glucestfmri/lib/python3.8/site-packages/pandas/core/indexing.py:1280\u001b[0m, in \u001b[0;36m_LocIndexer._getitem_tuple\u001b[0;34m(self, tup)\u001b[0m\n\u001b[1;32m   1278\u001b[0m \u001b[38;5;28;01mwith\u001b[39;00m suppress(IndexingError):\n\u001b[1;32m   1279\u001b[0m     tup \u001b[38;5;241m=\u001b[39m \u001b[38;5;28mself\u001b[39m\u001b[38;5;241m.\u001b[39m_expand_ellipsis(tup)\n\u001b[0;32m-> 1280\u001b[0m     \u001b[38;5;28;01mreturn\u001b[39;00m \u001b[38;5;28;43mself\u001b[39;49m\u001b[38;5;241;43m.\u001b[39;49m\u001b[43m_getitem_lowerdim\u001b[49m\u001b[43m(\u001b[49m\u001b[43mtup\u001b[49m\u001b[43m)\u001b[49m\n\u001b[1;32m   1282\u001b[0m \u001b[38;5;66;03m# no multi-index, so validate all of the indexers\u001b[39;00m\n\u001b[1;32m   1283\u001b[0m tup \u001b[38;5;241m=\u001b[39m \u001b[38;5;28mself\u001b[39m\u001b[38;5;241m.\u001b[39m_validate_tuple_indexer(tup)\n",
      "File \u001b[0;32m~/anaconda3/envs/glucestfmri/lib/python3.8/site-packages/pandas/core/indexing.py:1024\u001b[0m, in \u001b[0;36m_LocationIndexer._getitem_lowerdim\u001b[0;34m(self, tup)\u001b[0m\n\u001b[1;32m   1022\u001b[0m             \u001b[38;5;28;01mreturn\u001b[39;00m section\n\u001b[1;32m   1023\u001b[0m         \u001b[38;5;66;03m# This is an elided recursive call to iloc/loc\u001b[39;00m\n\u001b[0;32m-> 1024\u001b[0m         \u001b[38;5;28;01mreturn\u001b[39;00m \u001b[38;5;28;43mgetattr\u001b[39;49m\u001b[43m(\u001b[49m\u001b[43msection\u001b[49m\u001b[43m,\u001b[49m\u001b[43m \u001b[49m\u001b[38;5;28;43mself\u001b[39;49m\u001b[38;5;241;43m.\u001b[39;49m\u001b[43mname\u001b[49m\u001b[43m)\u001b[49m\u001b[43m[\u001b[49m\u001b[43mnew_key\u001b[49m\u001b[43m]\u001b[49m\n\u001b[1;32m   1026\u001b[0m \u001b[38;5;28;01mraise\u001b[39;00m IndexingError(\u001b[38;5;124m\"\u001b[39m\u001b[38;5;124mnot applicable\u001b[39m\u001b[38;5;124m\"\u001b[39m)\n",
      "File \u001b[0;32m~/anaconda3/envs/glucestfmri/lib/python3.8/site-packages/pandas/core/indexing.py:1103\u001b[0m, in \u001b[0;36m_LocationIndexer.__getitem__\u001b[0;34m(self, key)\u001b[0m\n\u001b[1;32m   1100\u001b[0m axis \u001b[38;5;241m=\u001b[39m \u001b[38;5;28mself\u001b[39m\u001b[38;5;241m.\u001b[39maxis \u001b[38;5;129;01mor\u001b[39;00m \u001b[38;5;241m0\u001b[39m\n\u001b[1;32m   1102\u001b[0m maybe_callable \u001b[38;5;241m=\u001b[39m com\u001b[38;5;241m.\u001b[39mapply_if_callable(key, \u001b[38;5;28mself\u001b[39m\u001b[38;5;241m.\u001b[39mobj)\n\u001b[0;32m-> 1103\u001b[0m \u001b[38;5;28;01mreturn\u001b[39;00m \u001b[38;5;28;43mself\u001b[39;49m\u001b[38;5;241;43m.\u001b[39;49m\u001b[43m_getitem_axis\u001b[49m\u001b[43m(\u001b[49m\u001b[43mmaybe_callable\u001b[49m\u001b[43m,\u001b[49m\u001b[43m \u001b[49m\u001b[43maxis\u001b[49m\u001b[38;5;241;43m=\u001b[39;49m\u001b[43maxis\u001b[49m\u001b[43m)\u001b[49m\n",
      "File \u001b[0;32m~/anaconda3/envs/glucestfmri/lib/python3.8/site-packages/pandas/core/indexing.py:1343\u001b[0m, in \u001b[0;36m_LocIndexer._getitem_axis\u001b[0;34m(self, key, axis)\u001b[0m\n\u001b[1;32m   1341\u001b[0m \u001b[38;5;66;03m# fall thru to straight lookup\u001b[39;00m\n\u001b[1;32m   1342\u001b[0m \u001b[38;5;28mself\u001b[39m\u001b[38;5;241m.\u001b[39m_validate_key(key, axis)\n\u001b[0;32m-> 1343\u001b[0m \u001b[38;5;28;01mreturn\u001b[39;00m \u001b[38;5;28;43mself\u001b[39;49m\u001b[38;5;241;43m.\u001b[39;49m\u001b[43m_get_label\u001b[49m\u001b[43m(\u001b[49m\u001b[43mkey\u001b[49m\u001b[43m,\u001b[49m\u001b[43m \u001b[49m\u001b[43maxis\u001b[49m\u001b[38;5;241;43m=\u001b[39;49m\u001b[43maxis\u001b[49m\u001b[43m)\u001b[49m\n",
      "File \u001b[0;32m~/anaconda3/envs/glucestfmri/lib/python3.8/site-packages/pandas/core/indexing.py:1293\u001b[0m, in \u001b[0;36m_LocIndexer._get_label\u001b[0;34m(self, label, axis)\u001b[0m\n\u001b[1;32m   1291\u001b[0m \u001b[38;5;28;01mdef\u001b[39;00m \u001b[38;5;21m_get_label\u001b[39m(\u001b[38;5;28mself\u001b[39m, label, axis: AxisInt):\n\u001b[1;32m   1292\u001b[0m     \u001b[38;5;66;03m# GH#5567 this will fail if the label is not present in the axis.\u001b[39;00m\n\u001b[0;32m-> 1293\u001b[0m     \u001b[38;5;28;01mreturn\u001b[39;00m \u001b[38;5;28;43mself\u001b[39;49m\u001b[38;5;241;43m.\u001b[39;49m\u001b[43mobj\u001b[49m\u001b[38;5;241;43m.\u001b[39;49m\u001b[43mxs\u001b[49m\u001b[43m(\u001b[49m\u001b[43mlabel\u001b[49m\u001b[43m,\u001b[49m\u001b[43m \u001b[49m\u001b[43maxis\u001b[49m\u001b[38;5;241;43m=\u001b[39;49m\u001b[43maxis\u001b[49m\u001b[43m)\u001b[49m\n",
      "File \u001b[0;32m~/anaconda3/envs/glucestfmri/lib/python3.8/site-packages/pandas/core/generic.py:4095\u001b[0m, in \u001b[0;36mNDFrame.xs\u001b[0;34m(self, key, axis, level, drop_level)\u001b[0m\n\u001b[1;32m   4093\u001b[0m             new_index \u001b[38;5;241m=\u001b[39m index[loc]\n\u001b[1;32m   4094\u001b[0m \u001b[38;5;28;01melse\u001b[39;00m:\n\u001b[0;32m-> 4095\u001b[0m     loc \u001b[38;5;241m=\u001b[39m \u001b[43mindex\u001b[49m\u001b[38;5;241;43m.\u001b[39;49m\u001b[43mget_loc\u001b[49m\u001b[43m(\u001b[49m\u001b[43mkey\u001b[49m\u001b[43m)\u001b[49m\n\u001b[1;32m   4097\u001b[0m     \u001b[38;5;28;01mif\u001b[39;00m \u001b[38;5;28misinstance\u001b[39m(loc, np\u001b[38;5;241m.\u001b[39mndarray):\n\u001b[1;32m   4098\u001b[0m         \u001b[38;5;28;01mif\u001b[39;00m loc\u001b[38;5;241m.\u001b[39mdtype \u001b[38;5;241m==\u001b[39m np\u001b[38;5;241m.\u001b[39mbool_:\n",
      "File \u001b[0;32m~/anaconda3/envs/glucestfmri/lib/python3.8/site-packages/pandas/core/indexes/base.py:3655\u001b[0m, in \u001b[0;36mIndex.get_loc\u001b[0;34m(self, key)\u001b[0m\n\u001b[1;32m   3653\u001b[0m     \u001b[38;5;28;01mreturn\u001b[39;00m \u001b[38;5;28mself\u001b[39m\u001b[38;5;241m.\u001b[39m_engine\u001b[38;5;241m.\u001b[39mget_loc(casted_key)\n\u001b[1;32m   3654\u001b[0m \u001b[38;5;28;01mexcept\u001b[39;00m \u001b[38;5;167;01mKeyError\u001b[39;00m \u001b[38;5;28;01mas\u001b[39;00m err:\n\u001b[0;32m-> 3655\u001b[0m     \u001b[38;5;28;01mraise\u001b[39;00m \u001b[38;5;167;01mKeyError\u001b[39;00m(key) \u001b[38;5;28;01mfrom\u001b[39;00m \u001b[38;5;21;01merr\u001b[39;00m\n\u001b[1;32m   3656\u001b[0m \u001b[38;5;28;01mexcept\u001b[39;00m \u001b[38;5;167;01mTypeError\u001b[39;00m:\n\u001b[1;32m   3657\u001b[0m     \u001b[38;5;66;03m# If we have a listlike key, _check_indexing_error will raise\u001b[39;00m\n\u001b[1;32m   3658\u001b[0m     \u001b[38;5;66;03m#  InvalidIndexError. Otherwise we fall through and re-raise\u001b[39;00m\n\u001b[1;32m   3659\u001b[0m     \u001b[38;5;66;03m#  the TypeError.\u001b[39;00m\n\u001b[1;32m   3660\u001b[0m     \u001b[38;5;28mself\u001b[39m\u001b[38;5;241m.\u001b[39m_check_indexing_error(key)\n",
      "\u001b[0;31mKeyError\u001b[0m: 't'"
     ]
    }
   ],
   "source": [
    "# Generate list of subjects glob.glob(inpath + 'sub-*) # Generates list of all file names\n",
    "folder_names = [folder for folder in glob.glob(os.path.join(inpath, \"*\")) if os.path.isdir(folder)]\n",
    "\n",
    "for subj_path in folder_names:\n",
    "    # Extract bblid id:\n",
    "    bblid = subj_path.split('-')[1]\n",
    "    print(\"Processing subject \" + bblid)\n",
    "    # Extract session id: \n",
    "    items = os.listdir(subj_path)\n",
    "    ses_folder = [item for item in items if item.startswith(\"ses\")]\n",
    "    ses = ses_folder[0].split('-')[1]\n",
    "    ses_path = os.path.join(inpath, subj_path, ses_folder[0]) # full path to session\n",
    "    # Add to running list of IDs grp analysis later:\n",
    "    bblids.append(bblid)\n",
    "    sesids.append(ses)\n",
    "    # Start new row in grp_df for this subject:\n",
    "    ids = [bblid, ses]  # Values for the first two columns\n",
    "    grp_df.loc[len(grp_df)] = ids + [float('nan')] * (len(grp_df.columns) - len(ids))\n",
    "    \n",
    "    ##################################################################################################\n",
    "    ## FC\n",
    "    ##################################################################################################\n",
    "    if runfcon:\n",
    "    #    fc.subj_fcon(ses_path, bblid, ses, grp_df, networks) Troubleshoot function\n",
    "        fcmat_glob = f\"{ses_path}/func/*Schaefer717_measure-pearsoncorrelation_conmat.tsv\"\n",
    "        fcmat = pd.read_csv(glob.glob(fcmat_glob)[0], sep='\\t') # read in fcmat\n",
    "        fcmat.set_index('Node', inplace = True)\n",
    "        # Loop through the networks\n",
    "        for network in networks:\n",
    "            # Select rows and columns corresponding to the network\n",
    "            network_fc = fcmat.loc[fcmat.index.str.contains(network), fcmat.columns[fcmat.columns.str.contains(network)]]\n",
    "            # Calculate avg network fc and add value to proper column in grp_df\n",
    "            grp_df.loc[len(grp_df)-1, network] = network_fc.values.mean()\n",
    "\n",
    "\n",
    "    ##################################################################################################\n",
    "    ## CNB\n",
    "    ##################################################################################################\n",
    "    if runCNB:\n",
    "        # Loop through the CNB scores\n",
    "        for i in range(len(CNB_scores)):\n",
    "            CNB_score = CNB_scores[i]\n",
    "            print(CNB_score)\n",
    "            # Select score of interest\n",
    "            score = cnbmat.at[float(bblid), CNB_score[i]]\n",
    "            print(score)\n",
    "            #score2 = cnbmat.loc[cnbmat.index == float(bblid), cnbmat.columns == CNB_score]\n",
    "            #print(score2)\n",
    "            valid = cnbmat.loc[cnbmat.index == float(bblid), cnbmat.columns == CNB_valid[i]]\n",
    "            print(valid)\n",
    "            # If score was valid, add to grp_df\n",
    "            if valid.values[0][0] == 'V': # FIX some items have \"CV\" or \"V1\". convert this to a str.contains statement\n",
    "                #print(\"yes\")\n",
    "                grp_df.loc[grp_df['BBLID'] == bblid, grp_df.columns == CNB_score] = float(score)\n",
    "                \n",
    "                \n",
    "                \n",
    "    ##################################################################################################\n",
    "    ## Clinical\n",
    "    ##################################################################################################\n",
    "\n",
    "    \n",
    "    ##################################################################################################\n",
    "    ## Clinical\n",
    "    ##################################################################################################\n"
   ]
  },
  {
   "cell_type": "markdown",
   "id": "ee974edf",
   "metadata": {},
   "source": [
    "### Network FCON \n",
    "Call fcon function and calculate network-level connectivity measures for subject and add  subject data to group file for future group analysis"
   ]
  },
  {
   "cell_type": "code",
   "execution_count": null,
   "id": "a12b55e9",
   "metadata": {},
   "outputs": [],
   "source": [
    "        path_to_fcmat = f\"{subj_path}/func/*Schaefer717_measure-pearsoncorrelation_conmat.tsv\"\n",
    "              fcmat = pd.read_csv(path_to_fcmat, sep='\\t')\n",
    "              # Add to 3D matrix for group analysis later\n",
    "              fcmats = pd.concat([fcmats, fcmat], axis=2)\n",
    "              # Calculate avg within-network connectivity for the current subject\n",
    "              avg_fcon = subj_fcon(fcmat, networks_of_interest) \n",
    "              temp_df = pd.DataFrame(bblid, columns=[\"BBLID\"])\n",
    "              temp_df[\"Session\"] = ses\n",
    "              temp_df[networks_of_interest] = avg_fcon\n",
    "              # Append the subject's data as a new row to the DataFrame\n",
    "              grp_df = grp_df.append(temp_df, ignore_index=True)\n",
    "                    \n",
    "          \n",
    "          \n",
    "          if runalff:\n",
    "              path_to_fcmat = f\"{subj_path}/func/*Schaefer717_measure-pearsoncorrelation_conmat.tsv\"\n",
    "              fcmat = pd.read_csv(path_to_fcmat, sep='\\t')\n",
    "              # Add to 3D matrix for group analysis later\n",
    "              fcmats = pd.concat([fcmats, fcmat], axis=2)\n",
    "              # Calculate avg within-network connectivity for the current subject\n",
    "              avg_fcon = subj_fcon(fcmat, networks_of_interest) \n",
    "              temp_df = pd.DataFrame(bblid, columns=[\"BBLID\"])\n",
    "              temp_df[\"Session\"] = ses\n",
    "              temp_df[networks_of_interest] = avg_fcon\n",
    "              # Append the subject's data as a new row to the DataFrame\n",
    "              grp_df = grp_df.append(temp_df, ignore_index=True)      \n",
    "          \n",
    "          if runcnb:\n",
    "              \n",
    "              "
   ]
  }
 ],
 "metadata": {
  "kernelspec": {
   "display_name": "Python 3 (ipykernel)",
   "language": "python",
   "name": "python3"
  },
  "language_info": {
   "codemirror_mode": {
    "name": "ipython",
    "version": 3
   },
   "file_extension": ".py",
   "mimetype": "text/x-python",
   "name": "python",
   "nbconvert_exporter": "python",
   "pygments_lexer": "ipython3",
   "version": "3.8.17"
  }
 },
 "nbformat": 4,
 "nbformat_minor": 5
}
