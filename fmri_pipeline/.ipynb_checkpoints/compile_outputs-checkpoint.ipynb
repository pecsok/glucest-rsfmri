{
 "cells": [
  {
   "cell_type": "markdown",
   "id": "09f55055-37de-45b4-8c7a-e196f3095f45",
   "metadata": {
    "tags": []
   },
   "source": [
    "## Compile outputs"
   ]
  },
  {
   "cell_type": "markdown",
   "id": "bd45011b-e1dd-4e24-a167-fedaa78ff068",
   "metadata": {},
   "source": [
    "This script concatenates pyGluCEST output tsvs for the 7 network parcellation"
   ]
  },
  {
   "cell_type": "markdown",
   "id": "390dc05a-835d-488c-a091-ea833727330b",
   "metadata": {},
   "source": [
    "### Import Packages"
   ]
  },
  {
   "cell_type": "code",
   "execution_count": 36,
   "id": "62af9bcf-ac06-40fa-a483-682d8e8cea46",
   "metadata": {},
   "outputs": [
    {
     "name": "stdout",
     "output_type": "stream",
     "text": [
      "Empty DataFrame\n",
      "Columns: [BBLID, Session, Cont_Mean, Cont_Count, Cont_Sigma]\n",
      "Index: []\n"
     ]
    }
   ],
   "source": [
    "import os\n",
    "import glob\n",
    "import numpy as np\n",
    "import pandas as pd\n",
    "import scipy as sp\n",
    "from scipy.stats import pearsonr\n",
    "from scipy.stats import linregress\n",
    "import seaborn as sns\n",
    "import matplotlib.pyplot as plt\n",
    "import re\n",
    "import shutil\n",
    "\n",
    "# Set paths and variables\n",
    "cestpath = \"/Users/pecsok/Desktop/ImageData/PMACS_remote/data/cest/\"\n",
    "batches = ['output_measures/UNI'] #, 'analysis_batch2/output_measures/UNI']\n",
    "networks = [\"Cont\"] #, \"Default\", \"DorsAttn\", \"Vis\", \"SalVentAttn\", \"SomMot\", \"Limbic\"] \n",
    "\n",
    "# Import data\n",
    "subjlist = pd.read_csv(\"~/Desktop/ImageData/PMACS_remote/data/subject_list_031124.csv\", sep=',') \n",
    "subjlist = subjlist.dropna(subset=['BBLID'])\n",
    "subjlist['BBLID'] = subjlist['BBLID'].astype(int)\n",
    "subjlist['SCANID_CEST'] = subjlist['SCANID_CEST'].astype(int)\n",
    "\n",
    "# Make group df\n",
    "allcols = []\n",
    "for network in networks:\n",
    "    colnames = [network + \"_Mean\", network + \"_Count\", network + \"_Sigma\"]\n",
    "    allcols = allcols + colnames\n",
    "grp_df = pd.DataFrame(columns = [\"BBLID\"] + [\"Session\"] + allcols)\n",
    "print(grp_df)\n",
    "\n",
    "\n",
    "# Make output dataframes"
   ]
  },
  {
   "cell_type": "code",
   "execution_count": 27,
   "id": "9311bdf1-9987-4201-a4aa-cb76d1a09168",
   "metadata": {
    "tags": []
   },
   "outputs": [
    {
     "ename": "NameError",
     "evalue": "name 'cestid' is not defined",
     "output_type": "error",
     "traceback": [
      "\u001b[0;31m---------------------------------------------------------------------------\u001b[0m",
      "\u001b[0;31mNameError\u001b[0m                                 Traceback (most recent call last)",
      "Cell \u001b[0;32mIn[27], line 7\u001b[0m\n\u001b[1;32m      5\u001b[0m \u001b[38;5;28;01mfor\u001b[39;00m network \u001b[38;5;129;01min\u001b[39;00m networks:\n\u001b[1;32m      6\u001b[0m     \u001b[38;5;28;01mfor\u001b[39;00m batch \u001b[38;5;129;01min\u001b[39;00m batches:\n\u001b[0;32m----> 7\u001b[0m         cest_pattern \u001b[38;5;241m=\u001b[39m cestpath \u001b[38;5;241m+\u001b[39m batch \u001b[38;5;241m+\u001b[39m \u001b[38;5;124m\"\u001b[39m\u001b[38;5;124m/\u001b[39m\u001b[38;5;124m\"\u001b[39m \u001b[38;5;241m+\u001b[39m cestid \u001b[38;5;241m+\u001b[39m \u001b[38;5;124m\"\u001b[39m\u001b[38;5;124m-2d-GluCEST-s100_7-\u001b[39m\u001b[38;5;124m\"\u001b[39m \u001b[38;5;241m+\u001b[39m network \u001b[38;5;241m+\u001b[39m \u001b[38;5;124m\"\u001b[39m\u001b[38;5;124m-measures_UNI.tsv\u001b[39m\u001b[38;5;124m\"\u001b[39m\n\u001b[1;32m      8\u001b[0m         cestfile \u001b[38;5;241m=\u001b[39m glob\u001b[38;5;241m.\u001b[39mglob(cest_pattern)\n\u001b[1;32m      9\u001b[0m         \u001b[38;5;28mprint\u001b[39m(cestfile)\n",
      "\u001b[0;31mNameError\u001b[0m: name 'cestid' is not defined"
     ]
    }
   ],
   "source": [
    "# Loop through networks and import original CEST output file\n",
    "for index, row in subjlist.iterrows():\n",
    "    bblid = str(row['BBLID'])\n",
    "    session = str(row['SCANID_CEST'])\n",
    "    for network in networks:\n",
    "        for batch in batches:\n",
    "            cest_pattern = cestpath + batch + \"/\" + cestid + \"-2d-GluCEST-s100_7-\" + network + \"-measures_UNI.tsv\"\n",
    "            cestfile = glob.glob(cest_pattern)\n",
    "            print(cestfile)"
   ]
  },
  {
   "cell_type": "code",
   "execution_count": 40,
   "id": "1be6cb81-78d8-4e7b-ae38-9c48027b8e06",
   "metadata": {
    "tags": []
   },
   "outputs": [
    {
     "ename": "SyntaxError",
     "evalue": "incomplete input (1650311379.py, line 13)",
     "output_type": "error",
     "traceback": [
      "\u001b[0;36m  Cell \u001b[0;32mIn[40], line 13\u001b[0;36m\u001b[0m\n\u001b[0;31m    \u001b[0m\n\u001b[0m    ^\u001b[0m\n\u001b[0;31mSyntaxError\u001b[0m\u001b[0;31m:\u001b[0m incomplete input\n"
     ]
    }
   ],
   "source": [
    "# Loop through all subjs\n",
    "for index, row in subjlist.iterrows(): \n",
    "    bblid = str(row['BBLID'])\n",
    "    #print(bblid)\n",
    "    session = str(row['SCANID_CEST']) \n",
    "    #print(session)\n",
    "    cestid = bblid + \"_\" + session\n",
    "    # Loop through batches to find subj's data\n",
    "    for batch in batches:\n",
    "        subfolders = [f.path for f in os.scandir(cestpath + \"output_measures\") if f.is_dir()]\n",
    "        for subfolder in subfolders: \n",
    "            # If subject's data in is this folder, continue extracting data for all networks:\n",
    "            if bblid in subfolder:\n",
    "                for nework in networks: \n",
    "                    \n",
    "                "
   ]
  },
  {
   "cell_type": "code",
   "execution_count": 29,
   "id": "aa13f64a-81ca-4789-b06c-ec2059c5f445",
   "metadata": {
    "tags": []
   },
   "outputs": [],
   "source": [
    "\n",
    "# Loop through all subjs\n",
    "for index, row in subjlist.iterrows(): \n",
    "    bblid = str(row['BBLID'])\n",
    "    session = str(row['SCANID_CEST']) \n",
    "    cestid = bblid + \"_\" + session\n",
    "    # Loop through batches to find subj's data\n",
    "    for batch in batches:\n",
    "        subfolders = [f.path for f in os.scandir(cestpath) if f.is_dir()]\n",
    "        print(subfolders\n",
    "    for network in networks:\n",
    "        \n",
    "            cest_pattern = cestpath + batch + \"/\" + cestid + \"-2d-GluCEST-s100_7-\" + network + \"-measures_UNI.tsv\"\n",
    "            cestfile = glob.glob(cest_pattern)\n",
    "            print(cestfile)\n",
    "            for file in cestfile:\n",
    "                if os.path.isfile(file):\n",
    "                    cestmat = pd.read_csv(file, sep='\\t')\n",
    "                    means = [] \n",
    "                    counts = []\n",
    "                    col_name = network + \"_Mean\" # for grp_df\n",
    "                    ct_name = network + \"_Count\" # for grp_df\n",
    "                    sigma_name = network + \"_Sigma\" # for grp_df\n",
    "                    for index, value in enumerate(cestmat.loc[0,:]):\n",
    "                        if \"Mean\" in cestmat.columns[index] and not np.isnan(value):\n",
    "                            means.append(cestmat.at[0, cestmat.columns[index]])\n",
    "                            counts.append(cestmat.at[0, cestmat.columns[index + 1]])\n",
    "                    if sum(counts) == 0:\n",
    "                        print(\"no cest\")\n",
    "                        grp_df.loc[grp_df['BBLID'] == bblid, grp_df['Session'] == session, grp_df.columns == col_name] = \"NaN\"\n",
    "                        grp_df.loc[grp_df['BBLID'] == bblid, grp_df['Session'] == session, grp_df.columns == col_name] = \"NaN\"\n",
    "                    else:\n",
    "                        grp_df.loc[grp_df['BBLID'] == bblid, grp_df['Session'] == session, grp_df.columns == col_name] = sum(means) # / sum(counts)\n",
    "                        grp_df.loc[grp_df['BBLID'] == bblid, grp_df['Session'] == session, grp_df.columns == ct_name] = sum(counts) # / sum(counts)\n",
    "print(grp_df)"
   ]
  }
 ],
 "metadata": {
  "kernelspec": {
   "display_name": "Python 3 (ipykernel)",
   "language": "python",
   "name": "python3"
  },
  "language_info": {
   "codemirror_mode": {
    "name": "ipython",
    "version": 3
   },
   "file_extension": ".py",
   "mimetype": "text/x-python",
   "name": "python",
   "nbconvert_exporter": "python",
   "pygments_lexer": "ipython3",
   "version": "3.11.5"
  }
 },
 "nbformat": 4,
 "nbformat_minor": 5
}
