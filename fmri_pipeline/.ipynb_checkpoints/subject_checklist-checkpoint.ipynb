{
 "cells": [
  {
   "cell_type": "code",
   "execution_count": null,
   "id": "9cfe848f-2156-457b-9dc1-1049dfbe3ca6",
   "metadata": {},
   "outputs": [],
   "source": [
    "import os\n"
   ]
  },
  {
   "cell_type": "code",
   "execution_count": null,
   "id": "3bd2ba70-3684-465e-9cd8-dc9bd1219587",
   "metadata": {},
   "outputs": [],
   "source": [
    "# Import CSV with Subject list\n",
    "\n",
    "# Set path variables. \n",
    "datadir = /data/cest/7T_data\n",
    "\n",
    "# Create output df:\n",
    "col names: BBLID, Session, Data_There"
   ]
  },
  {
   "cell_type": "code",
   "execution_count": null,
   "id": "9d3fb834-6f9d-4929-9213-67a67a219753",
   "metadata": {},
   "outputs": [],
   "source": [
    "for i in range 0-# rows in df:\n",
    "bblid = df$BBLID[i]\n",
    "session = df$session[i]\n",
    "\n",
    "Add a new row to the output directory, adding BBLID and Session to a new row\n",
    "\n",
    "if /data/cest/7T_data/bblid/session is a directory (using glob.glob?)\n",
    "\n",
    "  status_csv .loc (new row) and col = Data_There = \"Yes\"\n",
    "else\"\n",
    "  status_csv .loc (new row) and col = Data_There = \"No\"\n"
   ]
  },
  {
   "cell_type": "code",
   "execution_count": null,
   "id": "6888932f-0bda-48dc-ab97-ebc94c24b8b5",
   "metadata": {},
   "outputs": [],
   "source": []
  }
 ],
 "metadata": {
  "kernelspec": {
   "display_name": "nmap2",
   "language": "python",
   "name": "nmaps2"
  },
  "language_info": {
   "codemirror_mode": {
    "name": "ipython",
    "version": 3
   },
   "file_extension": ".py",
   "mimetype": "text/x-python",
   "name": "python",
   "nbconvert_exporter": "python",
   "pygments_lexer": "ipython3",
   "version": "3.11.7"
  }
 },
 "nbformat": 4,
 "nbformat_minor": 5
}
