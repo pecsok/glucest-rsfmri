{
 "cells": [
  {
   "cell_type": "code",
   "execution_count": 1,
   "id": "9cfe848f-2156-457b-9dc1-1049dfbe3ca6",
   "metadata": {},
   "outputs": [],
   "source": [
    "import pandas as pd\n",
    "import os\n",
    "import glob"
   ]
  },
  {
   "cell_type": "code",
   "execution_count": 36,
   "id": "3bd2ba70-3684-465e-9cd8-dc9bd1219587",
   "metadata": {},
   "outputs": [],
   "source": [
    "# Import CSV with Subject list\n",
    "\n",
    "# Set path variables. \n",
    "datadir = \"/Users/pecsok/Desktop/ImageData/PMACS_remote/data/cest/7T_data\"\n",
    "\n",
    "# Import CSV with Subject list\n",
    "input_csv_path = \"~/Desktop/ImageData/PMACS_remote/data/subject_list_031124.csv\"\n",
    "df = pd.read_csv(input_csv_path)\n",
    "df = df.dropna(subset=['BBLID','SCANID_CEST'])\n",
    "\n",
    "# Create output df:\n",
    "output_df = pd.DataFrame(columns=['BBLID', 'Session', 'Data_There'])\n"
   ]
  },
  {
   "cell_type": "code",
   "execution_count": 37,
   "id": "9d3fb834-6f9d-4929-9213-67a67a219753",
   "metadata": {},
   "outputs": [],
   "source": [
    "# Loop through rows of subjlist\n",
    "for index, row in df.iterrows():\n",
    "    bblid = row['BBLID']\n",
    "    bblid = str(int(bblid))\n",
    "    session = row['SCANID_CEST']\n",
    "    session = str(int(session))\n",
    "    \n",
    "     # Check if subj data exists\n",
    "    path = os.path.join(datadir, str(bblid), str(session))\n",
    "    #print(path)\n",
    "    data_there = \"Yes\" if os.path.isdir(path) else \"No\"\n",
    "    #print(data_there)\n",
    "    \n",
    "    # Add a new row to the output DataFrame\n",
    "    vals = [bblid, session, data_there]\n",
    "    #output_df = output_df.append({'BBLID': bblid, 'Session': session, 'Data_There': data_there}, ignore_index=True)\n",
    "    output_df.loc[len(output_df)] = vals\n",
    "\n",
    "# Save the output DataFrame to a CSV file\n",
    "output_csv_path = \"output.csv\"\n",
    "output_df.to_csv(output_csv_path, index=False)\n",
    "\n"
   ]
  },
  {
   "cell_type": "code",
   "execution_count": 39,
   "id": "fcba4976-4548-4167-9e29-29c88ef69e3b",
   "metadata": {},
   "outputs": [
    {
     "name": "stdout",
     "output_type": "stream",
     "text": [
      "    BBLID Session Data_There\n",
      "25  96659   11096         No\n",
      "87  96659   11096         No\n",
      "88  90281   11093         No\n",
      "      BBLID Session Data_There\n",
      "0     20303   12234        Yes\n",
      "1     90217   12230        Yes\n",
      "2     88608   12108        Yes\n",
      "3     21874   12094        Yes\n",
      "4     94288   12092        Yes\n",
      "..      ...     ...        ...\n",
      "115   90877   10907        Yes\n",
      "116   92155   11022        Yes\n",
      "117   93274   10765        Yes\n",
      "118  112126   11157        Yes\n",
      "119  139272   10739        Yes\n",
      "\n",
      "[120 rows x 3 columns]\n"
     ]
    }
   ],
   "source": [
    "missing_cest_071924 = output_df[output_df['Data_There'] == 'No']\n",
    "print(missing_cest_071924)\n",
    "print(output_df)"
   ]
  },
  {
   "cell_type": "code",
   "execution_count": null,
   "id": "6888932f-0bda-48dc-ab97-ebc94c24b8b5",
   "metadata": {},
   "outputs": [],
   "source": [
    "# Bash code to transfer over people that were hiding in old dataset.\n",
    "\n",
    "bblid = ____\n",
    "session = ___\n",
    "# Source \n",
    "start=/project/bbl_projects/MotorGluCEST/dicoms\n",
    "\n",
    "# End point \n",
    "finish=/project/bbl_roalf_pecsokphd/projects/glucest-rsfmri/data/cest/7T_data\n",
    "\n",
    "mkdir $finish/$bblid\n",
    "\n",
    "cp -r $start/$bblid/$session $finish/$bblid/$session"
   ]
  },
  {
   "cell_type": "markdown",
   "id": "c7a49b65-5520-4a98-b116-43a6ec5a972d",
   "metadata": {},
   "source": [
    "# Now, Loop through old dataset and see what extra data you have."
   ]
  },
  {
   "cell_type": "code",
   "execution_count": 45,
   "id": "e9919408-9ddf-4041-8daa-11c5b0f38917",
   "metadata": {},
   "outputs": [
    {
     "name": "stdout",
     "output_type": "stream",
     "text": [
      "     BBLID  Session Duplicated\n",
      "0   100522    12003        Yes\n",
      "1   102041    12037         No\n",
      "2   111720    11766        Yes\n",
      "3   112061    12261         No\n",
      "4   112807    11890        Yes\n",
      "5   114738    11706        Yes\n",
      "6   114738    12095        Yes\n",
      "7   115783    11788        Yes\n",
      "8   115783    12179         No\n",
      "9   116354    11774        Yes\n",
      "10  116354    12180         No\n",
      "11  118864    11783        Yes\n",
      "12  118864    12144         No\n",
      "13  121085    11716        Yes\n",
      "14  121085    11970        Yes\n",
      "15  125073    11814        Yes\n",
      "16  125073    12167        Yes\n",
      "17  127935    12101        Yes\n",
      "18  128079    11934        Yes\n",
      "19  130438    11999        Yes\n",
      "20  131384    12198        Yes\n",
      "21  132869    12109        Yes\n",
      "22  135085    11812        Yes\n",
      "23   19790    12171         No\n",
      "24   20082    11821        Yes\n",
      "25   20082    12183        Yes\n",
      "26   20303    12234        Yes\n",
      "27   20325    11852        Yes\n",
      "28   20523    12186         No\n",
      "29   20754    12200        Yes\n",
      "30   20792    11887        Yes\n",
      "31   20792    12238        Yes\n",
      "32   20871    11917        Yes\n",
      "33   20871    12235        Yes\n",
      "34   20903    12159        Yes\n",
      "35   21874    12094        Yes\n",
      "36   22192    12036         No\n",
      "37   22475    12096         No\n",
      "38   22668    12257         No\n",
      "39   22716    12266         No\n",
      "40   23166    12246         No\n",
      "41   88608    12108        Yes\n",
      "42   88760    11846        Yes\n",
      "43   89279    11699         No\n",
      "44   89279    12078         No\n",
      "45   90217    12230        Yes\n",
      "46   91422    11753        Yes\n",
      "47   91422    12067        Yes\n",
      "48   92089    12089        Yes\n",
      "49   93242    11850        Yes\n",
      "50   93757    12015        Yes\n",
      "51   94288    12092        Yes\n",
      "52   94378    11833        Yes\n",
      "53   94378    12240        Yes\n",
      "54   94703    12082        Yes\n",
      "55   95257    12041        Yes\n",
      "56   96465    12069        Yes\n",
      "57   96659    12256         No\n",
      "58   96902    11903        Yes\n"
     ]
    }
   ],
   "source": [
    "old_path = \"~/Desktop/ImageData/PMACS_remote/data/olddata_summary.csv\"\n",
    "new_path = \"/Users/pecsok/Desktop/ImageData/PMACS_remote/data/cest/7T_data\"\n",
    "df_old = pd.read_csv(old_path)\n",
    "# Remove rows where Directory is the same as Subdirectory\n",
    "df_old = df_old[df_old['Directory'] != df_old['Subdirectory']]\n",
    "\n",
    "old_data_status_df = pd.DataFrame(columns=['BBLID', 'Session', 'Duplicated'])\n",
    "\n",
    "\n",
    "# Loop through df_old and check for duplication\n",
    "for index, row in df_old.iterrows():\n",
    "    directory = row['Directory']\n",
    "    #print(directory)\n",
    "    subdirectory = row['Subdirectory']\n",
    "    #print(subdirectory)\n",
    "    path = os.path.join(new_path, str(directory), str(subdirectory))\n",
    "    #print(path)\n",
    "    duplicate = \"Yes\" if os.path.isdir(path) else \"No\"\n",
    "    #print(str(directory), duplicate)\n",
    "    vals = [directory, subdirectory, duplicate]\n",
    "    #print(vals)\n",
    "    old_data_status_df.loc[len(old_data_status_df)] = vals\n",
    "#print(old_data_status_df)"
   ]
  },
  {
   "cell_type": "code",
   "execution_count": 52,
   "id": "ec730ed6-16bf-4b0f-8dc5-e02d9d603e8a",
   "metadata": {},
   "outputs": [
    {
     "name": "stdout",
     "output_type": "stream",
     "text": [
      "     BBLID  Session Duplicated\n",
      "1   102041    12037         No\n",
      "3   112061    12261         No\n",
      "8   115783    12179         No\n",
      "10  116354    12180         No\n",
      "12  118864    12144         No\n",
      "23   19790    12171         No\n",
      "28   20523    12186         No\n",
      "36   22192    12036         No\n",
      "37   22475    12096         No\n",
      "38   22668    12257         No\n",
      "39   22716    12266         No\n",
      "40   23166    12246         No\n",
      "43   89279    11699         No\n",
      "44   89279    12078         No\n",
      "57   96659    12256         No\n",
      "     BBLID  Session\n",
      "1   102041    12037\n",
      "3   112061    12261\n",
      "8   115783    12179\n",
      "10  116354    12180\n",
      "12  118864    12144\n",
      "23   19790    12171\n",
      "28   20523    12186\n",
      "36   22192    12036\n",
      "37   22475    12096\n",
      "38   22668    12257\n",
      "39   22716    12266\n",
      "40   23166    12246\n",
      "43   89279    11699\n",
      "44   89279    12078\n",
      "57   96659    12256\n"
     ]
    }
   ],
   "source": [
    "# Now, Save the extra data in a csv\n",
    "extra_data = old_data_status_df[old_data_status_df['Duplicated'] == 'No']\n",
    "print(extra_data)\n",
    "extra_data = extra_data.drop(columns=['Duplicated']) # This avoid annoying bash problem in next chunk\n",
    "print(extra_data)\n",
    "extra_data.to_csv(\"/Users/pecsok/Desktop/ImageData/PMACS_remote/data/cest/extra_data.csv\", index=False)\n",
    "\n"
   ]
  },
  {
   "cell_type": "code",
   "execution_count": 47,
   "id": "67452f49-411e-4e03-8f75-f0fc9989acd9",
   "metadata": {},
   "outputs": [
    {
     "ename": "SyntaxError",
     "evalue": "invalid syntax (6112879.py, line 16)",
     "output_type": "error",
     "traceback": [
      "\u001b[0;36m  Cell \u001b[0;32mIn[47], line 16\u001b[0;36m\u001b[0m\n\u001b[0;31m    cp -r $old_path/bblid/session\u001b[0m\n\u001b[0m          ^\u001b[0m\n\u001b[0;31mSyntaxError\u001b[0m\u001b[0;31m:\u001b[0m invalid syntax\n"
     ]
    }
   ],
   "source": [
    "# Now, transfer over data from old data to a new folder in \"data\"\n",
    "\n",
    "# Define the paths\n",
    "old_path=\"/project/bbl_projects/MotorGluCEST/dicoms\"\n",
    "new_path=\"/project/bbl_roalf_pecsokphd/projects/glucest-rsfmri/data/cest/extra_data\"\n",
    "csv_file=\"extra_data.csv\"\n",
    "\n",
    "# Create the destination directory\n",
    "mkdir -p \"$new_path\"\n",
    "\n",
    "# Read the CSV file and process each row\n",
    "while IFS=, read -r bblid session\n",
    "do\n",
    "    # Skip the header line\n",
    "    if [[ \"$bblid\" == \"BBLID\" ]]; then\n",
    "        continue\n",
    "    fi\n",
    "    \n",
    "    # Construct source and destination paths\n",
    "    src_dir=\"$old_path/$bblid/$session\"\n",
    "    dest_dir=\"$new_path/$bblid/$session\"\n",
    "    \n",
    "    # Create destination directory if it doesn't exist\n",
    "    mkdir -p \"$(dirname \"$dest_dir\")\"\n",
    "    \n",
    "    # Copy the directory\n",
    "    cp -r \"$src_dir\" \"$dest_dir\"\n",
    "    \n",
    "    echo \"Copied $src_dir to $dest_dir\"\n",
    "done < \"$csv_file\"\n",
    "\n"
   ]
  }
 ],
 "metadata": {
  "kernelspec": {
   "display_name": "nmap2",
   "language": "python",
   "name": "nmaps2"
  },
  "language_info": {
   "codemirror_mode": {
    "name": "ipython",
    "version": 3
   },
   "file_extension": ".py",
   "mimetype": "text/x-python",
   "name": "python",
   "nbconvert_exporter": "python",
   "pygments_lexer": "ipython3",
   "version": "3.11.7"
  }
 },
 "nbformat": 4,
 "nbformat_minor": 5
}
