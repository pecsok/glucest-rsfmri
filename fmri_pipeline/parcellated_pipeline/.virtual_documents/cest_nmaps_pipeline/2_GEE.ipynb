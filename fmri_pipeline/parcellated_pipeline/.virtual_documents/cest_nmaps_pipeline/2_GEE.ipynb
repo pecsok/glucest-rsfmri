





import os
import glob
import numpy as np
import pandas as pd
#import network_fcon as fc
import scipy as sp
import seaborn as sns
import matplotlib.pyplot as plt
import re
import statsmodels
import statsmodels.api as sm
from statsmodels.genmod.generalized_estimating_equations import GEE
from statsmodels.genmod.cov_struct import Exchangeable



### Define Paths and Variables### Define paths and variables


# Set variables
dataset = 'longglucest_outputmeasures2'
atlas = 'Schaefer2018_1000Parcels_17Networks'
nmaps = ["NMDA", "mGluR5", "GABA"]
maps = ["cest", "NMDA", "mGluR5", "GABA"]

# Set paths
inpath = "/Users/pecsok/Desktop/ImageData/PMACS_remote/data/nmaps/analyses/" + atlas
outpath = "/Users/pecsok/Desktop/ImageData/PMACS_remote/data/nmaps/analyses/" + atlas

# Read in data
long_df = pd.read_csv(inpath + '/imputed_long_df_standardnmaps_' + dataset + '_' + atlas + '.csv', sep=',')
long_df


# Address NaN issue
nan_counts = long_df.groupby('Parcel').agg(
    GluCEST_nans=('GluCEST', lambda x: x.isna().sum()),
    NMDA_nans=('NMDA_standard', lambda x: x.isna().sum()),
    mGluR5_nans=('mGluR5_standard', lambda x: x.isna().sum()),
    GABA_nans=('GABA_standard', lambda x: x.isna().sum())
).reset_index()
nan_counts
#nan_counts.to_csv("~/Desktop/GluCEST_nancounts.csv", index=False)





# Run GEE 

# Define the independent variable (Glutamate) and dependent variable (Receptor)
X = long_df[['NMDA_standard']]  # Predictor variable (Glutamate)
y = long_df['GluCEST']       # Response variable (Receptor expression)

# Add a constant to the predictor (for the intercept term)
X = sm.add_constant(X)

# Define the groups (subject-level grouping)
groups = long_df['Subject']

# Initialize GEE with an Exchangeable covariance structure (since all parcels per subject are treated equally correlated)
model = GEE(y, X, groups=groups, cov_struct=Exchangeable())

# Fit the GEE model
results = model.fit()

# Output the results summary
print(results.summary())



