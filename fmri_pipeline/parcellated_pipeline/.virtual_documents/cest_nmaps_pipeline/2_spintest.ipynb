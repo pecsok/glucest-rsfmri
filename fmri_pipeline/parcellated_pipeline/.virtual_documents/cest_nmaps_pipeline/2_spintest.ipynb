





import numpy as np
import pandas as pd
import netneurotools.stats as stats
from neuromaps.datasets import fetch_atlas
from nilearn.datasets import fetch_atlas_schaefer_2018
from netneurotools.datasets import fetch_schaefer2018
import neuromaps
import nibabel as nib
from neuromaps.parcellate import Parcellater
from neuromaps import transforms





dataset = 'longglucest_outputmeasures2'
atlas = 'Schaefer2018_1000Parcels_17Networks'
nmaps = ["NMDA", "mGluR5", "GABA"]
maps = ["cest", "NMDA", "mGluR5", "GABA"]

# Set paths
inpath = "/Users/pecsok/Desktop/ImageData/PMACS_remote/data/nmaps/analyses/" + atlas
outpath = "/Users/pecsok/Desktop/ImageData/PMACS_remote/data/nmaps/analyses/" + atlas
means= pd.read_csv(inpath + '/means_subjectnmaps_' + dataset + '_' + atlas + '.csv', sep=',')
means["Parcel"] = means["Parcel"].str.replace(' NZMean', '', regex=False)
means.set_index('Parcel', inplace = True)

# Fetch Schaefer 2018 atlas coordinates (for example)
schaefer = fetch_atlas_schaefer_2018(n_rois=1000, yeo_networks=17)
labels = schaefer['labels']  # These are the MNI coordinates of the parcels
labels = [label.decode('utf-8') for label in labels]
# Load in Schaefer nifti.
schaefernifti = nib.load(schaefer['maps'])
schaeferarray = schaefernifti.get_fdata()
print(schaeferarray.shape)

print(means)





# Assuming GluCEST_data and NMDA_data are 1D arrays with data for each parcel
means = means[means['hstatus']== 'HC']

# Initialize an array with NaNs the same length as the labels
glucest_array = np.full(len(labels), np.nan)
nmda_array = np.full(len(labels), np.nan)
gaba_array = np.full(len(labels), np.nan)
mglur5_array = np.full(len(labels), np.nan)

# Loop through the labels and fill in the corresponding GluCEST_avg values where they exist in the dataframe
for i, label in enumerate(labels):
    if label in means.index:
        #print(label)
        glucest_array[i] = means.loc[label, 'GluCEST_avg']
        nmda_array[i] = means.loc[label, 'NMDA_avg']
        gaba_array[i] = means.loc[label, 'GABA_avg']
        mglur5_array[i] = means.loc[label, 'mGluR5_avg']

# Reshape Arrays
glucest_array = glucest_array.reshape(1, len(labels))
nmda_array = nmda_array.reshape(1, len(labels))
gaba_array = gaba_array.reshape(1, len(labels))
mglur5_array = mglur5_array.reshape(1, len(labels))

# Parcellate and convert back to nifti
parcellater = Parcellater(schaefer['maps'], 'MNI152')
glucest_nifti = parcellater.inverse_transform(glucest_array)
nmda_nifti = parcellater.inverse_transform(nmda_array)
gaba_nifti = parcellater.inverse_transform(gaba_array)
mglur5_nifti = parcellater.inverse_transform(mglur5_array)

# Save avg niftis
nib.save(glucest_nifti,outpath +'avg_glucest.nii.gz')
nib.save(nmda_nifti,outpath +'avg_nmda.nii.gz')
nib.save(gaba_nifti,outpath +'avg_gaba.nii.gz')
nib.save(mglur5_nifti,outpath +'avg_mglur5.nii.gz')












# Warp each subject's parcellated data? 
# We have:
#    Parcellated atlas file in subject space
#    Subject-MNI transform
#    Average parcel value   
#    Standardize warp from MNI to fsLR or fsavg space

# Goal: 
#    Use 

# 1. Repopulate parcels in subject slice with average parcel value

### Inputs: subject slice nifi, CSV with parcels/values,

# 2. Project that to surface 
