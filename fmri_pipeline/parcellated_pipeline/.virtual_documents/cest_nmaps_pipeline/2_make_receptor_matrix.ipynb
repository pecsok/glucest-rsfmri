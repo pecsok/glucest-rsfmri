





import numpy as np
import pandas as pd
from netneurotools import datasets, plotting
from matplotlib.colors import ListedColormap
from scipy.stats import zscore
from nilearn.datasets import fetch_atlas_schaefer_2018


import surfer





path = '/Users/pecsok/projects/Neuromaps/pecsok_pfns/neuromaps/'
datapath = '/Users/pecsok/projects/Neuromaps/hansen_receptors/'

scale = 'scale1000_17' #'Harvard_Oxford_sub'

schaefer = fetch_atlas_schaefer_2018(n_rois=1000, yeo_networks=17) # This is sklearn.utils._bunch.Bunch. Other altases in this format? *Ask Golia
nnodes = len(schaefer['labels'])
if scale == 'Harvard_Oxford_sub':
    nnodes = 21
type(schaefer)


print(path+'data/parcellated/PET_parcellated/'+scale+'/mGluR5_abp_hc73_smart.csv')





receptors_csv = [path+'data/parcellated/PET_parcellated/'+scale+'/NMDA_ge179_hc29_galovic.csv',
                 path+'data/parcellated/PET_parcellated/'+scale+'/mGluR5_abp_hc22_rosaneto.csv',
                 path+'data/parcellated/PET_parcellated/'+scale+'/mGluR5_abp_hc28_dubois.csv',
                 path+'data/parcellated/PET_parcellated/'+scale+'/mGluR5_abp_hc73_smart.csv',
                 path+'data/parcellated/PET_parcellated/'+scale+'/GABAa-bz_flumazenil_hc16_norgaard.csv',
                 path+'data/parcellated/PET_parcellated/'+scale+'/GABAa_flumazenil_hc6_dukart.csv',
                 path+'data/parcellated/PET_parcellated/'+scale+'/D2_flb457_hc37_smith.csv',
                 path+'data/parcellated/PET_parcellated/'+scale+'/D2_flb457_hc55_sandiego.csv'
]

#path+'data/parcellated/PET_parcellated/'+scale+'D1_SCH23390_hc13_kaller.nii',
#path+'data/parcellated/PET_parcellated/'+scale+'D2_fallypride_hc49_jaworska.nii',
#path+'data/parcellated/PET_parcellated/'+scale+'D2_raclopride_hc7_alakurtti.nii',
# path+'data/parcellated/PET_parcellated/'+scale+'DAT_fpcit_hc174_dukart_spect.nii',
#path+'data/parcellated/PET_parcellated/'+scale+'DAT_fepe2i_hc6_sasaki.nii.gz'





print(scale) #pecsok_pfns/neuromaps/data/parcellated/PET_parcellated/"+scale+"


# combine all the receptors (including repeats)
r = np.zeros([nnodes, len(receptors_csv)])
for i in range(len(receptors_csv)):
    r[:, i] = np.genfromtxt(receptors_csv[i], delimiter=',') 
    # Now we have the receptor data by parcel (row) for all 6 receptor maps (col)

#print(r[:,3])
print(r.shape)

receptor_names = np.array(["NMDA","mGluR5","GABA","D2"])
np.save(path+'data/receptor_names_pet.npy', receptor_names)

# make final region x receptor matrix
receptor_data = np.zeros([nnodes, len(receptor_names)])


# NMDA Data
receptor_data[:, 0] = zscore(r[:, 0])
# weighted average of mGluR5 ABP688
receptor_data[:, 1] = (zscore(r[:, 1])*22 + zscore(r[:, 2])*28 + zscore(r[:, 3])*73) / (22+28+73)
# weighted average of GABA 
receptor_data[:, 2] = (zscore(r[:, 4])*16 + zscore(r[:, 5])*6) / (16+6)
# weighted average of D2
receptor_data[:, 3] = (zscore(r[:, 6])*37 + zscore(r[:, 7])*55) / (37+55)


receptor_df = pd.DataFrame(receptor_data, columns=receptor_names)

#np.savetxt(path+'results/receptor_data_'+scale+'.csv', receptor_data, delimiter=',')

#np.savetxt(path+'results/receptor_data_'+scale+'.csv', receptor_df, delimiter=',', header = True)

receptor_df.to_csv(path+'results/receptor_data_'+scale+'.csv', index=False, header=True)
print(receptor_df)


"""
plot receptor data
"""

# colourmaps
cmap = np.genfromtxt(datapath+'data/colourmap.csv', delimiter=',')
cmap_div = ListedColormap(cmap)

# plot each receptor map
if scale == 'scale1000_17':
    annot = datasets.fetch_schaefer2018('fsaverage')['1000Parcels17Networks']
    type(annot)
    print(annot)
    
    for k in range(len(receptor_names)):
        brain = plotting.plot_fsaverage(data=receptor_data[:, k],
                                        lhannot=annot.lh,
                                        rhannot=annot.rh,
                                        colormap='plasma',
                                        views=['lat', 'med'],
                                        data_kws={'representation': "wireframe"})
        brain.save_image(path+'figures/scale1000_17/surface_receptor_'+receptor_names[k]+'.png')


if scale == 'scale100':
    annot = datasets.fetch_schaefer2018('fsaverage')['100Parcels7Networks']
    for k in range(len(receptor_names)):
        brain = plotting.plot_fsaverage(data=receptor_data[:, k],
                                        lhannot=annot.lh,
                                        rhannot=annot.rh,
                                        colormap='plasma',
                                        views=['lat', 'med'],
                                        data_kws={'representation': "wireframe"})
        brain.save_image(path+'figures/' + scale + '/surface_receptor_'+receptor_names[k]+'.png')


#receptor_data[:, 2:9] = r[:, 3:10]
print(receptor_data)
print(len(receptor_data))

print(r)
