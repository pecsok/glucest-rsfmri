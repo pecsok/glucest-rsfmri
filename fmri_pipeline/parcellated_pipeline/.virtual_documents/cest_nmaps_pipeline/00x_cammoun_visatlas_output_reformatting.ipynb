





import os
import glob
import numpy as np
import pandas as pd
#import network_fcon as fc
import scipy as sp
from scipy.stats import pearsonr
from scipy.stats import linregress
import seaborn as sns
import matplotlib.pyplot as plt
import re
from nilearn.datasets import fetch_atlas_schaefer_2018
import netneurotools 
from netneurotools.datasets import fetch_cammoun2012





# Set variables
dataset = 'longglucest_outputmeasures2'
atlas = 'atl-Cammoun2012_res-500'
nmaps = ["NMDA", "mGluR5", "GABA"]
maps = ["cest", "NMDA", "mGluR5", "GABA"]
normalize_cest = True
scale = 'scale500'

# Set paths
og_path = "/Users/pecsok/Desktop/ImageData/PMACS_remote/data/nmaps/" + dataset
inpath = "/Users/pecsok/Desktop/ImageData/PMACS_remote/data/nmaps/" + dataset + "/" + atlas
outpath = "/Users/pecsok/Desktop/ImageData/PMACS_remote/data/nmaps/" + dataset

# Read in data
og_cestmat = pd.read_csv(og_path + "/all_subs_GluCEST_Schaefer2018_1000Parcels_17Networks_UNI.csv", sep=',')
cestmat = pd.read_csv(inpath + "/GluCEST-ROI-" + atlas + "-Measures_UNI.tsv", sep='\t')
NMDAmat = pd.read_csv(inpath + "/NMDA_normalized-ROI-" + atlas + "-Measures_UNI.tsv", sep='\t')
mGluR5mat = pd.read_csv(inpath + "/mGluR5_normalized-ROI-" + atlas + "-Measures_UNI.tsv", sep='\t')
GABAmat = pd.read_csv(inpath + "/GABA_normalized-ROI-" + atlas + "-Measures_UNI.tsv", sep='\t')

# Import atlas labels
cam = fetch_cammoun2012()
info = pd.read_csv(cam['info'], sep=',')
info = info[info['scale']== scale]
print(info)
# Set indices and correct column names
og_cestmat.set_index('Subject', inplace = True)

#print(cestmat)


measures = ["NZMean", "NZcount", "NZSigma"]
dfs = [cestmat, NMDAmat, GABAmat, mGluR5mat]

for df in dfs:
    # Fix subject name
    df['Subject'] = df['Subject'].apply(lambda x: x.split('/')[3])
    # Add subject group
    df['group']=None 
    for j in range(len(df)):
        subject = df.loc[j, 'Subject']
        if subject in og_cestmat.index:
            df.loc[j, 'group'] = og_cestmat.loc[subject, 'group']  # Assuming 'group' column exists in og_cestmat
    # Rename columns
    for measure in measures:
        for i in range(1, 1016):
            column_name = f"{measure}_{i}"
            #print(column_name)
            if column_name in df.columns:
                # Find the label from info_df where idcolumn equals i
                label = info.loc[info['id'] == i, 'label'].values[0]
                newname=f"{label} {measure}"
                # Rename the column in cestmat_df using the label
                df.rename(columns={column_name: newname}, inplace=True)

print(NMDAmat)
print(dfs[1])


# Save em out
cestmat.to_csv(outpath + '/all_subs_GluCEST_' + atlas + "_UNI.csv", sep=',')
NMDAmat.to_csv(outpath + "/all_subs_NMDA_normalized_" + atlas + "_UNI.csv", sep=',')
GABAmat.to_csv(outpath + "/all_subs_GABA_normalized_" + atlas + "_UNI.csv", sep=',')
mGluR5mat.to_csv(outpath + "/all_subs_mGluR5_normalized_" + atlas + "_UNI.csv", sep=',')
