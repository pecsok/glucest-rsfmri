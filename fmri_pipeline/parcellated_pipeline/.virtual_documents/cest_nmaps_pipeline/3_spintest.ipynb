





import numpy as np
import pandas as pd
import netneurotools.stats as stats
from neuromaps.datasets import fetch_atlas
from nilearn.datasets import fetch_atlas_schaefer_2018
from netneurotools.datasets import fetch_schaefer2018
import neuromaps
import nibabel as nib
from neuromaps.parcellate import Parcellater
from neuromaps import transforms
from neuromaps import nulls
from nilearn.plotting import plot_surf
from nilearn.surface import load_surf_data
from nilearn import surface, plotting, datasets
from neuromaps import datasets, images, nulls, resampling, stats





dataset = 'longglucest_outputmeasures2'
atlas = 'Schaefer2018_1000Parcels_17Networks'
nmaps = ["NMDA", "mGluR5", "GABA"]
maps = ["cest", "NMDA", "mGluR5", "GABA"]

# Set paths
inpath = "/Users/pecsok/Desktop/ImageData/PMACS_remote/data/nmaps/analyses/" + atlas
outpath = "/Users/pecsok/Desktop/ImageData/PMACS_remote/data/nmaps/analyses/" + atlas
means= pd.read_csv(inpath + '/means_subjectnmaps_' + dataset + '_' + atlas + '.csv', sep=',')
means["Parcel"] = means["Parcel"].str.replace(' NZMean', '', regex=False)
means.set_index('Parcel', inplace = True)

# Fetch Schaefer 2018 atlas coordinates (for example)
schaefer = fetch_atlas_schaefer_2018(n_rois=1000, yeo_networks=17)
labels = schaefer['labels']  # These are the MNI coordinates of the parcels
labels = [label.decode('utf-8') for label in labels]
# Load in Schaefer nifti.
schaefernifti = nib.load(schaefer['maps'])
schaeferarray = schaefernifti.get_fdata()
print(schaeferarray.shape)

print(means)






# Assuming GluCEST_data and NMDA_data are 1D arrays with data for each parcel
means = means[means['hstatus']== 'HC']

# Initialize an array with NaNs the same length as the labels
glucest_array = np.full(len(labels), np.nan)
nmda_array = np.full(len(labels), np.nan)
gaba_array = np.full(len(labels), np.nan)
mglur5_array = np.full(len(labels), np.nan)

# Loop through the labels and fill in the corresponding GluCEST_avg values where they exist in the dataframe
for i, label in enumerate(labels):
    if label in means.index:
        #print(label)
        glucest_array[i] = means.loc[label, 'CEST_avg']
        nmda_array[i] = means.loc[label, 'NMDA']
        gaba_array[i] = means.loc[label, 'GABA']
        mglur5_array[i] = means.loc[label, 'mGluR5']

# Reshape Arrays
glucest_array = glucest_array.reshape(1, len(labels))
nmda_array = nmda_array.reshape(1, len(labels))
gaba_array = gaba_array.reshape(1, len(labels))
mglur5_array = mglur5_array.reshape(1, len(labels))

# Parcellate and convert back to nifti
parcellater = Parcellater(schaefer['maps'], 'MNI152')
glucest_nifti = parcellater.inverse_transform(glucest_array)
nmda_nifti = parcellater.inverse_transform(nmda_array)
gaba_nifti = parcellater.inverse_transform(gaba_array)
mglur5_nifti = parcellater.inverse_transform(mglur5_array)

# Save avg niftis
nib.save(glucest_nifti,outpath +'avg_glucest.nii.gz')
nib.save(nmda_nifti,outpath +'avg_nmda.nii.gz')
nib.save(gaba_nifti,outpath +'avg_gaba.nii.gz')
nib.save(mglur5_nifti,outpath +'avg_mglur5.nii.gz')






# Project Schaefer to surface
schaefer_surf2 = transforms.mni152_to_fsaverage(schaefer['maps'], fsavg_density='10k', method='nearest')

# Permute parcels
permutations = nulls.vazquez_rodriguez(data=None, atlas='fsaverage', density='10k', 
                                  n_perm=10, seed=1234, parcellation=schaefer_surf2)
print(permutations.shape)
print(permutations)


# Try with GluCEST and neuromap data
cest_surf, abagen = resampling.resample_images(glucest_nifti, abagen, 'MNI152', 'fsaverage')
permutations_cest = nulls.vazquez_rodriguez(data=None, atlas='fsaverage', density='10k', 
                                  n_perm=10, seed=1234, parcellation=cest_surf)
print(permutations_cest.shape)
print(permutations_cest)





# Project data to surface space
cest_surf, abagen = resampling.resample_images(glucest_nifti, abagen, 'MNI152', 'fsaverage')
nmda_surf, abagen = resampling.resample_images(nmda_nifti, abagen, 'MNI152', 'fsaverage')
mglur5_surf, abagen = resampling.resample_images(mglur5_nifti, abagen, 'MNI152', 'fsaverage')
gaba_surf, abagen = resampling.resample_images(gaba_nifti, abagen, 'MNI152', 'fsaverage')

# Generate nulls
rotated_cest = nulls.alexander_bloch(cest_surf, atlas='fsaverage', density='10k',
                                n_perm=5, seed=1234)
rotated_gaba = nulls.alexander_bloch(gaba_surf, atlas='fsaverage', density='10k',
                                n_perm=5, seed=1234)
print(rotated_cest.shape)
print(rotated_gaba.shape)

# Spatial Correlation
spatial_corr = stats.compare_images(gaba_surf, cest_surf, metric='pearsonr',
                                    ignore_zero=True,nulls=rotated_gaba)
print(spatial_corr)






fsaverage = datasets.fetch_surf_fsaverage()

texture = surface.vol_to_surf(glucest_nifti, fsaverage.pial_left)

# Visualize the surface projection
plotting.plot_surf_stat_map(fsaverage.infl_left, texture,
                            hemi='left', title='Projected Volume on Surface',
                            colorbar=True)
plotting.show()


fs_glucest = transforms.mni152_to_fslr(nmda_nifti, '32k')
fs_nmda = transforms.mni152_to_fslr(nmda_nifti, '32k')
fs_gaba = transforms.mni152_to_fslr(gaba_nifti, '32k')
fs_mglur5 = transforms.mni152_to_fslr(mglur5_nifti, '32k')

gifti_lh, gifti_rh = fs_nmda
# Save each GiftiImage as a .gii file
nib.save(gifti_lh, 'left_hemisphere.gii')
nib.save(gifti_rh, 'right_hemisphere.gii')

print(fs_nmda)
surf_mesh = 'left_hemisphere.gii'
texture = load_surf_data('left_hemisphere.gii')
plot_surf(surf_mesh, texture)



#fsavg_lh, fsavg_rh = fsavg
print(fs_glucest)
#print(fsavg_lh.agg_data().shape)

rotated = nulls.alexander_bloch(fs_glucest, atlas='fslr', density='10k',
                                n_perm=10, seed=1234, parcellation=fs_glucest)



from neuromaps import parcellate
destrieux = parcellate.Parcellater(parcellation, 'fsaverage').fit()
neurosynth_parc = destrieux.transform(neurosynth, 'fsaverage')
abagen_parc = destrieux.transform(abagen, 'fsaverage')
# print(neurosynth_parc.shape, abagen_parc.shape)


rotated = nulls.alexander_bloch(neurosynth_parc, atlas='fsaverage', density='10k',
                                n_perm=100, seed=1234, parcellation=parcellation)
print(rotated.shape)


# Warp each subject's parcellated data? 
# We have:
#    Parcellated atlas file in subject space
#    Subject-MNI transform
#    Average parcel value   
#    Standardize warp from MNI to fsLR or fsavg space

# Goal: 
#    Use 

# 1. Repopulate parcels in subject slice with average parcel value

### Inputs: subject slice nifti, CSV with parcels/values,

# 2. Project that to surface 









