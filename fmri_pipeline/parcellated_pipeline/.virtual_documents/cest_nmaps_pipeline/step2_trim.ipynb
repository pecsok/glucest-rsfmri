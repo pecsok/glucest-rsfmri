import os
import numpy as np
import pandas as pd
import nilearn
from nilearn import image as nimage
from nilearn.masking import apply_mask
import neuromaps
from neuromaps.images import (load_nifti, load_data)
from neuromaps.resampling import resample_images
import nibabel as nib
import os
import ants
from ants import image_read, apply_transforms
from nilearn.datasets import fetch_atlas_harvard_oxford
import matplotlib.pyplot as plt


### Set paths and variables


#structural_path = '/Users/pecsok/Desktop'
#outpath = '/Users/pecsok/Desktop'
nmaps_path = '/Users/pecsok/Desktop/test/outputdfs'
nmaps = ["NMDA","mGluR5","GABA"] 

dataset = '3T'
atlas = 'Schaefer2018_1000Parcels_17Networks'



# Identify parcels that have enough data. Then create parcel df with parcel rows and multimodal columns.
columns = cest_parcelmat.columns[cest_parcelmat.notnull().sum() > len(cest_parcelmat)*.75]
parcels = [col.split('_')[1] for col in columns if '_' in col]
#print(parcels)
unique_list = list(set(parcels))
seen = set()
unique_list = [x for x in parcels if not 
               (x in seen or seen.add(x))]
print(unique_list)


# Filter df:
def column_to_keep(df, column_name, subj_info, parcels):
    
    if column_name in subj_info:
        return True
    for num in parcels:
        if num in column_name:
            return True
    return False

subj_info =  ["BBLID", "Session"] + diag_scores    
filtered_grp_cols = [col for col in grp_df.columns if column_to_keep(col, subj_info, parcels)]
filtered_cest_cols = [col for col in cest_parcelmat.columns if column_to_keep(col, subj_info, parcels)]

# Create new DataFrame with only the filtered columns
filtered_grp_df = grp_df[filtered_grp_cols]
filtered_cest_parcelmat = cest_parcelmat[filtered_cest_cols]

# Trim GluCEST values based on whether NZCount is high enough
# @Maggie, fix tomorrow. This is skipping some rows. Figure out why.
numbers = [str(i) for i in range(50,101)]
for index, row in filtered_cest_parcelmat.iterrows():
    for num in numbers:
        ctname = 'NZcount_' + num
        avgname= 'NZMean_' + num
        if ctname in filtered_cest_parcelmat.columns:
            if row[ctname] < 20:
                #print(ctname)
                #print(filtered_cest_parcelmat.at[index, ctname])
                filtered_cest_parcelmat.at[index, avgname] = np.nan
                filtered_cest_parcelmat.at[index, ctname] = np.nan
                break


print(filtered_cest_parcelmat)
filtered_grp_df.to_csv('filtered_grp_df' + fieldstrength + atlas + '.csv', index=True)
filtered_cest_parcelmat.to_csv('filtered_cest_parcelmat' + fieldstrength + atlas + '.csv', index=True)


for nmap in nmaps:
    path = os.path.join(nmaps_path, nmap + '_data_' + dataset + atlas + '.csv')
    nmap_df = pd.read_csv(path)
    print(nmap_df)

    meancols = nmap_df.filter(like="Mean")
    melted = meancols.melt()

    plt.figure(figsize=(10, 6))
    plt.hist(melted['value'], bins=30, color='skyblue', edgecolor='black')
    plt.title('Histogram of Mean Values for Brain Regions')
    plt.xlabel('Mean Values')
    plt.ylabel('Frequency')
    plt.show()

