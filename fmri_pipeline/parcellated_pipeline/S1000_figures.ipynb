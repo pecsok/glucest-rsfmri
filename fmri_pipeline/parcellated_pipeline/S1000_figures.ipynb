{
 "cells": [
  {
   "cell_type": "markdown",
   "id": "40651fe1-46a3-4073-8143-017387e3c98d",
   "metadata": {},
   "source": [
    "## Import Packages"
   ]
  },
  {
   "cell_type": "code",
   "execution_count": 2,
   "id": "3994bd6b-0b26-41af-ba6e-7e413146d3c6",
   "metadata": {},
   "outputs": [],
   "source": [
    "import os\n",
    "import glob\n",
    "import numpy as np\n",
    "import pandas as pd\n",
    "#import network_fcon as fc\n",
    "import scipy as sp\n",
    "from scipy.stats import pearsonr\n",
    "from scipy.stats import linregress\n",
    "import seaborn as sns\n",
    "import matplotlib.pyplot as plt\n",
    "import re"
   ]
  },
  {
   "cell_type": "markdown",
   "id": "32f9a41d-976b-4b97-b991-132a0fb37701",
   "metadata": {},
   "source": [
    "### Set Variables and Paths"
   ]
  },
  {
   "cell_type": "code",
   "execution_count": 3,
   "id": "ef9e7dff-8a66-4c0e-9474-07609aa8a575",
   "metadata": {},
   "outputs": [],
   "source": [
    "# Set paths\n",
    "path = \"/Users/pecsok/Desktop/ImageData/PMACS_remote\"\n",
    "path = \"/Users/pecsok/Desktop/ImageData/PMACS_remote/analyses/S1000\"\n",
    "\n",
    "# Import group dataframes and set indices\n",
    "subjlist = pd.read_csv(path + \"data/pipeline_input_all_subj.csv\", sep=',') \n",
    "#cestmat = pd.read_csv(\"cest_parcelmat\" + fieldstrength + \".csv\", sep=',') \n",
    "#fcmat = pd.read_csv(\"fc_parcelmat_\" + fieldstrength + \".csv\", sep=',')\n",
    "#rehomat = pd.read_csv(\"reho_parcelmat\" + fieldstrength + \".csv\", sep=',')\n",
    "grp_df = pd.read_csv(\"filtered_grp_df\" + fieldstrength + \".csv\", sep=',')\n",
    "\n",
    "# Reformat some dfs\n",
    "cestmat.set_index('BBLID', inplace = True)\n",
    "fcmat.set_index('BBLID', inplace = True)\n",
    "rehomat.set_index('BBLID', inplace = True)\n",
    "grp_df.set_index('BBLID', inplace = True)\n",
    "subjlist = subjlist.dropna(how='all')\n",
    "subjlist.rename(columns={'fMRI Field Strength': 'fieldstrength'},inplace=True)\n",
    "# Correct subject list for future! \n",
    "subjlist.loc[subjlist['BBLID'] == 88608.0, 'SCANID_rs'] = 'motive2'\n",
    "subjlist.loc[subjlist['BBLID'] == 20792.0, 'SCANID_rs'] = 'motive2'\n",
    "subjlist.loc[subjlist['BBLID'] == 88760.0, 'SCANID_rs'] = 'motive2'\n",
    "subjlist.loc[subjlist['BBLID'] == 112126.0, 'SCANID_rs'] = 'motive1'\n",
    "subjlist.loc[subjlist['BBLID'] == 91962.0, 'SCANID_rs'] = 'motive1'\n",
    "subjlist.loc[subjlist['BBLID'] == 89279.0, 'SCANID_rs'] = 'motive1'\n",
    "subjlist.loc[subjlist['BBLID'] == 91422.0, 'SCANID_rs'] = 'motive1'\n",
    "subjlist.loc[subjlist['BBLID'] == 121407.0, 'SCANID_rs'] = '9257' \n",
    "\n",
    "# Set Variables\n",
    "fieldstrength = '7T'\n",
    "bblids = []\n",
    "sesids = []\n",
    "diag_scores = [\"dx_pscat\", \"hstatus\",\"sex\", \"age\", \"race\",\"ethnic\"] # ,\"axis1_desc1\",\"axis1_stat1\"\n",
    "diag_details = [\"axis1_desc1\", \"axis1_desc2\", \"axis1_desc3\",\"axis1_desc4\",\"axis1_desc5\", \"axis1_desc6\"]\n",
    "subjlist = subjlist[subjlist['fieldstrength'] == fieldstrength]\n",
    "subjs = subjlist['BBLID']\n"
   ]
  },
  {
   "cell_type": "code",
   "execution_count": null,
   "id": "9e84643d-c88f-4ea9-a7fd-267728f58a65",
   "metadata": {
    "scrolled": true
   },
   "outputs": [],
   "source": [
    "# Create correlation matrix and heatmap"
   ]
  },
  {
   "cell_type": "code",
   "execution_count": null,
   "id": "bbabbeba-9940-4231-91c4-1ed1f6b2c77b",
   "metadata": {},
   "outputs": [],
   "source": []
  },
  {
   "cell_type": "code",
   "execution_count": null,
   "id": "04e3a89f-5835-4998-95e7-199c19e194c7",
   "metadata": {},
   "outputs": [],
   "source": []
  },
  {
   "cell_type": "code",
   "execution_count": null,
   "id": "66b27c16-16ab-4063-9451-e1d145724732",
   "metadata": {},
   "outputs": [],
   "source": []
  },
  {
   "cell_type": "code",
   "execution_count": 10,
   "id": "6cce5bdc-90e4-4d9d-97e5-2b1b4fcfff7d",
   "metadata": {},
   "outputs": [
    {
     "name": "stdout",
     "output_type": "stream",
     "text": [
      "Unnamed: 0         34.000000\n",
      "Session         10836.043478\n",
      "dx_pscat                 NaN\n",
      "hstatus                  NaN\n",
      "sex                      NaN\n",
      "                    ...     \n",
      "NZcount_998              NaN\n",
      "NZMean_999               NaN\n",
      "NZcount_999              NaN\n",
      "NZMean_1000              NaN\n",
      "NZcount_1000             NaN\n",
      "Length: 1008, dtype: float64\n"
     ]
    },
    {
     "ename": "AttributeError",
     "evalue": "'NoneType' object has no attribute 'reset_index'",
     "output_type": "error",
     "traceback": [
      "\u001b[0;31m---------------------------------------------------------------------------\u001b[0m",
      "\u001b[0;31mAttributeError\u001b[0m                            Traceback (most recent call last)",
      "Cell \u001b[0;32mIn[10], line 2\u001b[0m\n\u001b[1;32m      1\u001b[0m mean_df \u001b[38;5;241m=\u001b[39m cestmat\u001b[38;5;241m.\u001b[39mmean()\n\u001b[0;32m----> 2\u001b[0m \u001b[38;5;28;43mprint\u001b[39;49m\u001b[43m(\u001b[49m\u001b[43mmean_df\u001b[49m\u001b[43m)\u001b[49m\u001b[38;5;241;43m.\u001b[39;49m\u001b[43mreset_index\u001b[49m()\n",
      "\u001b[0;31mAttributeError\u001b[0m: 'NoneType' object has no attribute 'reset_index'"
     ]
    }
   ],
   "source": [
    "mean_df = cestmat.mean()\n",
    "print(mean_df).reset_index()"
   ]
  },
  {
   "cell_type": "code",
   "execution_count": null,
   "id": "295677a1-59d8-4720-a430-0ed7355d62c5",
   "metadata": {},
   "outputs": [],
   "source": [
    "# Create df with parcel-wise averages for fc, reho, GluCEST, and nmaps\n",
    "for subj in subjs: # Loop through subjs\n",
    "    bblid = str(int(subj))\n",
    "    ses=subjlist.loc[subjlist['BBLID'] == float(bblid), 'SCANID_rs'].values[0]\n",
    "    for parcel in parcels: # Loop through parcels\n",
    "        col_name = f'NZMean_{i}'\n",
    "        ct_name = f'NZcount_{i}'\n",
    "        "
   ]
  },
  {
   "cell_type": "code",
   "execution_count": null,
   "id": "deed7d30-b688-47eb-9bb5-a27e3ce2fde1",
   "metadata": {},
   "outputs": [],
   "source": [
    "# First, let's make a heatmap \n",
    "\n"
   ]
  }
 ],
 "metadata": {
  "kernelspec": {
   "display_name": "nmap2",
   "language": "python",
   "name": "nmaps2"
  },
  "language_info": {
   "codemirror_mode": {
    "name": "ipython",
    "version": 3
   },
   "file_extension": ".py",
   "mimetype": "text/x-python",
   "name": "python",
   "nbconvert_exporter": "python",
   "pygments_lexer": "ipython3",
   "version": "3.11.7"
  }
 },
 "nbformat": 4,
 "nbformat_minor": 5
}
