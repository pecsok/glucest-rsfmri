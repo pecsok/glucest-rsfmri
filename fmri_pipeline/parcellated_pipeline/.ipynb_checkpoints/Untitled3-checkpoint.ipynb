{
 "cells": [
  {
   "cell_type": "markdown",
   "id": "40651fe1-46a3-4073-8143-017387e3c98d",
   "metadata": {},
   "source": [
    "## Import Packages"
   ]
  },
  {
   "cell_type": "code",
   "execution_count": 2,
   "id": "3994bd6b-0b26-41af-ba6e-7e413146d3c6",
   "metadata": {},
   "outputs": [],
   "source": [
    "import os\n",
    "import glob\n",
    "import numpy as np\n",
    "import pandas as pd\n",
    "#import network_fcon as fc\n",
    "import scipy as sp\n",
    "from scipy.stats import pearsonr\n",
    "from scipy.stats import linregress\n",
    "import seaborn as sns\n",
    "import matplotlib.pyplot as plt\n",
    "import re"
   ]
  },
  {
   "cell_type": "markdown",
   "id": "32f9a41d-976b-4b97-b991-132a0fb37701",
   "metadata": {},
   "source": [
    "### Set Variables and Paths"
   ]
  },
  {
   "cell_type": "code",
   "execution_count": 6,
   "id": "ef9e7dff-8a66-4c0e-9474-07609aa8a575",
   "metadata": {},
   "outputs": [
    {
     "name": "stdout",
     "output_type": "stream",
     "text": [
      "      BBLID                  PROTOCOL_CEST DOSCAN_CEST  SCANID_CEST  lagtime  \\\n",
      "0     20303           843329 - LongGluCEST      6/2/22        12234      -85   \n",
      "1     90217           843329 - LongGluCEST     5/19/22        12230       90   \n",
      "2     88608           843329 - LongGluCEST     3/22/22        12108       55   \n",
      "3     21874           843329 - LongGluCEST      3/8/22        12094       42   \n",
      "4     94288           843329 - LongGluCEST      3/4/22        12092      126   \n",
      "..      ...                            ...         ...          ...      ...   \n",
      "119   90877  825940 - GluCEST in Psychosis     8/17/18        10907        0   \n",
      "120   92155  825940 - GluCEST in Psychosis     11/9/18        11022        0   \n",
      "121   93274  825940 - GluCEST in Psychosis     4/19/18        10765        0   \n",
      "122  112126  825940 - GluCEST in Psychosis      2/6/19        11157        0   \n",
      "123  139272  825940 - GluCEST in Psychosis     3/29/18        10739        0   \n",
      "\n",
      "    DOSCAN_rs SCANID_rs                    PROTOCOL_rs fieldstrength  \n",
      "0     8/26/22     12276                 829744 - EFR01            3T  \n",
      "1     2/18/22     12064               Evolution_833922            3T  \n",
      "2     1/26/22   motive2                         MOTIVE            3T  \n",
      "3     1/25/22     12043                    SSBC_844685            3T  \n",
      "4    10/29/21     11948               Evolution_833922            3T  \n",
      "..        ...       ...                            ...           ...  \n",
      "119   8/17/18     10907  825940 - GluCEST in Psychosis           7T   \n",
      "120   11/9/18     11022  825940 - GluCEST in Psychosis           7T   \n",
      "121   4/19/18     10765  825940 - GluCEST in Psychosis           7T   \n",
      "122    2/6/19   motive1  825940 - GluCEST in Psychosis           7T   \n",
      "123   3/29/18     10739  825940 - GluCEST in Psychosis           7T   \n",
      "\n",
      "[124 rows x 9 columns]\n"
     ]
    }
   ],
   "source": [
    "# Fieldstrength\n",
    "fieldstrength = '7T'\n",
    "\n",
    "# Set paths\n",
    "path = \"/Users/pecsok/Desktop/ImageData/PMACS_remote/data/fmri/postprocessed/\" + fieldstrength + \"/xcp_d\"\n",
    "outpath = \"~/Desktop/ImageData/PMACS_remote/analysis/postprocessing/\"\n",
    "clinpath = \"~/Desktop/ImageData/PMACS_remote/data/clinical\"\n",
    "cestpath = \"/Users/pecsok/Desktop/ImageData/PMACS_remote/data/cest/output_measures/UNI/\"\n",
    "\n",
    "# Choose what to analyse\n",
    "diag_scores = [\"dx_pscat\", \"hstatus\",\"sex\", \"age\", \"race\",\"ethnic\"] # ,\"axis1_desc1\",\"axis1_stat1\"\n",
    "diag_details = [\"axis1_desc1\", \"axis1_desc2\", \"axis1_desc3\",\"axis1_desc4\",\"axis1_desc5\", \"axis1_desc6\"]\n",
    "\n",
    "# Initialize empty lists and vars\n",
    "bblids = []\n",
    "sesids = []\n",
    "\n",
    "# Import group dataframes and set indices\n",
    "subjlist = pd.read_csv(\"~/Desktop/ImageData/PMACS_remote/data/pipeline_input_all_subj.csv\", sep=',') \n",
    "cestmat = pd.read_csv(\"cest_parcelmat\" + fieldstrength + \".csv\", sep=',') \n",
    "fcmat = pd.read_csv(\"fc_parcelmat_\" + fieldstrength + \".csv\", sep=',')\n",
    "rehomat = pd.read_csv(\"reho_parcelmat\" + fieldstrength + \".csv\", sep=',')\n",
    "\n",
    "# Reformat some dfs\n",
    "cestmat.set_index('BBLID', inplace = True)\n",
    "fcmat.set_index('BBLID', inplace = True)\n",
    "rehomat.set_index('BBLID', inplace = True)\n",
    "subjlist = subjlist.dropna(how='all')\n",
    "subjlist.rename(columns={'fMRI Field Strength': 'fieldstrength'},inplace=True)\n",
    "\n",
    "# Correct subject list for future! \n",
    "subjlist.loc[subjlist['BBLID'] == 88608.0, 'SCANID_rs'] = 'motive2'\n",
    "subjlist.loc[subjlist['BBLID'] == 20792.0, 'SCANID_rs'] = 'motive2'\n",
    "subjlist.loc[subjlist['BBLID'] == 88760.0, 'SCANID_rs'] = 'motive2'\n",
    "subjlist.loc[subjlist['BBLID'] == 112126.0, 'SCANID_rs'] = 'motive1'\n",
    "subjlist.loc[subjlist['BBLID'] == 91962.0, 'SCANID_rs'] = 'motive1'\n",
    "subjlist.loc[subjlist['BBLID'] == 89279.0, 'SCANID_rs'] = 'motive1'\n",
    "subjlist.loc[subjlist['BBLID'] == 91422.0, 'SCANID_rs'] = 'motive1'\n",
    "subjlist.loc[subjlist['BBLID'] == 121407.0, 'SCANID_rs'] = '9257'\n",
    "print(subjlist)  "
   ]
  },
  {
   "cell_type": "code",
   "execution_count": null,
   "id": "0430187e-202b-49b0-85a5-a4ce88a7c75b",
   "metadata": {},
   "outputs": [],
   "source": [
    "# Identify parcels that have enough data"
   ]
  },
  {
   "cell_type": "code",
   "execution_count": 12,
   "id": "9e84643d-c88f-4ea9-a7fd-267728f58a65",
   "metadata": {
    "scrolled": true
   },
   "outputs": [
    {
     "name": "stdout",
     "output_type": "stream",
     "text": [
      "Index(['Unnamed: 0', 'Session', 'NZMean_501', 'NZcount_501', 'NZMean_502',\n",
      "       'NZcount_502', 'NZMean_504', 'NZcount_504', 'NZMean_518', 'NZcount_518',\n",
      "       ...\n",
      "       'NZMean_961', 'NZcount_961', 'NZMean_962', 'NZcount_962', 'NZMean_972',\n",
      "       'NZcount_972', 'NZMean_973', 'NZcount_973', 'NZMean_974',\n",
      "       'NZcount_974'],\n",
      "      dtype='object', length=220)\n",
      "['NZMean', 'NZcount', 'NZMean', 'NZcount', 'NZMean', 'NZcount', 'NZMean', 'NZcount', 'NZMean', 'NZcount', 'NZMean', 'NZcount', 'NZMean', 'NZcount', 'NZMean', 'NZcount', 'NZMean', 'NZcount', 'NZMean', 'NZcount', 'NZMean', 'NZcount', 'NZMean', 'NZcount', 'NZMean', 'NZcount', 'NZMean', 'NZcount', 'NZMean', 'NZcount', 'NZMean', 'NZcount', 'NZMean', 'NZcount', 'NZMean', 'NZcount', 'NZMean', 'NZcount', 'NZMean', 'NZcount', 'NZMean', 'NZcount', 'NZMean', 'NZcount', 'NZMean', 'NZcount', 'NZMean', 'NZcount', 'NZMean', 'NZcount', 'NZMean', 'NZcount', 'NZMean', 'NZcount', 'NZMean', 'NZcount', 'NZMean', 'NZcount', 'NZMean', 'NZcount', 'NZMean', 'NZcount', 'NZMean', 'NZcount', 'NZMean', 'NZcount', 'NZMean', 'NZcount', 'NZMean', 'NZcount', 'NZMean', 'NZcount', 'NZMean', 'NZcount', 'NZMean', 'NZcount', 'NZMean', 'NZcount', 'NZMean', 'NZcount', 'NZMean', 'NZcount', 'NZMean', 'NZcount', 'NZMean', 'NZcount', 'NZMean', 'NZcount', 'NZMean', 'NZcount', 'NZMean', 'NZcount', 'NZMean', 'NZcount', 'NZMean', 'NZcount', 'NZMean', 'NZcount', 'NZMean', 'NZcount', 'NZMean', 'NZcount', 'NZMean', 'NZcount', 'NZMean', 'NZcount', 'NZMean', 'NZcount', 'NZMean', 'NZcount', 'NZMean', 'NZcount', 'NZMean', 'NZcount', 'NZMean', 'NZcount', 'NZMean', 'NZcount', 'NZMean', 'NZcount', 'NZMean', 'NZcount', 'NZMean', 'NZcount', 'NZMean', 'NZcount', 'NZMean', 'NZcount', 'NZMean', 'NZcount', 'NZMean', 'NZcount', 'NZMean', 'NZcount', 'NZMean', 'NZcount', 'NZMean', 'NZcount', 'NZMean', 'NZcount', 'NZMean', 'NZcount', 'NZMean', 'NZcount', 'NZMean', 'NZcount', 'NZMean', 'NZcount', 'NZMean', 'NZcount', 'NZMean', 'NZcount', 'NZMean', 'NZcount', 'NZMean', 'NZcount', 'NZMean', 'NZcount', 'NZMean', 'NZcount', 'NZMean', 'NZcount', 'NZMean', 'NZcount', 'NZMean', 'NZcount', 'NZMean', 'NZcount', 'NZMean', 'NZcount', 'NZMean', 'NZcount', 'NZMean', 'NZcount', 'NZMean', 'NZcount', 'NZMean', 'NZcount', 'NZMean', 'NZcount', 'NZMean', 'NZcount', 'NZMean', 'NZcount', 'NZMean', 'NZcount', 'NZMean', 'NZcount', 'NZMean', 'NZcount', 'NZMean', 'NZcount', 'NZMean', 'NZcount', 'NZMean', 'NZcount', 'NZMean', 'NZcount', 'NZMean', 'NZcount', 'NZMean', 'NZcount', 'NZMean', 'NZcount', 'NZMean', 'NZcount', 'NZMean', 'NZcount', 'NZMean', 'NZcount', 'NZMean', 'NZcount', 'NZMean', 'NZcount', 'NZMean', 'NZcount', 'NZMean', 'NZcount']\n"
     ]
    }
   ],
   "source": [
    "columns = cestmat.columns[cestmat.notnull().sum() > len(cestmat)/2]\n",
    "parcels = [col.split('_')[0] for col in columns if '_' in col]\n",
    "print(columns)\n",
    "print(parcels)"
   ]
  }
 ],
 "metadata": {
  "kernelspec": {
   "display_name": "nmap2",
   "language": "python",
   "name": "nmaps2"
  },
  "language_info": {
   "codemirror_mode": {
    "name": "ipython",
    "version": 3
   },
   "file_extension": ".py",
   "mimetype": "text/x-python",
   "name": "python",
   "nbconvert_exporter": "python",
   "pygments_lexer": "ipython3",
   "version": "3.11.7"
  }
 },
 "nbformat": 4,
 "nbformat_minor": 5
}
