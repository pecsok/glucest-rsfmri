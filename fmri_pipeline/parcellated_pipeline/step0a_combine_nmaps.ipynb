{
 "cells": [
  {
   "cell_type": "markdown",
   "id": "985933a1-d33f-4942-9cc7-54b30996f2d0",
   "metadata": {},
   "source": [
    "# Combine nmaps"
   ]
  },
  {
   "cell_type": "markdown",
   "id": "414752d0-44a8-4e0e-a1d3-632aeaad60ec",
   "metadata": {},
   "source": [
    "#### In this notebook, the goal is to import the neuromaps data for glu-related maps and generate some binarized masks.\n",
    "\n",
    "1. Import packages and maps\n",
    "2. Combine receptor maps of interest"
   ]
  },
  {
   "cell_type": "markdown",
   "id": "b6b42118-1444-457d-a575-8d14d9f2c933",
   "metadata": {},
   "source": [
    "## Load Packages"
   ]
  },
  {
   "cell_type": "code",
   "execution_count": 1,
   "id": "4ca0865a-4a3c-4ef4-92b5-82967ede6d08",
   "metadata": {
    "scrolled": true
   },
   "outputs": [
    {
     "name": "stderr",
     "output_type": "stream",
     "text": [
      "pixdim[1,2,3] should be non-zero; setting 0 dims to 1\n"
     ]
    },
    {
     "ename": "ModuleNotFoundError",
     "evalue": "No module named 'abagen'",
     "output_type": "error",
     "traceback": [
      "\u001b[0;31m---------------------------------------------------------------------------\u001b[0m",
      "\u001b[0;31mModuleNotFoundError\u001b[0m                       Traceback (most recent call last)",
      "Cell \u001b[0;32mIn[1], line 22\u001b[0m\n\u001b[1;32m     20\u001b[0m \u001b[38;5;28;01mimport\u001b[39;00m \u001b[38;5;21;01mwarnings\u001b[39;00m\n\u001b[1;32m     21\u001b[0m \u001b[38;5;28;01mimport\u001b[39;00m \u001b[38;5;21;01mnibabel\u001b[39;00m \u001b[38;5;28;01mas\u001b[39;00m \u001b[38;5;21;01mnib\u001b[39;00m\n\u001b[0;32m---> 22\u001b[0m \u001b[38;5;28;01mimport\u001b[39;00m \u001b[38;5;21;01mabagen\u001b[39;00m \u001b[38;5;66;03m## This is important for certification purposes \u001b[39;00m\n\u001b[1;32m     24\u001b[0m warnings\u001b[38;5;241m.\u001b[39mfilterwarnings(\u001b[38;5;124m'\u001b[39m\u001b[38;5;124mignore\u001b[39m\u001b[38;5;124m'\u001b[39m)\n",
      "\u001b[0;31mModuleNotFoundError\u001b[0m: No module named 'abagen'"
     ]
    }
   ],
   "source": [
    "import pandas as pd\n",
    "import nilearn\n",
    "from nilearn.datasets import fetch_atlas_schaefer_2018\n",
    "from nilearn.image import binarize_img\n",
    "from neuromaps.parcellate import Parcellater\n",
    "import warnings\n",
    "from neuromaps.datasets import fetch_fslr, fetch_annotation, available_annotations\n",
    "from neuromaps import datasets, images, nulls, resampling, stats, transforms, parcellate\n",
    "from neuromaps.parcellate import Parcellater \n",
    "from neuromaps.resampling import resample_images\n",
    "from neuromaps.images import dlabel_to_gifti\n",
    "import neuromaps\n",
    "import nibabel as nib\n",
    "import os\n",
    "import numpy as np\n",
    "import mayavi\n",
    "from PIL import Image\n",
    "import hcp_utils as hcp\n",
    "import nilearn.plotting as plotting\n",
    "import warnings\n",
    "import nibabel as nib\n",
    "import abagen ## This is important for certification purposes \n",
    "\n",
    "warnings.filterwarnings('ignore')\n"
   ]
  },
  {
   "cell_type": "markdown",
   "id": "36a93e15-d55a-4cb4-ab20-708e42cc26e3",
   "metadata": {},
   "source": [
    "## Import Data and Set Variables"
   ]
  },
  {
   "cell_type": "code",
   "execution_count": 3,
   "id": "8180b80c-1683-45e6-a0ce-21e8b77d99fd",
   "metadata": {},
   "outputs": [
    {
     "ename": "NameError",
     "evalue": "name 'mni152' is not defined",
     "output_type": "error",
     "traceback": [
      "\u001b[0;31m---------------------------------------------------------------------------\u001b[0m",
      "\u001b[0;31mNameError\u001b[0m                                 Traceback (most recent call last)",
      "Cell \u001b[0;32mIn[3], line 9\u001b[0m\n\u001b[1;32m      2\u001b[0m ANNOTATIONS \u001b[38;5;241m=\u001b[39m [\n\u001b[1;32m      3\u001b[0m     (\u001b[38;5;124m'\u001b[39m\u001b[38;5;124mdukart2018\u001b[39m\u001b[38;5;124m'\u001b[39m, \u001b[38;5;124m'\u001b[39m\u001b[38;5;124mflumazenil\u001b[39m\u001b[38;5;124m'\u001b[39m, \u001b[38;5;124m'\u001b[39m\u001b[38;5;124mMNI152\u001b[39m\u001b[38;5;124m'\u001b[39m, \u001b[38;5;124m'\u001b[39m\u001b[38;5;124m3mm\u001b[39m\u001b[38;5;124m'\u001b[39m),   \u001b[38;5;66;03m# GABA\u001b[39;00m\n\u001b[1;32m      4\u001b[0m     (\u001b[38;5;124m'\u001b[39m\u001b[38;5;124mrosaneto\u001b[39m\u001b[38;5;124m'\u001b[39m, \u001b[38;5;124m'\u001b[39m\u001b[38;5;124mabp688\u001b[39m\u001b[38;5;124m'\u001b[39m, \u001b[38;5;124m'\u001b[39m\u001b[38;5;124mMNI152\u001b[39m\u001b[38;5;124m'\u001b[39m, \u001b[38;5;124m'\u001b[39m\u001b[38;5;124m1mm\u001b[39m\u001b[38;5;124m'\u001b[39m),         \u001b[38;5;66;03m# mGluR1\u001b[39;00m\n\u001b[1;32m      5\u001b[0m     (\u001b[38;5;124m'\u001b[39m\u001b[38;5;124mdubois2015\u001b[39m\u001b[38;5;124m'\u001b[39m, \u001b[38;5;124m'\u001b[39m\u001b[38;5;124mabp688\u001b[39m\u001b[38;5;124m'\u001b[39m, \u001b[38;5;124m'\u001b[39m\u001b[38;5;124mMNI152\u001b[39m\u001b[38;5;124m'\u001b[39m, \u001b[38;5;124m'\u001b[39m\u001b[38;5;124m1mm\u001b[39m\u001b[38;5;124m'\u001b[39m),       \u001b[38;5;66;03m# mGluR2\u001b[39;00m\n\u001b[1;32m      6\u001b[0m     (\u001b[38;5;124m'\u001b[39m\u001b[38;5;124msmart2019\u001b[39m\u001b[38;5;124m'\u001b[39m, \u001b[38;5;124m'\u001b[39m\u001b[38;5;124mabp688\u001b[39m\u001b[38;5;124m'\u001b[39m, \u001b[38;5;124m'\u001b[39m\u001b[38;5;124mMNI152\u001b[39m\u001b[38;5;124m'\u001b[39m, \u001b[38;5;124m'\u001b[39m\u001b[38;5;124m1mm\u001b[39m\u001b[38;5;124m'\u001b[39m)         \u001b[38;5;66;03m# mGluR3\u001b[39;00m\n\u001b[1;32m      7\u001b[0m ]\n\u001b[1;32m      8\u001b[0m \u001b[38;5;66;03m# Import MNI brain mask\u001b[39;00m\n\u001b[0;32m----> 9\u001b[0m brainmask \u001b[38;5;241m=\u001b[39m nib\u001b[38;5;241m.\u001b[39mload(\u001b[43mmni152\u001b[49m[\u001b[38;5;124m'\u001b[39m\u001b[38;5;124mbrainmask\u001b[39m\u001b[38;5;124m'\u001b[39m])\n\u001b[1;32m     11\u001b[0m \u001b[38;5;66;03m# Generate an empty list to add transformed maps\u001b[39;00m\n\u001b[1;32m     12\u001b[0m nmaps_transformed \u001b[38;5;241m=\u001b[39m []\n",
      "\u001b[0;31mNameError\u001b[0m: name 'mni152' is not defined"
     ]
    }
   ],
   "source": [
    "# List annotations of interest. \n",
    "ANNOTATIONS = [\n",
    "    ('dukart2018', 'flumazenil', 'MNI152', '3mm'),   # GABA\n",
    "    ('rosaneto', 'abp688', 'MNI152', '1mm'),         # mGluR1\n",
    "    ('dubois2015', 'abp688', 'MNI152', '1mm'),       # mGluR2\n",
    "    ('smart2019', 'abp688', 'MNI152', '1mm')         # mGluR3\n",
    "]\n",
    "# Import MNI brain mask\n",
    "brainmask = nib.load(mni152['brainmask'])\n",
    "\n",
    "# Generate an empty list to add transformed maps\n",
    "nmaps_transformed = []\n",
    "nmaps_transformed_array = []\n",
    "\n",
    "# Set paths\n",
    "outpath = \"/Users/pecsok/projects/Neuromaps/pecsok_pfns/neuromaps/data/maps/\"\n",
    "nmda_path = \"/Users/pecsok/projects/Neuromaps/pecsok_pfns/neuromaps/data/maps/PET_nifti_images/\"\n",
    "\n",
    "# Notes:\n",
    "#  1. NMDA is not in available annotations list but was copied from Hansen git repo\n",
    "#       Already in MNI 152 at 1mm resolution. transfer to outt\n",
    "#  2. We are excluding GABA map ('norgaard2021', 'flumazenil', 'MNI152', '1mm') \n",
    "#      Only has cortical data. Consider re-adding for later analyses or future studies. \n"
   ]
  },
  {
   "cell_type": "code",
   "execution_count": 33,
   "id": "e75a9465-f2f1-4b5f-b462-c309b0a09501",
   "metadata": {},
   "outputs": [],
   "source": [
    "# Set path for downloading neuromaps data\n",
    "data_dir = '/Users/pecsok/projects/Neuromaps'\n"
   ]
  },
  {
   "cell_type": "markdown",
   "id": "dac44ab6-71ce-4a84-be8e-2909906e3a89",
   "metadata": {},
   "source": [
    "### Load in neuromaps of interest"
   ]
  },
  {
   "cell_type": "code",
   "execution_count": 24,
   "id": "354a3dcd-b47d-4f07-a759-5839cd46eb5a",
   "metadata": {},
   "outputs": [],
   "source": [
    "for (src, desc, space, den) in ANNOTATIONS:\n",
    "    img = datasets.fetch_annotation(source=src, desc=desc,\n",
    "                                    space=space, den=den)\n",
    "    data_transformed = transforms.mni152_to_mni152(img, target='1mm',\n",
    "                                                   method='linear')\n",
    "    data_transformed_array = data_transformed.get_fdata()\n",
    "    # i'm adding a 4th dimension to the dukart map as the transformed data has\n",
    "    # shape of (193, 229, 193) whereas the norgaard map is (193, 229, 193, 1) **Uncomment lines below if noorgard is added back in.\n",
    "    # if len(data_transformed.shape) != 4:\n",
    "    #    data_transformed = data_transformed[..., np.newaxis]\n",
    "    nmaps_transformed.append(data_transformed)\n",
    "    nmaps_transformed_array.append(data_transformed_array)"
   ]
  },
  {
   "cell_type": "markdown",
   "id": "f81b75a0-204d-4b8c-9637-043578a72e9e",
   "metadata": {},
   "source": [
    "### Combine and save niftis"
   ]
  },
  {
   "cell_type": "code",
   "execution_count": 31,
   "id": "6e29c5e9-8b51-47bf-b3d7-60f4c61b5a2e",
   "metadata": {},
   "outputs": [
    {
     "name": "stdout",
     "output_type": "stream",
     "text": [
      "(193, 229, 193)\n"
     ]
    }
   ],
   "source": [
    "# Save GABA nifti\n",
    "GABA_data = nmaps_transformed[0]\n",
    "GABA_array = nmaps_transformed_array[0]\n",
    "nib.save(nib.Nifti1Image(GABA_array,GABA_data.affine),outpath +'GABA.nii.gz')\n",
    "\n",
    "# Sanity check:\n",
    "print(GABA_array.shape)"
   ]
  },
  {
   "cell_type": "code",
   "execution_count": 37,
   "id": "f00c2f32-b452-46a7-b8f6-23b8574fd02c",
   "metadata": {},
   "outputs": [
    {
     "name": "stdout",
     "output_type": "stream",
     "text": [
      "(193, 229, 193)\n",
      "(193, 229, 193)\n",
      "(193, 229, 193)\n"
     ]
    }
   ],
   "source": [
    "# Combine and save mGluR niftis\n",
    "mGluR1_data = nmaps_transformed[1]\n",
    "mGluR1_array = nmaps_transformed_array[1]\n",
    "mGluR2_data = nmaps_transformed[2]\n",
    "mGluR2_array = nmaps_transformed_array[2]\n",
    "mGluR3_data = nmaps_transformed[3]\n",
    "mGluR3_array = nmaps_transformed_array[3]\n",
    "\n",
    "avg_img = ((22*mGluR1_array)+(28*mGluR2_array)+(73*mGluR3_array))/(22+28+73)\n",
    "nib.save(nib.Nifti1Image(avg_img,mGluR2_data.affine),outpath +'mGluR.nii.gz')\n",
    "\n",
    "# Sanity check:\n",
    "print(mGluR1_array.shape)\n",
    "print(mGluR2_array.shape)\n",
    "print(mGluR3_array.shape)\n",
    "\n",
    "nilearn.masking.apply_mask(imgs, mask_img, dtype='f', smoothing_fwhm=None, ensure_finite=True)[source]\n",
    "mGluR1_data = nmaps_transformed[1]\n"
   ]
  },
  {
   "cell_type": "code",
   "execution_count": 36,
   "id": "5fcfe410-0985-41c8-a9f5-ab4c322b3ac4",
   "metadata": {},
   "outputs": [],
   "source": [
    "# NMDA nifti is already in MNI 152 at 1mm. Transfer to outpath\n",
    "nmda = nib.load(nmda_path+'NMDA_ge179_hc29_galovic.nii.gz')\n",
    "nib.save(nmda,outpath+'NMDA.nii.gz')"
   ]
  }
 ],
 "metadata": {
  "kernelspec": {
   "display_name": "nmap2",
   "language": "python",
   "name": "nmaps2"
  },
  "language_info": {
   "codemirror_mode": {
    "name": "ipython",
    "version": 3
   },
   "file_extension": ".py",
   "mimetype": "text/x-python",
   "name": "python",
   "nbconvert_exporter": "python",
   "pygments_lexer": "ipython3",
   "version": "3.11.7"
  }
 },
 "nbformat": 4,
 "nbformat_minor": 5
}
