{
 "cells": [
  {
   "cell_type": "markdown",
   "id": "eaf5bad8-d06d-4c67-ac91-b5eca861924a",
   "metadata": {},
   "source": [
    "### Spin Test \n",
    "This script projects data to surface space and performs a spin test"
   ]
  },
  {
   "cell_type": "markdown",
   "id": "20d1a234-a816-4e64-b739-be26eb24ef96",
   "metadata": {},
   "source": [
    "#### Import Packages"
   ]
  },
  {
   "cell_type": "code",
   "execution_count": 63,
   "id": "b552c33e-f388-4568-928e-a64de3e6c674",
   "metadata": {},
   "outputs": [],
   "source": [
    "import numpy as np\n",
    "import pandas as pd\n",
    "import netneurotools.stats as stats\n",
    "from neuromaps.datasets import fetch_atlas\n",
    "from nilearn.datasets import fetch_atlas_schaefer_2018\n",
    "from netneurotools.datasets import fetch_schaefer2018\n",
    "import neuromaps\n",
    "import nibabel as nib\n",
    "from neuromaps.parcellate import Parcellater\n",
    "from neuromaps import transforms\n",
    "from neuromaps import nulls\n",
    "from nilearn.plotting import plot_surf\n",
    "from nilearn.surface import load_surf_data\n",
    "from nilearn import surface, plotting, datasets\n",
    "from neuromaps import datasets, images, nulls, resampling, stats"
   ]
  },
  {
   "cell_type": "markdown",
   "id": "e3a62312-7baf-4cd5-9a7d-1c72bcd764a1",
   "metadata": {},
   "source": [
    "#### Set Paths and Variables"
   ]
  },
  {
   "cell_type": "code",
   "execution_count": 75,
   "id": "48d8768c-6a7d-426e-b3a1-bdd06f4acc5a",
   "metadata": {},
   "outputs": [],
   "source": [
    "dataset = 'longglucest_outputmeasures2'\n",
    "atlas = 'Schaefer2018_1000Parcels_17Networks'\n",
    "nmaps = [\"NMDA\", \"mGluR5\", \"GABA\"]\n",
    "maps = [\"cest\", \"NMDA\", \"mGluR5\", \"GABA\"]\n",
    "n_permute = 10\n",
    "\n",
    "# Fetch Schaefer 2018 atlas coordinates (for example)\n",
    "schaefer = fetch_atlas_schaefer_2018(n_rois=400, yeo_networks=17)\n",
    "labels = schaefer['labels']  # These are the MNI coordinates of the parcels\n",
    "labels = [label.decode('utf-8') for label in labels]\n",
    "schaefernifti = schaefer['maps']\n",
    "abagen = datasets.fetch_annotation(source='abagen', desc='genepc1',\n",
    "                                       space='fsaverage', den='10k')\n"
   ]
  },
  {
   "cell_type": "code",
   "execution_count": 64,
   "id": "44ecf780-95d8-4ed8-b8ea-3461e3204ba3",
   "metadata": {},
   "outputs": [
    {
     "ename": "OSError",
     "evalue": "[Errno 6] Device not configured: '/Users/pecsok/Desktop/ImageData/PMACS_remote/data/nmaps/analyses/Schaefer2018_1000Parcels_17Networks/means_subjectnmaps_longglucest_outputmeasures2_Schaefer2018_1000Parcels_17Networks.csv'",
     "output_type": "error",
     "traceback": [
      "\u001b[0;31m---------------------------------------------------------------------------\u001b[0m",
      "\u001b[0;31mOSError\u001b[0m                                   Traceback (most recent call last)",
      "Cell \u001b[0;32mIn[64], line 13\u001b[0m\n\u001b[1;32m     11\u001b[0m \u001b[38;5;66;03m# Read in data\u001b[39;00m\n\u001b[1;32m     12\u001b[0m receptor_df \u001b[38;5;241m=\u001b[39m pd\u001b[38;5;241m.\u001b[39mread_csv(\u001b[38;5;124m\"\u001b[39m\u001b[38;5;124m/Users/pecsok/projects/Neuromaps/pecsok_pfns/neuromaps/results/receptor_data_scale1000_17.csv\u001b[39m\u001b[38;5;124m\"\u001b[39m, sep\u001b[38;5;241m=\u001b[39m\u001b[38;5;124m'\u001b[39m\u001b[38;5;124m,\u001b[39m\u001b[38;5;124m'\u001b[39m)\n\u001b[0;32m---> 13\u001b[0m means\u001b[38;5;241m=\u001b[39m \u001b[43mpd\u001b[49m\u001b[38;5;241;43m.\u001b[39;49m\u001b[43mread_csv\u001b[49m\u001b[43m(\u001b[49m\u001b[43minpath\u001b[49m\u001b[43m \u001b[49m\u001b[38;5;241;43m+\u001b[39;49m\u001b[43m \u001b[49m\u001b[38;5;124;43m'\u001b[39;49m\u001b[38;5;124;43m/means_subjectnmaps_\u001b[39;49m\u001b[38;5;124;43m'\u001b[39;49m\u001b[43m \u001b[49m\u001b[38;5;241;43m+\u001b[39;49m\u001b[43m \u001b[49m\u001b[43mdataset\u001b[49m\u001b[43m \u001b[49m\u001b[38;5;241;43m+\u001b[39;49m\u001b[43m \u001b[49m\u001b[38;5;124;43m'\u001b[39;49m\u001b[38;5;124;43m_\u001b[39;49m\u001b[38;5;124;43m'\u001b[39;49m\u001b[43m \u001b[49m\u001b[38;5;241;43m+\u001b[39;49m\u001b[43m \u001b[49m\u001b[43matlas\u001b[49m\u001b[43m \u001b[49m\u001b[38;5;241;43m+\u001b[39;49m\u001b[43m \u001b[49m\u001b[38;5;124;43m'\u001b[39;49m\u001b[38;5;124;43m.csv\u001b[39;49m\u001b[38;5;124;43m'\u001b[39;49m\u001b[43m,\u001b[49m\u001b[43m \u001b[49m\u001b[43msep\u001b[49m\u001b[38;5;241;43m=\u001b[39;49m\u001b[38;5;124;43m'\u001b[39;49m\u001b[38;5;124;43m,\u001b[39;49m\u001b[38;5;124;43m'\u001b[39;49m\u001b[43m)\u001b[49m\n\u001b[1;32m     14\u001b[0m means[\u001b[38;5;124m\"\u001b[39m\u001b[38;5;124mParcel\u001b[39m\u001b[38;5;124m\"\u001b[39m] \u001b[38;5;241m=\u001b[39m means[\u001b[38;5;124m\"\u001b[39m\u001b[38;5;124mParcel\u001b[39m\u001b[38;5;124m\"\u001b[39m]\u001b[38;5;241m.\u001b[39mstr\u001b[38;5;241m.\u001b[39mreplace(\u001b[38;5;124m'\u001b[39m\u001b[38;5;124m NZMean\u001b[39m\u001b[38;5;124m'\u001b[39m, \u001b[38;5;124m'\u001b[39m\u001b[38;5;124m'\u001b[39m, regex\u001b[38;5;241m=\u001b[39m\u001b[38;5;28;01mFalse\u001b[39;00m)\n\u001b[1;32m     15\u001b[0m means\u001b[38;5;241m.\u001b[39mset_index(\u001b[38;5;124m'\u001b[39m\u001b[38;5;124mParcel\u001b[39m\u001b[38;5;124m'\u001b[39m, inplace \u001b[38;5;241m=\u001b[39m \u001b[38;5;28;01mTrue\u001b[39;00m)\n",
      "File \u001b[0;32m~/.local/lib/python3.11/site-packages/pandas/io/parsers/readers.py:1026\u001b[0m, in \u001b[0;36mread_csv\u001b[0;34m(filepath_or_buffer, sep, delimiter, header, names, index_col, usecols, dtype, engine, converters, true_values, false_values, skipinitialspace, skiprows, skipfooter, nrows, na_values, keep_default_na, na_filter, verbose, skip_blank_lines, parse_dates, infer_datetime_format, keep_date_col, date_parser, date_format, dayfirst, cache_dates, iterator, chunksize, compression, thousands, decimal, lineterminator, quotechar, quoting, doublequote, escapechar, comment, encoding, encoding_errors, dialect, on_bad_lines, delim_whitespace, low_memory, memory_map, float_precision, storage_options, dtype_backend)\u001b[0m\n\u001b[1;32m   1013\u001b[0m kwds_defaults \u001b[38;5;241m=\u001b[39m _refine_defaults_read(\n\u001b[1;32m   1014\u001b[0m     dialect,\n\u001b[1;32m   1015\u001b[0m     delimiter,\n\u001b[0;32m   (...)\u001b[0m\n\u001b[1;32m   1022\u001b[0m     dtype_backend\u001b[38;5;241m=\u001b[39mdtype_backend,\n\u001b[1;32m   1023\u001b[0m )\n\u001b[1;32m   1024\u001b[0m kwds\u001b[38;5;241m.\u001b[39mupdate(kwds_defaults)\n\u001b[0;32m-> 1026\u001b[0m \u001b[38;5;28;01mreturn\u001b[39;00m \u001b[43m_read\u001b[49m\u001b[43m(\u001b[49m\u001b[43mfilepath_or_buffer\u001b[49m\u001b[43m,\u001b[49m\u001b[43m \u001b[49m\u001b[43mkwds\u001b[49m\u001b[43m)\u001b[49m\n",
      "File \u001b[0;32m~/.local/lib/python3.11/site-packages/pandas/io/parsers/readers.py:620\u001b[0m, in \u001b[0;36m_read\u001b[0;34m(filepath_or_buffer, kwds)\u001b[0m\n\u001b[1;32m    617\u001b[0m _validate_names(kwds\u001b[38;5;241m.\u001b[39mget(\u001b[38;5;124m\"\u001b[39m\u001b[38;5;124mnames\u001b[39m\u001b[38;5;124m\"\u001b[39m, \u001b[38;5;28;01mNone\u001b[39;00m))\n\u001b[1;32m    619\u001b[0m \u001b[38;5;66;03m# Create the parser.\u001b[39;00m\n\u001b[0;32m--> 620\u001b[0m parser \u001b[38;5;241m=\u001b[39m \u001b[43mTextFileReader\u001b[49m\u001b[43m(\u001b[49m\u001b[43mfilepath_or_buffer\u001b[49m\u001b[43m,\u001b[49m\u001b[43m \u001b[49m\u001b[38;5;241;43m*\u001b[39;49m\u001b[38;5;241;43m*\u001b[39;49m\u001b[43mkwds\u001b[49m\u001b[43m)\u001b[49m\n\u001b[1;32m    622\u001b[0m \u001b[38;5;28;01mif\u001b[39;00m chunksize \u001b[38;5;129;01mor\u001b[39;00m iterator:\n\u001b[1;32m    623\u001b[0m     \u001b[38;5;28;01mreturn\u001b[39;00m parser\n",
      "File \u001b[0;32m~/.local/lib/python3.11/site-packages/pandas/io/parsers/readers.py:1620\u001b[0m, in \u001b[0;36mTextFileReader.__init__\u001b[0;34m(self, f, engine, **kwds)\u001b[0m\n\u001b[1;32m   1617\u001b[0m     \u001b[38;5;28mself\u001b[39m\u001b[38;5;241m.\u001b[39moptions[\u001b[38;5;124m\"\u001b[39m\u001b[38;5;124mhas_index_names\u001b[39m\u001b[38;5;124m\"\u001b[39m] \u001b[38;5;241m=\u001b[39m kwds[\u001b[38;5;124m\"\u001b[39m\u001b[38;5;124mhas_index_names\u001b[39m\u001b[38;5;124m\"\u001b[39m]\n\u001b[1;32m   1619\u001b[0m \u001b[38;5;28mself\u001b[39m\u001b[38;5;241m.\u001b[39mhandles: IOHandles \u001b[38;5;241m|\u001b[39m \u001b[38;5;28;01mNone\u001b[39;00m \u001b[38;5;241m=\u001b[39m \u001b[38;5;28;01mNone\u001b[39;00m\n\u001b[0;32m-> 1620\u001b[0m \u001b[38;5;28mself\u001b[39m\u001b[38;5;241m.\u001b[39m_engine \u001b[38;5;241m=\u001b[39m \u001b[38;5;28;43mself\u001b[39;49m\u001b[38;5;241;43m.\u001b[39;49m\u001b[43m_make_engine\u001b[49m\u001b[43m(\u001b[49m\u001b[43mf\u001b[49m\u001b[43m,\u001b[49m\u001b[43m \u001b[49m\u001b[38;5;28;43mself\u001b[39;49m\u001b[38;5;241;43m.\u001b[39;49m\u001b[43mengine\u001b[49m\u001b[43m)\u001b[49m\n",
      "File \u001b[0;32m~/.local/lib/python3.11/site-packages/pandas/io/parsers/readers.py:1880\u001b[0m, in \u001b[0;36mTextFileReader._make_engine\u001b[0;34m(self, f, engine)\u001b[0m\n\u001b[1;32m   1878\u001b[0m     \u001b[38;5;28;01mif\u001b[39;00m \u001b[38;5;124m\"\u001b[39m\u001b[38;5;124mb\u001b[39m\u001b[38;5;124m\"\u001b[39m \u001b[38;5;129;01mnot\u001b[39;00m \u001b[38;5;129;01min\u001b[39;00m mode:\n\u001b[1;32m   1879\u001b[0m         mode \u001b[38;5;241m+\u001b[39m\u001b[38;5;241m=\u001b[39m \u001b[38;5;124m\"\u001b[39m\u001b[38;5;124mb\u001b[39m\u001b[38;5;124m\"\u001b[39m\n\u001b[0;32m-> 1880\u001b[0m \u001b[38;5;28mself\u001b[39m\u001b[38;5;241m.\u001b[39mhandles \u001b[38;5;241m=\u001b[39m \u001b[43mget_handle\u001b[49m\u001b[43m(\u001b[49m\n\u001b[1;32m   1881\u001b[0m \u001b[43m    \u001b[49m\u001b[43mf\u001b[49m\u001b[43m,\u001b[49m\n\u001b[1;32m   1882\u001b[0m \u001b[43m    \u001b[49m\u001b[43mmode\u001b[49m\u001b[43m,\u001b[49m\n\u001b[1;32m   1883\u001b[0m \u001b[43m    \u001b[49m\u001b[43mencoding\u001b[49m\u001b[38;5;241;43m=\u001b[39;49m\u001b[38;5;28;43mself\u001b[39;49m\u001b[38;5;241;43m.\u001b[39;49m\u001b[43moptions\u001b[49m\u001b[38;5;241;43m.\u001b[39;49m\u001b[43mget\u001b[49m\u001b[43m(\u001b[49m\u001b[38;5;124;43m\"\u001b[39;49m\u001b[38;5;124;43mencoding\u001b[39;49m\u001b[38;5;124;43m\"\u001b[39;49m\u001b[43m,\u001b[49m\u001b[43m \u001b[49m\u001b[38;5;28;43;01mNone\u001b[39;49;00m\u001b[43m)\u001b[49m\u001b[43m,\u001b[49m\n\u001b[1;32m   1884\u001b[0m \u001b[43m    \u001b[49m\u001b[43mcompression\u001b[49m\u001b[38;5;241;43m=\u001b[39;49m\u001b[38;5;28;43mself\u001b[39;49m\u001b[38;5;241;43m.\u001b[39;49m\u001b[43moptions\u001b[49m\u001b[38;5;241;43m.\u001b[39;49m\u001b[43mget\u001b[49m\u001b[43m(\u001b[49m\u001b[38;5;124;43m\"\u001b[39;49m\u001b[38;5;124;43mcompression\u001b[39;49m\u001b[38;5;124;43m\"\u001b[39;49m\u001b[43m,\u001b[49m\u001b[43m \u001b[49m\u001b[38;5;28;43;01mNone\u001b[39;49;00m\u001b[43m)\u001b[49m\u001b[43m,\u001b[49m\n\u001b[1;32m   1885\u001b[0m \u001b[43m    \u001b[49m\u001b[43mmemory_map\u001b[49m\u001b[38;5;241;43m=\u001b[39;49m\u001b[38;5;28;43mself\u001b[39;49m\u001b[38;5;241;43m.\u001b[39;49m\u001b[43moptions\u001b[49m\u001b[38;5;241;43m.\u001b[39;49m\u001b[43mget\u001b[49m\u001b[43m(\u001b[49m\u001b[38;5;124;43m\"\u001b[39;49m\u001b[38;5;124;43mmemory_map\u001b[39;49m\u001b[38;5;124;43m\"\u001b[39;49m\u001b[43m,\u001b[49m\u001b[43m \u001b[49m\u001b[38;5;28;43;01mFalse\u001b[39;49;00m\u001b[43m)\u001b[49m\u001b[43m,\u001b[49m\n\u001b[1;32m   1886\u001b[0m \u001b[43m    \u001b[49m\u001b[43mis_text\u001b[49m\u001b[38;5;241;43m=\u001b[39;49m\u001b[43mis_text\u001b[49m\u001b[43m,\u001b[49m\n\u001b[1;32m   1887\u001b[0m \u001b[43m    \u001b[49m\u001b[43merrors\u001b[49m\u001b[38;5;241;43m=\u001b[39;49m\u001b[38;5;28;43mself\u001b[39;49m\u001b[38;5;241;43m.\u001b[39;49m\u001b[43moptions\u001b[49m\u001b[38;5;241;43m.\u001b[39;49m\u001b[43mget\u001b[49m\u001b[43m(\u001b[49m\u001b[38;5;124;43m\"\u001b[39;49m\u001b[38;5;124;43mencoding_errors\u001b[39;49m\u001b[38;5;124;43m\"\u001b[39;49m\u001b[43m,\u001b[49m\u001b[43m \u001b[49m\u001b[38;5;124;43m\"\u001b[39;49m\u001b[38;5;124;43mstrict\u001b[39;49m\u001b[38;5;124;43m\"\u001b[39;49m\u001b[43m)\u001b[49m\u001b[43m,\u001b[49m\n\u001b[1;32m   1888\u001b[0m \u001b[43m    \u001b[49m\u001b[43mstorage_options\u001b[49m\u001b[38;5;241;43m=\u001b[39;49m\u001b[38;5;28;43mself\u001b[39;49m\u001b[38;5;241;43m.\u001b[39;49m\u001b[43moptions\u001b[49m\u001b[38;5;241;43m.\u001b[39;49m\u001b[43mget\u001b[49m\u001b[43m(\u001b[49m\u001b[38;5;124;43m\"\u001b[39;49m\u001b[38;5;124;43mstorage_options\u001b[39;49m\u001b[38;5;124;43m\"\u001b[39;49m\u001b[43m,\u001b[49m\u001b[43m \u001b[49m\u001b[38;5;28;43;01mNone\u001b[39;49;00m\u001b[43m)\u001b[49m\u001b[43m,\u001b[49m\n\u001b[1;32m   1889\u001b[0m \u001b[43m\u001b[49m\u001b[43m)\u001b[49m\n\u001b[1;32m   1890\u001b[0m \u001b[38;5;28;01massert\u001b[39;00m \u001b[38;5;28mself\u001b[39m\u001b[38;5;241m.\u001b[39mhandles \u001b[38;5;129;01mis\u001b[39;00m \u001b[38;5;129;01mnot\u001b[39;00m \u001b[38;5;28;01mNone\u001b[39;00m\n\u001b[1;32m   1891\u001b[0m f \u001b[38;5;241m=\u001b[39m \u001b[38;5;28mself\u001b[39m\u001b[38;5;241m.\u001b[39mhandles\u001b[38;5;241m.\u001b[39mhandle\n",
      "File \u001b[0;32m~/.local/lib/python3.11/site-packages/pandas/io/common.py:873\u001b[0m, in \u001b[0;36mget_handle\u001b[0;34m(path_or_buf, mode, encoding, compression, memory_map, is_text, errors, storage_options)\u001b[0m\n\u001b[1;32m    868\u001b[0m \u001b[38;5;28;01melif\u001b[39;00m \u001b[38;5;28misinstance\u001b[39m(handle, \u001b[38;5;28mstr\u001b[39m):\n\u001b[1;32m    869\u001b[0m     \u001b[38;5;66;03m# Check whether the filename is to be opened in binary mode.\u001b[39;00m\n\u001b[1;32m    870\u001b[0m     \u001b[38;5;66;03m# Binary mode does not support 'encoding' and 'newline'.\u001b[39;00m\n\u001b[1;32m    871\u001b[0m     \u001b[38;5;28;01mif\u001b[39;00m ioargs\u001b[38;5;241m.\u001b[39mencoding \u001b[38;5;129;01mand\u001b[39;00m \u001b[38;5;124m\"\u001b[39m\u001b[38;5;124mb\u001b[39m\u001b[38;5;124m\"\u001b[39m \u001b[38;5;129;01mnot\u001b[39;00m \u001b[38;5;129;01min\u001b[39;00m ioargs\u001b[38;5;241m.\u001b[39mmode:\n\u001b[1;32m    872\u001b[0m         \u001b[38;5;66;03m# Encoding\u001b[39;00m\n\u001b[0;32m--> 873\u001b[0m         handle \u001b[38;5;241m=\u001b[39m \u001b[38;5;28mopen\u001b[39m(\n\u001b[1;32m    874\u001b[0m             handle,\n\u001b[1;32m    875\u001b[0m             ioargs\u001b[38;5;241m.\u001b[39mmode,\n\u001b[1;32m    876\u001b[0m             encoding\u001b[38;5;241m=\u001b[39mioargs\u001b[38;5;241m.\u001b[39mencoding,\n\u001b[1;32m    877\u001b[0m             errors\u001b[38;5;241m=\u001b[39merrors,\n\u001b[1;32m    878\u001b[0m             newline\u001b[38;5;241m=\u001b[39m\u001b[38;5;124m\"\u001b[39m\u001b[38;5;124m\"\u001b[39m,\n\u001b[1;32m    879\u001b[0m         )\n\u001b[1;32m    880\u001b[0m     \u001b[38;5;28;01melse\u001b[39;00m:\n\u001b[1;32m    881\u001b[0m         \u001b[38;5;66;03m# Binary mode\u001b[39;00m\n\u001b[1;32m    882\u001b[0m         handle \u001b[38;5;241m=\u001b[39m \u001b[38;5;28mopen\u001b[39m(handle, ioargs\u001b[38;5;241m.\u001b[39mmode)\n",
      "\u001b[0;31mOSError\u001b[0m: [Errno 6] Device not configured: '/Users/pecsok/Desktop/ImageData/PMACS_remote/data/nmaps/analyses/Schaefer2018_1000Parcels_17Networks/means_subjectnmaps_longglucest_outputmeasures2_Schaefer2018_1000Parcels_17Networks.csv'"
     ]
    }
   ],
   "source": [
    "dataset = 'longglucest_outputmeasures2'\n",
    "atlas = 'Schaefer2018_1000Parcels_17Networks'\n",
    "nmaps = [\"NMDA\", \"mGluR5\", \"GABA\"]\n",
    "maps = [\"cest\", \"NMDA\", \"mGluR5\", \"GABA\"]\n",
    "n_permute = 10\n",
    "\n",
    "# Set paths\n",
    "inpath = \"/Users/pecsok/Desktop/ImageData/PMACS_remote/data/nmaps/analyses/\" + atlas\n",
    "outpath = \"/Users/pecsok/Desktop/ImageData/PMACS_remote/data/nmaps/analyses/\" + atlas\n",
    "\n",
    "# Read in data\n",
    "receptor_df = pd.read_csv(\"/Users/pecsok/projects/Neuromaps/pecsok_pfns/neuromaps/results/receptor_data_scale1000_17.csv\", sep=',')\n",
    "means= pd.read_csv(inpath + '/means_subjectnmaps_' + dataset + '_' + atlas + '.csv', sep=',')\n",
    "means[\"Parcel\"] = means[\"Parcel\"].str.replace(' NZMean', '', regex=False)\n",
    "means.set_index('Parcel', inplace = True)\n",
    "\n",
    "# Fetch Schaefer 2018 atlas coordinates (for example)\n",
    "schaefer = fetch_atlas_schaefer_2018(n_rois=400, yeo_networks=17)\n",
    "labels = schaefer['labels']  # These are the MNI coordinates of the parcels\n",
    "labels = [label.decode('utf-8') for label in labels]\n",
    "schaefernifti = schaefer['maps']\n",
    "abagen = datasets.available_annotations(source='abagen', desc='genepc1',\n",
    "                                       space='fsaverage', den='10k')\n",
    "print(abagen)\n",
    "#abagenmap = abagen['maps']\n",
    "\n",
    "print(means)\n",
    "print(schaefernifti)"
   ]
  },
  {
   "cell_type": "markdown",
   "id": "7498063b-2719-44f1-b029-5431a01c441a",
   "metadata": {},
   "source": [
    "### Generate permutations"
   ]
  },
  {
   "cell_type": "code",
   "execution_count": 77,
   "id": "f59db0d0-c855-48a2-a918-d215e5625658",
   "metadata": {
    "scrolled": true
   },
   "outputs": [
    {
     "name": "stdout",
     "output_type": "stream",
     "text": [
      "       0    1    2    3    4    5    6    7    8    9\n",
      "0     29  171  121   35   64   68   45  152    2  149\n",
      "1    131  192   19   24   56  174  125   35  120    1\n",
      "2    129  116   15   23   73  137  136   34  167   62\n",
      "3    101  192   17   11   57   87  126   77   90   61\n",
      "4    129  116   14   11   74  123  150   28  195   60\n",
      "..   ...  ...  ...  ...  ...  ...  ...  ...  ...  ...\n",
      "398  348  216  222  209  345  253  234  330  385  215\n",
      "399  384  219  365  217  344  250  241  343  350  215\n",
      "400  291  389  369  221  310  247  245  327  349  218\n",
      "401  384  389  365  217  363  250  283  343  307  216\n",
      "402  325  389  367  218  309  248  238  362  351  216\n",
      "\n",
      "[403 rows x 10 columns]\n",
      "         0     1     2     3     4     5     6     7     8     9\n",
      "0      312  2168  1626   423  1013   854   568  1995    17  1899\n",
      "1     1550  1418  1397  2175   435  2271   219   578   961  1338\n",
      "2     1117    52  1595   458  2398    82   974  1188     0   834\n",
      "3     2277  2306  1699  1126  1996  2234  1310  2401   719  1511\n",
      "4     1682  2383   219   278   712  2208  1666   427  1525    12\n",
      "...    ...   ...   ...   ...   ...   ...   ...   ...   ...   ...\n",
      "4858  4405  4420  4541  2694  3680  3056  2920  4415  4342  2680\n",
      "4859  4328  4420  4541  2696  3830  3049  3064  4482  3981  2501\n",
      "4860  3412  4758  4550  2701  3830  3290  2989  4523  4342  2461\n",
      "4861  4328  4420  4541  2696  3680  3058  3064  4408  4229  2680\n",
      "4862  3412  4758  4554  2701  3830  3160  2918  4623  4068  2461\n",
      "\n",
      "[4863 rows x 10 columns]\n",
      "10242\n"
     ]
    },
    {
     "data": {
      "text/plain": [
       "\"\\n\\nfsavg_l, fsavg_r = fsavg_gii[0], fsavg_gii[1]\\n\\nfslr_left_infl = nib.load(fslr['inflated'].L)\\nvertices = fslr_left_infl.agg_data('NIFTI_INTENT_POINTSET')\\n\\n\\n\\nprint(fsavg_gii[0])\\n\\n\\n#print(lpermutations_df.columns))\\nprint(len(permutations_df.index))\\n\\n#Fix not sure why there are 1001 rows in permutation matrix. \\n#  Why is there an extra parcel??\\n\""
      ]
     },
     "execution_count": 77,
     "metadata": {},
     "output_type": "execute_result"
    }
   ],
   "source": [
    "# Project to surface\n",
    "schaefer_surf1 = transforms.mni152_to_fsaverage(schaefer['maps'], fsavg_density='10k', method='nearest')\n",
    "# Permute parcels\n",
    "permutations1 = nulls.vazquez_rodriguez(data=None, atlas='fsaverage', density='10k', \n",
    "                                  n_perm=n_permute, seed=1234, parcellation=schaefer_surf1)\n",
    "# Inspect dataframe\n",
    "permutations_df = pd.DataFrame(permutations1)\n",
    "permutations_df.to_csv('~/Desktop/permutations400.csv', index=True)\n",
    "print(permutations_df)\n",
    "\n",
    "\n",
    "# Project to surface\n",
    "schaefer_surf2, abagen = resampling.resample_images(schaefernifti, abagen, 'MNI152', 'fsaverage')\n",
    "permutations2 = nulls.vazquez_rodriguez(data=None, atlas='fsaverage', density='10k', \n",
    "                                  n_perm=n_permute, seed=1234, parcellation=schaefer_surf2)\n",
    "\n",
    "permutations_df2 = pd.DataFrame(permutations2)\n",
    "permutations_df2.to_csv('~/Desktop/permutations.csv', index=True)\n",
    "print(permutations_df2)\n",
    "\n",
    "\n",
    "\n",
    "#permutationsvol = nulls.vazquez_rodriguez(data=None, atlas='mni152', density='1mm',\n",
    "#                                 n_perm=n_permute, seed=1234, parcellation=schaefernifti)\n",
    "\n",
    "\n",
    "fsavg_atlas = fetch_atlas('fsaverage', '10k')\n",
    "fsavg_gii = nib.load(fsavg_atlas['sphere'].L)\n",
    "vertices = fsavg_gii.agg_data('NIFTI_INTENT_POINTSET')\n",
    "print(vertices.shape[0])\n",
    "\n",
    "\"\"\"\n",
    "\n",
    "fsavg_l, fsavg_r = fsavg_gii[0], fsavg_gii[1]\n",
    "\n",
    "fslr_left_infl = nib.load(fslr['inflated'].L)\n",
    "vertices = fslr_left_infl.agg_data('NIFTI_INTENT_POINTSET')\n",
    "\n",
    "\n",
    "\n",
    "print(fsavg_gii[0])\n",
    "\n",
    "\n",
    "#print(lpermutations_df.columns))\n",
    "print(len(permutations_df.index))\n",
    "\n",
    "#Fix not sure why there are 1001 rows in permutation matrix. \n",
    "#  Why is there an extra parcel??\n",
    "\"\"\""
   ]
  },
  {
   "cell_type": "code",
   "execution_count": 56,
   "id": "6da8afe3-e604-4f05-961c-3c97993e49d3",
   "metadata": {},
   "outputs": [
    {
     "name": "stdout",
     "output_type": "stream",
     "text": [
      "         NMDA    mGluR5     GABAa        D2\n",
      "0    0.222071 -1.676590  0.454865 -1.793413\n",
      "1   -0.498181 -1.582004  0.778041 -1.725353\n",
      "2    0.901576 -0.612121  2.141349 -1.079382\n",
      "3   -1.250976 -2.019832 -0.681790 -1.734788\n",
      "4    0.924391 -0.341650  0.853886  0.268522\n",
      "..        ...       ...       ...       ...\n",
      "995  0.906115  0.748027  0.435516  0.148707\n",
      "996 -0.093347  0.810461 -0.015695  0.217057\n",
      "997  0.859066  0.746511  0.069180  0.635338\n",
      "998  0.825170  1.057345  0.635444  0.371140\n",
      "999  0.219509  1.022109  0.470702  0.717365\n",
      "\n",
      "[1000 rows x 4 columns]\n",
      "          NMDA    mGluR5     GABAa        D2\n",
      "1     0.222071 -1.676590  0.454865 -1.793413\n",
      "2    -0.498181 -1.582004  0.778041 -1.725353\n",
      "3     0.901576 -0.612121  2.141349 -1.079382\n",
      "4    -1.250976 -2.019832 -0.681790 -1.734788\n",
      "5     0.924391 -0.341650  0.853886  0.268522\n",
      "...        ...       ...       ...       ...\n",
      "996   0.906115  0.748027  0.435516  0.148707\n",
      "997  -0.093347  0.810461 -0.015695  0.217057\n",
      "998   0.859066  0.746511  0.069180  0.635338\n",
      "999   0.825170  1.057345  0.635444  0.371140\n",
      "1000  0.219509  1.022109  0.470702  0.717365\n",
      "\n",
      "[1000 rows x 4 columns]\n"
     ]
    }
   ],
   "source": [
    "receptor_df = receptor_df.reset_index(drop=True)\n",
    "receptor_df.index = pd.RangeIndex(start=1, stop=len(receptor_df) + 1, step=1)"
   ]
  },
  {
   "cell_type": "code",
   "execution_count": 60,
   "id": "656e8f6b-8b9f-490e-a6aa-d0c25c484d24",
   "metadata": {},
   "outputs": [
    {
     "name": "stdout",
     "output_type": "stream",
     "text": [
      "(1000, 10)\n"
     ]
    },
    {
     "ename": "ValueError",
     "evalue": "Randomization index exceeds available rows in df: 1000",
     "output_type": "error",
     "traceback": [
      "\u001b[0;31m---------------------------------------------------------------------------\u001b[0m",
      "\u001b[0;31mValueError\u001b[0m                                Traceback (most recent call last)",
      "Cell \u001b[0;32mIn[60], line 21\u001b[0m\n\u001b[1;32m     18\u001b[0m \u001b[38;5;28mprint\u001b[39m(permutations_df\u001b[38;5;241m.\u001b[39mshape)\n\u001b[1;32m     20\u001b[0m \u001b[38;5;66;03m# Apply the function to scramble your dataframe\u001b[39;00m\n\u001b[0;32m---> 21\u001b[0m scrambled_dataframes \u001b[38;5;241m=\u001b[39m \u001b[43mscramble_rows\u001b[49m\u001b[43m(\u001b[49m\u001b[43mreceptor_df\u001b[49m\u001b[43m,\u001b[49m\u001b[43m \u001b[49m\u001b[43mpermutations_df\u001b[49m\u001b[38;5;241;43m.\u001b[39;49m\u001b[43mvalues\u001b[49m\u001b[43m)\u001b[49m\n\u001b[1;32m     23\u001b[0m \u001b[38;5;66;03m# Example: Access the first scrambled dataframe\u001b[39;00m\n\u001b[1;32m     24\u001b[0m \u001b[38;5;28mprint\u001b[39m(scrambled_dataframes[\u001b[38;5;241m0\u001b[39m])\n",
      "Cell \u001b[0;32mIn[60], line 9\u001b[0m, in \u001b[0;36mscramble_rows\u001b[0;34m(df, rand_matrix)\u001b[0m\n\u001b[1;32m      6\u001b[0m \u001b[38;5;28;01mfor\u001b[39;00m col_idx \u001b[38;5;129;01min\u001b[39;00m \u001b[38;5;28mrange\u001b[39m(rand_matrix\u001b[38;5;241m.\u001b[39mshape[\u001b[38;5;241m1\u001b[39m]):\n\u001b[1;32m      7\u001b[0m     \u001b[38;5;66;03m# Check that the indices are valid\u001b[39;00m\n\u001b[1;32m      8\u001b[0m     \u001b[38;5;28;01mif\u001b[39;00m rand_matrix[:, col_idx]\u001b[38;5;241m.\u001b[39mmax() \u001b[38;5;241m>\u001b[39m\u001b[38;5;241m=\u001b[39m \u001b[38;5;28mlen\u001b[39m(df):\n\u001b[0;32m----> 9\u001b[0m         \u001b[38;5;28;01mraise\u001b[39;00m \u001b[38;5;167;01mValueError\u001b[39;00m(\u001b[38;5;124mf\u001b[39m\u001b[38;5;124m\"\u001b[39m\u001b[38;5;124mRandomization index exceeds available rows in df: \u001b[39m\u001b[38;5;132;01m{\u001b[39;00mrand_matrix[:,\u001b[38;5;250m \u001b[39mcol_idx]\u001b[38;5;241m.\u001b[39mmax()\u001b[38;5;132;01m}\u001b[39;00m\u001b[38;5;124m\"\u001b[39m)\n\u001b[1;32m     11\u001b[0m     scrambled_df \u001b[38;5;241m=\u001b[39m df\u001b[38;5;241m.\u001b[39miloc[rand_matrix[:, col_idx]]\u001b[38;5;241m.\u001b[39mreset_index(drop\u001b[38;5;241m=\u001b[39m\u001b[38;5;28;01mTrue\u001b[39;00m)  \u001b[38;5;66;03m# Use row indices from the column\u001b[39;00m\n\u001b[1;32m     12\u001b[0m     scrambled_dfs\u001b[38;5;241m.\u001b[39mappend(scrambled_df)\n",
      "\u001b[0;31mValueError\u001b[0m: Randomization index exceeds available rows in df: 1000"
     ]
    }
   ],
   "source": [
    "# Function to scramble the dataframe rows based on randomization matrix\n",
    "def scramble_rows(df, rand_matrix):\n",
    "    scrambled_dfs = []\n",
    "    \n",
    "    # Loop through each column of the randomization matrix (each column is a new randomization)\n",
    "    for col_idx in range(rand_matrix.shape[1]):\n",
    "        # Check that the indices are valid\n",
    "        if rand_matrix[:, col_idx].max() >= len(df):\n",
    "            raise ValueError(f\"Randomization index exceeds available rows in df: {rand_matrix[:, col_idx].max()}\")\n",
    "        \n",
    "        scrambled_df = df.iloc[rand_matrix[:, col_idx]].reset_index(drop=True)  # Use row indices from the column\n",
    "        scrambled_dfs.append(scrambled_df)\n",
    "        \n",
    "    return scrambled_dfs\n",
    "\n",
    "# Assume permutations_df is a DataFrame and remove the last row\n",
    "permutations_df = permutations_df.iloc[:-1]\n",
    "print(permutations_df.shape)\n",
    "\n",
    "# Apply the function to scramble your dataframe\n",
    "scrambled_dataframes = scramble_rows(receptor_df, permutations_df.values)\n",
    "\n",
    "# Example: Access the first scrambled dataframe\n",
    "print(scrambled_dataframes[0])\n",
    "\n"
   ]
  },
  {
   "cell_type": "code",
   "execution_count": null,
   "id": "0943636b-7d9c-4727-86a0-f839eeecb689",
   "metadata": {},
   "outputs": [],
   "source": [
    "# Now, input means df. \n",
    "# Rename parcels by parcel number and put rows in proper order.\n",
    "\n",
    "\n",
    "\n",
    "\n",
    "receptor_df.index = labels\n",
    "receptor_df.index.name = 'Parcel'\n",
    "\n",
    "# Chop up receptor_df by map\n",
    "NMDAmat = receptor_df[[\"NMDA\"]]\n",
    "GABAmat = receptor_df[[\"GABAa\"]]\n",
    "mGluR5mat = receptor_df[[\"mGluR5\"]]"
   ]
  },
  {
   "cell_type": "code",
   "execution_count": null,
   "id": "dd69c83e-efae-484a-9486-92c5a3d54ea9",
   "metadata": {},
   "outputs": [],
   "source": [
    "# CEST DATA\n",
    "datapath = '/Users/pecsok/projects/Neuromaps/hansen_receptors/'\n",
    "figpath = '/Users/pecsok/projects/GluCEST-fMRI/glucest-rsfmri/fmri_pipeline/parcellated_pipeline/figures'\n",
    "cestavg_df = pd.DataFrame(index=range(1, 1001), columns=['CESTavg'])\n",
    "cestavg_df['CESTavg'] = np.nan  # Initialize all values to 0\n",
    "for _, row in cestdf.iterrows():\n",
    "    # Extract parcel ID number using regex\n",
    "    match = re.search(r'(\\d+)', row['parcel'])\n",
    "    if match:\n",
    "        parcel_id = int(match.group(1))\n",
    "        # Add CESTavg data to corresponding row in the new DataFrame\n",
    "        if 1 <= parcel_id <= 1000:  # Ensure the parcel ID is within range\n",
    "            cestavg_df.at[parcel_id, 'CESTavg'] = row['CESTavg']\n",
    "            \n",
    "for i, row in cestavg_df.iterrows():\n",
    "    parcel_id = i\n",
    "    value = row['CESTavg']\n",
    "print(cestavg_df)\n",
    "\n"
   ]
  }
 ],
 "metadata": {
  "kernelspec": {
   "display_name": "Python 3 (ipykernel)",
   "language": "python",
   "name": "python3"
  },
  "language_info": {
   "codemirror_mode": {
    "name": "ipython",
    "version": 3
   },
   "file_extension": ".py",
   "mimetype": "text/x-python",
   "name": "python",
   "nbconvert_exporter": "python",
   "pygments_lexer": "ipython3",
   "version": "3.11.0"
  }
 },
 "nbformat": 4,
 "nbformat_minor": 5
}
