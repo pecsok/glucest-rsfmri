{
 "cells": [
  {
   "cell_type": "markdown",
   "id": "eaf5bad8-d06d-4c67-ac91-b5eca861924a",
   "metadata": {},
   "source": [
    "### Spin Test \n",
    "This script projects data to surface space and performs a spin test"
   ]
  },
  {
   "cell_type": "markdown",
   "id": "20d1a234-a816-4e64-b739-be26eb24ef96",
   "metadata": {},
   "source": [
    "#### Import Packages"
   ]
  },
  {
   "cell_type": "code",
   "execution_count": 9,
   "id": "b552c33e-f388-4568-928e-a64de3e6c674",
   "metadata": {},
   "outputs": [],
   "source": [
    "import numpy as np\n",
    "import pandas as pd\n",
    "import netneurotools.stats as stats\n",
    "from neuromaps.datasets import fetch_atlas\n",
    "from nilearn.datasets import fetch_atlas_schaefer_2018\n",
    "from netneurotools.datasets import fetch_schaefer2018\n",
    "import neuromaps\n",
    "import nibabel as nib\n",
    "from neuromaps.parcellate import Parcellater\n",
    "from neuromaps import transforms\n",
    "from neuromaps import nulls\n",
    "from nilearn.plotting import plot_surf\n",
    "from nilearn.surface import load_surf_data\n",
    "from nilearn import surface, plotting, datasets\n",
    "from neuromaps import datasets, images, nulls, resampling, stats"
   ]
  },
  {
   "cell_type": "markdown",
   "id": "e3a62312-7baf-4cd5-9a7d-1c72bcd764a1",
   "metadata": {},
   "source": [
    "#### Set Paths and Variables"
   ]
  },
  {
   "cell_type": "code",
   "execution_count": 10,
   "id": "44ecf780-95d8-4ed8-b8ea-3461e3204ba3",
   "metadata": {},
   "outputs": [
    {
     "name": "stdout",
     "output_type": "stream",
     "text": [
      "(182, 218, 182)\n",
      "                                 hstatus  CEST_avg      NMDA    mGluR5  \\\n",
      "Parcel                                                                   \n",
      "17Networks_RH_ContA_Cingm_1           HC -0.239851 -0.515943 -0.290452   \n",
      "17Networks_RH_ContA_Cingm_1          PSY -0.235165 -0.478070 -0.286724   \n",
      "17Networks_RH_ContA_Cingm_2           HC -0.255432 -0.662924 -0.352973   \n",
      "17Networks_RH_ContA_Cingm_2          PSY -0.260417 -0.608125 -0.341912   \n",
      "17Networks_RH_ContB_PFCmp_1           HC -0.102085  0.665146  0.898630   \n",
      "...                                  ...       ...       ...       ...   \n",
      "17Networks_RH_VisPeri_ExStrSup_7     PSY  0.450614  0.819882  1.357389   \n",
      "17Networks_RH_VisPeri_StriCal_3       HC  1.342156 -0.013643  0.141399   \n",
      "17Networks_RH_VisPeri_StriCal_3      PSY  1.096243  0.003004  0.171412   \n",
      "17Networks_RH_VisPeri_StriCal_5       HC  1.024538  0.177231  0.461898   \n",
      "17Networks_RH_VisPeri_StriCal_5      PSY  0.917279  0.039007  0.428818   \n",
      "\n",
      "                                      GABA  \n",
      "Parcel                                      \n",
      "17Networks_RH_ContA_Cingm_1      -0.823318  \n",
      "17Networks_RH_ContA_Cingm_1      -0.835636  \n",
      "17Networks_RH_ContA_Cingm_2      -0.831129  \n",
      "17Networks_RH_ContA_Cingm_2      -0.837279  \n",
      "17Networks_RH_ContB_PFCmp_1       0.642155  \n",
      "...                                    ...  \n",
      "17Networks_RH_VisPeri_ExStrSup_7  1.698075  \n",
      "17Networks_RH_VisPeri_StriCal_3   1.371713  \n",
      "17Networks_RH_VisPeri_StriCal_3   1.413359  \n",
      "17Networks_RH_VisPeri_StriCal_5   1.570615  \n",
      "17Networks_RH_VisPeri_StriCal_5   1.501366  \n",
      "\n",
      "[134 rows x 5 columns]\n"
     ]
    }
   ],
   "source": [
    "dataset = 'longglucest_outputmeasures2'\n",
    "atlas = 'Schaefer2018_1000Parcels_17Networks'\n",
    "nmaps = [\"NMDA\", \"mGluR5\", \"GABA\"]\n",
    "maps = [\"cest\", \"NMDA\", \"mGluR5\", \"GABA\"]\n",
    "\n",
    "# Set paths\n",
    "inpath = \"/Users/pecsok/Desktop/ImageData/PMACS_remote/data/nmaps/analyses/\" + atlas\n",
    "outpath = \"/Users/pecsok/Desktop/ImageData/PMACS_remote/data/nmaps/analyses/\" + atlas\n",
    "means= pd.read_csv(inpath + '/means_subjectnmaps_' + dataset + '_' + atlas + '.csv', sep=',')\n",
    "means[\"Parcel\"] = means[\"Parcel\"].str.replace(' NZMean', '', regex=False)\n",
    "means.set_index('Parcel', inplace = True)\n",
    "\n",
    "# Fetch Schaefer 2018 atlas coordinates (for example)\n",
    "schaefer = fetch_atlas_schaefer_2018(n_rois=1000, yeo_networks=17)\n",
    "labels = schaefer['labels']  # These are the MNI coordinates of the parcels\n",
    "labels = [label.decode('utf-8') for label in labels]\n",
    "# Load in Schaefer nifti.\n",
    "schaefernifti = nib.load(schaefer['maps'])\n",
    "schaeferarray = schaefernifti.get_fdata()\n",
    "print(schaeferarray.shape)\n",
    "\n",
    "print(means)\n"
   ]
  },
  {
   "cell_type": "markdown",
   "id": "7498063b-2719-44f1-b029-5431a01c441a",
   "metadata": {},
   "source": [
    "### Convert array data to nifti"
   ]
  },
  {
   "cell_type": "code",
   "execution_count": 11,
   "id": "0ffc3331-98e5-4b33-aead-929e321c3672",
   "metadata": {},
   "outputs": [],
   "source": [
    "# Assuming GluCEST_data and NMDA_data are 1D arrays with data for each parcel\n",
    "means = means[means['hstatus']== 'HC']\n",
    "\n",
    "# Initialize an array with NaNs the same length as the labels\n",
    "glucest_array = np.full(len(labels), np.nan)\n",
    "nmda_array = np.full(len(labels), np.nan)\n",
    "gaba_array = np.full(len(labels), np.nan)\n",
    "mglur5_array = np.full(len(labels), np.nan)\n",
    "\n",
    "# Loop through the labels and fill in the corresponding GluCEST_avg values where they exist in the dataframe\n",
    "for i, label in enumerate(labels):\n",
    "    if label in means.index:\n",
    "        #print(label)\n",
    "        glucest_array[i] = means.loc[label, 'CEST_avg']\n",
    "        nmda_array[i] = means.loc[label, 'NMDA']\n",
    "        gaba_array[i] = means.loc[label, 'GABA']\n",
    "        mglur5_array[i] = means.loc[label, 'mGluR5']\n",
    "\n",
    "# Reshape Arrays\n",
    "glucest_array = glucest_array.reshape(1, len(labels))\n",
    "nmda_array = nmda_array.reshape(1, len(labels))\n",
    "gaba_array = gaba_array.reshape(1, len(labels))\n",
    "mglur5_array = mglur5_array.reshape(1, len(labels))\n",
    "\n",
    "# Parcellate and convert back to nifti\n",
    "parcellater = Parcellater(schaefer['maps'], 'MNI152')\n",
    "glucest_nifti = parcellater.inverse_transform(glucest_array)\n",
    "nmda_nifti = parcellater.inverse_transform(nmda_array)\n",
    "gaba_nifti = parcellater.inverse_transform(gaba_array)\n",
    "mglur5_nifti = parcellater.inverse_transform(mglur5_array)\n",
    "\n",
    "# Save avg niftis\n",
    "nib.save(glucest_nifti,outpath +'avg_glucest.nii.gz')\n",
    "nib.save(nmda_nifti,outpath +'avg_nmda.nii.gz')\n",
    "nib.save(gaba_nifti,outpath +'avg_gaba.nii.gz')\n",
    "nib.save(mglur5_nifti,outpath +'avg_mglur5.nii.gz')\n"
   ]
  },
  {
   "cell_type": "markdown",
   "id": "3b576e6e-7193-4b91-9e24-df465d50785c",
   "metadata": {},
   "source": [
    "### Project to surface space"
   ]
  },
  {
   "cell_type": "code",
   "execution_count": 44,
   "id": "f59db0d0-c855-48a2-a918-d215e5625658",
   "metadata": {},
   "outputs": [
    {
     "name": "stdout",
     "output_type": "stream",
     "text": [
      "(1001, 10)\n",
      "[[ 74 432 336 ... 386  10 440]\n",
      " [255 296  46 ...  72 485 333]\n",
      " [254 272  53 ...  68 139 298]\n",
      " ...\n",
      " [806 500 973 ... 840 789 975]\n",
      " [804 971 927 ... 873 781 978]\n",
      " [783 971 929 ... 920 782 550]]\n"
     ]
    }
   ],
   "source": [
    "# Project Schaefer to surface\n",
    "schaefer_surf2 = transforms.mni152_to_fsaverage(schaefer['maps'], fsavg_density='10k', method='nearest')\n",
    "\n",
    "# Permute parcels\n",
    "permutations = nulls.vazquez_rodriguez(data=None, atlas='fsaverage', density='10k', \n",
    "                                  n_perm=10, seed=1234, parcellation=schaefer_surf2)\n",
    "print(permutations.shape)\n",
    "print(permutations)"
   ]
  },
  {
   "cell_type": "code",
   "execution_count": null,
   "id": "667cf156-91ab-4d55-beb8-32aa033a9cec",
   "metadata": {},
   "outputs": [],
   "source": [
    "# Try with GluCEST and neuromap data\n",
    "cest_surf, abagen = resampling.resample_images(glucest_nifti, abagen, 'MNI152', 'fsaverage')\n",
    "permutations_cest = nulls.vazquez_rodriguez(data=None, atlas='fsaverage', density='10k', \n",
    "                                  n_perm=10, seed=1234, parcellation=cest_surf)\n",
    "print(permutations_cest.shape)\n",
    "print(permutations_cest)\n"
   ]
  },
  {
   "cell_type": "code",
   "execution_count": 22,
   "id": "beaf695b-a87f-442c-a306-00db7ae1db3c",
   "metadata": {},
   "outputs": [
    {
     "name": "stdout",
     "output_type": "stream",
     "text": [
      "(20484, 5)\n",
      "(20484, 5)\n"
     ]
    }
   ],
   "source": [
    "\n",
    "\n",
    "# Project data to surface space\n",
    "cest_surf, abagen = resampling.resample_images(glucest_nifti, abagen, 'MNI152', 'fsaverage')\n",
    "nmda_surf, abagen = resampling.resample_images(nmda_nifti, abagen, 'MNI152', 'fsaverage')\n",
    "mglur5_surf, abagen = resampling.resample_images(mglur5_nifti, abagen, 'MNI152', 'fsaverage')\n",
    "gaba_surf, abagen = resampling.resample_images(gaba_nifti, abagen, 'MNI152', 'fsaverage')\n",
    "\n",
    "# Generate nulls\n",
    "rotated_cest = nulls.alexander_bloch(cest_surf, atlas='fsaverage', density='10k',\n",
    "                                n_perm=5, seed=1234)\n",
    "rotated_gaba = nulls.alexander_bloch(gaba_surf, atlas='fsaverage', density='10k',\n",
    "                                n_perm=5, seed=1234)\n",
    "print(rotated_cest.shape)\n",
    "print(rotated_gaba.shape)\n",
    "\n",
    "# Spatial Correlation\n",
    "spatial_corr = stats.compare_images(gaba_surf, cest_surf, metric='pearsonr',\n",
    "                                    ignore_zero=True,nulls=rotated_gaba)\n",
    "print(spatial_corr)\n"
   ]
  },
  {
   "cell_type": "code",
   "execution_count": 30,
   "id": "7a92411a-8adb-4876-af42-9a651c5fbc4c",
   "metadata": {},
   "outputs": [
    {
     "name": "stdout",
     "output_type": "stream",
     "text": [
      "(7484, 10)\n"
     ]
    }
   ],
   "source": []
  },
  {
   "cell_type": "code",
   "execution_count": 9,
   "id": "9163d6e0-f5f4-46a5-b425-d9f879fe7ad0",
   "metadata": {},
   "outputs": [
    {
     "name": "stderr",
     "output_type": "stream",
     "text": [
      "/Users/pecsok/.local/lib/python3.11/site-packages/nilearn/surface/surface.py:464: RuntimeWarning: Mean of empty slice\n",
      "  texture = np.nanmean(all_samples, axis=2)\n"
     ]
    },
    {
     "data": {
      "image/png": "[encoded data removed]",
      "text/plain": [
       "<Figure size 470x500 with 2 Axes>"
      ]
     },
     "metadata": {},
     "output_type": "display_data"
    }
   ],
   "source": [
    "fsaverage = datasets.fetch_surf_fsaverage()\n",
    "\n",
    "texture = surface.vol_to_surf(glucest_nifti, fsaverage.pial_left)\n",
    "\n",
    "# Visualize the surface projection\n",
    "plotting.plot_surf_stat_map(fsaverage.infl_left, texture,\n",
    "                            hemi='left', title='Projected Volume on Surface',\n",
    "                            colorbar=True)\n",
    "plotting.show()"
   ]
  },
  {
   "cell_type": "code",
   "execution_count": 8,
   "id": "25c142a9-4276-4dfe-a839-1b2730923048",
   "metadata": {},
   "outputs": [
    {
     "name": "stdout",
     "output_type": "stream",
     "text": [
      "(<nibabel.gifti.gifti.GiftiImage object at 0x3784c2c10>, <nibabel.gifti.gifti.GiftiImage object at 0x378c20990>)\n"
     ]
    },
    {
     "ename": "ValueError",
     "evalue": "The surf_mesh input is not recognized. Valid Freesurfer surface mesh inputs are: '.orig', '.pial', '.sphere', '.white', '.infla'.You provided input which have no NIFTI_INTENT_POINTSET or of empty value=[]",
     "output_type": "error",
     "traceback": [
      "\u001b[0;31m---------------------------------------------------------------------------\u001b[0m",
      "\u001b[0;31mIndexError\u001b[0m                                Traceback (most recent call last)",
      "File \u001b[0;32m~/.local/lib/python3.11/site-packages/nilearn/surface/surface.py:841\u001b[0m, in \u001b[0;36m_gifti_img_to_mesh\u001b[0;34m(gifti_img)\u001b[0m\n\u001b[1;32m    840\u001b[0m \u001b[38;5;28;01mtry\u001b[39;00m:\n\u001b[0;32m--> 841\u001b[0m     coords \u001b[38;5;241m=\u001b[39m \u001b[43mgifti_img\u001b[49m\u001b[38;5;241;43m.\u001b[39;49m\u001b[43mget_arrays_from_intent\u001b[49m\u001b[43m(\u001b[49m\n\u001b[1;32m    842\u001b[0m \u001b[43m        \u001b[49m\u001b[43mnibabel\u001b[49m\u001b[38;5;241;43m.\u001b[39;49m\u001b[43mnifti1\u001b[49m\u001b[38;5;241;43m.\u001b[39;49m\u001b[43mintent_codes\u001b[49m\u001b[43m[\u001b[49m\u001b[38;5;124;43m'\u001b[39;49m\u001b[38;5;124;43mNIFTI_INTENT_POINTSET\u001b[39;49m\u001b[38;5;124;43m'\u001b[39;49m\u001b[43m]\u001b[49m\u001b[43m)\u001b[49m\u001b[43m[\u001b[49m\u001b[38;5;241;43m0\u001b[39;49m\u001b[43m]\u001b[49m\u001b[38;5;241m.\u001b[39mdata\n\u001b[1;32m    843\u001b[0m \u001b[38;5;28;01mexcept\u001b[39;00m \u001b[38;5;167;01mIndexError\u001b[39;00m:\n",
      "\u001b[0;31mIndexError\u001b[0m: list index out of range",
      "\nDuring handling of the above exception, another exception occurred:\n",
      "\u001b[0;31mValueError\u001b[0m                                Traceback (most recent call last)",
      "Cell \u001b[0;32mIn[8], line 14\u001b[0m\n\u001b[1;32m     12\u001b[0m surf_mesh \u001b[38;5;241m=\u001b[39m \u001b[38;5;124m'\u001b[39m\u001b[38;5;124mleft_hemisphere.gii\u001b[39m\u001b[38;5;124m'\u001b[39m\n\u001b[1;32m     13\u001b[0m texture \u001b[38;5;241m=\u001b[39m load_surf_data(\u001b[38;5;124m'\u001b[39m\u001b[38;5;124mleft_hemisphere.gii\u001b[39m\u001b[38;5;124m'\u001b[39m)\n\u001b[0;32m---> 14\u001b[0m \u001b[43mplot_surf\u001b[49m\u001b[43m(\u001b[49m\u001b[43msurf_mesh\u001b[49m\u001b[43m,\u001b[49m\u001b[43m \u001b[49m\u001b[43mtexture\u001b[49m\u001b[43m)\u001b[49m\n",
      "File \u001b[0;32m~/.local/lib/python3.11/site-packages/nilearn/plotting/surf_plotting.py:837\u001b[0m, in \u001b[0;36mplot_surf\u001b[0;34m(surf_mesh, surf_map, bg_map, hemi, view, engine, cmap, symmetric_cmap, colorbar, avg_method, threshold, alpha, bg_on_data, darkness, vmin, vmax, cbar_vmin, cbar_vmax, cbar_tick_format, title, title_font_size, output_file, axes, figure)\u001b[0m\n\u001b[1;32m    830\u001b[0m         \u001b[38;5;28;01mif\u001b[39;00m value \u001b[38;5;129;01mis\u001b[39;00m \u001b[38;5;129;01mnot\u001b[39;00m \u001b[38;5;28;01mNone\u001b[39;00m:\n\u001b[1;32m    831\u001b[0m             warn(\n\u001b[1;32m    832\u001b[0m                 (\u001b[38;5;124mf\u001b[39m\u001b[38;5;124m\"\u001b[39m\u001b[38;5;124m'\u001b[39m\u001b[38;5;132;01m{\u001b[39;00mparameter\u001b[38;5;132;01m}\u001b[39;00m\u001b[38;5;124m'\u001b[39m\u001b[38;5;124m is not implemented \u001b[39m\u001b[38;5;124m\"\u001b[39m\n\u001b[1;32m    833\u001b[0m                  \u001b[38;5;124m\"\u001b[39m\u001b[38;5;124mfor the plotly engine.\u001b[39m\u001b[38;5;130;01m\\n\u001b[39;00m\u001b[38;5;124m\"\u001b[39m\n\u001b[1;32m    834\u001b[0m                  \u001b[38;5;124mf\u001b[39m\u001b[38;5;124m\"\u001b[39m\u001b[38;5;124mGot \u001b[39m\u001b[38;5;124m'\u001b[39m\u001b[38;5;132;01m{\u001b[39;00mparameter\u001b[38;5;132;01m}\u001b[39;00m\u001b[38;5;124m = \u001b[39m\u001b[38;5;132;01m{\u001b[39;00mvalue\u001b[38;5;132;01m}\u001b[39;00m\u001b[38;5;124m'\u001b[39m\u001b[38;5;124m.\u001b[39m\u001b[38;5;130;01m\\n\u001b[39;00m\u001b[38;5;124m\"\u001b[39m\n\u001b[1;32m    835\u001b[0m                  \u001b[38;5;124mf\u001b[39m\u001b[38;5;124m\"\u001b[39m\u001b[38;5;124mUse \u001b[39m\u001b[38;5;124m'\u001b[39m\u001b[38;5;132;01m{\u001b[39;00mparameter\u001b[38;5;132;01m}\u001b[39;00m\u001b[38;5;124m = None\u001b[39m\u001b[38;5;124m'\u001b[39m\u001b[38;5;124m to silence this warning.\u001b[39m\u001b[38;5;124m\"\u001b[39m))\n\u001b[0;32m--> 837\u001b[0m coords, faces \u001b[38;5;241m=\u001b[39m \u001b[43mload_surf_mesh\u001b[49m\u001b[43m(\u001b[49m\u001b[43msurf_mesh\u001b[49m\u001b[43m)\u001b[49m\n\u001b[1;32m    839\u001b[0m \u001b[38;5;28;01mif\u001b[39;00m engine \u001b[38;5;241m==\u001b[39m \u001b[38;5;124m'\u001b[39m\u001b[38;5;124mmatplotlib\u001b[39m\u001b[38;5;124m'\u001b[39m:\n\u001b[1;32m    840\u001b[0m     \u001b[38;5;66;03m# setting defaults\u001b[39;00m\n\u001b[1;32m    841\u001b[0m     \u001b[38;5;28;01mif\u001b[39;00m avg_method \u001b[38;5;129;01mis\u001b[39;00m \u001b[38;5;28;01mNone\u001b[39;00m:\n",
      "File \u001b[0;32m~/.local/lib/python3.11/site-packages/nilearn/surface/surface.py:900\u001b[0m, in \u001b[0;36mload_surf_mesh\u001b[0;34m(surf_mesh)\u001b[0m\n\u001b[1;32m    898\u001b[0m     mesh \u001b[38;5;241m=\u001b[39m Mesh(coordinates\u001b[38;5;241m=\u001b[39mcoords, faces\u001b[38;5;241m=\u001b[39mfaces)\n\u001b[1;32m    899\u001b[0m \u001b[38;5;28;01melif\u001b[39;00m surf_mesh\u001b[38;5;241m.\u001b[39mendswith(\u001b[38;5;124m'\u001b[39m\u001b[38;5;124mgii\u001b[39m\u001b[38;5;124m'\u001b[39m):\n\u001b[0;32m--> 900\u001b[0m     coords, faces \u001b[38;5;241m=\u001b[39m \u001b[43m_gifti_img_to_mesh\u001b[49m\u001b[43m(\u001b[49m\u001b[43mnibabel\u001b[49m\u001b[38;5;241;43m.\u001b[39;49m\u001b[43mload\u001b[49m\u001b[43m(\u001b[49m\u001b[43msurf_mesh\u001b[49m\u001b[43m)\u001b[49m\u001b[43m)\u001b[49m\n\u001b[1;32m    901\u001b[0m     mesh \u001b[38;5;241m=\u001b[39m Mesh(coordinates\u001b[38;5;241m=\u001b[39mcoords, faces\u001b[38;5;241m=\u001b[39mfaces)\n\u001b[1;32m    902\u001b[0m \u001b[38;5;28;01melif\u001b[39;00m surf_mesh\u001b[38;5;241m.\u001b[39mendswith(\u001b[38;5;124m'\u001b[39m\u001b[38;5;124mgii.gz\u001b[39m\u001b[38;5;124m'\u001b[39m):\n",
      "File \u001b[0;32m~/.local/lib/python3.11/site-packages/nilearn/surface/surface.py:844\u001b[0m, in \u001b[0;36m_gifti_img_to_mesh\u001b[0;34m(gifti_img)\u001b[0m\n\u001b[1;32m    841\u001b[0m     coords \u001b[38;5;241m=\u001b[39m gifti_img\u001b[38;5;241m.\u001b[39mget_arrays_from_intent(\n\u001b[1;32m    842\u001b[0m         nibabel\u001b[38;5;241m.\u001b[39mnifti1\u001b[38;5;241m.\u001b[39mintent_codes[\u001b[38;5;124m'\u001b[39m\u001b[38;5;124mNIFTI_INTENT_POINTSET\u001b[39m\u001b[38;5;124m'\u001b[39m])[\u001b[38;5;241m0\u001b[39m]\u001b[38;5;241m.\u001b[39mdata\n\u001b[1;32m    843\u001b[0m \u001b[38;5;28;01mexcept\u001b[39;00m \u001b[38;5;167;01mIndexError\u001b[39;00m:\n\u001b[0;32m--> 844\u001b[0m     \u001b[38;5;28;01mraise\u001b[39;00m \u001b[38;5;167;01mValueError\u001b[39;00m(error_message\u001b[38;5;241m.\u001b[39mformat(\n\u001b[1;32m    845\u001b[0m         \u001b[38;5;124m'\u001b[39m\u001b[38;5;124mNIFTI_INTENT_POINTSET\u001b[39m\u001b[38;5;124m'\u001b[39m, gifti_img\u001b[38;5;241m.\u001b[39mget_arrays_from_intent(\n\u001b[1;32m    846\u001b[0m             nibabel\u001b[38;5;241m.\u001b[39mnifti1\u001b[38;5;241m.\u001b[39mintent_codes[\u001b[38;5;124m'\u001b[39m\u001b[38;5;124mNIFTI_INTENT_POINTSET\u001b[39m\u001b[38;5;124m'\u001b[39m])))\n\u001b[1;32m    847\u001b[0m \u001b[38;5;28;01mtry\u001b[39;00m:\n\u001b[1;32m    848\u001b[0m     faces \u001b[38;5;241m=\u001b[39m gifti_img\u001b[38;5;241m.\u001b[39mget_arrays_from_intent(\n\u001b[1;32m    849\u001b[0m         nibabel\u001b[38;5;241m.\u001b[39mnifti1\u001b[38;5;241m.\u001b[39mintent_codes[\u001b[38;5;124m'\u001b[39m\u001b[38;5;124mNIFTI_INTENT_TRIANGLE\u001b[39m\u001b[38;5;124m'\u001b[39m])[\u001b[38;5;241m0\u001b[39m]\u001b[38;5;241m.\u001b[39mdata\n",
      "\u001b[0;31mValueError\u001b[0m: The surf_mesh input is not recognized. Valid Freesurfer surface mesh inputs are: '.orig', '.pial', '.sphere', '.white', '.infla'.You provided input which have no NIFTI_INTENT_POINTSET or of empty value=[]"
     ]
    }
   ],
   "source": [
    "fs_glucest = transforms.mni152_to_fslr(nmda_nifti, '32k')\n",
    "fs_nmda = transforms.mni152_to_fslr(nmda_nifti, '32k')\n",
    "fs_gaba = transforms.mni152_to_fslr(gaba_nifti, '32k')\n",
    "fs_mglur5 = transforms.mni152_to_fslr(mglur5_nifti, '32k')\n",
    "\n",
    "gifti_lh, gifti_rh = fs_nmda\n",
    "# Save each GiftiImage as a .gii file\n",
    "nib.save(gifti_lh, 'left_hemisphere.gii')\n",
    "nib.save(gifti_rh, 'right_hemisphere.gii')\n",
    "\n",
    "print(fs_nmda)\n",
    "surf_mesh = 'left_hemisphere.gii'\n",
    "texture = load_surf_data('left_hemisphere.gii')\n",
    "plot_surf(surf_mesh, texture)"
   ]
  },
  {
   "cell_type": "code",
   "execution_count": 7,
   "id": "01ff4cf3-a6b6-423a-94d9-2fd3ecb5c619",
   "metadata": {},
   "outputs": [
    {
     "ename": "ValueError",
     "evalue": "Invalid density for fsLR space: 10k",
     "output_type": "error",
     "traceback": [
      "\u001b[0;31m---------------------------------------------------------------------------\u001b[0m",
      "\u001b[0;31mValueError\u001b[0m                                Traceback (most recent call last)",
      "Cell \u001b[0;32mIn[7], line 1\u001b[0m\n\u001b[0;32m----> 1\u001b[0m fs_glucest \u001b[38;5;241m=\u001b[39m \u001b[43mtransforms\u001b[49m\u001b[38;5;241;43m.\u001b[39;49m\u001b[43mmni152_to_fslr\u001b[49m\u001b[43m(\u001b[49m\u001b[43mnmda_nifti\u001b[49m\u001b[43m,\u001b[49m\u001b[43m \u001b[49m\u001b[38;5;124;43m'\u001b[39;49m\u001b[38;5;124;43m10k\u001b[39;49m\u001b[38;5;124;43m'\u001b[39;49m\u001b[43m)\u001b[49m\n\u001b[1;32m      2\u001b[0m fs_nmda \u001b[38;5;241m=\u001b[39m transforms\u001b[38;5;241m.\u001b[39mmni152_to_fslr(nmda_nifti, \u001b[38;5;124m'\u001b[39m\u001b[38;5;124m32k\u001b[39m\u001b[38;5;124m'\u001b[39m)\n\u001b[1;32m      3\u001b[0m fs_gaba \u001b[38;5;241m=\u001b[39m transforms\u001b[38;5;241m.\u001b[39mmni152_to_fslr(gaba_nifti, \u001b[38;5;124m'\u001b[39m\u001b[38;5;124m32k\u001b[39m\u001b[38;5;124m'\u001b[39m)\n",
      "File \u001b[0;32m~/miniforge3/envs/nmaps2/lib/python3.11/site-packages/neuromaps/transforms.py:227\u001b[0m, in \u001b[0;36mmni152_to_fslr\u001b[0;34m(img, fslr_density, method)\u001b[0m\n\u001b[1;32m    223\u001b[0m \u001b[38;5;28;01mif\u001b[39;00m fslr_density \u001b[38;5;129;01min\u001b[39;00m (\u001b[38;5;124m'\u001b[39m\u001b[38;5;124m4k\u001b[39m\u001b[38;5;124m'\u001b[39m, \u001b[38;5;124m'\u001b[39m\u001b[38;5;124m8k\u001b[39m\u001b[38;5;124m'\u001b[39m):\n\u001b[1;32m    224\u001b[0m     \u001b[38;5;28;01mraise\u001b[39;00m \u001b[38;5;167;01mNotImplementedError\u001b[39;00m(\u001b[38;5;124m'\u001b[39m\u001b[38;5;124mCannot perform registration fusion to \u001b[39m\u001b[38;5;124m'\u001b[39m\n\u001b[1;32m    225\u001b[0m                               \u001b[38;5;124mf\u001b[39m\u001b[38;5;124m'\u001b[39m\u001b[38;5;124mfsLR \u001b[39m\u001b[38;5;132;01m{\u001b[39;00mfslr_density\u001b[38;5;132;01m}\u001b[39;00m\u001b[38;5;124m space yet.\u001b[39m\u001b[38;5;124m'\u001b[39m)\n\u001b[0;32m--> 227\u001b[0m \u001b[38;5;28;01mreturn\u001b[39;00m \u001b[43m_vol_to_surf\u001b[49m\u001b[43m(\u001b[49m\u001b[43mimg\u001b[49m\u001b[43m,\u001b[49m\u001b[43m \u001b[49m\u001b[38;5;124;43m'\u001b[39;49m\u001b[38;5;124;43mfsLR\u001b[39;49m\u001b[38;5;124;43m'\u001b[39;49m\u001b[43m,\u001b[49m\u001b[43m \u001b[49m\u001b[43mfslr_density\u001b[49m\u001b[43m,\u001b[49m\u001b[43m \u001b[49m\u001b[43mmethod\u001b[49m\u001b[43m)\u001b[49m\n",
      "File \u001b[0;32m~/miniforge3/envs/nmaps2/lib/python3.11/site-packages/neuromaps/transforms.py:143\u001b[0m, in \u001b[0;36m_vol_to_surf\u001b[0;34m(img, space, density, method)\u001b[0m\n\u001b[1;32m    141\u001b[0m     \u001b[38;5;28;01mraise\u001b[39;00m \u001b[38;5;167;01mValueError\u001b[39;00m(\u001b[38;5;124mf\u001b[39m\u001b[38;5;124m'\u001b[39m\u001b[38;5;124mInvalid space argument: \u001b[39m\u001b[38;5;132;01m{\u001b[39;00mspace\u001b[38;5;132;01m}\u001b[39;00m\u001b[38;5;124m'\u001b[39m)\n\u001b[1;32m    142\u001b[0m \u001b[38;5;28;01mif\u001b[39;00m density \u001b[38;5;129;01mnot\u001b[39;00m \u001b[38;5;129;01min\u001b[39;00m DENSITIES[space]:\n\u001b[0;32m--> 143\u001b[0m     \u001b[38;5;28;01mraise\u001b[39;00m \u001b[38;5;167;01mValueError\u001b[39;00m(\u001b[38;5;124mf\u001b[39m\u001b[38;5;124m'\u001b[39m\u001b[38;5;124mInvalid density for \u001b[39m\u001b[38;5;132;01m{\u001b[39;00mspace\u001b[38;5;132;01m}\u001b[39;00m\u001b[38;5;124m space: \u001b[39m\u001b[38;5;132;01m{\u001b[39;00mdensity\u001b[38;5;132;01m}\u001b[39;00m\u001b[38;5;124m'\u001b[39m)\n\u001b[1;32m    144\u001b[0m \u001b[38;5;28;01mif\u001b[39;00m method \u001b[38;5;129;01mnot\u001b[39;00m \u001b[38;5;129;01min\u001b[39;00m (\u001b[38;5;124m'\u001b[39m\u001b[38;5;124mnearest\u001b[39m\u001b[38;5;124m'\u001b[39m, \u001b[38;5;124m'\u001b[39m\u001b[38;5;124mlinear\u001b[39m\u001b[38;5;124m'\u001b[39m):\n\u001b[1;32m    145\u001b[0m     \u001b[38;5;28;01mraise\u001b[39;00m \u001b[38;5;167;01mValueError\u001b[39;00m(\u001b[38;5;124m'\u001b[39m\u001b[38;5;124mInvalid method argument: \u001b[39m\u001b[38;5;132;01m{method}\u001b[39;00m\u001b[38;5;124m'\u001b[39m)\n",
      "\u001b[0;31mValueError\u001b[0m: Invalid density for fsLR space: 10k"
     ]
    }
   ],
   "source": [
    "\n",
    "#fsavg_lh, fsavg_rh = fsavg\n",
    "print(fs_glucest)\n",
    "#print(fsavg_lh.agg_data().shape)\n",
    "\n",
    "rotated = nulls.alexander_bloch(fs_glucest, atlas='fslr', density='10k',\n",
    "                                n_perm=10, seed=1234, parcellation=fs_glucest)\n"
   ]
  },
  {
   "cell_type": "code",
   "execution_count": null,
   "id": "41f19822-7359-465e-aad2-3ee5d1d3cfc7",
   "metadata": {},
   "outputs": [],
   "source": [
    "from neuromaps import parcellate\n",
    "destrieux = parcellate.Parcellater(parcellation, 'fsaverage').fit()\n",
    "neurosynth_parc = destrieux.transform(neurosynth, 'fsaverage')\n",
    "abagen_parc = destrieux.transform(abagen, 'fsaverage')\n",
    "# print(neurosynth_parc.shape, abagen_parc.shape)\n",
    "\n",
    "\n",
    "rotated = nulls.alexander_bloch(neurosynth_parc, atlas='fsaverage', density='10k',\n",
    "                                n_perm=100, seed=1234, parcellation=parcellation)\n",
    "print(rotated.shape)"
   ]
  },
  {
   "cell_type": "code",
   "execution_count": null,
   "id": "15029dc1-7ce3-40a9-8b4c-f36068e750df",
   "metadata": {},
   "outputs": [],
   "source": [
    "# Warp each subject's parcellated data? \n",
    "# We have:\n",
    "#    Parcellated atlas file in subject space\n",
    "#    Subject-MNI transform\n",
    "#    Average parcel value   \n",
    "#    Standardize warp from MNI to fsLR or fsavg space\n",
    "\n",
    "# Goal: \n",
    "#    Use \n",
    "\n",
    "# 1. Repopulate parcels in subject slice with average parcel value\n",
    "\n",
    "### Inputs: subject slice nifti, CSV with parcels/values,\n",
    "\n",
    "# 2. Project that to surface "
   ]
  },
  {
   "cell_type": "code",
   "execution_count": null,
   "id": "4eb2a45c-d29e-4eea-9396-496ca06072de",
   "metadata": {},
   "outputs": [],
   "source": []
  },
  {
   "cell_type": "code",
   "execution_count": null,
   "id": "62b26b69-c611-4d8e-a5ce-1fe3c3862715",
   "metadata": {},
   "outputs": [],
   "source": []
  },
  {
   "cell_type": "code",
   "execution_count": null,
   "id": "6990e532-ef17-4daa-946f-306fa8d2b35d",
   "metadata": {},
   "outputs": [],
   "source": [
    "schaefer_nifti = nib.load('/Users/pecsok/projects/Neuromaps/pecsok_pfns/neuromaps/data/test_masks/Schaefer2018_1000Parcels_17Networks_order_FSLMNI152_1mm.nii.gz')\n",
    "schaefer_data = schaefer_nifti.get_fdata()\n",
    "\n",
    "# CEST DATA\n",
    "datapath = '/Users/pecsok/projects/Neuromaps/hansen_receptors/'\n",
    "figpath = '/Users/pecsok/projects/GluCEST-fMRI/glucest-rsfmri/fmri_pipeline/parcellated_pipeline/figures'\n",
    "cestavg_df = pd.DataFrame(index=range(1, 1001), columns=['CESTavg'])\n",
    "cestavg_df['CESTavg'] = np.nan  # Initialize all values to 0\n",
    "for _, row in cestdf.iterrows():\n",
    "    # Extract parcel ID number using regex\n",
    "    match = re.search(r'(\\d+)', row['parcel'])\n",
    "    if match:\n",
    "        parcel_id = int(match.group(1))\n",
    "        # Add CESTavg data to corresponding row in the new DataFrame\n",
    "        if 1 <= parcel_id <= 1000:  # Ensure the parcel ID is within range\n",
    "            cestavg_df.at[parcel_id, 'CESTavg'] = row['CESTavg']\n",
    "            \n",
    "for i, row in cestavg_df.iterrows():\n",
    "    parcel_id = i\n",
    "    value = row['CESTavg']\n",
    "print(cestavg_df)\n",
    "\n",
    "    \n",
    "parcel_values = pd.DataFrame({\n",
    "    'parcel_id': range(1, 1001),  # Parcel IDs should range from 1 to 1000\n",
    "    'value': cestavg_df['CESTavg'] # np.random.rand(1000)  # Replace with your actual values\n",
    "})\n",
    "print(parcel_values)\n",
    "\n",
    "\n",
    "# Create a copy of the Schaefer atlas array to modify\n",
    "new_schaefer_data = np.zeros(schaefer_data.shape)\n",
    "\n",
    "# Loop through each parcel and assign the corresponding value from your DataFrame\n",
    "for i, row in parcel_values.iterrows():\n",
    "    parcel_id = row['parcel_id']\n",
    "    value = row['value']\n",
    "    \n",
    "    # Assign the value to all voxels belonging to the current parcel ID\n",
    "    new_schaefer_data[schaefer_data == parcel_id] = value\n",
    "\n",
    "# Create a new NIfTI image with the updated data\n",
    "new_nifti = nib.Nifti1Image(new_schaefer_data, affine=schaefer_nifti.affine, header=schaefer_nifti.header)\n",
    "\n",
    "# Save the new NIfTI file\n",
    "new_nifti.to_filename('updated_schaefer_atlas.nii.gz')"
   ]
  }
 ],
 "metadata": {
  "kernelspec": {
   "display_name": "Python 3 (ipykernel)",
   "language": "python",
   "name": "python3"
  },
  "language_info": {
   "codemirror_mode": {
    "name": "ipython",
    "version": 3
   },
   "file_extension": ".py",
   "mimetype": "text/x-python",
   "name": "python",
   "nbconvert_exporter": "python",
   "pygments_lexer": "ipython3",
   "version": "3.11.0"
  }
 },
 "nbformat": 4,
 "nbformat_minor": 5
}
