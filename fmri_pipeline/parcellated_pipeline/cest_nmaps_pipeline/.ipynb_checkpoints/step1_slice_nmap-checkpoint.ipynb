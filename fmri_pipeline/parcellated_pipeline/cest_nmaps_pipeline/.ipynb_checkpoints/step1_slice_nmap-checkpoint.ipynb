{
 "cells": [
  {
   "cell_type": "markdown",
   "id": "38e45b22-d9b0-4f97-a151-f923cb4a393b",
   "metadata": {},
   "source": [
    "# Extract2Slice"
   ]
  },
  {
   "cell_type": "markdown",
   "id": "38cdb3a7-3147-4035-b2c1-1bacc5accbe7",
   "metadata": {},
   "source": [
    "This script:\n",
    "1. Loops through subjects and loads in structural data\n",
    "2. Warps and slices nmap\n",
    "3. Extracts ROI data"
   ]
  },
  {
   "cell_type": "markdown",
   "id": "7982cff0-ab85-4c8c-89fa-27bd18e169cb",
   "metadata": {},
   "source": [
    "## Load Packages"
   ]
  },
  {
   "cell_type": "code",
   "execution_count": 1,
   "id": "f448dad2-778b-4eda-a131-10b30669ddf5",
   "metadata": {},
   "outputs": [],
   "source": [
    "import os\n",
    "import numpy as np\n",
    "import pandas as pd\n",
    "import nilearn\n",
    "from nilearn import image as nimage\n",
    "from nilearn.masking import apply_mask\n",
    "import neuromaps\n",
    "from neuromaps.images import (load_nifti, load_data)\n",
    "from neuromaps.resampling import resample_images\n",
    "import nibabel as nib\n",
    "import os\n",
    "import ants\n",
    "from ants import image_read, apply_transforms\n",
    "from nilearn.datasets import fetch_atlas_harvard_oxford"
   ]
  },
  {
   "cell_type": "markdown",
   "id": "b318884b-a968-4698-abd7-27b6c7ca8c47",
   "metadata": {},
   "source": [
    "## Set variables"
   ]
  },
  {
   "cell_type": "code",
   "execution_count": 38,
   "id": "6fc98b88-4751-46e6-81d1-906cfa5b54e3",
   "metadata": {},
   "outputs": [],
   "source": [
    "# Set path for downloading neuromaps data\n",
    "root = '/Users/pecsok/Desktop/ImageData/PMACS_remote'\n",
    "\n",
    "cest_path = root + '/data/cest'\n",
    "#nmaps_path = ' /Users/pecsok/projects/GluCEST-fMRI/glucest-rsfmri/fmri_pipeline/parcellated_pipeline/cest_nmaps_pipeline/'\n",
    "#nmaps_path = ' /Users/Desktop/'\n",
    "# nmaps_path = root + '/data/nmaps'\n",
    "nmaps_path = '/Users/pecsok/projects/Neuromaps/pecsok_pfns/neuromaps/data/maps/'\n",
    "outpath = root + '/data/nmaps/sandbox'\n",
    "\n",
    "\n",
    "structural_path = root + '/data/cest/preprocessed'\n",
    "subjlist_csv = root + '/data/subject_list_031124.csv'\n",
    "#subjlist = pd.read_csv(subjlist_csv)\n",
    "\n",
    "nmaps = [\"NMDA\",\"GABA\"] #,\"mGluR5\"\n",
    "#nmaps = (root + '/data/nmaps/average_mGluR', root + '/data/nmaps/average_NMDA')"
   ]
  },
  {
   "cell_type": "code",
   "execution_count": 39,
   "id": "45fa2ef4-03c9-4775-a593-9421be5baa93",
   "metadata": {},
   "outputs": [],
   "source": [
    "structural_path = '/Users/pecsok/Desktop'\n",
    "outpath = '/Users/pecsok/Desktop'\n",
    "nmaps_path = '/Users/pecsok/Desktop'\n",
    "atlas = 'Schaefer2018_1000Parcels_17Networks'\n",
    "\n",
    "native_nmaps = {}\n",
    "sliced_nmaps = {}\n",
    "extracted_nmaps = {}\n",
    "case='20303_12234'"
   ]
  },
  {
   "cell_type": "markdown",
   "id": "53e7929a-5f8a-4765-927c-0776216d5072",
   "metadata": {},
   "source": [
    "### Defines Functions"
   ]
  },
  {
   "cell_type": "code",
   "execution_count": 107,
   "id": "1dc34748-5ef0-46ac-8cf2-a3ceb54f0c87",
   "metadata": {},
   "outputs": [],
   "source": [
    "def warp_nmap(struct, nmap, xfm):\n",
    "    # This function warps the nmap to subject space.\n",
    "    mapnii = os.path.join(nmaps_path, 'resampled_' + nmap + '.nii.gz')\n",
    "    nmap_native = apply_transforms(fixed=struct, moving=image_read(mapnii),\n",
    "                                      transformlist=xfm['fwdtransforms'], interpolator='nearestNeighbor')\n",
    "    # save it out\n",
    "    outfile = os.path.join(outpath,case + nmap + '_nativespace.nii.gz')\n",
    "    nmap_native.to_filename(outfile)\n",
    "    return {nmap: outfile}\n",
    "    \n",
    "\n",
    "def slice_nmap(atlas, nmap, nmap_path):\n",
    "    # Set paths\n",
    "    atlas_path = os.path.join(structural_path, case, case + '-cest-' + atlas + '.nii.gz')\n",
    "    outfile = os.path.join(outpath, case, case + '-sliced-' + nmap + '.nii.gz')\n",
    "    print(outfile)\n",
    "    # Create an identity transform in ITK format \n",
    "    identity_transform = sitk.Transform(3, sitk.sitkIdentity)\n",
    "    # Apply SITK Transform\n",
    "    vol_sitk = sitk.ReadImage(nmap_path)\n",
    "    slice_sitk = sitk.ReadImage(atlas_path)\n",
    "    resampler = sitk.ResampleImageFilter()\n",
    "    resampler.SetReferenceImage(slice_sitk)\n",
    "    resampler.SetTransform(identity_transform)\n",
    "    resampled_vol = resampler.Execute(vol_sitk)\n",
    "    # Save output\n",
    "    sitk.WriteImage(resampled_vol, outfile) \n",
    "    return {nmap: outfile}\n",
    "\n",
    "\n",
    "def extract_nmap(atlas, nmap, case, nmap_path):\n",
    "    # Set empty vars\n",
    "    avg_values = []\n",
    "    num_voxels = []\n",
    "    subject_dict = {'Subject': case} \n",
    "    print(subject_dict)\n",
    "    subject_results = []\n",
    "    \n",
    "    # Load in data\n",
    "    atlas_path = os.path.join(structural_path, case, case + '-cest-' + atlas + '.nii.gz')\n",
    "    masknii = nib.load(atlas_path)\n",
    "    nmapnii = nib.load(sliced_nmaps[nmap])\n",
    "    mask_data = masknii.get_fdata()\n",
    "    nmap_data = nmapnii.get_fdata()\n",
    "    # Get parcel values and remove 0\n",
    "    mask_values = np.unique(mask_data)\n",
    "    mask_values = mask_values[mask_values != 0]\n",
    "    \n",
    "    # Loop over each unique value in the mask\n",
    "    for value in mask_values:\n",
    "        # Mask parcel\n",
    "        section_mask = (mask_data == value)\n",
    "        receptor_values = nmap_data[section_mask]\n",
    "        # Average & num voxels\n",
    "        avg_value = receptor_values.mean()\n",
    "        num_voxel = np.sum(section_mask)\n",
    "        subject_dict[f'{value}_Mean'] = avg_value\n",
    "        subject_dict[f'{value}_Count'] = num_voxel\n",
    "    # Save it out like a baller\n",
    "    subject_results.append(subject_dict)\n",
    "    results_df = pd.DataFrame(subject_results)\n",
    "    return {nmap: results_df}\n",
    "    "
   ]
  },
  {
   "cell_type": "markdown",
   "id": "727fdb39-3cfe-49ee-8f88-e3428063561d",
   "metadata": {},
   "source": [
    "## Loop through subjects and extract nmaps slice data"
   ]
  },
  {
   "cell_type": "code",
   "execution_count": 42,
   "id": "01b70dab-14ca-4770-8785-8e62a2ac6eaf",
   "metadata": {},
   "outputs": [
    {
     "name": "stdout",
     "output_type": "stream",
     "text": [
      "xfm created\n"
     ]
    }
   ],
   "source": [
    "# Loop through subjects\n",
    "#for index, row in subjlist.iterrows():\n",
    "#    bblid = str(int(row['BBLID']))\n",
    "#    ses = str(int(row['SCANID_CEST']))\n",
    "#    case = bblid + \"_\" + ses\n",
    "#    print(case)\n",
    "\n",
    "case='20303_12234'\n",
    "\n",
    "# Read in structural data and make ants transform\n",
    "struct = ants.image_read(os.path.join(structural_path, case, case + '-UNI_masked.nii.gz'))\n",
    "struct_mni = ants.image_read(os.path.join(structural_path, case, 'MNI_transforms/', case + '-UNIinMNI-Warped.nii.gz'))\n",
    "xfm = ants.registration(fixed=struct, moving=struct_mni,\n",
    "                        type_of_transform='SyN', outprefix=outpath)\n",
    "print(\"xfm created\")\n"
   ]
  },
  {
   "cell_type": "code",
   "execution_count": 109,
   "id": "83a2815e-0380-4921-9f6b-d9f6f9d5d1c8",
   "metadata": {},
   "outputs": [
    {
     "name": "stdout",
     "output_type": "stream",
     "text": [
      "/Users/pecsok/Desktop/20303_12234/20303_12234-sliced-NMDA.nii.gz\n",
      "{'Subject': '20303_12234'}\n",
      "{'NMDA':        Subject  501.0_Mean  501.0_Count  502.0_Mean  502.0_Count  504.0_Mean  \\\n",
      "0  20303_12234    5.143796           40    7.742624           78    5.729826   \n",
      "\n",
      "   504.0_Count  516.0_Mean  516.0_Count  518.0_Mean  ...  961.0_Mean  \\\n",
      "0           97    4.751892            1    5.956828  ...     7.04145   \n",
      "\n",
      "   961.0_Count  962.0_Mean  962.0_Count  972.0_Mean  972.0_Count  973.0_Mean  \\\n",
      "0          137    6.871419           60    6.656556           37    7.679665   \n",
      "\n",
      "   973.0_Count  974.0_Mean  974.0_Count  \n",
      "0           58    7.951492            7  \n",
      "\n",
      "[1 rows x 237 columns]}\n",
      "/Users/pecsok/Desktop/20303_12234/20303_12234-sliced-GABA.nii.gz\n",
      "{'Subject': '20303_12234'}\n",
      "{'NMDA':        Subject  501.0_Mean  501.0_Count  502.0_Mean  502.0_Count  504.0_Mean  \\\n",
      "0  20303_12234    5.143796           40    7.742624           78    5.729826   \n",
      "\n",
      "   504.0_Count  516.0_Mean  516.0_Count  518.0_Mean  ...  961.0_Mean  \\\n",
      "0           97    4.751892            1    5.956828  ...     7.04145   \n",
      "\n",
      "   961.0_Count  962.0_Mean  962.0_Count  972.0_Mean  972.0_Count  973.0_Mean  \\\n",
      "0          137    6.871419           60    6.656556           37    7.679665   \n",
      "\n",
      "   973.0_Count  974.0_Mean  974.0_Count  \n",
      "0           58    7.951492            7  \n",
      "\n",
      "[1 rows x 237 columns], 'GABA':        Subject  501.0_Mean  501.0_Count  502.0_Mean  502.0_Count  504.0_Mean  \\\n",
      "0  20303_12234   53.022225           40   88.882565           78   61.317794   \n",
      "\n",
      "   504.0_Count  516.0_Mean  516.0_Count  518.0_Mean  ...  961.0_Mean  \\\n",
      "0           97   64.135941            1   61.013042  ...   56.459443   \n",
      "\n",
      "   961.0_Count  962.0_Mean  962.0_Count  972.0_Mean  972.0_Count  973.0_Mean  \\\n",
      "0          137   50.290467           60   49.322644           37   75.061416   \n",
      "\n",
      "   973.0_Count  974.0_Mean  974.0_Count  \n",
      "0           58   91.115453            7  \n",
      "\n",
      "[1 rows x 237 columns]}\n"
     ]
    }
   ],
   "source": [
    "for nmap in nmaps:        \n",
    "    # Warp it\n",
    "    native_nmap = warp_nmap(struct,nmap, xfm)\n",
    "    native_nmaps.update(native_nmap) # Store path to native nmap\n",
    "    # Slice it\n",
    "    sliced_nmap = slice_nmap(atlas, nmap, native_nmaps[nmap])\n",
    "    sliced_nmaps.update(sliced_nmap) # Store path to sliced nmap\n",
    "    # Bop it (extract)\n",
    "    extracted_nmap = extract_nmap(atlas, nmap, case, native_nmaps['NMDA'])\n",
    "    extracted_nmaps.update(extracted_nmap)\n",
    "    print(extracted_nmaps)\n"
   ]
  },
  {
   "cell_type": "code",
   "execution_count": null,
   "id": "f285070c-c076-4e77-81e6-9aa6719f9561",
   "metadata": {},
   "outputs": [],
   "source": []
  },
  {
   "cell_type": "code",
   "execution_count": null,
   "id": "c4c95fae-49a1-4dc1-a931-b23bc7a954aa",
   "metadata": {},
   "outputs": [],
   "source": []
  }
 ],
 "metadata": {
  "kernelspec": {
   "display_name": "Python 3 (ipykernel)",
   "language": "python",
   "name": "python3"
  },
  "language_info": {
   "codemirror_mode": {
    "name": "ipython",
    "version": 3
   },
   "file_extension": ".py",
   "mimetype": "text/x-python",
   "name": "python",
   "nbconvert_exporter": "python",
   "pygments_lexer": "ipython3",
   "version": "3.11.0"
  }
 },
 "nbformat": 4,
 "nbformat_minor": 5
}
