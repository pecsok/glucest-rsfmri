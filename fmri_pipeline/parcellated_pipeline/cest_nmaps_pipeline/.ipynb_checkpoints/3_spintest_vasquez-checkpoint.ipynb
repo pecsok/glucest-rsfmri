{
 "cells": [
  {
   "cell_type": "markdown",
   "id": "eaf5bad8-d06d-4c67-ac91-b5eca861924a",
   "metadata": {},
   "source": [
    "### Spin Test \n",
    "This script projects data to surface space and performs a spin test"
   ]
  },
  {
   "cell_type": "markdown",
   "id": "20d1a234-a816-4e64-b739-be26eb24ef96",
   "metadata": {},
   "source": [
    "#### Import Packages"
   ]
  },
  {
   "cell_type": "code",
   "execution_count": 1,
   "id": "b552c33e-f388-4568-928e-a64de3e6c674",
   "metadata": {},
   "outputs": [],
   "source": [
    "import numpy as np\n",
    "import pandas as pd\n",
    "import netneurotools.stats as stats\n",
    "from neuromaps.datasets import fetch_atlas\n",
    "from nilearn.datasets import fetch_atlas_schaefer_2018\n",
    "from netneurotools.datasets import fetch_schaefer2018\n",
    "import neuromaps\n",
    "import nibabel as nib\n",
    "from neuromaps.parcellate import Parcellater\n",
    "from neuromaps import transforms\n",
    "from neuromaps import nulls\n",
    "from nilearn.plotting import plot_surf\n",
    "from nilearn.surface import load_surf_data\n",
    "from nilearn import surface, plotting, datasets\n",
    "from neuromaps import datasets, images, nulls, resampling, stats"
   ]
  },
  {
   "cell_type": "markdown",
   "id": "e3a62312-7baf-4cd5-9a7d-1c72bcd764a1",
   "metadata": {},
   "source": [
    "#### Set Paths and Variables"
   ]
  },
  {
   "cell_type": "code",
   "execution_count": 42,
   "id": "44ecf780-95d8-4ed8-b8ea-3461e3204ba3",
   "metadata": {},
   "outputs": [
    {
     "name": "stdout",
     "output_type": "stream",
     "text": [
      "[('abagen', 'genepc1', 'fsaverage', '10k')]\n",
      "                                 hstatus  CEST_avg      NMDA    mGluR5  \\\n",
      "Parcel                                                                   \n",
      "17Networks_RH_ContA_Cingm_1           HC -0.239851 -0.515943 -0.290452   \n",
      "17Networks_RH_ContA_Cingm_1          PSY -0.235165 -0.478070 -0.286724   \n",
      "17Networks_RH_ContA_Cingm_2           HC -0.255432 -0.662924 -0.352973   \n",
      "17Networks_RH_ContA_Cingm_2          PSY -0.260417 -0.608125 -0.341912   \n",
      "17Networks_RH_ContB_PFCmp_1           HC -0.102085  0.665146  0.898630   \n",
      "...                                  ...       ...       ...       ...   \n",
      "17Networks_RH_VisPeri_ExStrSup_7     PSY  0.450614  0.819882  1.357389   \n",
      "17Networks_RH_VisPeri_StriCal_3       HC  1.342156 -0.013643  0.141399   \n",
      "17Networks_RH_VisPeri_StriCal_3      PSY  1.096243  0.003004  0.171412   \n",
      "17Networks_RH_VisPeri_StriCal_5       HC  1.024538  0.177231  0.461898   \n",
      "17Networks_RH_VisPeri_StriCal_5      PSY  0.917279  0.039007  0.428818   \n",
      "\n",
      "                                      GABA  \n",
      "Parcel                                      \n",
      "17Networks_RH_ContA_Cingm_1      -0.823318  \n",
      "17Networks_RH_ContA_Cingm_1      -0.835636  \n",
      "17Networks_RH_ContA_Cingm_2      -0.831129  \n",
      "17Networks_RH_ContA_Cingm_2      -0.837279  \n",
      "17Networks_RH_ContB_PFCmp_1       0.642155  \n",
      "...                                    ...  \n",
      "17Networks_RH_VisPeri_ExStrSup_7  1.698075  \n",
      "17Networks_RH_VisPeri_StriCal_3   1.371713  \n",
      "17Networks_RH_VisPeri_StriCal_3   1.413359  \n",
      "17Networks_RH_VisPeri_StriCal_5   1.570615  \n",
      "17Networks_RH_VisPeri_StriCal_5   1.501366  \n",
      "\n",
      "[134 rows x 5 columns]\n",
      "/Users/pecsok/nilearn_data/schaefer_2018/Schaefer2018_400Parcels_17Networks_order_FSLMNI152_1mm.nii.gz\n"
     ]
    }
   ],
   "source": [
    "dataset = 'longglucest_outputmeasures2'\n",
    "atlas = 'Schaefer2018_1000Parcels_17Networks'\n",
    "nmaps = [\"NMDA\", \"mGluR5\", \"GABA\"]\n",
    "maps = [\"cest\", \"NMDA\", \"mGluR5\", \"GABA\"]\n",
    "n_permute = 10\n",
    "\n",
    "# Set paths\n",
    "inpath = \"/Users/pecsok/Desktop/ImageData/PMACS_remote/data/nmaps/analyses/\" + atlas\n",
    "outpath = \"/Users/pecsok/Desktop/ImageData/PMACS_remote/data/nmaps/analyses/\" + atlas\n",
    "\n",
    "# Read in data\n",
    "receptor_df = pd.read_csv(\"/Users/pecsok/projects/Neuromaps/pecsok_pfns/neuromaps/results/receptor_data_scale1000_17.csv\", sep=',')\n",
    "means= pd.read_csv(inpath + '/means_subjectnmaps_' + dataset + '_' + atlas + '.csv', sep=',')\n",
    "means[\"Parcel\"] = means[\"Parcel\"].str.replace(' NZMean', '', regex=False)\n",
    "means.set_index('Parcel', inplace = True)\n",
    "\n",
    "# Fetch Schaefer 2018 atlas coordinates (for example)\n",
    "schaefer = fetch_atlas_schaefer_2018(n_rois=400, yeo_networks=17)\n",
    "labels = schaefer['labels']  # These are the MNI coordinates of the parcels\n",
    "labels = [label.decode('utf-8') for label in labels]\n",
    "schaefernifti = schaefer['maps']\n",
    "abagen = datasets.available_annotations(source='abagen', desc='genepc1',\n",
    "                                       space='fsaverage', den='10k')\n",
    "\n",
    "print(means)\n",
    "print(schaefernifti)"
   ]
  },
  {
   "cell_type": "markdown",
   "id": "7498063b-2719-44f1-b029-5431a01c441a",
   "metadata": {},
   "source": [
    "### Generate permutations"
   ]
  },
  {
   "cell_type": "code",
   "execution_count": 48,
   "id": "1661944d-efae-4b78-b814-609dacf0fb55",
   "metadata": {},
   "outputs": [
    {
     "name": "stderr",
     "output_type": "stream",
     "text": [
      "pixdim[1,2,3] should be non-zero; setting 0 dims to 1\n"
     ]
    },
    {
     "name": "stdout",
     "output_type": "stream",
     "text": [
      "(900, 10)\n"
     ]
    }
   ],
   "source": [
    "# More efficient way (thanks @Golia!!)\n",
    "# Convert cifti to gifti\n",
    "\n",
    "# Fetch surface Schaefer \n",
    "schaefer_cifti_path = '/Users/pecsok/neuromaps-data/atlases/fsLR/Schaefer2018_900Parcels_17Networks_order.dlabel.nii'\n",
    "\n",
    "schaefer_gifti = images.dlabel_to_gifti(schaefer_cifti_path)\n",
    "# Spin indices\n",
    "spin_index = nulls.vazquez_rodriguez(data=None, atlas='fsLR', density='32k',\n",
    "                                     n_perm=10, seed=1234, parcellation=schaefer_gifti)\n",
    "\n",
    "print(spin_index.shape)\n",
    "#nib.save(schaefer_gifti[0], '~/Desktop/schaefergiftiL.gii') #,'~/Desktop/schaefergiftiR.gii'"
   ]
  },
  {
   "cell_type": "code",
   "execution_count": null,
   "id": "82398640-2ccc-4668-89ee-5069b42f2a78",
   "metadata": {},
   "outputs": [],
   "source": [
    "annot_rh_schaefer = '/Users/pecsok/neuromaps-data/atlases/fsaverage/lh.Schaefer2018_1000Parcels_17Networks_order.annot'\n",
    "annot_lh_schaefer = '/Users/pecsok/neuromaps-data/atlases/fsaverage/rh.Schaefer2018_1000Parcels_17Networks_order.annot'\n",
    "\n",
    "schaefer_fsgifti = images.annot_to_gifti((annot_lh_schaefer, annot_rh_schaefer))\n",
    "spin_index = nulls.vazquez_rodriguez(data=None, atlas='fsaverage', density='164k', \n",
    "                                     n_perm=10000, seed=1234, parcellation=schaefer_fsgifti)"
   ]
  },
  {
   "cell_type": "code",
   "execution_count": 77,
   "id": "f59db0d0-c855-48a2-a918-d215e5625658",
   "metadata": {
    "scrolled": true
   },
   "outputs": [
    {
     "name": "stdout",
     "output_type": "stream",
     "text": [
      "       0    1    2    3    4    5    6    7    8    9\n",
      "0     29  171  121   35   64   68   45  152    2  149\n",
      "1    131  192   19   24   56  174  125   35  120    1\n",
      "2    129  116   15   23   73  137  136   34  167   62\n",
      "3    101  192   17   11   57   87  126   77   90   61\n",
      "4    129  116   14   11   74  123  150   28  195   60\n",
      "..   ...  ...  ...  ...  ...  ...  ...  ...  ...  ...\n",
      "398  348  216  222  209  345  253  234  330  385  215\n",
      "399  384  219  365  217  344  250  241  343  350  215\n",
      "400  291  389  369  221  310  247  245  327  349  218\n",
      "401  384  389  365  217  363  250  283  343  307  216\n",
      "402  325  389  367  218  309  248  238  362  351  216\n",
      "\n",
      "[403 rows x 10 columns]\n",
      "         0     1     2     3     4     5     6     7     8     9\n",
      "0      312  2168  1626   423  1013   854   568  1995    17  1899\n",
      "1     1550  1418  1397  2175   435  2271   219   578   961  1338\n",
      "2     1117    52  1595   458  2398    82   974  1188     0   834\n",
      "3     2277  2306  1699  1126  1996  2234  1310  2401   719  1511\n",
      "4     1682  2383   219   278   712  2208  1666   427  1525    12\n",
      "...    ...   ...   ...   ...   ...   ...   ...   ...   ...   ...\n",
      "4858  4405  4420  4541  2694  3680  3056  2920  4415  4342  2680\n",
      "4859  4328  4420  4541  2696  3830  3049  3064  4482  3981  2501\n",
      "4860  3412  4758  4550  2701  3830  3290  2989  4523  4342  2461\n",
      "4861  4328  4420  4541  2696  3680  3058  3064  4408  4229  2680\n",
      "4862  3412  4758  4554  2701  3830  3160  2918  4623  4068  2461\n",
      "\n",
      "[4863 rows x 10 columns]\n",
      "10242\n"
     ]
    },
    {
     "data": {
      "text/plain": [
       "\"\\n\\nfsavg_l, fsavg_r = fsavg_gii[0], fsavg_gii[1]\\n\\nfslr_left_infl = nib.load(fslr['inflated'].L)\\nvertices = fslr_left_infl.agg_data('NIFTI_INTENT_POINTSET')\\n\\n\\n\\nprint(fsavg_gii[0])\\n\\n\\n#print(lpermutations_df.columns))\\nprint(len(permutations_df.index))\\n\\n#Fix not sure why there are 1001 rows in permutation matrix. \\n#  Why is there an extra parcel??\\n\""
      ]
     },
     "execution_count": 77,
     "metadata": {},
     "output_type": "execute_result"
    }
   ],
   "source": [
    "# Project to surface\n",
    "schaefer_surf1 = transforms.mni152_to_fsaverage(schaefer['maps'], fsavg_density='10k', method='nearest')\n",
    "# Permute parcels\n",
    "permutations1 = nulls.vazquez_rodriguez(data=None, atlas='fsaverage', density='10k', \n",
    "                                  n_perm=n_permute, seed=1234, parcellation=schaefer_surf1)\n",
    "# Inspect dataframe\n",
    "permutations_df = pd.DataFrame(permutations1)\n",
    "permutations_df.to_csv('~/Desktop/permutations400.csv', index=True)\n",
    "print(permutations_df)\n",
    "\n",
    "\n",
    "# Project to surface\n",
    "schaefer_surf2, abagen = resampling.resample_images(schaefernifti, abagen, 'MNI152', 'fsaverage')\n",
    "permutations2 = nulls.vazquez_rodriguez(data=None, atlas='fsaverage', density='10k', \n",
    "                                  n_perm=n_permute, seed=1234, parcellation=schaefer_surf2)\n",
    "\n",
    "permutations_df2 = pd.DataFrame(permutations2)\n",
    "permutations_df2.to_csv('~/Desktop/permutations.csv', index=True)\n",
    "print(permutations_df2)\n",
    "\n",
    "\n",
    "\n",
    "#permutationsvol = nulls.vazquez_rodriguez(data=None, atlas='mni152', density='1mm',\n",
    "#                                 n_perm=n_permute, seed=1234, parcellation=schaefernifti)\n",
    "\n",
    "\n",
    "fsavg_atlas = fetch_atlas('fsaverage', '10k')\n",
    "fsavg_gii = nib.load(fsavg_atlas['sphere'].L)\n",
    "vertices = fsavg_gii.agg_data('NIFTI_INTENT_POINTSET')\n",
    "print(vertices.shape[0])\n",
    "\n",
    "\"\"\"\n",
    "\n",
    "fsavg_l, fsavg_r = fsavg_gii[0], fsavg_gii[1]\n",
    "\n",
    "fslr_left_infl = nib.load(fslr['inflated'].L)\n",
    "vertices = fslr_left_infl.agg_data('NIFTI_INTENT_POINTSET')\n",
    "\n",
    "\n",
    "\n",
    "print(fsavg_gii[0])\n",
    "\n",
    "\n",
    "#print(lpermutations_df.columns))\n",
    "print(len(permutations_df.index))\n",
    "\n",
    "#Fix not sure why there are 1001 rows in permutation matrix. \n",
    "#  Why is there an extra parcel??\n",
    "\"\"\""
   ]
  },
  {
   "cell_type": "code",
   "execution_count": 56,
   "id": "6da8afe3-e604-4f05-961c-3c97993e49d3",
   "metadata": {},
   "outputs": [
    {
     "name": "stdout",
     "output_type": "stream",
     "text": [
      "         NMDA    mGluR5     GABAa        D2\n",
      "0    0.222071 -1.676590  0.454865 -1.793413\n",
      "1   -0.498181 -1.582004  0.778041 -1.725353\n",
      "2    0.901576 -0.612121  2.141349 -1.079382\n",
      "3   -1.250976 -2.019832 -0.681790 -1.734788\n",
      "4    0.924391 -0.341650  0.853886  0.268522\n",
      "..        ...       ...       ...       ...\n",
      "995  0.906115  0.748027  0.435516  0.148707\n",
      "996 -0.093347  0.810461 -0.015695  0.217057\n",
      "997  0.859066  0.746511  0.069180  0.635338\n",
      "998  0.825170  1.057345  0.635444  0.371140\n",
      "999  0.219509  1.022109  0.470702  0.717365\n",
      "\n",
      "[1000 rows x 4 columns]\n",
      "          NMDA    mGluR5     GABAa        D2\n",
      "1     0.222071 -1.676590  0.454865 -1.793413\n",
      "2    -0.498181 -1.582004  0.778041 -1.725353\n",
      "3     0.901576 -0.612121  2.141349 -1.079382\n",
      "4    -1.250976 -2.019832 -0.681790 -1.734788\n",
      "5     0.924391 -0.341650  0.853886  0.268522\n",
      "...        ...       ...       ...       ...\n",
      "996   0.906115  0.748027  0.435516  0.148707\n",
      "997  -0.093347  0.810461 -0.015695  0.217057\n",
      "998   0.859066  0.746511  0.069180  0.635338\n",
      "999   0.825170  1.057345  0.635444  0.371140\n",
      "1000  0.219509  1.022109  0.470702  0.717365\n",
      "\n",
      "[1000 rows x 4 columns]\n"
     ]
    }
   ],
   "source": [
    "receptor_df = receptor_df.reset_index(drop=True)\n",
    "receptor_df.index = pd.RangeIndex(start=1, stop=len(receptor_df) + 1, step=1)"
   ]
  },
  {
   "cell_type": "code",
   "execution_count": 60,
   "id": "656e8f6b-8b9f-490e-a6aa-d0c25c484d24",
   "metadata": {},
   "outputs": [
    {
     "name": "stdout",
     "output_type": "stream",
     "text": [
      "(1000, 10)\n"
     ]
    },
    {
     "ename": "ValueError",
     "evalue": "Randomization index exceeds available rows in df: 1000",
     "output_type": "error",
     "traceback": [
      "\u001b[0;31m---------------------------------------------------------------------------\u001b[0m",
      "\u001b[0;31mValueError\u001b[0m                                Traceback (most recent call last)",
      "Cell \u001b[0;32mIn[60], line 21\u001b[0m\n\u001b[1;32m     18\u001b[0m \u001b[38;5;28mprint\u001b[39m(permutations_df\u001b[38;5;241m.\u001b[39mshape)\n\u001b[1;32m     20\u001b[0m \u001b[38;5;66;03m# Apply the function to scramble your dataframe\u001b[39;00m\n\u001b[0;32m---> 21\u001b[0m scrambled_dataframes \u001b[38;5;241m=\u001b[39m \u001b[43mscramble_rows\u001b[49m\u001b[43m(\u001b[49m\u001b[43mreceptor_df\u001b[49m\u001b[43m,\u001b[49m\u001b[43m \u001b[49m\u001b[43mpermutations_df\u001b[49m\u001b[38;5;241;43m.\u001b[39;49m\u001b[43mvalues\u001b[49m\u001b[43m)\u001b[49m\n\u001b[1;32m     23\u001b[0m \u001b[38;5;66;03m# Example: Access the first scrambled dataframe\u001b[39;00m\n\u001b[1;32m     24\u001b[0m \u001b[38;5;28mprint\u001b[39m(scrambled_dataframes[\u001b[38;5;241m0\u001b[39m])\n",
      "Cell \u001b[0;32mIn[60], line 9\u001b[0m, in \u001b[0;36mscramble_rows\u001b[0;34m(df, rand_matrix)\u001b[0m\n\u001b[1;32m      6\u001b[0m \u001b[38;5;28;01mfor\u001b[39;00m col_idx \u001b[38;5;129;01min\u001b[39;00m \u001b[38;5;28mrange\u001b[39m(rand_matrix\u001b[38;5;241m.\u001b[39mshape[\u001b[38;5;241m1\u001b[39m]):\n\u001b[1;32m      7\u001b[0m     \u001b[38;5;66;03m# Check that the indices are valid\u001b[39;00m\n\u001b[1;32m      8\u001b[0m     \u001b[38;5;28;01mif\u001b[39;00m rand_matrix[:, col_idx]\u001b[38;5;241m.\u001b[39mmax() \u001b[38;5;241m>\u001b[39m\u001b[38;5;241m=\u001b[39m \u001b[38;5;28mlen\u001b[39m(df):\n\u001b[0;32m----> 9\u001b[0m         \u001b[38;5;28;01mraise\u001b[39;00m \u001b[38;5;167;01mValueError\u001b[39;00m(\u001b[38;5;124mf\u001b[39m\u001b[38;5;124m\"\u001b[39m\u001b[38;5;124mRandomization index exceeds available rows in df: \u001b[39m\u001b[38;5;132;01m{\u001b[39;00mrand_matrix[:,\u001b[38;5;250m \u001b[39mcol_idx]\u001b[38;5;241m.\u001b[39mmax()\u001b[38;5;132;01m}\u001b[39;00m\u001b[38;5;124m\"\u001b[39m)\n\u001b[1;32m     11\u001b[0m     scrambled_df \u001b[38;5;241m=\u001b[39m df\u001b[38;5;241m.\u001b[39miloc[rand_matrix[:, col_idx]]\u001b[38;5;241m.\u001b[39mreset_index(drop\u001b[38;5;241m=\u001b[39m\u001b[38;5;28;01mTrue\u001b[39;00m)  \u001b[38;5;66;03m# Use row indices from the column\u001b[39;00m\n\u001b[1;32m     12\u001b[0m     scrambled_dfs\u001b[38;5;241m.\u001b[39mappend(scrambled_df)\n",
      "\u001b[0;31mValueError\u001b[0m: Randomization index exceeds available rows in df: 1000"
     ]
    }
   ],
   "source": [
    "# Function to scramble the dataframe rows based on randomization matrix\n",
    "def scramble_rows(df, rand_matrix):\n",
    "    scrambled_dfs = []\n",
    "    \n",
    "    # Loop through each column of the randomization matrix (each column is a new randomization)\n",
    "    for col_idx in range(rand_matrix.shape[1]):\n",
    "        # Check that the indices are valid\n",
    "        if rand_matrix[:, col_idx].max() >= len(df):\n",
    "            raise ValueError(f\"Randomization index exceeds available rows in df: {rand_matrix[:, col_idx].max()}\")\n",
    "        \n",
    "        scrambled_df = df.iloc[rand_matrix[:, col_idx]].reset_index(drop=True)  # Use row indices from the column\n",
    "        scrambled_dfs.append(scrambled_df)\n",
    "        \n",
    "    return scrambled_dfs\n",
    "\n",
    "# Assume permutations_df is a DataFrame and remove the last row\n",
    "permutations_df = permutations_df.iloc[:-1]\n",
    "print(permutations_df.shape)\n",
    "\n",
    "# Apply the function to scramble your dataframe\n",
    "scrambled_dataframes = scramble_rows(receptor_df, permutations_df.values)\n",
    "\n",
    "# Example: Access the first scrambled dataframe\n",
    "print(scrambled_dataframes[0])\n",
    "\n"
   ]
  },
  {
   "cell_type": "code",
   "execution_count": null,
   "id": "0943636b-7d9c-4727-86a0-f839eeecb689",
   "metadata": {},
   "outputs": [],
   "source": [
    "# Now, input means df. \n",
    "# Rename parcels by parcel number and put rows in proper order.\n",
    "\n",
    "\n",
    "\n",
    "\n",
    "receptor_df.index = labels\n",
    "receptor_df.index.name = 'Parcel'\n",
    "\n",
    "# Chop up receptor_df by map\n",
    "NMDAmat = receptor_df[[\"NMDA\"]]\n",
    "GABAmat = receptor_df[[\"GABAa\"]]\n",
    "mGluR5mat = receptor_df[[\"mGluR5\"]]"
   ]
  },
  {
   "cell_type": "code",
   "execution_count": null,
   "id": "dd69c83e-efae-484a-9486-92c5a3d54ea9",
   "metadata": {},
   "outputs": [],
   "source": [
    "# CEST DATA\n",
    "datapath = '/Users/pecsok/projects/Neuromaps/hansen_receptors/'\n",
    "figpath = '/Users/pecsok/projects/GluCEST-fMRI/glucest-rsfmri/fmri_pipeline/parcellated_pipeline/figures'\n",
    "cestavg_df = pd.DataFrame(index=range(1, 1001), columns=['CESTavg'])\n",
    "cestavg_df['CESTavg'] = np.nan  # Initialize all values to 0\n",
    "for _, row in cestdf.iterrows():\n",
    "    # Extract parcel ID number using regex\n",
    "    match = re.search(r'(\\d+)', row['parcel'])\n",
    "    if match:\n",
    "        parcel_id = int(match.group(1))\n",
    "        # Add CESTavg data to corresponding row in the new DataFrame\n",
    "        if 1 <= parcel_id <= 1000:  # Ensure the parcel ID is within range\n",
    "            cestavg_df.at[parcel_id, 'CESTavg'] = row['CESTavg']\n",
    "            \n",
    "for i, row in cestavg_df.iterrows():\n",
    "    parcel_id = i\n",
    "    value = row['CESTavg']\n",
    "print(cestavg_df)\n",
    "\n"
   ]
  }
 ],
 "metadata": {
  "kernelspec": {
   "display_name": "Python 3 (ipykernel)",
   "language": "python",
   "name": "python3"
  },
  "language_info": {
   "codemirror_mode": {
    "name": "ipython",
    "version": 3
   },
   "file_extension": ".py",
   "mimetype": "text/x-python",
   "name": "python",
   "nbconvert_exporter": "python",
   "pygments_lexer": "ipython3",
   "version": "3.11.0"
  }
 },
 "nbformat": 4,
 "nbformat_minor": 5
}
