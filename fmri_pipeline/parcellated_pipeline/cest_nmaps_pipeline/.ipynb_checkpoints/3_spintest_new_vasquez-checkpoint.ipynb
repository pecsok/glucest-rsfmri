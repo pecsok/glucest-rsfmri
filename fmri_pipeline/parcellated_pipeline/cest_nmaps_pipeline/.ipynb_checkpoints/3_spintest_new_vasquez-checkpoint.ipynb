{
 "cells": [
  {
   "cell_type": "markdown",
   "id": "eaf5bad8-d06d-4c67-ac91-b5eca861924a",
   "metadata": {},
   "source": [
    "### Spin Test \n",
    "This script projects data to surface space and performs a spin test"
   ]
  },
  {
   "cell_type": "markdown",
   "id": "20d1a234-a816-4e64-b739-be26eb24ef96",
   "metadata": {},
   "source": [
    "#### Import Packages"
   ]
  },
  {
   "cell_type": "code",
   "execution_count": 74,
   "id": "b552c33e-f388-4568-928e-a64de3e6c674",
   "metadata": {},
   "outputs": [],
   "source": [
    "import numpy as np\n",
    "import pandas as pd\n",
    "import netneurotools.stats as stats\n",
    "from neuromaps.datasets import fetch_atlas\n",
    "from nilearn.datasets import fetch_atlas_schaefer_2018\n",
    "from netneurotools.datasets import fetch_schaefer2018\n",
    "import neuromaps\n",
    "import nibabel as nib\n",
    "from neuromaps.parcellate import Parcellater\n",
    "from neuromaps import transforms\n",
    "from neuromaps import nulls\n",
    "from scipy.stats import pearsonr, spearmanr\n",
    "from nilearn.plotting import plot_surf\n",
    "from nilearn.surface import load_surf_data\n",
    "from nilearn import surface, plotting, datasets\n",
    "from neuromaps import datasets, images, nulls, resampling, stats"
   ]
  },
  {
   "cell_type": "markdown",
   "id": "e3a62312-7baf-4cd5-9a7d-1c72bcd764a1",
   "metadata": {},
   "source": [
    "#### Set Paths and Variables"
   ]
  },
  {
   "cell_type": "code",
   "execution_count": 83,
   "id": "44ecf780-95d8-4ed8-b8ea-3461e3204ba3",
   "metadata": {},
   "outputs": [
    {
     "name": "stdout",
     "output_type": "stream",
     "text": [
      "                                 hstatus  CEST_avg      NMDA    mGluR5  \\\n",
      "Parcel                                                                   \n",
      "17Networks_RH_ContA_Cingm_1           HC -0.239851 -0.515943 -0.290452   \n",
      "17Networks_RH_ContA_Cingm_2           HC -0.255432 -0.662924 -0.352973   \n",
      "17Networks_RH_ContB_PFCmp_1           HC -0.102085  0.665146  0.898630   \n",
      "17Networks_RH_ContB_PFCmp_2           HC -0.779797  0.265863  0.639889   \n",
      "17Networks_RH_ContB_PFCmp_3           HC -0.502373  0.326597  0.668602   \n",
      "...                                  ...       ...       ...       ...   \n",
      "17Networks_RH_VisPeri_ExStrSup_3      HC  0.613937  0.823610  1.587829   \n",
      "17Networks_RH_VisPeri_ExStrSup_4      HC  0.733561  0.576520  0.683296   \n",
      "17Networks_RH_VisPeri_ExStrSup_7      HC  0.403760  0.764860  1.305738   \n",
      "17Networks_RH_VisPeri_StriCal_3       HC  1.342156 -0.013643  0.141399   \n",
      "17Networks_RH_VisPeri_StriCal_5       HC  1.024538  0.177231  0.461898   \n",
      "\n",
      "                                      GABA  \n",
      "Parcel                                      \n",
      "17Networks_RH_ContA_Cingm_1      -0.823318  \n",
      "17Networks_RH_ContA_Cingm_2      -0.831129  \n",
      "17Networks_RH_ContB_PFCmp_1       0.642155  \n",
      "17Networks_RH_ContB_PFCmp_2       0.549043  \n",
      "17Networks_RH_ContB_PFCmp_3       0.532167  \n",
      "...                                    ...  \n",
      "17Networks_RH_VisPeri_ExStrSup_3  2.228148  \n",
      "17Networks_RH_VisPeri_ExStrSup_4  1.290198  \n",
      "17Networks_RH_VisPeri_ExStrSup_7  1.655375  \n",
      "17Networks_RH_VisPeri_StriCal_3   1.371713  \n",
      "17Networks_RH_VisPeri_StriCal_5   1.570615  \n",
      "\n",
      "[67 rows x 5 columns]\n",
      "          NMDA    mGluR5      GABA        D2\n",
      "1     0.222071 -1.676590  0.454865 -1.793413\n",
      "2    -0.498181 -1.582004  0.778041 -1.725353\n",
      "3     0.901576 -0.612121  2.141349 -1.079382\n",
      "4    -1.250976 -2.019832 -0.681790 -1.734788\n",
      "5     0.924391 -0.341650  0.853886  0.268522\n",
      "...        ...       ...       ...       ...\n",
      "996   0.906115  0.748027  0.435516  0.148707\n",
      "997  -0.093347  0.810461 -0.015695  0.217057\n",
      "998   0.859066  0.746511  0.069180  0.635338\n",
      "999   0.825170  1.057345  0.635444  0.371140\n",
      "1000  0.219509  1.022109  0.470702  0.717365\n",
      "\n",
      "[1000 rows x 4 columns]\n"
     ]
    }
   ],
   "source": [
    "dataset = 'longglucest_outputmeasures2'\n",
    "atlas = 'Schaefer2018_1000Parcels_17Networks'\n",
    "nmaps = [\"NMDA\", \"mGluR5\", \"GABA\"]\n",
    "maps = [\"cest\", \"NMDA\", \"mGluR5\", \"GABA\"]\n",
    "group = \"HC\"\n",
    "n_permute = 10\n",
    "\n",
    "# Set paths\n",
    "inpath = \"/Users/pecsok/Desktop/ImageData/PMACS_remote/data/nmaps/analyses/\" + atlas\n",
    "outpath = \"/Users/pecsok/Desktop/ImageData/PMACS_remote/data/nmaps/analyses/\" + atlas\n",
    "\n",
    "# Read in data\n",
    "receptor_df = pd.read_csv(\"/Users/pecsok/projects/Neuromaps/pecsok_pfns/neuromaps/results/receptor_data_scale1000_17.csv\", sep=',')\n",
    "means= pd.read_csv(inpath + '/means_subjectnmaps_' + dataset + '_' + atlas + '.csv', sep=',')\n",
    "# Read in surface atlases\n",
    "schaefer_cifti_path = '/Users/pecsok/neuromaps-data/atlases/fsLR/Schaefer2018_900Parcels_17Networks_order.dlabel.nii'\n",
    "annot_rh_schaefer = '/Users/pecsok/neuromaps-data/atlases/fsaverage/lh.Schaefer2018_1000Parcels_17Networks_order.annot'\n",
    "annot_lh_schaefer = '/Users/pecsok/neuromaps-data/atlases/fsaverage/rh.Schaefer2018_1000Parcels_17Networks_order.annot'\n",
    "# Fetch atlas labels\n",
    "schaefer = fetch_atlas_schaefer_2018(n_rois=1000, yeo_networks=17)\n",
    "labels = schaefer['labels']  # These are the MNI coordinates of the parcels\n",
    "labels = [label.decode('utf-8') for label in labels]\n",
    "\n",
    "# Reformat data \n",
    "means[\"Parcel\"] = means[\"Parcel\"].str.replace(' NZMean', '', regex=False)\n",
    "means = means[means['hstatus']== group]\n",
    "means.set_index('Parcel', inplace = True)\n",
    "receptor_df = receptor_df.reset_index(drop=True)\n",
    "receptor_df.rename(columns={'GABAa': 'GABA'}, inplace=True)\n",
    "receptor_df.index = pd.RangeIndex(start=1, stop=len(receptor_df) + 1, step=1)\n",
    "print(means)\n",
    "print(receptor_df)"
   ]
  },
  {
   "cell_type": "markdown",
   "id": "0054c12c-1ecf-470d-b57f-5b939665c250",
   "metadata": {},
   "source": [
    "### Functions"
   ]
  },
  {
   "cell_type": "code",
   "execution_count": 117,
   "id": "7df46921-eb2a-4cff-b792-b14e6d4c0203",
   "metadata": {},
   "outputs": [],
   "source": [
    "def scramble(df, spin_df):\n",
    "    \"\"\"\n",
    "    Reorders the rows of the input dataframe `df` based on the indices provided in `spin_df`.\n",
    "    Each column of `spin_df` represents a permutation of row indices.\n",
    "    Args:\n",
    "    df (pd.DataFrame): The original dataframe with data.\n",
    "    spin_df (pd.DataFrame): DataFrame where each column contains scrambled row indices (1-based).\n",
    "    Returns:\n",
    "    null_dfs (list): List of DataFrames with rows reordered according to scrambled indices.\n",
    "    \"\"\"\n",
    "    null_dfs = []  # List to store the permuted DataFrames\n",
    "    \n",
    "    # Iterate over each permutation (column) in spin_df\n",
    "    for col in spin_df.columns:   \n",
    "        scrambled_indices = spin_df[col].values\n",
    "        null_df = df.iloc[scrambled_indices] #.reset_index(drop=True)\n",
    "        null_df.loc[:, 'Parcel'] = labels\n",
    "        null_df.set_index('Parcel', inplace = True)\n",
    "        # Append the permuted DataFrame to the list\n",
    "        null_dfs.append(null_df)\n",
    "    \n",
    "    return null_dfs\n",
    "###################\n",
    "\n",
    "def calculate_null_corrs(null_dfs, nmaps):\n",
    "    \"\"\"\n",
    "    Calculates correlation values for each null df and stores in output df\n",
    "    Args:\n",
    "    null_dfs (list): permutation matrices with new indices\n",
    "    spin_df (pd.DataFrame): DataFrame where each column contains scrambled row indices (1-based).\n",
    "    Returns:\n",
    "    null_dfs (list): List of DataFrames with rows reordered according to scrambled indices.\n",
    "    \"\"\"\n",
    "    # Initialize an empty dataframe to store the results\n",
    "    columns = ['shift_iteration']\n",
    "    for col in nmaps:\n",
    "        columns.append(f'{col}_r')\n",
    "        columns.append(f'{col}_p')\n",
    "    \n",
    "    null_stats_df = pd.DataFrame(columns=columns)\n",
    "    \n",
    "    # Loop through each null dataframe (each shift iteration)\n",
    "    for i, null_df in enumerate(null_dfs):\n",
    "        result_row = {'permutation': i + 1}\n",
    "        \n",
    "        # For each nmaps column, calculate r and p values with respect to CESTavg\n",
    "        for col in nmaps:\n",
    "            r_value, p_value = pearsonr(null_df['CEST_avg'], null_df[col])\n",
    "            result_row[f'{col}_r'] = r_value\n",
    "            result_row[f'{col}_p'] = p_value\n",
    "        \n",
    "        # Convert result_row to a DataFrame and concatenate it\n",
    "        result_row_df = pd.DataFrame([result_row])\n",
    "        null_stats_df = pd.concat([null_stats_df, result_row_df], ignore_index=True)\n",
    "    \n",
    "    return null_stats_df\n",
    "########################\n",
    "\n",
    "def calculate_real_correlations(df, nmaps):\n",
    "    \"\"\"\n",
    "    This function calculates pearson correlations between CEST_avg and nmap columns.\n",
    "    Args:\n",
    "    df (pd.DataFrame): df with cest and nmap parcelwise data\n",
    "    nmaps (list): names of nmaps\n",
    "    Returns: \n",
    "    Correlation values and p values for parametric associations.\n",
    "    \"\"\"\n",
    "    real_corrs = {}\n",
    "    for col in nmaps:\n",
    "        r_value, _ = pearsonr(df['CEST_avg'], df[col])\n",
    "        real_corrs[col] = r_value\n",
    "    return real_corrs\n",
    "#####################\n",
    "\n",
    "def calculate_empirical_pvalues(real_corrs, null_stats_df, nmaps):\n",
    "    \"\"\"\n",
    "    This function compares real correlations to the null distribution to calculate empirical p-values\n",
    "    Args:\n",
    "    real_corrs (pd.DataFrame): df with r and p values for cest-nmap associations\n",
    "    null_stats_df (pd.DataFrame): df with r and p value for cest-nmap associations per iteration\n",
    "    nmaps (list): names of nmaps\n",
    "    Returns: \n",
    "    Empirical p values based on null model\n",
    "    \"\"\"    \n",
    "    p_values = {}\n",
    "    \n",
    "    # Loop through each column in nmaps\n",
    "    for col in nmaps:\n",
    "        # Extract the null r-values for this nmaps column\n",
    "        null_r_values = null_stats_df[f'{col}_r']\n",
    "        \n",
    "        # Calculate the empirical p-value: proportion of null r-values more extreme than the real r-value\n",
    "        real_r = real_corrs[col]\n",
    "        \n",
    "        # Two-tailed test: count both large positive and negative extremes\n",
    "        extreme_count = np.sum(np.abs(null_r_values) >= np.abs(real_r))\n",
    "        \n",
    "        # Compute the empirical p-value\n",
    "        p_empirical = extreme_count / len(null_r_values)\n",
    "        p_values[col] = round(p_empirical, 15)\n",
    "    \n",
    "    return p_values\n"
   ]
  },
  {
   "cell_type": "markdown",
   "id": "7498063b-2719-44f1-b029-5431a01c441a",
   "metadata": {},
   "source": [
    "### Generate permutations"
   ]
  },
  {
   "cell_type": "code",
   "execution_count": 120,
   "id": "1661944d-efae-4b78-b814-609dacf0fb55",
   "metadata": {},
   "outputs": [
    {
     "name": "stderr",
     "output_type": "stream",
     "text": [
      "pixdim[1,2,3] should be non-zero; setting 0 dims to 1\n"
     ]
    },
    {
     "name": "stdout",
     "output_type": "stream",
     "text": [
      "(900, 10)\n"
     ]
    }
   ],
   "source": [
    "#### For some reason, shape = (999,n) for S1000 parcellation. All others have correct number of rows.\n",
    "\n",
    "# Convert cifti to gifti\n",
    "schaefer_gifti = images.dlabel_to_gifti(schaefer_cifti_path) \n",
    "# Spin indices\n",
    "spin_index = nulls.vazquez_rodriguez(data=None, atlas='fsLR', density='32k',\n",
    "                                     n_perm=10, seed=1234, parcellation=schaefer_gifti)\n",
    "print(spin_index.shape) "
   ]
  },
  {
   "cell_type": "code",
   "execution_count": 122,
   "id": "82398640-2ccc-4668-89ee-5069b42f2a78",
   "metadata": {},
   "outputs": [
    {
     "name": "stdout",
     "output_type": "stream",
     "text": [
      "      0     1     2     3     4     5     6     7     8     9     ...  9990  \\\n",
      "1      309   145   495   167   460   408   209   211   306   323  ...   408   \n",
      "2      304   146   496   493   459   406    99   210   307   356  ...   407   \n",
      "3      385   144   491    22   461   407   189   206   310   320  ...   432   \n",
      "4      385   147   496   165   459   407   207   191   310   323  ...   409   \n",
      "5      446   323   167   365   263   395   256    98   318    13  ...    56   \n",
      "...    ...   ...   ...   ...   ...   ...   ...   ...   ...   ...  ...   ...   \n",
      "996    612   785   799   904   678   592   536   886   976   874  ...   666   \n",
      "997    615   913   799   906   673   584   550   884   975   832  ...   667   \n",
      "998    567   918   980   736   670   577   548   756   557   831  ...   805   \n",
      "999    613   912   799   863   668   578   547   946   858   768  ...   809   \n",
      "1000   685   916   777   735   667   571   545   944   562   743  ...   840   \n",
      "\n",
      "      9991  9992  9993  9994  9995  9996  9997  9998  9999  \n",
      "1      219    49   157   331   156   125   311   487    39  \n",
      "2      219    46   221   197   220   121   312   488    54  \n",
      "3      119   477   134   228   221   123   440   490    42  \n",
      "4      219   477   138   194   221   123   389   492    53  \n",
      "5      378    43   484   337   448   379   300   452    24  \n",
      "...    ...   ...   ...   ...   ...   ...   ...   ...   ...  \n",
      "996    605   771   960   649   761   596   902   719   604  \n",
      "997    700   952   778   504   960   581   861   720   605  \n",
      "998    697   955   779   650   959   741   901   766   600  \n",
      "999    697   953   779   647   959   740   736   724   607  \n",
      "1000   694   847   781   979   767   738   906   818   597  \n",
      "\n",
      "[1000 rows x 10000 columns]\n"
     ]
    }
   ],
   "source": [
    "# Convert fsavg annotations to gifti\n",
    "schaefer_fsgifti = images.annot_to_gifti((annot_lh_schaefer, annot_rh_schaefer))\n",
    "# Spin indices\n",
    "spin_index = nulls.vazquez_rodriguez(data=None, atlas='fsaverage', density='164k', \n",
    "                                     n_perm=10000, seed=1234, parcellation=schaefer_fsgifti)\n",
    "# Reformat spun indices for permutation test\n",
    "spin_df = pd.DataFrame(spin_index)\n",
    "spin_df.index = pd.RangeIndex(start=1, stop=len(spin_df) + 1, step=1)\n",
    "print(spin_df)"
   ]
  },
  {
   "cell_type": "code",
   "execution_count": 125,
   "id": "642fae34-86a8-4224-8160-4f6c86f85a5f",
   "metadata": {},
   "outputs": [],
   "source": [
    "pd.options.mode.chained_assignment = None "
   ]
  },
  {
   "cell_type": "code",
   "execution_count": 123,
   "id": "6da8afe3-e604-4f05-961c-3c97993e49d3",
   "metadata": {},
   "outputs": [
    {
     "name": "stdout",
     "output_type": "stream",
     "text": [
      "10000\n"
     ]
    }
   ],
   "source": [
    "# Generate list of null dfs\n",
    "null_dfs = scramble(receptor_df, spin_df)\n",
    "print(len(null_dfs))"
   ]
  },
  {
   "cell_type": "code",
   "execution_count": 124,
   "id": "ae086f07-5f7a-47cf-a1ce-0bd421f4ccb7",
   "metadata": {},
   "outputs": [],
   "source": [
    "pd.options.mode.chained_assignment = 'warn'"
   ]
  },
  {
   "cell_type": "code",
   "execution_count": 114,
   "id": "656e8f6b-8b9f-490e-a6aa-d0c25c484d24",
   "metadata": {},
   "outputs": [
    {
     "name": "stdout",
     "output_type": "stream",
     "text": [
      "                                 hstatus  CEST_avg      NMDA    mGluR5  \\\n",
      "Parcel                                                                   \n",
      "17Networks_RH_ContA_Cingm_1           HC -0.239851  0.849870 -0.210651   \n",
      "17Networks_RH_ContA_Cingm_2           HC -0.255432 -1.850323 -0.732697   \n",
      "17Networks_RH_ContB_PFCmp_1           HC -0.102085 -0.672774  0.373764   \n",
      "17Networks_RH_ContB_PFCmp_2           HC -0.779797 -1.878063 -0.319689   \n",
      "17Networks_RH_ContB_PFCmp_3           HC -0.502373 -0.857448  0.149048   \n",
      "...                                  ...       ...       ...       ...   \n",
      "17Networks_RH_VisPeri_ExStrSup_3      HC  0.613937 -0.369844  0.401474   \n",
      "17Networks_RH_VisPeri_ExStrSup_4      HC  0.733561 -0.275643 -0.445693   \n",
      "17Networks_RH_VisPeri_ExStrSup_7      HC  0.403760  1.614967  1.686016   \n",
      "17Networks_RH_VisPeri_StriCal_3       HC  1.342156  0.367203  0.077556   \n",
      "17Networks_RH_VisPeri_StriCal_5       HC  1.024538  1.029521  0.725854   \n",
      "\n",
      "                                      GABA        D2  \n",
      "Parcel                                                \n",
      "17Networks_RH_ContA_Cingm_1      -0.244211 -0.592684  \n",
      "17Networks_RH_ContA_Cingm_2      -0.808888 -0.813464  \n",
      "17Networks_RH_ContB_PFCmp_1      -0.095959 -0.088590  \n",
      "17Networks_RH_ContB_PFCmp_2      -0.964649 -1.363256  \n",
      "17Networks_RH_ContB_PFCmp_3      -0.192582 -0.598902  \n",
      "...                                    ...       ...  \n",
      "17Networks_RH_VisPeri_ExStrSup_3  0.190520 -0.244415  \n",
      "17Networks_RH_VisPeri_ExStrSup_4 -0.940862 -0.375608  \n",
      "17Networks_RH_VisPeri_ExStrSup_7  1.387873  1.075905  \n",
      "17Networks_RH_VisPeri_StriCal_3  -0.892387  0.157614  \n",
      "17Networks_RH_VisPeri_StriCal_5   0.438649 -0.426272  \n",
      "\n",
      "[67 rows x 6 columns]\n"
     ]
    }
   ],
   "source": [
    "# Keep only parcels in slice\n",
    "means_cest = means[['hstatus', 'CEST_avg']]\n",
    "merged_dfs = []\n",
    "#print(means_cest)\n",
    "for null_df in null_dfs:\n",
    "    merged_df = means_cest.merge(null_df, on='Parcel', how='inner')\n",
    "    merged_dfs.append(merged_df)\n",
    "print(merged_dfs[0])"
   ]
  },
  {
   "cell_type": "code",
   "execution_count": 115,
   "id": "463d0756-69b5-4f69-80cb-889dc3caa077",
   "metadata": {},
   "outputs": [
    {
     "name": "stderr",
     "output_type": "stream",
     "text": [
      "/var/folders/kk/w6xmtt2d55xfbxvb6wcqhq580000gp/T/ipykernel_14274/3631517365.py:54: FutureWarning: The behavior of DataFrame concatenation with empty or all-NA entries is deprecated. In a future version, this will no longer exclude empty or all-NA columns when determining the result dtypes. To retain the old behavior, exclude the relevant entries before the concat operation.\n",
      "  null_stats_df = pd.concat([null_stats_df, result_row_df], ignore_index=True)\n"
     ]
    },
    {
     "name": "stdout",
     "output_type": "stream",
     "text": [
      "    shift_iteration    NMDA_r    NMDA_p  mGluR5_r  mGluR5_p    GABA_r  \\\n",
      "0               NaN  0.170698  0.167253  0.033249  0.789389 -0.119807   \n",
      "1               NaN -0.087050  0.483642  0.020436  0.869614 -0.006511   \n",
      "2               NaN  0.264908  0.030279  0.247932  0.043081  0.206176   \n",
      "3               NaN -0.024609  0.843304 -0.269574  0.027381  0.045665   \n",
      "4               NaN -0.212196  0.084725 -0.268341  0.028122 -0.187891   \n",
      "..              ...       ...       ...       ...       ...       ...   \n",
      "995             NaN  0.202570  0.100177  0.058881  0.635994 -0.043174   \n",
      "996             NaN -0.043952  0.723964  0.007469  0.952168 -0.143068   \n",
      "997             NaN  0.060208  0.628392 -0.046377  0.709397  0.081111   \n",
      "998             NaN -0.187085  0.129530 -0.122376  0.323863 -0.101366   \n",
      "999             NaN  0.169433  0.170467  0.010760  0.931130  0.104330   \n",
      "\n",
      "       GABA_p  permutation  \n",
      "0    0.334200          1.0  \n",
      "1    0.958296          2.0  \n",
      "2    0.094150          3.0  \n",
      "3    0.713663          4.0  \n",
      "4    0.127857          5.0  \n",
      "..        ...          ...  \n",
      "995  0.728662        996.0  \n",
      "996  0.248100        997.0  \n",
      "997  0.514075        998.0  \n",
      "998  0.414380        999.0  \n",
      "999  0.400797       1000.0  \n",
      "\n",
      "[1000 rows x 8 columns]\n"
     ]
    }
   ],
   "source": [
    "# Calculate stats of null distributions\n",
    "null_stats_df = calculate_null_corrs(merged_dfs, nmaps)\n",
    "print(null_stats_df)"
   ]
  },
  {
   "cell_type": "code",
   "execution_count": 119,
   "id": "8bdf73f0-5d6f-44da-93ea-350b91a96f51",
   "metadata": {},
   "outputs": [
    {
     "name": "stdout",
     "output_type": "stream",
     "text": [
      "{'NMDA': 0.503391785025024, 'mGluR5': 0.27255687743310303, 'GABA': 0.668868365303651}\n",
      "NMDA: 0.000000000000000\n",
      "mGluR5: 0.099000000000000\n",
      "GABA: 0.000000000000000\n"
     ]
    }
   ],
   "source": [
    "real_corrs = calculate_real_correlations(means, nmaps)\n",
    "empirical_p_values = calculate_empirical_pvalues(real_corrs, null_stats_df, nmaps)\n",
    "print(real_corrs)\n",
    "for col, p_val in empirical_p_values.items():\n",
    "    print(f'{col}: {p_val:.15f}') "
   ]
  },
  {
   "cell_type": "code",
   "execution_count": null,
   "id": "a1d5cde7-a42d-4d0a-ad71-ee15c3d6667b",
   "metadata": {},
   "outputs": [],
   "source": []
  },
  {
   "cell_type": "code",
   "execution_count": null,
   "id": "1894dfad-7fcf-4c89-869a-b5a285bab7a6",
   "metadata": {},
   "outputs": [],
   "source": []
  },
  {
   "cell_type": "code",
   "execution_count": null,
   "id": "8bfcf7ac-fc72-400a-a008-63f90f87fa4b",
   "metadata": {},
   "outputs": [],
   "source": []
  },
  {
   "cell_type": "code",
   "execution_count": null,
   "id": "0943636b-7d9c-4727-86a0-f839eeecb689",
   "metadata": {},
   "outputs": [],
   "source": [
    "# Now, input means df. \n",
    "# Rename parcels by parcel number and put rows in proper order.\n",
    "\n",
    "\n",
    "\n",
    "receptor_df.index = labels\n",
    "receptor_df.index.name = 'Parcel'\n",
    "\n",
    "# Chop up receptor_df by map\n",
    "NMDAmat = receptor_df[[\"NMDA\"]]\n",
    "GABAmat = receptor_df[[\"GABAa\"]]\n",
    "mGluR5mat = receptor_df[[\"mGluR5\"]]"
   ]
  },
  {
   "cell_type": "code",
   "execution_count": null,
   "id": "dd69c83e-efae-484a-9486-92c5a3d54ea9",
   "metadata": {},
   "outputs": [],
   "source": [
    "# CEST DATA\n",
    "datapath = '/Users/pecsok/projects/Neuromaps/hansen_receptors/'\n",
    "figpath = '/Users/pecsok/projects/GluCEST-fMRI/glucest-rsfmri/fmri_pipeline/parcellated_pipeline/figures'\n",
    "cestavg_df = pd.DataFrame(index=range(1, 1001), columns=['CESTavg'])\n",
    "cestavg_df['CESTavg'] = np.nan  # Initialize all values to 0\n",
    "for _, row in cestdf.iterrows():\n",
    "    # Extract parcel ID number using regex\n",
    "    match = re.search(r'(\\d+)', row['parcel'])\n",
    "    if match:\n",
    "        parcel_id = int(match.group(1))\n",
    "        # Add CESTavg data to corresponding row in the new DataFrame\n",
    "        if 1 <= parcel_id <= 1000:  # Ensure the parcel ID is within range\n",
    "            cestavg_df.at[parcel_id, 'CESTavg'] = row['CESTavg']\n",
    "            \n",
    "for i, row in cestavg_df.iterrows():\n",
    "    parcel_id = i\n",
    "    value = row['CESTavg']\n",
    "print(cestavg_df)\n",
    "\n"
   ]
  }
 ],
 "metadata": {
  "kernelspec": {
   "display_name": "Python 3 (ipykernel)",
   "language": "python",
   "name": "python3"
  },
  "language_info": {
   "codemirror_mode": {
    "name": "ipython",
    "version": 3
   },
   "file_extension": ".py",
   "mimetype": "text/x-python",
   "name": "python",
   "nbconvert_exporter": "python",
   "pygments_lexer": "ipython3",
   "version": "3.11.0"
  }
 },
 "nbformat": 4,
 "nbformat_minor": 5
}
