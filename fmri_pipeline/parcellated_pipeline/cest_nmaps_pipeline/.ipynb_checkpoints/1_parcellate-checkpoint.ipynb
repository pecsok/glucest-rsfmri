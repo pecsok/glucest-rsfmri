{
 "cells": [
  {
   "cell_type": "markdown",
   "id": "414752d0-44a8-4e0e-a1d3-632aeaad60ec",
   "metadata": {},
   "source": [
    "### In this notebook:\n",
    "#### We import PET-derived volumetric receptor maps and parcellate using the Schaefer100 atlas.\n",
    "\n",
    "1. Import packages and maps\n",
    "2. Parcellate"
   ]
  },
  {
   "cell_type": "markdown",
   "id": "985933a1-d33f-4942-9cc7-54b30996f2d0",
   "metadata": {},
   "source": [
    "## Load Packages"
   ]
  },
  {
   "cell_type": "code",
   "execution_count": 5,
   "id": "4ca0865a-4a3c-4ef4-92b5-82967ede6d08",
   "metadata": {},
   "outputs": [],
   "source": [
    "import pandas as pd\n",
    "from nilearn.datasets import fetch_atlas_schaefer_2018\n",
    "from neuromaps.parcellate import Parcellater\n",
    "import warnings\n",
    "from neuromaps.datasets import fetch_fslr, fetch_annotation\n",
    "from neuromaps import datasets, images, nulls, resampling, stats, transforms, parcellate\n",
    "from neuromaps.parcellate import Parcellater \n",
    "from neuromaps.resampling import resample_images\n",
    "from neuromaps.images import dlabel_to_gifti\n",
    "import neuromaps\n",
    "import nibabel as nib\n",
    "import os\n",
    "import numpy as np\n",
    "import mayavi\n",
    "from PIL import Image\n",
    "import hcp_utils as hcp\n",
    "import nilearn.plotting as plotting\n",
    "import warnings\n",
    "#import abagen ## This is important for certification purposes \n",
    "warnings.filterwarnings('ignore')"
   ]
  },
  {
   "cell_type": "markdown",
   "id": "07654b97-196d-4853-ab0a-04c848291888",
   "metadata": {},
   "source": [
    "### Set Variables"
   ]
  },
  {
   "cell_type": "code",
   "execution_count": 6,
   "id": "7042a80a-fcb8-449b-8737-f5bed36bd218",
   "metadata": {},
   "outputs": [
    {
     "name": "stdout",
     "output_type": "stream",
     "text": [
      "/Users/pecsok/nilearn_data/schaefer_2018/Schaefer2018_1000Parcels_17Networks_order_FSLMNI152_1mm.nii.gz\n"
     ]
    }
   ],
   "source": [
    "scale = 'scale1000_17'\n",
    "\n",
    "schaefer = fetch_atlas_schaefer_2018(n_rois=1000, yeo_networks=17)\n",
    "\n",
    "path = \"/Users/pecsok/projects/Neuromaps/pecsok_pfns/neuromaps/data/maps/PET_nifti_images/\"\n",
    "outpath = \"/Users/pecsok/projects/Neuromaps/pecsok_pfns/neuromaps/data/parcellated/PET_parcellated/\"+scale+\"/\"\n",
    "print(schaefer['maps'])"
   ]
  },
  {
   "cell_type": "markdown",
   "id": "dac44ab6-71ce-4a84-be8e-2909906e3a89",
   "metadata": {},
   "source": [
    "### Load in neuromaps of interest"
   ]
  },
  {
   "cell_type": "code",
   "execution_count": 10,
   "id": "ca299dd3-7e98-404b-8456-577dcd70d5e4",
   "metadata": {},
   "outputs": [],
   "source": [
    "receptors_nii = [path+'GABAa-bz_flumazenil_hc16_norgaard.nii',\n",
    "                 path+'GABAa_flumazenil_hc6_dukart.nii',\n",
    "                 path+'mGluR5_abp_hc22_rosaneto.nii',\n",
    "                 path+'mGluR5_abp_hc28_dubois.nii',\n",
    "                 path+'mGluR5_abp_hc73_smart.nii',\n",
    "                 path+'NMDA_ge179_hc29_galovic.nii.gz',\n",
    "                 path+'D2_flb457_hc37_smith.nii.gz',\n",
    "                 path+'D2_flb457_hc55_sandiego.nii.gz'\n",
    "                ]\n",
    "\n",
    "           #      path+'D2_raclopride_hc7_alakurtti.nii',\n",
    "           #      path+'DAT_fpcit_hc174_dukart_spect.nii',\n",
    "           #      path+'DAT_fepe2i_hc6_sasaki.nii.gz'\n",
    "           #      path+'D1_SCH23390_hc13_kaller.nii',\n",
    "           #      path+'D2_fallypride_hc49_jaworska.nii',"
   ]
  },
  {
   "cell_type": "markdown",
   "id": "35603911-f633-4105-a081-230da82a8c57",
   "metadata": {},
   "source": [
    "### Parcellate using Schaefer Atlas"
   ]
  },
  {
   "cell_type": "code",
   "execution_count": 11,
   "id": "c4bc7688-6b55-4316-aacf-76969fe67f80",
   "metadata": {},
   "outputs": [],
   "source": [
    "parcellated = {}\n",
    "parcellater = Parcellater(schaefer['maps'], 'MNI152')\n",
    "for receptor in receptors_nii:\n",
    "    parcellated[receptor] = parcellater.fit_transform(receptor, 'MNI152', True)\n",
    "    name = receptor.split('/')[-1]  # get nifti file name\n",
    "    name = name.split('.')[0]  # remove .nii\n",
    "    np.savetxt(outpath+name+'.csv', parcellated[receptor], delimiter=',')"
   ]
  },
  {
   "cell_type": "code",
   "execution_count": null,
   "id": "30bdbebd-5a9d-4575-8fd0-027daf54d05e",
   "metadata": {},
   "outputs": [],
   "source": []
  }
 ],
 "metadata": {
  "kernelspec": {
   "display_name": "nmap2",
   "language": "python",
   "name": "nmaps2"
  },
  "language_info": {
   "codemirror_mode": {
    "name": "ipython",
    "version": 3
   },
   "file_extension": ".py",
   "mimetype": "text/x-python",
   "name": "python",
   "nbconvert_exporter": "python",
   "pygments_lexer": "ipython3",
   "version": "3.11.0"
  }
 },
 "nbformat": 4,
 "nbformat_minor": 5
}
