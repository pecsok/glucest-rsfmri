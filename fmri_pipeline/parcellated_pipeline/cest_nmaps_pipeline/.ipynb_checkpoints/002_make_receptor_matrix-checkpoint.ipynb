{
 "cells": [
  {
   "cell_type": "markdown",
   "id": "732eac9b-0306-4bbb-abca-1ff06b284d0c",
   "metadata": {},
   "source": [
    "## In this notebook:\n",
    "\n",
    "#### We concatenate parcellated PET images into region x receptor matrix of densities.\n",
    "Adapted from Hansen Receptors (https://github.com/netneurolab/hansen_receptors)\n",
    "Paper: https://www.nature.com/articles/s41593-022-01186-3"
   ]
  },
  {
   "cell_type": "markdown",
   "id": "41c22827-7f35-4afd-84f8-9beef9d33947",
   "metadata": {},
   "source": [
    "### Import Packages"
   ]
  },
  {
   "cell_type": "code",
   "execution_count": 1,
   "id": "0fe58316-d615-4179-a89a-4f509161b20f",
   "metadata": {},
   "outputs": [],
   "source": [
    "import numpy as np\n",
    "import pandas as pd\n",
    "from netneurotools import datasets, plotting\n",
    "from matplotlib.colors import ListedColormap\n",
    "from scipy.stats import zscore\n",
    "from nilearn.datasets import fetch_atlas_schaefer_2018\n",
    "from netneurotools.datasets import fetch_cammoun2012"
   ]
  },
  {
   "cell_type": "code",
   "execution_count": 2,
   "id": "e65c2d44-b7b4-4bb1-850b-732be18af5fd",
   "metadata": {},
   "outputs": [],
   "source": [
    "import surfer"
   ]
  },
  {
   "cell_type": "markdown",
   "id": "ea24c1e0-322a-43b6-9d96-55f71ae1623e",
   "metadata": {},
   "source": [
    "### Set Variables"
   ]
  },
  {
   "cell_type": "code",
   "execution_count": 3,
   "id": "39494245-31b8-4679-90b2-e9d0881c80ca",
   "metadata": {},
   "outputs": [],
   "source": [
    "path = '/Users/pecsok/projects/Neuromaps/pecsok_pfns/neuromaps/'\n",
    "datapath = '/Users/pecsok/projects/Neuromaps/hansen_receptors/'\n",
    "\n",
    "atlas = 'cammoun'\n",
    "\n",
    "if atlas == 'schaefer':\n",
    "    schaefer = fetch_atlas_schaefer_2018(n_rois=1000, yeo_networks=17) # This is sklearn.utils._bunch.Bunch. Other altases in this format? *Ask Golia\n",
    "    nnodes = len(schaefer['labels'])\n",
    "elif atlas == 'cammoun':\n",
    "    scale = 'cammoun2012_scale500' #'scale1000_17' #'Harvard_Oxford_sub' \n",
    "    cammoun = fetch_cammoun2012()\n",
    "    nnodes=1015\n",
    "elif atlas == 'Harvard_Oxford_sub':\n",
    "    nnodes = 21\n"
   ]
  },
  {
   "cell_type": "code",
   "execution_count": 4,
   "id": "29cdcc29-e487-447f-96a5-c8c346753408",
   "metadata": {},
   "outputs": [
    {
     "name": "stdout",
     "output_type": "stream",
     "text": [
      "/Users/pecsok/projects/Neuromaps/pecsok_pfns/neuromaps/data/parcellated/PET_parcellated/cammoun2012_scale500/mGluR5_abp_hc73_smart.csv\n"
     ]
    }
   ],
   "source": [
    "print(path+'data/parcellated/PET_parcellated/'+scale+'/mGluR5_abp_hc73_smart.csv')"
   ]
  },
  {
   "cell_type": "markdown",
   "id": "91ccc5e5-7027-48c8-b3bd-fc38c31dee80",
   "metadata": {},
   "source": [
    "### Choose what to analyse"
   ]
  },
  {
   "cell_type": "code",
   "execution_count": 5,
   "id": "763707d5-a220-45a4-a44c-d309e0f0a077",
   "metadata": {},
   "outputs": [],
   "source": [
    "receptors_csv = [path+'data/parcellated/PET_parcellated/'+scale+'/NMDA_ge179_hc29_galovic.csv',\n",
    "                 path+'data/parcellated/PET_parcellated/'+scale+'/mGluR5_abp_hc22_rosaneto.csv',\n",
    "                 path+'data/parcellated/PET_parcellated/'+scale+'/mGluR5_abp_hc28_dubois.csv',\n",
    "                 path+'data/parcellated/PET_parcellated/'+scale+'/mGluR5_abp_hc73_smart.csv',\n",
    "                # path+'data/parcellated/PET_parcellated/'+scale+'/GABAa-bz_flumazenil_hc16_norgaard.csv',\n",
    "                 path+'data/parcellated/PET_parcellated/'+scale+'/GABAa_flumazenil_hc6_dukart.csv'\n",
    "\n",
    "]\n",
    "\n",
    "#                 path+'data/parcellated/PET_parcellated/'+scale+'/D2_flb457_hc37_smith.csv',\n",
    "#                 path+'data/parcellated/PET_parcellated/'+scale+'/D2_flb457_hc55_sandiego.csv'\n",
    "\n",
    "\n",
    "#path+'data/parcellated/PET_parcellated/'+scale+'D1_SCH23390_hc13_kaller.nii',\n",
    "#path+'data/parcellated/PET_parcellated/'+scale+'D2_fallypride_hc49_jaworska.nii',\n",
    "#path+'data/parcellated/PET_parcellated/'+scale+'D2_raclopride_hc7_alakurtti.nii',\n",
    "# path+'data/parcellated/PET_parcellated/'+scale+'DAT_fpcit_hc174_dukart_spect.nii',\n",
    "#path+'data/parcellated/PET_parcellated/'+scale+'DAT_fepe2i_hc6_sasaki.nii.gz'"
   ]
  },
  {
   "cell_type": "markdown",
   "id": "84c0f5dd-025e-4336-9c61-618e1062c963",
   "metadata": {},
   "source": [
    "### Make Receptor Matrices"
   ]
  },
  {
   "cell_type": "code",
   "execution_count": 6,
   "id": "6efd8ab2-9893-48cd-9b23-36cf318bc79b",
   "metadata": {},
   "outputs": [
    {
     "name": "stdout",
     "output_type": "stream",
     "text": [
      "cammoun2012_scale500\n"
     ]
    }
   ],
   "source": [
    "print(scale) #pecsok_pfns/neuromaps/data/parcellated/PET_parcellated/\"+scale+\""
   ]
  },
  {
   "cell_type": "code",
   "execution_count": 12,
   "id": "05251979-b724-45dc-90d9-e354711099b3",
   "metadata": {},
   "outputs": [
    {
     "name": "stdout",
     "output_type": "stream",
     "text": [
      "(1015, 5)\n",
      "(1015, 5)\n",
      "['lateralorbitofrontal_9R' 'lateralorbitofrontal_11R'\n",
      " 'lateralorbitofrontal_5R' ... 'hippocampusL' 'amygdalaL' 'brainstemL']\n"
     ]
    }
   ],
   "source": [
    "# combine all the receptors (including repeats)\n",
    "r = np.zeros([nnodes, len(receptors_csv)])\n",
    "print(r.shape)\n",
    "for i in range(len(receptors_csv)):\n",
    "    r[:, i] = np.genfromtxt(receptors_csv[i], delimiter=',') \n",
    "    # Now we have the receptor data by parcel (row) for all 6 receptor maps (col)\n",
    "\n",
    "#print(r[:,3])\n",
    "print(r.shape)\n",
    "\n",
    "receptor_names = np.array([\"NMDA\",\"mGluR5\",\"GABAa\"]) #,\"D2\"\n",
    "np.save(path+'data/receptor_names_pet.npy', receptor_names)\n",
    "\n",
    "# make final region x receptor matrix\n",
    "receptor_data = np.zeros([nnodes, len(receptor_names)])\n",
    "\n",
    "# NMDA Data\n",
    "receptor_data[:, 0] = zscore(r[:, 0])\n",
    "# weighted average of mGluR5 ABP688\n",
    "receptor_data[:, 1] = (zscore(r[:, 1])*22 + zscore(r[:, 2])*28 + zscore(r[:, 3])*73) / (22+28+73)\n",
    "# weighted average of GABA \n",
    "receptor_data[:, 2] = zscore(r[:, 4])\n",
    "\n",
    "\n",
    "# weighted average of D2\n",
    "#receptor_data[:, 3] = (zscore(r[:, 6])*37 + zscore(r[:, 7])*55) / (37+55)\n",
    "# Weighted average of both GABAs:\n",
    "# receptor_data[:, 2] = (zscore(r[:, 4])*16 + zscore(r[:, 5])*6) / (16+6)\n",
    "\n",
    "# Make df and add parcel labels\n",
    "receptor_df = pd.DataFrame(receptor_data, columns=receptor_names)\n",
    "#schaefer = fetch_atlas_schaefer_2018(n_rois=1000, yeo_networks=17)\n",
    "#labels = schaefer.labels\n",
    "#labels = [label.decode('utf-8') for label in labels]\n",
    "\n",
    "cam = fetch_cammoun2012()\n",
    "info = pd.read_csv(cammoun['info'], sep=',')\n",
    "info = info[info['scale']== 'scale500']\n",
    "hemisphere = info['hemisphere'].values\n",
    "labels = info['label'].values + hemisphere\n",
    "print(labels)\n",
    "\n",
    "\n",
    "receptor_df.index = labels\n",
    "receptor_df.index.name = 'Parcel'\n",
    "\n",
    "\n",
    "# Save df\n",
    "receptor_df.to_csv(path+'results/receptor_data_'+scale+'.csv', index=True, header=True)\n",
    "\n",
    "#print(receptor_df)"
   ]
  },
  {
   "cell_type": "code",
   "execution_count": null,
   "id": "a34c97b1-3697-47ab-9230-77586178a184",
   "metadata": {},
   "outputs": [],
   "source": []
  },
  {
   "cell_type": "code",
   "execution_count": 13,
   "id": "7fcf76c2-4eba-40c1-a448-0f293915ec4a",
   "metadata": {},
   "outputs": [
    {
     "name": "stderr",
     "output_type": "stream",
     "text": [
      "qt.qpa.window: <QNSWindow: 0x152050550; contentView=<QNSView: 0x31977b800; QCocoaWindow(0x600003b8c840, window=QWidgetWindow(0x6000028bff60, name=\"QMainWindowClassWindow\"))>> has active key-value observers (KVO)! These will stop working now that the window is recreated, and will result in exceptions when the observers are removed. Break in QCocoaWindow::recreateWindowIfNeeded to debug.\n",
      "qt.qpa.window: <QNSWindow: 0x16c45a760; contentView=<QNSView: 0x16c45a360; QCocoaWindow(0x600003b870d0, window=QWidgetWindow(0x6000029c2ee0, name=\"QMainWindowClassWindow\"))>> has active key-value observers (KVO)! These will stop working now that the window is recreated, and will result in exceptions when the observers are removed. Break in QCocoaWindow::recreateWindowIfNeeded to debug.\n",
      "qt.qpa.window: <QNSWindow: 0x373549d20; contentView=<QNSView: 0x373549920; QCocoaWindow(0x600003bab230, window=QWidgetWindow(0x6000029e5c20, name=\"QMainWindowClassWindow\"))>> has active key-value observers (KVO)! These will stop working now that the window is recreated, and will result in exceptions when the observers are removed. Break in QCocoaWindow::recreateWindowIfNeeded to debug.\n",
      "qt.qpa.window: <QNSWindow: 0x3735b4d70; contentView=<QNSView: 0x3735b4970; QCocoaWindow(0x600003bb1fa0, window=QWidgetWindow(0x6000029f9aa0, name=\"QMainWindowClassWindow\"))>> has active key-value observers (KVO)! These will stop working now that the window is recreated, and will result in exceptions when the observers are removed. Break in QCocoaWindow::recreateWindowIfNeeded to debug.\n",
      "qt.qpa.window: <QNSWindow: 0x16c4323b0; contentView=<QNSView: 0x16c433960; QCocoaWindow(0x600003b86b50, window=QWidgetWindow(0x6000029b4d80, name=\"QWidgetClassWindow\"))>> has active key-value observers (KVO)! These will stop working now that the window is recreated, and will result in exceptions when the observers are removed. Break in QCocoaWindow::recreateWindowIfNeeded to debug.\n",
      "qt.qpa.window: <QNSWindow: 0x16c4b4750; contentView=<QNSView: 0x16c4b4280; QCocoaWindow(0x600003bb4fd0, window=QWidgetWindow(0x6000029d8c00, name=\"QWidgetClassWindow\"))>> has active key-value observers (KVO)! These will stop working now that the window is recreated, and will result in exceptions when the observers are removed. Break in QCocoaWindow::recreateWindowIfNeeded to debug.\n",
      "qt.qpa.window: <QNSWindow: 0x3735a4890; contentView=<QNSView: 0x3735a43c0; QCocoaWindow(0x600003bb1a20, window=QWidgetWindow(0x6000029f3960, name=\"QWidgetClassWindow\"))>> has active key-value observers (KVO)! These will stop working now that the window is recreated, and will result in exceptions when the observers are removed. Break in QCocoaWindow::recreateWindowIfNeeded to debug.\n",
      "qt.qpa.window: <QNSWindow: 0x373d125e0; contentView=<QNSView: 0x373d12110; QCocoaWindow(0x600003bbc630, window=QWidgetWindow(0x6000029177e0, name=\"QWidgetClassWindow\"))>> has active key-value observers (KVO)! These will stop working now that the window is recreated, and will result in exceptions when the observers are removed. Break in QCocoaWindow::recreateWindowIfNeeded to debug.\n",
      "qt.qpa.window: <QNSWindow: 0x373d182d0; contentView=<QNSView: 0x373d17d60; QCocoaWindow(0x600003bbc840, window=QWidgetWindow(0x600002910a20, name=\"QWidgetClassWindow\"))>> has active key-value observers (KVO)! These will stop working now that the window is recreated, and will result in exceptions when the observers are removed. Break in QCocoaWindow::recreateWindowIfNeeded to debug.\n"
     ]
    },
    {
     "ename": "FileNotFoundError",
     "evalue": "[Errno 2] No such file or directory: '/Users/pecsok/projects/Neuromaps/pecsok_pfns/neuromaps/figures/cammoun2012_scale500/surface_receptor_NMDA.png'",
     "output_type": "error",
     "traceback": [
      "\u001b[0;31m---------------------------------------------------------------------------\u001b[0m",
      "\u001b[0;31mFileNotFoundError\u001b[0m                         Traceback (most recent call last)",
      "Cell \u001b[0;32mIn[13], line 46\u001b[0m\n\u001b[1;32m     39\u001b[0m     \u001b[38;5;28;01mfor\u001b[39;00m k \u001b[38;5;129;01min\u001b[39;00m \u001b[38;5;28mrange\u001b[39m(\u001b[38;5;28mlen\u001b[39m(receptor_names)):\n\u001b[1;32m     40\u001b[0m         brain \u001b[38;5;241m=\u001b[39m plotting\u001b[38;5;241m.\u001b[39mplot_fsaverage(data\u001b[38;5;241m=\u001b[39mreceptor_data[:, k],\n\u001b[1;32m     41\u001b[0m                                         lhannot\u001b[38;5;241m=\u001b[39mannot\u001b[38;5;241m.\u001b[39mlh,\n\u001b[1;32m     42\u001b[0m                                         rhannot\u001b[38;5;241m=\u001b[39mannot\u001b[38;5;241m.\u001b[39mrh,\n\u001b[1;32m     43\u001b[0m                                         colormap\u001b[38;5;241m=\u001b[39m\u001b[38;5;124m'\u001b[39m\u001b[38;5;124mplasma\u001b[39m\u001b[38;5;124m'\u001b[39m,\n\u001b[1;32m     44\u001b[0m                                         views\u001b[38;5;241m=\u001b[39m[\u001b[38;5;124m'\u001b[39m\u001b[38;5;124mlat\u001b[39m\u001b[38;5;124m'\u001b[39m, \u001b[38;5;124m'\u001b[39m\u001b[38;5;124mmed\u001b[39m\u001b[38;5;124m'\u001b[39m],\n\u001b[1;32m     45\u001b[0m                                         data_kws\u001b[38;5;241m=\u001b[39m{\u001b[38;5;124m'\u001b[39m\u001b[38;5;124mrepresentation\u001b[39m\u001b[38;5;124m'\u001b[39m: \u001b[38;5;124m\"\u001b[39m\u001b[38;5;124mwireframe\u001b[39m\u001b[38;5;124m\"\u001b[39m})\n\u001b[0;32m---> 46\u001b[0m         \u001b[43mbrain\u001b[49m\u001b[38;5;241;43m.\u001b[39;49m\u001b[43msave_image\u001b[49m\u001b[43m(\u001b[49m\u001b[43mpath\u001b[49m\u001b[38;5;241;43m+\u001b[39;49m\u001b[38;5;124;43m'\u001b[39;49m\u001b[38;5;124;43mfigures/\u001b[39;49m\u001b[38;5;124;43m'\u001b[39;49m\u001b[43m \u001b[49m\u001b[38;5;241;43m+\u001b[39;49m\u001b[43m \u001b[49m\u001b[43mscale\u001b[49m\u001b[43m \u001b[49m\u001b[38;5;241;43m+\u001b[39;49m\u001b[43m \u001b[49m\u001b[38;5;124;43m'\u001b[39;49m\u001b[38;5;124;43m/surface_receptor_\u001b[39;49m\u001b[38;5;124;43m'\u001b[39;49m\u001b[38;5;241;43m+\u001b[39;49m\u001b[43mreceptor_names\u001b[49m\u001b[43m[\u001b[49m\u001b[43mk\u001b[49m\u001b[43m]\u001b[49m\u001b[38;5;241;43m+\u001b[39;49m\u001b[38;5;124;43m'\u001b[39;49m\u001b[38;5;124;43m.png\u001b[39;49m\u001b[38;5;124;43m'\u001b[39;49m\u001b[43m)\u001b[49m\n\u001b[1;32m     51\u001b[0m \u001b[38;5;66;03m#receptor_data[:, 2:9] = r[:, 3:10]\u001b[39;00m\n\u001b[1;32m     52\u001b[0m \u001b[38;5;28mprint\u001b[39m(receptor_data)\n",
      "File \u001b[0;32m~/.local/lib/python3.11/site-packages/surfer/viz.py:2398\u001b[0m, in \u001b[0;36mBrain.save_image\u001b[0;34m(self, filename, mode, antialiased)\u001b[0m\n\u001b[1;32m   2372\u001b[0m \u001b[38;5;28;01mdef\u001b[39;00m \u001b[38;5;21msave_image\u001b[39m(\u001b[38;5;28mself\u001b[39m, filename, mode\u001b[38;5;241m=\u001b[39m\u001b[38;5;124m'\u001b[39m\u001b[38;5;124mrgb\u001b[39m\u001b[38;5;124m'\u001b[39m, antialiased\u001b[38;5;241m=\u001b[39m\u001b[38;5;28;01mFalse\u001b[39;00m):\n\u001b[1;32m   2373\u001b[0m \u001b[38;5;250m    \u001b[39m\u001b[38;5;124;03m\"\"\"Save view from all panels to disk\u001b[39;00m\n\u001b[1;32m   2374\u001b[0m \n\u001b[1;32m   2375\u001b[0m \u001b[38;5;124;03m    Only mayavi image types are supported:\u001b[39;00m\n\u001b[0;32m   (...)\u001b[0m\n\u001b[1;32m   2396\u001b[0m \u001b[38;5;124;03m    script plotting commands.\u001b[39;00m\n\u001b[1;32m   2397\u001b[0m \u001b[38;5;124;03m    \"\"\"\u001b[39;00m\n\u001b[0;32m-> 2398\u001b[0m     \u001b[38;5;28;43mself\u001b[39;49m\u001b[38;5;241;43m.\u001b[39;49m\u001b[43m_screenshot_figure\u001b[49m\u001b[43m(\u001b[49m\u001b[43mmode\u001b[49m\u001b[43m,\u001b[49m\u001b[43m \u001b[49m\u001b[43mantialiased\u001b[49m\u001b[43m)\u001b[49m\u001b[38;5;241;43m.\u001b[39;49m\u001b[43msavefig\u001b[49m\u001b[43m(\u001b[49m\u001b[43mfilename\u001b[49m\u001b[43m)\u001b[49m\n",
      "File \u001b[0;32m~/.local/lib/python3.11/site-packages/matplotlib/figure.py:3390\u001b[0m, in \u001b[0;36mFigure.savefig\u001b[0;34m(self, fname, transparent, **kwargs)\u001b[0m\n\u001b[1;32m   3388\u001b[0m     \u001b[38;5;28;01mfor\u001b[39;00m ax \u001b[38;5;129;01min\u001b[39;00m \u001b[38;5;28mself\u001b[39m\u001b[38;5;241m.\u001b[39maxes:\n\u001b[1;32m   3389\u001b[0m         _recursively_make_axes_transparent(stack, ax)\n\u001b[0;32m-> 3390\u001b[0m \u001b[38;5;28;43mself\u001b[39;49m\u001b[38;5;241;43m.\u001b[39;49m\u001b[43mcanvas\u001b[49m\u001b[38;5;241;43m.\u001b[39;49m\u001b[43mprint_figure\u001b[49m\u001b[43m(\u001b[49m\u001b[43mfname\u001b[49m\u001b[43m,\u001b[49m\u001b[43m \u001b[49m\u001b[38;5;241;43m*\u001b[39;49m\u001b[38;5;241;43m*\u001b[39;49m\u001b[43mkwargs\u001b[49m\u001b[43m)\u001b[49m\n",
      "File \u001b[0;32m~/.local/lib/python3.11/site-packages/matplotlib/backend_bases.py:2193\u001b[0m, in \u001b[0;36mFigureCanvasBase.print_figure\u001b[0;34m(self, filename, dpi, facecolor, edgecolor, orientation, format, bbox_inches, pad_inches, bbox_extra_artists, backend, **kwargs)\u001b[0m\n\u001b[1;32m   2189\u001b[0m \u001b[38;5;28;01mtry\u001b[39;00m:\n\u001b[1;32m   2190\u001b[0m     \u001b[38;5;66;03m# _get_renderer may change the figure dpi (as vector formats\u001b[39;00m\n\u001b[1;32m   2191\u001b[0m     \u001b[38;5;66;03m# force the figure dpi to 72), so we need to set it again here.\u001b[39;00m\n\u001b[1;32m   2192\u001b[0m     \u001b[38;5;28;01mwith\u001b[39;00m cbook\u001b[38;5;241m.\u001b[39m_setattr_cm(\u001b[38;5;28mself\u001b[39m\u001b[38;5;241m.\u001b[39mfigure, dpi\u001b[38;5;241m=\u001b[39mdpi):\n\u001b[0;32m-> 2193\u001b[0m         result \u001b[38;5;241m=\u001b[39m \u001b[43mprint_method\u001b[49m\u001b[43m(\u001b[49m\n\u001b[1;32m   2194\u001b[0m \u001b[43m            \u001b[49m\u001b[43mfilename\u001b[49m\u001b[43m,\u001b[49m\n\u001b[1;32m   2195\u001b[0m \u001b[43m            \u001b[49m\u001b[43mfacecolor\u001b[49m\u001b[38;5;241;43m=\u001b[39;49m\u001b[43mfacecolor\u001b[49m\u001b[43m,\u001b[49m\n\u001b[1;32m   2196\u001b[0m \u001b[43m            \u001b[49m\u001b[43medgecolor\u001b[49m\u001b[38;5;241;43m=\u001b[39;49m\u001b[43medgecolor\u001b[49m\u001b[43m,\u001b[49m\n\u001b[1;32m   2197\u001b[0m \u001b[43m            \u001b[49m\u001b[43morientation\u001b[49m\u001b[38;5;241;43m=\u001b[39;49m\u001b[43morientation\u001b[49m\u001b[43m,\u001b[49m\n\u001b[1;32m   2198\u001b[0m \u001b[43m            \u001b[49m\u001b[43mbbox_inches_restore\u001b[49m\u001b[38;5;241;43m=\u001b[39;49m\u001b[43m_bbox_inches_restore\u001b[49m\u001b[43m,\u001b[49m\n\u001b[1;32m   2199\u001b[0m \u001b[43m            \u001b[49m\u001b[38;5;241;43m*\u001b[39;49m\u001b[38;5;241;43m*\u001b[39;49m\u001b[43mkwargs\u001b[49m\u001b[43m)\u001b[49m\n\u001b[1;32m   2200\u001b[0m \u001b[38;5;28;01mfinally\u001b[39;00m:\n\u001b[1;32m   2201\u001b[0m     \u001b[38;5;28;01mif\u001b[39;00m bbox_inches \u001b[38;5;129;01mand\u001b[39;00m restore_bbox:\n",
      "File \u001b[0;32m~/.local/lib/python3.11/site-packages/matplotlib/backend_bases.py:2043\u001b[0m, in \u001b[0;36mFigureCanvasBase._switch_canvas_and_return_print_method.<locals>.<lambda>\u001b[0;34m(*args, **kwargs)\u001b[0m\n\u001b[1;32m   2039\u001b[0m     optional_kws \u001b[38;5;241m=\u001b[39m {  \u001b[38;5;66;03m# Passed by print_figure for other renderers.\u001b[39;00m\n\u001b[1;32m   2040\u001b[0m         \u001b[38;5;124m\"\u001b[39m\u001b[38;5;124mdpi\u001b[39m\u001b[38;5;124m\"\u001b[39m, \u001b[38;5;124m\"\u001b[39m\u001b[38;5;124mfacecolor\u001b[39m\u001b[38;5;124m\"\u001b[39m, \u001b[38;5;124m\"\u001b[39m\u001b[38;5;124medgecolor\u001b[39m\u001b[38;5;124m\"\u001b[39m, \u001b[38;5;124m\"\u001b[39m\u001b[38;5;124morientation\u001b[39m\u001b[38;5;124m\"\u001b[39m,\n\u001b[1;32m   2041\u001b[0m         \u001b[38;5;124m\"\u001b[39m\u001b[38;5;124mbbox_inches_restore\u001b[39m\u001b[38;5;124m\"\u001b[39m}\n\u001b[1;32m   2042\u001b[0m     skip \u001b[38;5;241m=\u001b[39m optional_kws \u001b[38;5;241m-\u001b[39m {\u001b[38;5;241m*\u001b[39minspect\u001b[38;5;241m.\u001b[39msignature(meth)\u001b[38;5;241m.\u001b[39mparameters}\n\u001b[0;32m-> 2043\u001b[0m     print_method \u001b[38;5;241m=\u001b[39m functools\u001b[38;5;241m.\u001b[39mwraps(meth)(\u001b[38;5;28;01mlambda\u001b[39;00m \u001b[38;5;241m*\u001b[39margs, \u001b[38;5;241m*\u001b[39m\u001b[38;5;241m*\u001b[39mkwargs: \u001b[43mmeth\u001b[49m\u001b[43m(\u001b[49m\n\u001b[1;32m   2044\u001b[0m \u001b[43m        \u001b[49m\u001b[38;5;241;43m*\u001b[39;49m\u001b[43margs\u001b[49m\u001b[43m,\u001b[49m\u001b[43m \u001b[49m\u001b[38;5;241;43m*\u001b[39;49m\u001b[38;5;241;43m*\u001b[39;49m\u001b[43m{\u001b[49m\u001b[43mk\u001b[49m\u001b[43m:\u001b[49m\u001b[43m \u001b[49m\u001b[43mv\u001b[49m\u001b[43m \u001b[49m\u001b[38;5;28;43;01mfor\u001b[39;49;00m\u001b[43m \u001b[49m\u001b[43mk\u001b[49m\u001b[43m,\u001b[49m\u001b[43m \u001b[49m\u001b[43mv\u001b[49m\u001b[43m \u001b[49m\u001b[38;5;129;43;01min\u001b[39;49;00m\u001b[43m \u001b[49m\u001b[43mkwargs\u001b[49m\u001b[38;5;241;43m.\u001b[39;49m\u001b[43mitems\u001b[49m\u001b[43m(\u001b[49m\u001b[43m)\u001b[49m\u001b[43m \u001b[49m\u001b[38;5;28;43;01mif\u001b[39;49;00m\u001b[43m \u001b[49m\u001b[43mk\u001b[49m\u001b[43m \u001b[49m\u001b[38;5;129;43;01mnot\u001b[39;49;00m\u001b[43m \u001b[49m\u001b[38;5;129;43;01min\u001b[39;49;00m\u001b[43m \u001b[49m\u001b[43mskip\u001b[49m\u001b[43m}\u001b[49m\u001b[43m)\u001b[49m)\n\u001b[1;32m   2045\u001b[0m \u001b[38;5;28;01melse\u001b[39;00m:  \u001b[38;5;66;03m# Let third-parties do as they see fit.\u001b[39;00m\n\u001b[1;32m   2046\u001b[0m     print_method \u001b[38;5;241m=\u001b[39m meth\n",
      "File \u001b[0;32m~/.local/lib/python3.11/site-packages/matplotlib/backends/backend_agg.py:497\u001b[0m, in \u001b[0;36mFigureCanvasAgg.print_png\u001b[0;34m(self, filename_or_obj, metadata, pil_kwargs)\u001b[0m\n\u001b[1;32m    450\u001b[0m \u001b[38;5;28;01mdef\u001b[39;00m \u001b[38;5;21mprint_png\u001b[39m(\u001b[38;5;28mself\u001b[39m, filename_or_obj, \u001b[38;5;241m*\u001b[39m, metadata\u001b[38;5;241m=\u001b[39m\u001b[38;5;28;01mNone\u001b[39;00m, pil_kwargs\u001b[38;5;241m=\u001b[39m\u001b[38;5;28;01mNone\u001b[39;00m):\n\u001b[1;32m    451\u001b[0m \u001b[38;5;250m    \u001b[39m\u001b[38;5;124;03m\"\"\"\u001b[39;00m\n\u001b[1;32m    452\u001b[0m \u001b[38;5;124;03m    Write the figure to a PNG file.\u001b[39;00m\n\u001b[1;32m    453\u001b[0m \n\u001b[0;32m   (...)\u001b[0m\n\u001b[1;32m    495\u001b[0m \u001b[38;5;124;03m        *metadata*, including the default 'Software' key.\u001b[39;00m\n\u001b[1;32m    496\u001b[0m \u001b[38;5;124;03m    \"\"\"\u001b[39;00m\n\u001b[0;32m--> 497\u001b[0m     \u001b[38;5;28;43mself\u001b[39;49m\u001b[38;5;241;43m.\u001b[39;49m\u001b[43m_print_pil\u001b[49m\u001b[43m(\u001b[49m\u001b[43mfilename_or_obj\u001b[49m\u001b[43m,\u001b[49m\u001b[43m \u001b[49m\u001b[38;5;124;43m\"\u001b[39;49m\u001b[38;5;124;43mpng\u001b[39;49m\u001b[38;5;124;43m\"\u001b[39;49m\u001b[43m,\u001b[49m\u001b[43m \u001b[49m\u001b[43mpil_kwargs\u001b[49m\u001b[43m,\u001b[49m\u001b[43m \u001b[49m\u001b[43mmetadata\u001b[49m\u001b[43m)\u001b[49m\n",
      "File \u001b[0;32m~/.local/lib/python3.11/site-packages/matplotlib/backends/backend_agg.py:446\u001b[0m, in \u001b[0;36mFigureCanvasAgg._print_pil\u001b[0;34m(self, filename_or_obj, fmt, pil_kwargs, metadata)\u001b[0m\n\u001b[1;32m    441\u001b[0m \u001b[38;5;250m\u001b[39m\u001b[38;5;124;03m\"\"\"\u001b[39;00m\n\u001b[1;32m    442\u001b[0m \u001b[38;5;124;03mDraw the canvas, then save it using `.image.imsave` (to which\u001b[39;00m\n\u001b[1;32m    443\u001b[0m \u001b[38;5;124;03m*pil_kwargs* and *metadata* are forwarded).\u001b[39;00m\n\u001b[1;32m    444\u001b[0m \u001b[38;5;124;03m\"\"\"\u001b[39;00m\n\u001b[1;32m    445\u001b[0m FigureCanvasAgg\u001b[38;5;241m.\u001b[39mdraw(\u001b[38;5;28mself\u001b[39m)\n\u001b[0;32m--> 446\u001b[0m \u001b[43mmpl\u001b[49m\u001b[38;5;241;43m.\u001b[39;49m\u001b[43mimage\u001b[49m\u001b[38;5;241;43m.\u001b[39;49m\u001b[43mimsave\u001b[49m\u001b[43m(\u001b[49m\n\u001b[1;32m    447\u001b[0m \u001b[43m    \u001b[49m\u001b[43mfilename_or_obj\u001b[49m\u001b[43m,\u001b[49m\u001b[43m \u001b[49m\u001b[38;5;28;43mself\u001b[39;49m\u001b[38;5;241;43m.\u001b[39;49m\u001b[43mbuffer_rgba\u001b[49m\u001b[43m(\u001b[49m\u001b[43m)\u001b[49m\u001b[43m,\u001b[49m\u001b[43m \u001b[49m\u001b[38;5;28;43mformat\u001b[39;49m\u001b[38;5;241;43m=\u001b[39;49m\u001b[43mfmt\u001b[49m\u001b[43m,\u001b[49m\u001b[43m \u001b[49m\u001b[43morigin\u001b[49m\u001b[38;5;241;43m=\u001b[39;49m\u001b[38;5;124;43m\"\u001b[39;49m\u001b[38;5;124;43mupper\u001b[39;49m\u001b[38;5;124;43m\"\u001b[39;49m\u001b[43m,\u001b[49m\n\u001b[1;32m    448\u001b[0m \u001b[43m    \u001b[49m\u001b[43mdpi\u001b[49m\u001b[38;5;241;43m=\u001b[39;49m\u001b[38;5;28;43mself\u001b[39;49m\u001b[38;5;241;43m.\u001b[39;49m\u001b[43mfigure\u001b[49m\u001b[38;5;241;43m.\u001b[39;49m\u001b[43mdpi\u001b[49m\u001b[43m,\u001b[49m\u001b[43m \u001b[49m\u001b[43mmetadata\u001b[49m\u001b[38;5;241;43m=\u001b[39;49m\u001b[43mmetadata\u001b[49m\u001b[43m,\u001b[49m\u001b[43m \u001b[49m\u001b[43mpil_kwargs\u001b[49m\u001b[38;5;241;43m=\u001b[39;49m\u001b[43mpil_kwargs\u001b[49m\u001b[43m)\u001b[49m\n",
      "File \u001b[0;32m~/.local/lib/python3.11/site-packages/matplotlib/image.py:1656\u001b[0m, in \u001b[0;36mimsave\u001b[0;34m(fname, arr, vmin, vmax, cmap, format, origin, dpi, metadata, pil_kwargs)\u001b[0m\n\u001b[1;32m   1654\u001b[0m pil_kwargs\u001b[38;5;241m.\u001b[39msetdefault(\u001b[38;5;124m\"\u001b[39m\u001b[38;5;124mformat\u001b[39m\u001b[38;5;124m\"\u001b[39m, \u001b[38;5;28mformat\u001b[39m)\n\u001b[1;32m   1655\u001b[0m pil_kwargs\u001b[38;5;241m.\u001b[39msetdefault(\u001b[38;5;124m\"\u001b[39m\u001b[38;5;124mdpi\u001b[39m\u001b[38;5;124m\"\u001b[39m, (dpi, dpi))\n\u001b[0;32m-> 1656\u001b[0m \u001b[43mimage\u001b[49m\u001b[38;5;241;43m.\u001b[39;49m\u001b[43msave\u001b[49m\u001b[43m(\u001b[49m\u001b[43mfname\u001b[49m\u001b[43m,\u001b[49m\u001b[43m \u001b[49m\u001b[38;5;241;43m*\u001b[39;49m\u001b[38;5;241;43m*\u001b[39;49m\u001b[43mpil_kwargs\u001b[49m\u001b[43m)\u001b[49m\n",
      "File \u001b[0;32m~/.local/lib/python3.11/site-packages/PIL/Image.py:2456\u001b[0m, in \u001b[0;36mImage.save\u001b[0;34m(self, fp, format, **params)\u001b[0m\n\u001b[1;32m   2454\u001b[0m         fp \u001b[38;5;241m=\u001b[39m builtins\u001b[38;5;241m.\u001b[39mopen(filename, \u001b[38;5;124m\"\u001b[39m\u001b[38;5;124mr+b\u001b[39m\u001b[38;5;124m\"\u001b[39m)\n\u001b[1;32m   2455\u001b[0m     \u001b[38;5;28;01melse\u001b[39;00m:\n\u001b[0;32m-> 2456\u001b[0m         fp \u001b[38;5;241m=\u001b[39m \u001b[43mbuiltins\u001b[49m\u001b[38;5;241;43m.\u001b[39;49m\u001b[43mopen\u001b[49m\u001b[43m(\u001b[49m\u001b[43mfilename\u001b[49m\u001b[43m,\u001b[49m\u001b[43m \u001b[49m\u001b[38;5;124;43m\"\u001b[39;49m\u001b[38;5;124;43mw+b\u001b[39;49m\u001b[38;5;124;43m\"\u001b[39;49m\u001b[43m)\u001b[49m\n\u001b[1;32m   2458\u001b[0m \u001b[38;5;28;01mtry\u001b[39;00m:\n\u001b[1;32m   2459\u001b[0m     save_handler(\u001b[38;5;28mself\u001b[39m, fp, filename)\n",
      "\u001b[0;31mFileNotFoundError\u001b[0m: [Errno 2] No such file or directory: '/Users/pecsok/projects/Neuromaps/pecsok_pfns/neuromaps/figures/cammoun2012_scale500/surface_receptor_NMDA.png'"
     ]
    }
   ],
   "source": [
    "\"\"\"\n",
    "plot receptor data\n",
    "\"\"\"\n",
    "\n",
    "# colourmaps\n",
    "cmap = np.genfromtxt(datapath+'data/colourmap.csv', delimiter=',')\n",
    "cmap_div = ListedColormap(cmap)\n",
    "\n",
    "# plot each receptor map\n",
    "if scale == 'scale1000_17':\n",
    "    annot = datasets.fetch_schaefer2018('fsaverage')['1000Parcels17Networks']\n",
    "    type(annot)\n",
    "    print(annot)\n",
    "    \n",
    "    for k in range(len(receptor_names)):\n",
    "        brain = plotting.plot_fsaverage(data=receptor_data[:, k],\n",
    "                                        lhannot=annot.lh,\n",
    "                                        rhannot=annot.rh,\n",
    "                                        colormap='plasma',\n",
    "                                        views=['lat', 'med'],\n",
    "                                        data_kws={'representation': \"wireframe\"})\n",
    "        brain.save_image(path+'figures/scale1000_17/surface_receptor_'+receptor_names[k]+'.png')\n",
    "\n",
    "\n",
    "if scale == 'scale100':\n",
    "    annot = datasets.fetch_schaefer2018('fsaverage')['100Parcels7Networks']\n",
    "    for k in range(len(receptor_names)):\n",
    "        brain = plotting.plot_fsaverage(data=receptor_data[:, k],\n",
    "                                        lhannot=annot.lh,\n",
    "                                        rhannot=annot.rh,\n",
    "                                        colormap='plasma',\n",
    "                                        views=['lat', 'med'],\n",
    "                                        data_kws={'representation': \"wireframe\"})\n",
    "        brain.save_image(path+'figures/' + scale + '/surface_receptor_'+receptor_names[k]+'.png')\n",
    "\n",
    "## NEWWWWWW\n",
    "if scale == 'cammoun2012_scale500':\n",
    "    annot = datasets.fetch_schaefer2018('fsaverage')['100Parcels7Networks']\n",
    "    for k in range(len(receptor_names)):\n",
    "        brain = plotting.plot_fsaverage(data=receptor_data[:, k],\n",
    "                                        lhannot=annot.lh,\n",
    "                                        rhannot=annot.rh,\n",
    "                                        colormap='plasma',\n",
    "                                        views=['lat', 'med'],\n",
    "                                        data_kws={'representation': \"wireframe\"})\n",
    "        brain.save_image(path+'figures/' + scale + '/surface_receptor_'+receptor_names[k]+'.png')\n",
    "\n",
    "\n",
    "\n",
    "\n",
    "#receptor_data[:, 2:9] = r[:, 3:10]\n",
    "print(receptor_data)\n",
    "print(len(receptor_data))\n",
    "\n",
    "print(r)"
   ]
  }
 ],
 "metadata": {
  "kernelspec": {
   "display_name": "nmap2",
   "language": "python",
   "name": "nmaps2"
  },
  "language_info": {
   "codemirror_mode": {
    "name": "ipython",
    "version": 3
   },
   "file_extension": ".py",
   "mimetype": "text/x-python",
   "name": "python",
   "nbconvert_exporter": "python",
   "pygments_lexer": "ipython3",
   "version": "3.11.0"
  }
 },
 "nbformat": 4,
 "nbformat_minor": 5
}
