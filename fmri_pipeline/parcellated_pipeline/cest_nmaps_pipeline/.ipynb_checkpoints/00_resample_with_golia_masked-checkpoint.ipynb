{
 "cells": [
  {
   "cell_type": "markdown",
   "id": "985933a1-d33f-4942-9cc7-54b30996f2d0",
   "metadata": {},
   "source": [
    "# Combine nmaps"
   ]
  },
  {
   "cell_type": "markdown",
   "id": "414752d0-44a8-4e0e-a1d3-632aeaad60ec",
   "metadata": {},
   "source": [
    "#### In this notebook, the goal is to import the neuromaps data for glu-related maps and generate some binarized masks.\n",
    "\n",
    "1. Import packages and maps\n",
    "2. Combine receptor maps of interest"
   ]
  },
  {
   "cell_type": "markdown",
   "id": "b6b42118-1444-457d-a575-8d14d9f2c933",
   "metadata": {},
   "source": [
    "## Load Packages"
   ]
  },
  {
   "cell_type": "code",
   "execution_count": 1,
   "id": "4ca0865a-4a3c-4ef4-92b5-82967ede6d08",
   "metadata": {
    "scrolled": true
   },
   "outputs": [
    {
     "name": "stderr",
     "output_type": "stream",
     "text": [
      "pixdim[1,2,3] should be non-zero; setting 0 dims to 1\n"
     ]
    }
   ],
   "source": [
    "import pandas as pd\n",
    "import nilearn\n",
    "from nilearn.datasets import fetch_atlas_schaefer_2018\n",
    "from neuromaps.datasets import fetch_atlas\n",
    "from nilearn.image import binarize_img\n",
    "from nilearn import image as nimage\n",
    "from neuromaps.images import (load_nifti, load_data)\n",
    "from neuromaps.parcellate import Parcellater\n",
    "import warnings\n",
    "from neuromaps.datasets import fetch_fslr, fetch_annotation, available_annotations\n",
    "from neuromaps import datasets, images, nulls, resampling, stats, transforms, parcellate\n",
    "from neuromaps.parcellate import Parcellater \n",
    "from neuromaps.resampling import resample_images\n",
    "from neuromaps.images import dlabel_to_gifti\n",
    "import neuromaps\n",
    "import nibabel as nib\n",
    "import os\n",
    "import numpy as np\n",
    "import mayavi\n",
    "from PIL import Image\n",
    "import hcp_utils as hcp\n",
    "import nilearn.plotting as plotting\n",
    "import warnings\n",
    "import nibabel as nib\n",
    "import pylab as plt\n",
    "from nilearn.image import resample_img\n",
    "from scipy.stats import zscore\n",
    "#import abagen ## This is important for certification purposes \n",
    "from netneurotools import datasets as nntdata\n",
    "warnings.filterwarnings('ignore')"
   ]
  },
  {
   "cell_type": "markdown",
   "id": "36a93e15-d55a-4cb4-ab20-708e42cc26e3",
   "metadata": {},
   "source": [
    "## Import Data and Set Variables"
   ]
  },
  {
   "cell_type": "code",
   "execution_count": 2,
   "id": "8180b80c-1683-45e6-a0ce-21e8b77d99fd",
   "metadata": {},
   "outputs": [],
   "source": [
    "# List annotations of interest. \n",
    "ANNOTATIONS = [\n",
    "    ('dukart2018', 'flumazenil', 'MNI152', '3mm'),   # GABA\n",
    "    ('rosaneto', 'abp688', 'MNI152', '1mm'),         # mGluR1\n",
    "    ('dubois2015', 'abp688', 'MNI152', '1mm'),       # mGluR2\n",
    "    ('smart2019', 'abp688', 'MNI152', '1mm'),        # mGluR3\n",
    "    ('sandiego2015', 'flb457', 'MNI152', '1mm'),     # D2_1\n",
    "    ('smith2017', 'flb457', 'MNI152', '1mm'),         # D2_2 \n",
    "    # New maps: (#SA = #6)\n",
    "    ('sydnor2021', 'SAaxis', 'fsLR', '32k'),\n",
    "    ('finnema2016', 'ucbj', 'MNI152', '1mm')\n",
    "]\n",
    "\n",
    "              \n",
    "# Generate an empty list to add transformed maps\n",
    "nmaps_transformed = []\n",
    "nmaps_transformed_array = []\n",
    "# Set paths\n",
    "outpath = \"/Users/pecsok/projects/Neuromaps/pecsok_pfns/neuromaps/data/maps/PET_nifti_images/\"\n",
    "#nmda_path = \"/Users/pecsok/projects/Neuromaps/pecsok_pfns/neuromaps/data/maps/PET_nifti_images/\"\n",
    "\n",
    "# Notes:\n",
    "#  1. NMDA is not in available annotations list but was copied from Hansen git repo\n",
    "#       Already in MNI 152 at 1mm resolution. transfer to outt\n",
    "#  2. We are excluding GABA map ('norgaard2021', 'flumazenil', 'MNI152', '1mm') \n",
    "#      Only has cortical data. Consider re-adding for later analyses or future studies. "
   ]
  },
  {
   "cell_type": "code",
   "execution_count": 3,
   "id": "e75a9465-f2f1-4b5f-b462-c309b0a09501",
   "metadata": {},
   "outputs": [],
   "source": [
    "# Set path for downloading neuromaps data\n",
    "data_dir = '/Users/pecsok/projects/Neuromaps'"
   ]
  },
  {
   "cell_type": "markdown",
   "id": "dac44ab6-71ce-4a84-be8e-2909906e3a89",
   "metadata": {},
   "source": [
    "### Load in neuromaps of interest"
   ]
  },
  {
   "cell_type": "code",
   "execution_count": 4,
   "id": "ad691b97-5df9-45fc-9516-1ca6f8d2ebd3",
   "metadata": {},
   "outputs": [],
   "source": [
    "# 6th gen MNI template:\n",
    "mni152 = fetch_atlas('MNI152', '1mm')\n",
    "mninifti = nib.load(mni152['6Asym_T1w'])\n",
    "us_mninifti = resample_img(mninifti, target_affine=np.eye(3)*0.82, interpolation='nearest')\n",
    "\n",
    "# 6th gen MNI mask\n",
    "mnimask = nib.load(mni152['6Asym_brainmask'])\n",
    "us_mnimask = resample_img(mnimask, target_affine=np.eye(3)*0.82, interpolation='nearest')\n",
    "maskarray = us_mnimask.get_fdata()\n",
    "\n",
    "# Fetch annotations\n",
    "imgs=[]\n",
    "for (src, desc, space, den) in ANNOTATIONS:\n",
    "    img = datasets.fetch_annotation(source=src, desc=desc,\n",
    "                                    space=space, den=den)\n",
    "    imgs.append(img)\n"
   ]
  },
  {
   "cell_type": "code",
   "execution_count": 5,
   "id": "c038e5f3-bcc2-4e72-9323-1ad77ac8d1b8",
   "metadata": {},
   "outputs": [],
   "source": [
    "#lausanne = nntdata.fetch_cammoun2012(version='MNI152NLin2009aSym')\n",
    "#type(lausanne)\n",
    "#lausanne.get_fdata()"
   ]
  },
  {
   "cell_type": "code",
   "execution_count": 6,
   "id": "bcb60ecb-65ff-4e3b-af12-0957decddc57",
   "metadata": {},
   "outputs": [
    {
     "name": "stdout",
     "output_type": "stream",
     "text": [
      "(<nibabel.nifti1.Nifti1Image object at 0x33ff9b2d0>, <nibabel.nifti1.Nifti1Image object at 0x3460d15d0>)\n"
     ]
    }
   ],
   "source": [
    "# Resample GABA\n",
    "resampled_GABA=neuromaps.resampling.resample_images(src=imgs[0],src_space='MNI152',trg_space='MNI152',\n",
    "                                                    trg=us_mninifti,method='linear',resampling='transform_to_trg')\n",
    "# Skull Strip\n",
    "print(resampled_GABA)\n",
    "array = resampled_GABA[0].get_fdata()\n",
    "masked_array = array * maskarray\n",
    "nib.save(nib.Nifti1Image(masked_array,resampled_GABA[0].affine),outpath +'resampled_GABA_masked.nii.gz')\n",
    "\n",
    "# Z Score\n",
    "masked_values = masked_array[masked_array > 0]\n",
    "zscored_values = zscore(masked_values)\n",
    "zmasked_array = np.zeros_like(masked_array)\n",
    "zmasked_array[masked_array > 0] = zscored_values\n",
    "\n",
    "\n",
    "nib.save(nib.Nifti1Image(zmasked_array,resampled_GABA[0].affine),outpath +'resampled_GABA_zmasked.nii.gz')"
   ]
  },
  {
   "cell_type": "code",
   "execution_count": 8,
   "id": "fd157520-f9de-495e-8320-af8500f1572b",
   "metadata": {},
   "outputs": [
    {
     "ename": "KeyboardInterrupt",
     "evalue": "",
     "output_type": "error",
     "traceback": [
      "\u001b[0;31m---------------------------------------------------------------------------\u001b[0m",
      "\u001b[0;31mKeyboardInterrupt\u001b[0m                         Traceback (most recent call last)",
      "Cell \u001b[0;32mIn[8], line 27\u001b[0m\n\u001b[1;32m     24\u001b[0m zmasked_array \u001b[38;5;241m=\u001b[39m np\u001b[38;5;241m.\u001b[39mzeros_like(masked_array)\n\u001b[1;32m     25\u001b[0m zmasked_array[masked_array \u001b[38;5;241m>\u001b[39m \u001b[38;5;241m0\u001b[39m] \u001b[38;5;241m=\u001b[39m zscored_values\n\u001b[0;32m---> 27\u001b[0m \u001b[43mnib\u001b[49m\u001b[38;5;241;43m.\u001b[39;49m\u001b[43msave\u001b[49m\u001b[43m(\u001b[49m\u001b[43mnib\u001b[49m\u001b[38;5;241;43m.\u001b[39;49m\u001b[43mNifti1Image\u001b[49m\u001b[43m(\u001b[49m\u001b[43mzmasked_array\u001b[49m\u001b[43m,\u001b[49m\u001b[43mresampled_GABA\u001b[49m\u001b[43m[\u001b[49m\u001b[38;5;241;43m0\u001b[39;49m\u001b[43m]\u001b[49m\u001b[38;5;241;43m.\u001b[39;49m\u001b[43maffine\u001b[49m\u001b[43m)\u001b[49m\u001b[43m,\u001b[49m\u001b[43moutpath\u001b[49m\u001b[43m \u001b[49m\u001b[38;5;241;43m+\u001b[39;49m\u001b[38;5;124;43m'\u001b[39;49m\u001b[38;5;124;43mresampled_mGluR5_zmasked.nii.gz\u001b[39;49m\u001b[38;5;124;43m'\u001b[39;49m\u001b[43m)\u001b[49m\n",
      "File \u001b[0;32m~/.local/lib/python3.11/site-packages/nibabel/loadsave.py:163\u001b[0m, in \u001b[0;36msave\u001b[0;34m(img, filename, **kwargs)\u001b[0m\n\u001b[1;32m    161\u001b[0m \u001b[38;5;66;03m# Save the type as expected\u001b[39;00m\n\u001b[1;32m    162\u001b[0m \u001b[38;5;28;01mtry\u001b[39;00m:\n\u001b[0;32m--> 163\u001b[0m     \u001b[43mimg\u001b[49m\u001b[38;5;241;43m.\u001b[39;49m\u001b[43mto_filename\u001b[49m\u001b[43m(\u001b[49m\u001b[43mfilename\u001b[49m\u001b[43m,\u001b[49m\u001b[43m \u001b[49m\u001b[38;5;241;43m*\u001b[39;49m\u001b[38;5;241;43m*\u001b[39;49m\u001b[43mkwargs\u001b[49m\u001b[43m)\u001b[49m\n\u001b[1;32m    164\u001b[0m \u001b[38;5;28;01mexcept\u001b[39;00m ImageFileError:\n\u001b[1;32m    165\u001b[0m     \u001b[38;5;28;01mpass\u001b[39;00m\n",
      "File \u001b[0;32m~/.local/lib/python3.11/site-packages/nibabel/filebasedimages.py:307\u001b[0m, in \u001b[0;36mFileBasedImage.to_filename\u001b[0;34m(self, filename, **kwargs)\u001b[0m\n\u001b[1;32m    291\u001b[0m \u001b[38;5;250m\u001b[39m\u001b[38;5;124mr\u001b[39m\u001b[38;5;124;03m\"\"\"Write image to files implied by filename string\u001b[39;00m\n\u001b[1;32m    292\u001b[0m \n\u001b[1;32m    293\u001b[0m \u001b[38;5;124;03mParameters\u001b[39;00m\n\u001b[0;32m   (...)\u001b[0m\n\u001b[1;32m    304\u001b[0m \u001b[38;5;124;03mNone\u001b[39;00m\n\u001b[1;32m    305\u001b[0m \u001b[38;5;124;03m\"\"\"\u001b[39;00m\n\u001b[1;32m    306\u001b[0m \u001b[38;5;28mself\u001b[39m\u001b[38;5;241m.\u001b[39mfile_map \u001b[38;5;241m=\u001b[39m \u001b[38;5;28mself\u001b[39m\u001b[38;5;241m.\u001b[39mfilespec_to_file_map(filename)\n\u001b[0;32m--> 307\u001b[0m \u001b[38;5;28;43mself\u001b[39;49m\u001b[38;5;241;43m.\u001b[39;49m\u001b[43mto_file_map\u001b[49m\u001b[43m(\u001b[49m\u001b[38;5;241;43m*\u001b[39;49m\u001b[38;5;241;43m*\u001b[39;49m\u001b[43mkwargs\u001b[49m\u001b[43m)\u001b[49m\n",
      "File \u001b[0;32m~/.local/lib/python3.11/site-packages/nibabel/nifti1.py:2217\u001b[0m, in \u001b[0;36mNifti1Pair.to_file_map\u001b[0;34m(self, file_map, dtype)\u001b[0m\n\u001b[1;32m   2215\u001b[0m \u001b[38;5;28mself\u001b[39m\u001b[38;5;241m.\u001b[39mget_data_dtype(finalize\u001b[38;5;241m=\u001b[39m\u001b[38;5;28;01mTrue\u001b[39;00m)\n\u001b[1;32m   2216\u001b[0m \u001b[38;5;28;01mtry\u001b[39;00m:\n\u001b[0;32m-> 2217\u001b[0m     \u001b[38;5;28;43msuper\u001b[39;49m\u001b[43m(\u001b[49m\u001b[43m)\u001b[49m\u001b[38;5;241;43m.\u001b[39;49m\u001b[43mto_file_map\u001b[49m\u001b[43m(\u001b[49m\u001b[43mfile_map\u001b[49m\u001b[43m,\u001b[49m\u001b[43m \u001b[49m\u001b[43mdtype\u001b[49m\u001b[43m)\u001b[49m\n\u001b[1;32m   2218\u001b[0m \u001b[38;5;28;01mfinally\u001b[39;00m:\n\u001b[1;32m   2219\u001b[0m     \u001b[38;5;28mself\u001b[39m\u001b[38;5;241m.\u001b[39mset_data_dtype(img_dtype)\n",
      "File \u001b[0;32m~/.local/lib/python3.11/site-packages/nibabel/analyze.py:1051\u001b[0m, in \u001b[0;36mAnalyzeImage.to_file_map\u001b[0;34m(self, file_map, dtype)\u001b[0m\n\u001b[1;32m   1049\u001b[0m seek_tell(imgf, hdr\u001b[38;5;241m.\u001b[39mget_data_offset(), write0\u001b[38;5;241m=\u001b[39m\u001b[38;5;28;01mTrue\u001b[39;00m)\n\u001b[1;32m   1050\u001b[0m \u001b[38;5;66;03m# Write array data\u001b[39;00m\n\u001b[0;32m-> 1051\u001b[0m \u001b[43marr_writer\u001b[49m\u001b[38;5;241;43m.\u001b[39;49m\u001b[43mto_fileobj\u001b[49m\u001b[43m(\u001b[49m\u001b[43mimgf\u001b[49m\u001b[43m)\u001b[49m\n\u001b[1;32m   1052\u001b[0m hdrf\u001b[38;5;241m.\u001b[39mclose_if_mine()\n\u001b[1;32m   1053\u001b[0m \u001b[38;5;28;01mif\u001b[39;00m \u001b[38;5;129;01mnot\u001b[39;00m hdr_img_same:\n",
      "File \u001b[0;32m~/.local/lib/python3.11/site-packages/nibabel/arraywriters.py:525\u001b[0m, in \u001b[0;36mSlopeInterArrayWriter.to_fileobj\u001b[0;34m(self, fileobj, order)\u001b[0m\n\u001b[1;32m    516\u001b[0m \u001b[38;5;250m\u001b[39m\u001b[38;5;124;03m\"\"\"Write array into `fileobj`\u001b[39;00m\n\u001b[1;32m    517\u001b[0m \n\u001b[1;32m    518\u001b[0m \u001b[38;5;124;03mParameters\u001b[39;00m\n\u001b[0;32m   (...)\u001b[0m\n\u001b[1;32m    522\u001b[0m \u001b[38;5;124;03m    order (Fortran or C) to which to write array\u001b[39;00m\n\u001b[1;32m    523\u001b[0m \u001b[38;5;124;03m\"\"\"\u001b[39;00m\n\u001b[1;32m    524\u001b[0m mn, mx \u001b[38;5;241m=\u001b[39m \u001b[38;5;28mself\u001b[39m\u001b[38;5;241m.\u001b[39m_writing_range()\n\u001b[0;32m--> 525\u001b[0m \u001b[43marray_to_file\u001b[49m\u001b[43m(\u001b[49m\n\u001b[1;32m    526\u001b[0m \u001b[43m    \u001b[49m\u001b[38;5;28;43mself\u001b[39;49m\u001b[38;5;241;43m.\u001b[39;49m\u001b[43m_array\u001b[49m\u001b[43m,\u001b[49m\n\u001b[1;32m    527\u001b[0m \u001b[43m    \u001b[49m\u001b[43mfileobj\u001b[49m\u001b[43m,\u001b[49m\n\u001b[1;32m    528\u001b[0m \u001b[43m    \u001b[49m\u001b[38;5;28;43mself\u001b[39;49m\u001b[38;5;241;43m.\u001b[39;49m\u001b[43m_out_dtype\u001b[49m\u001b[43m,\u001b[49m\n\u001b[1;32m    529\u001b[0m \u001b[43m    \u001b[49m\u001b[43moffset\u001b[49m\u001b[38;5;241;43m=\u001b[39;49m\u001b[38;5;28;43;01mNone\u001b[39;49;00m\u001b[43m,\u001b[49m\n\u001b[1;32m    530\u001b[0m \u001b[43m    \u001b[49m\u001b[43mintercept\u001b[49m\u001b[38;5;241;43m=\u001b[39;49m\u001b[38;5;28;43mself\u001b[39;49m\u001b[38;5;241;43m.\u001b[39;49m\u001b[43minter\u001b[49m\u001b[43m,\u001b[49m\n\u001b[1;32m    531\u001b[0m \u001b[43m    \u001b[49m\u001b[43mdivslope\u001b[49m\u001b[38;5;241;43m=\u001b[39;49m\u001b[38;5;28;43mself\u001b[39;49m\u001b[38;5;241;43m.\u001b[39;49m\u001b[43mslope\u001b[49m\u001b[43m,\u001b[49m\n\u001b[1;32m    532\u001b[0m \u001b[43m    \u001b[49m\u001b[43mmn\u001b[49m\u001b[38;5;241;43m=\u001b[39;49m\u001b[43mmn\u001b[49m\u001b[43m,\u001b[49m\n\u001b[1;32m    533\u001b[0m \u001b[43m    \u001b[49m\u001b[43mmx\u001b[49m\u001b[38;5;241;43m=\u001b[39;49m\u001b[43mmx\u001b[49m\u001b[43m,\u001b[49m\n\u001b[1;32m    534\u001b[0m \u001b[43m    \u001b[49m\u001b[43morder\u001b[49m\u001b[38;5;241;43m=\u001b[39;49m\u001b[43morder\u001b[49m\u001b[43m,\u001b[49m\n\u001b[1;32m    535\u001b[0m \u001b[43m    \u001b[49m\u001b[43mnan2zero\u001b[49m\u001b[38;5;241;43m=\u001b[39;49m\u001b[38;5;28;43mself\u001b[39;49m\u001b[38;5;241;43m.\u001b[39;49m\u001b[43m_needs_nan2zero\u001b[49m\u001b[43m(\u001b[49m\u001b[43m)\u001b[49m\u001b[43m,\u001b[49m\n\u001b[1;32m    536\u001b[0m \u001b[43m\u001b[49m\u001b[43m)\u001b[49m\n",
      "File \u001b[0;32m~/.local/lib/python3.11/site-packages/nibabel/volumeutils.py:605\u001b[0m, in \u001b[0;36marray_to_file\u001b[0;34m(data, fileobj, out_dtype, offset, intercept, divslope, mn, mx, order, nan2zero)\u001b[0m\n\u001b[1;32m    603\u001b[0m     pre_clips \u001b[38;5;241m=\u001b[39m _dt_min_max(in_dtype, \u001b[38;5;241m*\u001b[39mpre_clips)\n\u001b[1;32m    604\u001b[0m \u001b[38;5;28;01mif\u001b[39;00m null_scaling \u001b[38;5;129;01mand\u001b[39;00m np\u001b[38;5;241m.\u001b[39mcan_cast(in_dtype, out_dtype):\n\u001b[0;32m--> 605\u001b[0m     \u001b[38;5;28;01mreturn\u001b[39;00m \u001b[43m_write_data\u001b[49m\u001b[43m(\u001b[49m\u001b[43mdata\u001b[49m\u001b[43m,\u001b[49m\u001b[43m \u001b[49m\u001b[43mfileobj\u001b[49m\u001b[43m,\u001b[49m\u001b[43m \u001b[49m\u001b[43mout_dtype\u001b[49m\u001b[43m,\u001b[49m\u001b[43m \u001b[49m\u001b[43morder\u001b[49m\u001b[43m,\u001b[49m\u001b[43m \u001b[49m\u001b[43mpre_clips\u001b[49m\u001b[38;5;241;43m=\u001b[39;49m\u001b[43mpre_clips\u001b[49m\u001b[43m)\u001b[49m\n\u001b[1;32m    606\u001b[0m \u001b[38;5;66;03m# Force upcasting for floats by making atleast_1d.\u001b[39;00m\n\u001b[1;32m    607\u001b[0m slope, inter \u001b[38;5;241m=\u001b[39m (np\u001b[38;5;241m.\u001b[39matleast_1d(v) \u001b[38;5;28;01mfor\u001b[39;00m v \u001b[38;5;129;01min\u001b[39;00m (divslope, intercept))\n",
      "File \u001b[0;32m~/.local/lib/python3.11/site-packages/nibabel/volumeutils.py:784\u001b[0m, in \u001b[0;36m_write_data\u001b[0;34m(data, fileobj, out_dtype, order, in_cast, pre_clips, inter, slope, post_clips, nan_fill)\u001b[0m\n\u001b[1;32m    782\u001b[0m \u001b[38;5;28;01mif\u001b[39;00m dslice\u001b[38;5;241m.\u001b[39mdtype \u001b[38;5;241m!=\u001b[39m out_dtype:\n\u001b[1;32m    783\u001b[0m     dslice \u001b[38;5;241m=\u001b[39m dslice\u001b[38;5;241m.\u001b[39mastype(out_dtype)\n\u001b[0;32m--> 784\u001b[0m \u001b[43mfileobj\u001b[49m\u001b[38;5;241;43m.\u001b[39;49m\u001b[43mwrite\u001b[49m\u001b[43m(\u001b[49m\u001b[43mdslice\u001b[49m\u001b[38;5;241;43m.\u001b[39;49m\u001b[43mtobytes\u001b[49m\u001b[43m(\u001b[49m\u001b[43m)\u001b[49m\u001b[43m)\u001b[49m\n",
      "File \u001b[0;32m~/.local/lib/python3.11/site-packages/nibabel/openers.py:232\u001b[0m, in \u001b[0;36mOpener.write\u001b[0;34m(self, b)\u001b[0m\n\u001b[1;32m    231\u001b[0m \u001b[38;5;28;01mdef\u001b[39;00m \u001b[38;5;21mwrite\u001b[39m(\u001b[38;5;28mself\u001b[39m, b: \u001b[38;5;28mbytes\u001b[39m, \u001b[38;5;241m/\u001b[39m) \u001b[38;5;241m-\u001b[39m\u001b[38;5;241m>\u001b[39m \u001b[38;5;28mint\u001b[39m \u001b[38;5;241m|\u001b[39m \u001b[38;5;28;01mNone\u001b[39;00m:\n\u001b[0;32m--> 232\u001b[0m     \u001b[38;5;28;01mreturn\u001b[39;00m \u001b[38;5;28;43mself\u001b[39;49m\u001b[38;5;241;43m.\u001b[39;49m\u001b[43mfobj\u001b[49m\u001b[38;5;241;43m.\u001b[39;49m\u001b[43mwrite\u001b[49m\u001b[43m(\u001b[49m\u001b[43mb\u001b[49m\u001b[43m)\u001b[49m\n",
      "File \u001b[0;32m~/miniforge3/envs/nmaps2/lib/python3.11/gzip.py:289\u001b[0m, in \u001b[0;36mGzipFile.write\u001b[0;34m(self, data)\u001b[0m\n\u001b[1;32m    286\u001b[0m     length \u001b[38;5;241m=\u001b[39m data\u001b[38;5;241m.\u001b[39mnbytes\n\u001b[1;32m    288\u001b[0m \u001b[38;5;28;01mif\u001b[39;00m length \u001b[38;5;241m>\u001b[39m \u001b[38;5;241m0\u001b[39m:\n\u001b[0;32m--> 289\u001b[0m     \u001b[38;5;28mself\u001b[39m\u001b[38;5;241m.\u001b[39mfileobj\u001b[38;5;241m.\u001b[39mwrite(\u001b[38;5;28mself\u001b[39m\u001b[38;5;241m.\u001b[39mcompress\u001b[38;5;241m.\u001b[39mcompress(data))\n\u001b[1;32m    290\u001b[0m     \u001b[38;5;28mself\u001b[39m\u001b[38;5;241m.\u001b[39msize \u001b[38;5;241m+\u001b[39m\u001b[38;5;241m=\u001b[39m length\n\u001b[1;32m    291\u001b[0m     \u001b[38;5;28mself\u001b[39m\u001b[38;5;241m.\u001b[39mcrc \u001b[38;5;241m=\u001b[39m zlib\u001b[38;5;241m.\u001b[39mcrc32(data, \u001b[38;5;28mself\u001b[39m\u001b[38;5;241m.\u001b[39mcrc)\n",
      "\u001b[0;31mKeyboardInterrupt\u001b[0m: "
     ]
    }
   ],
   "source": [
    "#### Resample mGluR maps\n",
    "resampled_mglu1=neuromaps.resampling.resample_images(src=imgs[1],src_space='MNI152',trg_space='MNI152',\n",
    "                                                        trg=us_mninifti,method='linear',resampling='transform_to_trg')\n",
    "resampled_mglu2=neuromaps.resampling.resample_images(src=imgs[2],src_space='MNI152',trg_space='MNI152',\n",
    "                                                        trg=us_mninifti,method='linear',resampling='transform_to_trg')\n",
    "resampled_mglu3=neuromaps.resampling.resample_images(src=imgs[3],src_space='MNI152',trg_space='MNI152',\n",
    "                                                        trg=us_mninifti,method='linear',resampling='transform_to_trg')\n",
    "# Save individual maps\n",
    "nib.save(nib.Nifti1Image(resampled_mglu1[0].get_fdata(),resampled_mglu1[0].affine),outpath +'resampled_mGluR1.nii.gz')\n",
    "nib.save(nib.Nifti1Image(resampled_mglu2[0].get_fdata(),resampled_mglu2[0].affine),outpath +'resampled_mGluR2.nii.gz')\n",
    "nib.save(nib.Nifti1Image(resampled_mglu3[0].get_fdata(),resampled_mglu3[0].affine),outpath +'resampled_mGluR3.nii.gz')\n",
    "\n",
    "# Combine maps \n",
    "combined_mglu_array = (22*resampled_mglu1[0].get_fdata()+28*resampled_mglu2[0].get_fdata()+73*resampled_mglu3[0].get_fdata())/(22+28+73)\n",
    "#nib.save(nib.Nifti1Image(combined_mglu_array,resampled_mglu1[0].affine),outpath +'resampled_combined_mGluR5.nii.gz')\n",
    "\n",
    "# Skull Strip\n",
    "masked_array = combined_mglu_array * maskarray\n",
    "nib.save(nib.Nifti1Image(masked_array,resampled_GABA[0].affine),outpath +'resampled_mGluR5_masked.nii.gz')\n",
    "\n",
    "# Z Score\n",
    "masked_values = masked_array[masked_array > 0]\n",
    "zscored_values = zscore(masked_values)\n",
    "zmasked_array = np.zeros_like(masked_array)\n",
    "zmasked_array[masked_array > 0] = zscored_values\n",
    "\n",
    "nib.save(nib.Nifti1Image(zmasked_array,resampled_nmda[0].affine),outpath +'resampled_mGluR5_zmasked.nii.gz')"
   ]
  },
  {
   "cell_type": "code",
   "execution_count": 9,
   "id": "a96ccd51-5c38-4899-b5aa-5b1b25f40b4f",
   "metadata": {},
   "outputs": [
    {
     "ename": "NameError",
     "evalue": "name 'nmda_path' is not defined",
     "output_type": "error",
     "traceback": [
      "\u001b[0;31m---------------------------------------------------------------------------\u001b[0m",
      "\u001b[0;31mNameError\u001b[0m                                 Traceback (most recent call last)",
      "Cell \u001b[0;32mIn[9], line 2\u001b[0m\n\u001b[1;32m      1\u001b[0m \u001b[38;5;66;03m# Resample NMDA \u001b[39;00m\n\u001b[0;32m----> 2\u001b[0m nmda \u001b[38;5;241m=\u001b[39m nib\u001b[38;5;241m.\u001b[39mload(\u001b[43mnmda_path\u001b[49m\u001b[38;5;241m+\u001b[39m\u001b[38;5;124m'\u001b[39m\u001b[38;5;124mNMDA_ge179_hc29_galovic.nii.gz\u001b[39m\u001b[38;5;124m'\u001b[39m)\n\u001b[1;32m      3\u001b[0m resampled_nmda\u001b[38;5;241m=\u001b[39mneuromaps\u001b[38;5;241m.\u001b[39mresampling\u001b[38;5;241m.\u001b[39mresample_images(src\u001b[38;5;241m=\u001b[39mnmda,src_space\u001b[38;5;241m=\u001b[39m\u001b[38;5;124m'\u001b[39m\u001b[38;5;124mMNI152\u001b[39m\u001b[38;5;124m'\u001b[39m,trg_space\u001b[38;5;241m=\u001b[39m\u001b[38;5;124m'\u001b[39m\u001b[38;5;124mMNI152\u001b[39m\u001b[38;5;124m'\u001b[39m,\n\u001b[1;32m      4\u001b[0m                                                         trg\u001b[38;5;241m=\u001b[39mus_mninifti,method\u001b[38;5;241m=\u001b[39m\u001b[38;5;124m'\u001b[39m\u001b[38;5;124mlinear\u001b[39m\u001b[38;5;124m'\u001b[39m,resampling\u001b[38;5;241m=\u001b[39m\u001b[38;5;124m'\u001b[39m\u001b[38;5;124mtransform_to_trg\u001b[39m\u001b[38;5;124m'\u001b[39m)\n\u001b[1;32m      5\u001b[0m \u001b[38;5;66;03m# Skull Strip\u001b[39;00m\n",
      "\u001b[0;31mNameError\u001b[0m: name 'nmda_path' is not defined"
     ]
    }
   ],
   "source": [
    "# Resample NMDA \n",
    "nmda = nib.load(nmda_path+'NMDA_ge179_hc29_galovic.nii.gz')\n",
    "resampled_nmda=neuromaps.resampling.resample_images(src=nmda,src_space='MNI152',trg_space='MNI152',\n",
    "                                                        trg=us_mninifti,method='linear',resampling='transform_to_trg')\n",
    "# Skull Strip\n",
    "array = resampled_nmda[0].get_fdata()\n",
    "masked_array = array * maskarray\n",
    "nib.save(nib.Nifti1Image(masked_array,resampled_nmda[0].affine),outpath +'resampled_NMDA_masked.nii.gz')\n",
    "\n",
    "# Z Score\n",
    "masked_values = masked_array[masked_array > 0]\n",
    "zscored_values = zscore(masked_values)\n",
    "zmasked_array = np.zeros_like(masked_array)\n",
    "zmasked_array[masked_array > 0] = zscored_values\n",
    "\n",
    "nib.save(nib.Nifti1Image(zmasked_array,resampled_nmda[0].affine),outpath +'resampled_NMDA_zmasked.nii.gz')"
   ]
  },
  {
   "cell_type": "code",
   "execution_count": 10,
   "id": "b66e0513-7d03-4fa3-b93c-bb6dbfc9bc70",
   "metadata": {},
   "outputs": [
    {
     "ename": "NameError",
     "evalue": "name 'resampled_nmda' is not defined",
     "output_type": "error",
     "traceback": [
      "\u001b[0;31m---------------------------------------------------------------------------\u001b[0m",
      "\u001b[0;31mNameError\u001b[0m                                 Traceback (most recent call last)",
      "Cell \u001b[0;32mIn[10], line 17\u001b[0m\n\u001b[1;32m     13\u001b[0m \u001b[38;5;66;03m#nib.save(nib.Nifti1Image(combined_mglu_array,resampled_mglu1[0].affine),outpath +'resampled_combined_mGluR5.nii.gz')\u001b[39;00m\n\u001b[1;32m     14\u001b[0m \n\u001b[1;32m     15\u001b[0m \u001b[38;5;66;03m# Skull Strip\u001b[39;00m\n\u001b[1;32m     16\u001b[0m masked_array \u001b[38;5;241m=\u001b[39m combined_D2_array \u001b[38;5;241m*\u001b[39m maskarray\n\u001b[0;32m---> 17\u001b[0m nib\u001b[38;5;241m.\u001b[39msave(nib\u001b[38;5;241m.\u001b[39mNifti1Image(masked_array,\u001b[43mresampled_nmda\u001b[49m[\u001b[38;5;241m0\u001b[39m]\u001b[38;5;241m.\u001b[39maffine),outpath \u001b[38;5;241m+\u001b[39m\u001b[38;5;124m'\u001b[39m\u001b[38;5;124mresampled_D2_masked.nii.gz\u001b[39m\u001b[38;5;124m'\u001b[39m)\n\u001b[1;32m     19\u001b[0m \u001b[38;5;66;03m# Z Score\u001b[39;00m\n\u001b[1;32m     20\u001b[0m masked_values \u001b[38;5;241m=\u001b[39m masked_array[masked_array \u001b[38;5;241m>\u001b[39m \u001b[38;5;241m0\u001b[39m]\n",
      "\u001b[0;31mNameError\u001b[0m: name 'resampled_nmda' is not defined"
     ]
    }
   ],
   "source": [
    "#### Resample D2 maps\n",
    "resampled_D2_1=neuromaps.resampling.resample_images(src=imgs[4],src_space='MNI152',trg_space='MNI152',\n",
    "                                                        trg=us_mninifti,method='linear',resampling='transform_to_trg')\n",
    "resampled_D2_2=neuromaps.resampling.resample_images(src=imgs[5],src_space='MNI152',trg_space='MNI152',\n",
    "                                                        trg=us_mninifti,method='linear',resampling='transform_to_trg')\n",
    "\n",
    "# Save individual maps\n",
    "nib.save(nib.Nifti1Image(resampled_D2_1[0].get_fdata(),resampled_D2_1[0].affine),outpath +'resampled_D2_1.nii.gz')\n",
    "nib.save(nib.Nifti1Image(resampled_D2_2[0].get_fdata(),resampled_D2_2[0].affine),outpath +'resampled_D2_2.nii.gz')\n",
    "\n",
    "# Combine maps \n",
    "combined_D2_array = (55*resampled_D2_1[0].get_fdata()+37*resampled_D2_2[0].get_fdata())/(55+37)\n",
    "#nib.save(nib.Nifti1Image(combined_mglu_array,resampled_mglu1[0].affine),outpath +'resampled_combined_mGluR5.nii.gz')\n",
    "\n",
    "# Skull Strip\n",
    "masked_array = combined_D2_array * maskarray\n",
    "nib.save(nib.Nifti1Image(masked_array,resampled_nmda[0].affine),outpath +'resampled_D2_masked.nii.gz')\n",
    "\n",
    "# Z Score\n",
    "masked_values = masked_array[masked_array > 0]\n",
    "zscored_values = zscore(masked_values)\n",
    "zmasked_array = np.zeros_like(masked_array)\n",
    "zmasked_array[masked_array > 0] = zscored_values\n",
    "\n",
    "nib.save(nib.Nifti1Image(zmasked_array,resampled_nmda[0].affine),outpath +'resampled_D2_zmasked.nii.gz')"
   ]
  }
 ],
 "metadata": {
  "kernelspec": {
   "display_name": "nmap2",
   "language": "python",
   "name": "nmaps2"
  },
  "language_info": {
   "codemirror_mode": {
    "name": "ipython",
    "version": 3
   },
   "file_extension": ".py",
   "mimetype": "text/x-python",
   "name": "python",
   "nbconvert_exporter": "python",
   "pygments_lexer": "ipython3",
   "version": "3.11.0"
  }
 },
 "nbformat": 4,
 "nbformat_minor": 5
}
