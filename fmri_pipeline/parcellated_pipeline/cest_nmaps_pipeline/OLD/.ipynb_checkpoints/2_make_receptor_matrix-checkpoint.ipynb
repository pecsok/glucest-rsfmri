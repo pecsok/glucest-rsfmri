{
 "cells": [
  {
   "cell_type": "markdown",
   "id": "732eac9b-0306-4bbb-abca-1ff06b284d0c",
   "metadata": {},
   "source": [
    "## In this notebook:\n",
    "\n",
    "#### We concatenate parcellated PET images into region x receptor matrix of densities.\n",
    "Adapted from Hansen Receptors (https://github.com/netneurolab/hansen_receptors)\n",
    "Paper: https://www.nature.com/articles/s41593-022-01186-3"
   ]
  },
  {
   "cell_type": "markdown",
   "id": "41c22827-7f35-4afd-84f8-9beef9d33947",
   "metadata": {},
   "source": [
    "### Import Packages"
   ]
  },
  {
   "cell_type": "code",
   "execution_count": 25,
   "id": "0fe58316-d615-4179-a89a-4f509161b20f",
   "metadata": {},
   "outputs": [],
   "source": [
    "import numpy as np\n",
    "import pandas as pd\n",
    "from netneurotools import datasets, plotting\n",
    "from matplotlib.colors import ListedColormap\n",
    "from scipy.stats import zscore\n",
    "from nilearn.datasets import fetch_atlas_schaefer_2018"
   ]
  },
  {
   "cell_type": "code",
   "execution_count": 26,
   "id": "e65c2d44-b7b4-4bb1-850b-732be18af5fd",
   "metadata": {},
   "outputs": [],
   "source": [
    "import surfer"
   ]
  },
  {
   "cell_type": "markdown",
   "id": "ea24c1e0-322a-43b6-9d96-55f71ae1623e",
   "metadata": {},
   "source": [
    "### Set Variables"
   ]
  },
  {
   "cell_type": "code",
   "execution_count": 30,
   "id": "39494245-31b8-4679-90b2-e9d0881c80ca",
   "metadata": {},
   "outputs": [
    {
     "data": {
      "text/plain": [
       "sklearn.utils._bunch.Bunch"
      ]
     },
     "execution_count": 30,
     "metadata": {},
     "output_type": "execute_result"
    }
   ],
   "source": [
    "path = '/Users/pecsok/projects/Neuromaps/pecsok_pfns/neuromaps/'\n",
    "datapath = '/Users/pecsok/projects/Neuromaps/hansen_receptors/'\n",
    "\n",
    "scale = 'Harvard_Oxford_sub'\n",
    "\n",
    "schaefer = fetch_atlas_schaefer_2018(n_rois=1000, yeo_networks=17) # This is sklearn.utils._bunch.Bunch. Other altases in this format? *Ask Golia\n",
    "nnodes = len(schaefer['labels'])\n",
    "if scale == 'Harvard_Oxford_sub':\n",
    "    nnodes = 21\n",
    "type(schaefer)"
   ]
  },
  {
   "cell_type": "code",
   "execution_count": 4,
   "id": "29cdcc29-e487-447f-96a5-c8c346753408",
   "metadata": {},
   "outputs": [
    {
     "name": "stdout",
     "output_type": "stream",
     "text": [
      "/Users/pecsok/projects/Neuromaps/pecsok_pfns/neuromaps/data/parcellated/PET_parcellated/scale1000_17/mGluR5_abp_hc73_smart.csv\n"
     ]
    }
   ],
   "source": [
    "print(path+'data/parcellated/PET_parcellated/'+scale+'/mGluR5_abp_hc73_smart.csv')"
   ]
  },
  {
   "cell_type": "markdown",
   "id": "91ccc5e5-7027-48c8-b3bd-fc38c31dee80",
   "metadata": {},
   "source": [
    "### Choose what to analyse"
   ]
  },
  {
   "cell_type": "code",
   "execution_count": 31,
   "id": "763707d5-a220-45a4-a44c-d309e0f0a077",
   "metadata": {},
   "outputs": [],
   "source": [
    "receptors_csv = [path+'data/parcellated/PET_parcellated/'+scale+'/NMDA_ge179_hc29_galovic.csv',\n",
    "                 path+'data/parcellated/PET_parcellated/'+scale+'/mGluR5_abp_hc22_rosaneto.csv',\n",
    "                 path+'data/parcellated/PET_parcellated/'+scale+'/mGluR5_abp_hc28_dubois.csv',\n",
    "                 path+'data/parcellated/PET_parcellated/'+scale+'/mGluR5_abp_hc73_smart.csv',\n",
    "                 path+'data/parcellated/PET_parcellated/'+scale+'/GABAa-bz_flumazenil_hc16_norgaard.csv',\n",
    "                 path+'data/parcellated/PET_parcellated/'+scale+'/GABAa_flumazenil_hc6_dukart.csv',\n",
    "                 path+'data/parcellated/PET_parcellated/'+scale+'/D2_flb457_hc37_smith.csv',\n",
    "                 path+'data/parcellated/PET_parcellated/'+scale+'/D2_flb457_hc55_sandiego.csv'\n",
    "]\n",
    "\n",
    "#path+'data/parcellated/PET_parcellated/'+scale+'D1_SCH23390_hc13_kaller.nii',\n",
    "#path+'data/parcellated/PET_parcellated/'+scale+'D2_fallypride_hc49_jaworska.nii',\n",
    "#path+'data/parcellated/PET_parcellated/'+scale+'D2_raclopride_hc7_alakurtti.nii',\n",
    "# path+'data/parcellated/PET_parcellated/'+scale+'DAT_fpcit_hc174_dukart_spect.nii',\n",
    "#path+'data/parcellated/PET_parcellated/'+scale+'DAT_fepe2i_hc6_sasaki.nii.gz'"
   ]
  },
  {
   "cell_type": "markdown",
   "id": "84c0f5dd-025e-4336-9c61-618e1062c963",
   "metadata": {},
   "source": [
    "### Make Receptor Matrices"
   ]
  },
  {
   "cell_type": "code",
   "execution_count": 14,
   "id": "6efd8ab2-9893-48cd-9b23-36cf318bc79b",
   "metadata": {},
   "outputs": [
    {
     "name": "stdout",
     "output_type": "stream",
     "text": [
      "scale100_17\n"
     ]
    }
   ],
   "source": [
    "print(scale) #pecsok_pfns/neuromaps/data/parcellated/PET_parcellated/\"+scale+\""
   ]
  },
  {
   "cell_type": "code",
   "execution_count": 32,
   "id": "05251979-b724-45dc-90d9-e354711099b3",
   "metadata": {},
   "outputs": [
    {
     "name": "stdout",
     "output_type": "stream",
     "text": [
      "(21, 8)\n",
      "        NMDA    mGluR5      GABA        D2\n",
      "0  -0.722446 -0.324457 -0.031420 -0.868362\n",
      "1  -0.892567  0.355301  1.877034 -0.920586\n",
      "2  -2.122904 -1.810707 -1.279255 -0.798269\n",
      "3   0.920001 -0.304097 -0.554780 -0.297276\n",
      "4   0.839799  0.658721 -0.606623  1.156761\n",
      "5   1.237086  1.243157  0.473080  1.704197\n",
      "6   0.478305 -0.652023 -0.727445  0.056237\n",
      "7  -1.179860 -1.973616 -1.832898 -1.045888\n",
      "8   0.489906  0.196795  0.634706 -0.811769\n",
      "9  -0.179033  0.109656  0.217697 -0.428707\n",
      "10  0.872586  1.546495  1.589664  1.222724\n",
      "11 -0.654542 -0.266470 -0.101673 -0.878348\n",
      "12 -0.895259  0.316555  1.783681 -0.935235\n",
      "13 -2.134733 -1.785285 -1.096187 -0.754206\n",
      "14  0.979936 -0.295680 -0.674018 -0.239220\n",
      "15  0.486061  0.671061 -0.519606  1.292246\n",
      "16  1.119639  1.340607  0.320946  1.960358\n",
      "17  0.435880 -0.484934 -0.890258  0.413026\n",
      "18  0.441698  0.109606  0.265046 -0.781702\n",
      "19 -0.351681 -0.084274  0.003443 -0.442343\n",
      "20  0.832127  1.433588  1.148867  1.396362\n"
     ]
    }
   ],
   "source": [
    "# combine all the receptors (including repeats)\n",
    "r = np.zeros([nnodes, len(receptors_csv)])\n",
    "for i in range(len(receptors_csv)):\n",
    "    r[:, i] = np.genfromtxt(receptors_csv[i], delimiter=',') \n",
    "    # Now we have the receptor data by parcel (row) for all 6 receptor maps (col)\n",
    "\n",
    "#print(r[:,3])\n",
    "print(r.shape)\n",
    "\n",
    "receptor_names = np.array([\"NMDA\",\"mGluR5\",\"GABA\",\"D2\"])\n",
    "np.save(path+'data/receptor_names_pet.npy', receptor_names)\n",
    "\n",
    "# make final region x receptor matrix\n",
    "receptor_data = np.zeros([nnodes, len(receptor_names)])\n",
    "\n",
    "\n",
    "# NMDA Data\n",
    "receptor_data[:, 0] = zscore(r[:, 0])\n",
    "# weighted average of mGluR5 ABP688\n",
    "receptor_data[:, 1] = (zscore(r[:, 1])*22 + zscore(r[:, 2])*28 + zscore(r[:, 3])*73) / (22+28+73)\n",
    "# weighted average of GABA \n",
    "receptor_data[:, 2] = (zscore(r[:, 4])*16 + zscore(r[:, 5])*6) / (16+6)\n",
    "# weighted average of D2\n",
    "receptor_data[:, 3] = (zscore(r[:, 6])*37 + zscore(r[:, 7])*55) / (37+55)\n",
    "\n",
    "\n",
    "receptor_df = pd.DataFrame(receptor_data, columns=receptor_names)\n",
    "\n",
    "#np.savetxt(path+'results/receptor_data_'+scale+'.csv', receptor_data, delimiter=',')\n",
    "\n",
    "#np.savetxt(path+'results/receptor_data_'+scale+'.csv', receptor_df, delimiter=',', header = True)\n",
    "\n",
    "receptor_df.to_csv(path+'results/receptor_data_'+scale+'.csv', index=False, header=True)\n",
    "print(receptor_df)"
   ]
  },
  {
   "cell_type": "code",
   "execution_count": null,
   "id": "7fcf76c2-4eba-40c1-a448-0f293915ec4a",
   "metadata": {},
   "outputs": [],
   "source": [
    "\"\"\"\n",
    "plot receptor data\n",
    "\"\"\"\n",
    "\n",
    "# colourmaps\n",
    "cmap = np.genfromtxt(datapath+'data/colourmap.csv', delimiter=',')\n",
    "cmap_div = ListedColormap(cmap)\n",
    "\n",
    "# plot each receptor map\n",
    "if scale == 'scale1000_17':\n",
    "    annot = datasets.fetch_schaefer2018('fsaverage')['1000Parcels17Networks']\n",
    "    type(annot)\n",
    "    print(annot)\n",
    "    \n",
    "    for k in range(len(receptor_names)):\n",
    "        brain = plotting.plot_fsaverage(data=receptor_data[:, k],\n",
    "                                        lhannot=annot.lh,\n",
    "                                        rhannot=annot.rh,\n",
    "                                        colormap='plasma',\n",
    "                                        views=['lat', 'med'],\n",
    "                                        data_kws={'representation': \"wireframe\"})\n",
    "        brain.save_image(path+'figures/scale1000_17/surface_receptor_'+receptor_names[k]+'.png')\n",
    "\n",
    "\n",
    "if scale == 'scale100':\n",
    "    annot = datasets.fetch_schaefer2018('fsaverage')['100Parcels7Networks']\n",
    "    for k in range(len(receptor_names)):\n",
    "        brain = plotting.plot_fsaverage(data=receptor_data[:, k],\n",
    "                                        lhannot=annot.lh,\n",
    "                                        rhannot=annot.rh,\n",
    "                                        colormap='plasma',\n",
    "                                        views=['lat', 'med'],\n",
    "                                        data_kws={'representation': \"wireframe\"})\n",
    "        brain.save_image(path+'figures/' + scale + '/surface_receptor_'+receptor_names[k]+'.png')\n",
    "\n",
    "\n",
    "#receptor_data[:, 2:9] = r[:, 3:10]\n",
    "print(receptor_data)\n",
    "print(len(receptor_data))\n",
    "\n",
    "print(r)"
   ]
  },
  {
   "cell_type": "code",
   "execution_count": 7,
   "id": "792d1b8a-ef1f-41dc-b51b-55acd51f89e2",
   "metadata": {},
   "outputs": [
    {
     "ename": "ValueError",
     "evalue": "could not broadcast input array from shape (100,3) into shape (100,1)",
     "output_type": "error",
     "traceback": [
      "\u001b[0;31m---------------------------------------------------------------------------\u001b[0m",
      "\u001b[0;31mValueError\u001b[0m                                Traceback (most recent call last)",
      "Cell \u001b[0;32mIn[7], line 5\u001b[0m\n\u001b[1;32m      3\u001b[0m receptor_data \u001b[38;5;241m=\u001b[39m np\u001b[38;5;241m.\u001b[39mzeros([nnodes, \u001b[38;5;28mlen\u001b[39m(receptor_names)])\n\u001b[1;32m      4\u001b[0m receptor_data[:, \u001b[38;5;241m0\u001b[39m] \u001b[38;5;241m=\u001b[39m r[:, \u001b[38;5;241m0\u001b[39m]\n\u001b[0;32m----> 5\u001b[0m \u001b[43mreceptor_data\u001b[49m\u001b[43m[\u001b[49m\u001b[43m:\u001b[49m\u001b[43m,\u001b[49m\u001b[43m \u001b[49m\u001b[38;5;241;43m2\u001b[39;49m\u001b[43m:\u001b[49m\u001b[38;5;241;43m9\u001b[39;49m\u001b[43m]\u001b[49m \u001b[38;5;241m=\u001b[39m r[:, \u001b[38;5;241m3\u001b[39m:\u001b[38;5;241m10\u001b[39m]\n\u001b[1;32m      6\u001b[0m receptor_data[:, \u001b[38;5;241m10\u001b[39m:\u001b[38;5;241m14\u001b[39m] \u001b[38;5;241m=\u001b[39m r[:, \u001b[38;5;241m12\u001b[39m:\u001b[38;5;241m16\u001b[39m]\n\u001b[1;32m      7\u001b[0m receptor_data[:, \u001b[38;5;241m15\u001b[39m:\u001b[38;5;241m18\u001b[39m] \u001b[38;5;241m=\u001b[39m r[:, \u001b[38;5;241m19\u001b[39m:\u001b[38;5;241m22\u001b[39m]\n",
      "\u001b[0;31mValueError\u001b[0m: could not broadcast input array from shape (100,3) into shape (100,1)"
     ]
    }
   ],
   "source": [
    "# make final region x receptor matrix \n",
    "# This is leftover code\n",
    "\n",
    "receptor_data = np.zeros([nnodes, len(receptor_names)])\n",
    "receptor_data[:, 0] = r[:, 0]\n",
    "receptor_data[:, 2:9] = r[:, 3:10]\n",
    "receptor_data[:, 10:14] = r[:, 12:16]\n",
    "receptor_data[:, 15:18] = r[:, 19:22]\n",
    "\n",
    "# weighted average of 5HT1B p943\n",
    "receptor_data[:, 1] = (zscore(r[:, 1])*22 + zscore(r[:, 2])*65) / (22+65)\n",
    "\n",
    "# weighted average of D2 flb457\n",
    "receptor_data[:, 9] = (zscore(r[:, 10])*37 + zscore(r[:, 11])*55) / (37+55)\n",
    "\n",
    "# weighted average of mGluR5 ABP688\n",
    "receptor_data[:, 14] = (zscore(r[:, 16])*22 + zscore(r[:, 17])*28 + zscore(r[:, 18])*73) / (22+28+73)\n",
    "\n",
    "# weighted average of VAChT FEOBV\n",
    "receptor_data[:, 18] = (zscore(r[:, 22])*3 + zscore(r[:, 23])*4 + zscore(r[:, 24]) + zscore(r[:, 25])) / \\\n",
    "                       (3+4+5+18)\n",
    "\n",
    "np.savetxt(path+'results/receptor_data_'+scale+'.csv', receptor_data, delimiter=',')\n",
    "\n",
    "\n",
    "\"\"\"\n",
    "plot receptor data\n",
    "\"\"\"\n",
    "\n",
    "# colourmaps\n",
    "cmap = np.genfromtxt(path+'data/colourmap.csv', delimiter=',')\n",
    "cmap_div = ListedColormap(cmap)\n",
    "\n",
    "# plot each receptor map\n",
    "if scale == 'scale100':\n",
    "    annot = datasets.fetch_schaefer2018('fsaverage')['100Parcels7Networks']\n",
    "    for k in range(len(receptor_names)):\n",
    "        brain = plotting.plot_fsaverage(data=receptor_data[:, k],\n",
    "                                        lhannot=annot.lh,\n",
    "                                        rhannot=annot.rh,\n",
    "                                        colormap='plasma',\n",
    "                                        views=['lat', 'med'],\n",
    "                                        data_kws={'representation': \"wireframe\"})\n",
    "        brain.save_image(path+'figures/schaefer100/surface_receptor_'+receptor_names[k]+'.png')"
   ]
  }
 ],
 "metadata": {
  "kernelspec": {
   "display_name": "nmap2",
   "language": "python",
   "name": "nmaps2"
  },
  "language_info": {
   "codemirror_mode": {
    "name": "ipython",
    "version": 3
   },
   "file_extension": ".py",
   "mimetype": "text/x-python",
   "name": "python",
   "nbconvert_exporter": "python",
   "pygments_lexer": "ipython3",
   "version": "3.11.0"
  }
 },
 "nbformat": 4,
 "nbformat_minor": 5
}
