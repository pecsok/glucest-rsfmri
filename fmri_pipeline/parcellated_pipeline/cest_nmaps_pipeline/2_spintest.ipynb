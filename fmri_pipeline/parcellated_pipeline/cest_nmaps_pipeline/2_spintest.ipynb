{
 "cells": [
  {
   "cell_type": "markdown",
   "id": "eaf5bad8-d06d-4c67-ac91-b5eca861924a",
   "metadata": {},
   "source": [
    "### Spin Test \n",
    "This script projects data to surface space and performs a spin test"
   ]
  },
  {
   "cell_type": "markdown",
   "id": "20d1a234-a816-4e64-b739-be26eb24ef96",
   "metadata": {},
   "source": [
    "#### Import Packages"
   ]
  },
  {
   "cell_type": "code",
   "execution_count": 75,
   "id": "b552c33e-f388-4568-928e-a64de3e6c674",
   "metadata": {},
   "outputs": [],
   "source": [
    "import numpy as np\n",
    "import pandas as pd\n",
    "import netneurotools.stats as stats\n",
    "from neuromaps.datasets import fetch_atlas\n",
    "from nilearn.datasets import fetch_atlas_schaefer_2018\n",
    "from netneurotools.datasets import fetch_schaefer2018\n",
    "import neuromaps\n",
    "import nibabel as nib\n",
    "from neuromaps.parcellate import Parcellater\n",
    "from neuromaps import transforms\n",
    "from neuromaps import nulls"
   ]
  },
  {
   "cell_type": "markdown",
   "id": "e3a62312-7baf-4cd5-9a7d-1c72bcd764a1",
   "metadata": {},
   "source": [
    "#### Set Paths and Variables"
   ]
  },
  {
   "cell_type": "code",
   "execution_count": 53,
   "id": "44ecf780-95d8-4ed8-b8ea-3461e3204ba3",
   "metadata": {},
   "outputs": [
    {
     "name": "stdout",
     "output_type": "stream",
     "text": [
      "(182, 218, 182)\n",
      "                                 hstatus  GluCEST_avg  NMDA_avg  mGluR5_avg  \\\n",
      "Parcel                                                                        \n",
      "17Networks_RH_ContA_Cingm_1           HC     7.348242 -0.515943   -0.290452   \n",
      "17Networks_RH_ContA_Cingm_1          PSY     7.536327 -0.478070   -0.286724   \n",
      "17Networks_RH_ContA_Cingm_2           HC     7.400822 -0.662924   -0.352973   \n",
      "17Networks_RH_ContA_Cingm_2          PSY     7.629667 -0.608125   -0.341912   \n",
      "17Networks_RH_ContB_PFCmp_1           HC     7.561262  0.665146    0.898630   \n",
      "...                                  ...          ...       ...         ...   \n",
      "17Networks_RH_VisPeri_ExStrSup_7     PSY     8.500733  0.819882    1.357389   \n",
      "17Networks_RH_VisPeri_StriCal_3       HC     9.569096 -0.013643    0.141399   \n",
      "17Networks_RH_VisPeri_StriCal_3      PSY     9.336277  0.003004    0.171412   \n",
      "17Networks_RH_VisPeri_StriCal_5       HC     9.077889  0.177231    0.461898   \n",
      "17Networks_RH_VisPeri_StriCal_5      PSY     9.030074  0.039007    0.428818   \n",
      "\n",
      "                                  GABA_avg  \n",
      "Parcel                                      \n",
      "17Networks_RH_ContA_Cingm_1      -0.823318  \n",
      "17Networks_RH_ContA_Cingm_1      -0.835636  \n",
      "17Networks_RH_ContA_Cingm_2      -0.831129  \n",
      "17Networks_RH_ContA_Cingm_2      -0.837279  \n",
      "17Networks_RH_ContB_PFCmp_1       0.642155  \n",
      "...                                    ...  \n",
      "17Networks_RH_VisPeri_ExStrSup_7  1.698075  \n",
      "17Networks_RH_VisPeri_StriCal_3   1.371713  \n",
      "17Networks_RH_VisPeri_StriCal_3   1.413359  \n",
      "17Networks_RH_VisPeri_StriCal_5   1.570615  \n",
      "17Networks_RH_VisPeri_StriCal_5   1.501366  \n",
      "\n",
      "[134 rows x 5 columns]\n"
     ]
    }
   ],
   "source": [
    "dataset = 'longglucest_outputmeasures2'\n",
    "atlas = 'Schaefer2018_1000Parcels_17Networks'\n",
    "nmaps = [\"NMDA\", \"mGluR5\", \"GABA\"]\n",
    "maps = [\"cest\", \"NMDA\", \"mGluR5\", \"GABA\"]\n",
    "\n",
    "# Set paths\n",
    "inpath = \"/Users/pecsok/Desktop/ImageData/PMACS_remote/data/nmaps/analyses/\" + atlas\n",
    "outpath = \"/Users/pecsok/Desktop/ImageData/PMACS_remote/data/nmaps/analyses/\" + atlas\n",
    "means= pd.read_csv(inpath + '/means_subjectnmaps_' + dataset + '_' + atlas + '.csv', sep=',')\n",
    "means[\"Parcel\"] = means[\"Parcel\"].str.replace(' NZMean', '', regex=False)\n",
    "means.set_index('Parcel', inplace = True)\n",
    "\n",
    "# Fetch Schaefer 2018 atlas coordinates (for example)\n",
    "schaefer = fetch_atlas_schaefer_2018(n_rois=1000, yeo_networks=17)\n",
    "labels = schaefer['labels']  # These are the MNI coordinates of the parcels\n",
    "labels = [label.decode('utf-8') for label in labels]\n",
    "# Load in Schaefer nifti.\n",
    "schaefernifti = nib.load(schaefer['maps'])\n",
    "schaeferarray = schaefernifti.get_fdata()\n",
    "print(schaeferarray.shape)\n",
    "\n",
    "print(means)"
   ]
  },
  {
   "cell_type": "markdown",
   "id": "7498063b-2719-44f1-b029-5431a01c441a",
   "metadata": {},
   "source": [
    "### Convert array data to nifti then to surface data"
   ]
  },
  {
   "cell_type": "code",
   "execution_count": 69,
   "id": "0ffc3331-98e5-4b33-aead-929e321c3672",
   "metadata": {},
   "outputs": [],
   "source": [
    "# Assuming GluCEST_data and NMDA_data are 1D arrays with data for each parcel\n",
    "means = means[means['hstatus']== 'HC']\n",
    "\n",
    "# Initialize an array with NaNs the same length as the labels\n",
    "glucest_array = np.full(len(labels), np.nan)\n",
    "nmda_array = np.full(len(labels), np.nan)\n",
    "gaba_array = np.full(len(labels), np.nan)\n",
    "mglur5_array = np.full(len(labels), np.nan)\n",
    "\n",
    "# Loop through the labels and fill in the corresponding GluCEST_avg values where they exist in the dataframe\n",
    "for i, label in enumerate(labels):\n",
    "    if label in means.index:\n",
    "        #print(label)\n",
    "        glucest_array[i] = means.loc[label, 'GluCEST_avg']\n",
    "        nmda_array[i] = means.loc[label, 'NMDA_avg']\n",
    "        gaba_array[i] = means.loc[label, 'GABA_avg']\n",
    "        mglur5_array[i] = means.loc[label, 'mGluR5_avg']\n",
    "\n",
    "# Reshape Arrays\n",
    "glucest_array = glucest_array.reshape(1, len(labels))\n",
    "nmda_array = nmda_array.reshape(1, len(labels))\n",
    "gaba_array = gaba_array.reshape(1, len(labels))\n",
    "mglur5_array = mglur5_array.reshape(1, len(labels))\n",
    "\n",
    "# Parcellate and convert back to nifti\n",
    "parcellater = Parcellater(schaefer['maps'], 'MNI152')\n",
    "glucest_nifti = parcellater.inverse_transform(glucest_array)\n",
    "nmda_nifti = parcellater.inverse_transform(nmda_array)\n",
    "gaba_nifti = parcellater.inverse_transform(gaba_array)\n",
    "mglur5_nifti = parcellater.inverse_transform(mglur5_array)\n",
    "\n",
    "# Save avg niftis\n",
    "nib.save(glucest_nifti,outpath +'avg_glucest.nii.gz')\n",
    "nib.save(nmda_nifti,outpath +'avg_nmda.nii.gz')\n",
    "nib.save(gaba_nifti,outpath +'avg_gaba.nii.gz')\n",
    "nib.save(mglur5_nifti,outpath +'avg_mglur5.nii.gz')\n"
   ]
  },
  {
   "cell_type": "markdown",
   "id": "3b576e6e-7193-4b91-9e24-df465d50785c",
   "metadata": {},
   "source": [
    "#### Project to surface space"
   ]
  },
  {
   "cell_type": "code",
   "execution_count": 78,
   "id": "01ff4cf3-a6b6-423a-94d9-2fd3ecb5c619",
   "metadata": {},
   "outputs": [
    {
     "name": "stdout",
     "output_type": "stream",
     "text": [
      "(<nibabel.gifti.gifti.GiftiImage object at 0x35b778f50>, <nibabel.gifti.gifti.GiftiImage object at 0x35b779190>)\n",
      "(163842,)\n"
     ]
    },
    {
     "name": "stderr",
     "output_type": "stream",
     "text": [
      "/Users/pecsok/miniforge3/envs/nmaps2/lib/python3.11/site-packages/neuromaps/nulls/spins.py:132: RuntimeWarning: Mean of empty slice.\n",
      "  roi = np.atleast_2d(vertices[mask].mean(axis=0))\n",
      "/Users/pecsok/.local/lib/python3.11/site-packages/numpy/core/_methods.py:121: RuntimeWarning: invalid value encountered in divide\n",
      "  ret = um.true_divide(\n"
     ]
    }
   ],
   "source": [
    "fs_glucest = transforms.mni152_to_fslr(nmda_nifti, '32k')\n",
    "fs_nmda = transforms.mni152_to_fslr(nmda_nifti, '32k')\n",
    "fs_gaba = transforms.mni152_to_fslr(gaba_nifti, '32k')\n",
    "fs_mglur5 = transforms.mni152_to_fslr(mglur5_nifti, '32k')\n",
    "\n",
    "fsavg_lh, fsavg_rh = fsavg\n",
    "print(fs_glucest)\n",
    "print(fsavg_lh.agg_data().shape)\n",
    "\n",
    "rotated = nulls.alexander_bloch(fs_glucest, atlas='fslr', density='32k',\n",
    "                                n_perm=10, seed=1234, parcellation=fs_glucest)\n"
   ]
  },
  {
   "cell_type": "code",
   "execution_count": null,
   "id": "41f19822-7359-465e-aad2-3ee5d1d3cfc7",
   "metadata": {},
   "outputs": [],
   "source": [
    "from neuromaps import parcellate\n",
    "destrieux = parcellate.Parcellater(parcellation, 'fsaverage').fit()\n",
    "neurosynth_parc = destrieux.transform(neurosynth, 'fsaverage')\n",
    "abagen_parc = destrieux.transform(abagen, 'fsaverage')\n",
    "print(neurosynth_parc.shape, abagen_parc.shape)\n",
    "\n",
    "\n",
    "rotated = nulls.alexander_bloch(neurosynth_parc, atlas='fsaverage', density='10k',\n",
    "                                n_perm=100, seed=1234, parcellation=parcellation)\n",
    "print(rotated.shape)"
   ]
  },
  {
   "cell_type": "code",
   "execution_count": null,
   "id": "15029dc1-7ce3-40a9-8b4c-f36068e750df",
   "metadata": {},
   "outputs": [],
   "source": [
    "# Warp each subject's parcellated data? \n",
    "# We have:\n",
    "#    Parcellated atlas file in subject space\n",
    "#    Subject-MNI transform\n",
    "#    Average parcel value   \n",
    "#    Standardize warp from MNI to fsLR or fsavg space\n",
    "\n",
    "# Goal: \n",
    "#    Use \n",
    "\n",
    "# 1. Repopulate parcels in subject slice with average parcel value\n",
    "\n",
    "### Inputs: subject slice nifi, CSV with parcels/values,\n",
    "\n",
    "# 2. Project that to surface "
   ]
  }
 ],
 "metadata": {
  "kernelspec": {
   "display_name": "Python 3 (ipykernel)",
   "language": "python",
   "name": "python3"
  },
  "language_info": {
   "codemirror_mode": {
    "name": "ipython",
    "version": 3
   },
   "file_extension": ".py",
   "mimetype": "text/x-python",
   "name": "python",
   "nbconvert_exporter": "python",
   "pygments_lexer": "ipython3",
   "version": "3.11.0"
  }
 },
 "nbformat": 4,
 "nbformat_minor": 5
}
