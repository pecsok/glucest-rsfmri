{
 "cells": [
  {
   "cell_type": "markdown",
   "id": "985933a1-d33f-4942-9cc7-54b30996f2d0",
   "metadata": {},
   "source": [
    "# Combine nmaps"
   ]
  },
  {
   "cell_type": "markdown",
   "id": "414752d0-44a8-4e0e-a1d3-632aeaad60ec",
   "metadata": {},
   "source": [
    "#### In this notebook, the goal is to import the neuromaps data for glu-related maps and generate some binarized masks.\n",
    "\n",
    "1. Import packages and maps\n",
    "2. Combine receptor maps of interest"
   ]
  },
  {
   "cell_type": "markdown",
   "id": "b6b42118-1444-457d-a575-8d14d9f2c933",
   "metadata": {},
   "source": [
    "## Load Packages"
   ]
  },
  {
   "cell_type": "code",
   "execution_count": 1,
   "id": "4ca0865a-4a3c-4ef4-92b5-82967ede6d08",
   "metadata": {
    "scrolled": true
   },
   "outputs": [
    {
     "name": "stderr",
     "output_type": "stream",
     "text": [
      "pixdim[1,2,3] should be non-zero; setting 0 dims to 1\n"
     ]
    }
   ],
   "source": [
    "import pandas as pd\n",
    "import nilearn\n",
    "from nilearn.datasets import fetch_atlas_schaefer_2018\n",
    "from neuromaps.datasets import fetch_atlas\n",
    "from nilearn.image import binarize_img\n",
    "from nilearn import image as nimage\n",
    "from neuromaps.images import (load_nifti, load_data)\n",
    "from neuromaps.parcellate import Parcellater\n",
    "import warnings\n",
    "from neuromaps.datasets import fetch_fslr, fetch_annotation, available_annotations\n",
    "from neuromaps import datasets, images, nulls, resampling, stats, transforms, parcellate\n",
    "from neuromaps.parcellate import Parcellater \n",
    "from neuromaps.resampling import resample_images\n",
    "from neuromaps.images import dlabel_to_gifti\n",
    "import neuromaps\n",
    "import nibabel as nib\n",
    "import os\n",
    "import numpy as np\n",
    "import mayavi\n",
    "from PIL import Image\n",
    "import hcp_utils as hcp\n",
    "import nilearn.plotting as plotting\n",
    "import warnings\n",
    "import nibabel as nib\n",
    "import pylab as plt\n",
    "from nilearn.image import resample_img\n",
    "from scipy.stats import zscore\n",
    "#import abagen ## This is important for certification purposes \n",
    "\n",
    "warnings.filterwarnings('ignore')"
   ]
  },
  {
   "cell_type": "markdown",
   "id": "36a93e15-d55a-4cb4-ab20-708e42cc26e3",
   "metadata": {},
   "source": [
    "## Import Data and Set Variables"
   ]
  },
  {
   "cell_type": "code",
   "execution_count": 2,
   "id": "8180b80c-1683-45e6-a0ce-21e8b77d99fd",
   "metadata": {},
   "outputs": [],
   "source": [
    "# List annotations of interest. \n",
    "ANNOTATIONS = [\n",
    "    ('dukart2018', 'flumazenil', 'MNI152', '3mm'),   # GABA\n",
    "    ('rosaneto', 'abp688', 'MNI152', '1mm'),         # mGluR1\n",
    "    ('dubois2015', 'abp688', 'MNI152', '1mm'),       # mGluR2\n",
    "    ('smart2019', 'abp688', 'MNI152', '1mm'),        # mGluR3\n",
    "    ('sandiego2015', 'flb457', 'MNI152', '1mm'),     # D2_1\n",
    "    ('smith2017', 'flb457', 'MNI152', '1mm')         # D2_2\n",
    "]\n",
    "\n",
    "               \n",
    "# Generate an empty list to add transformed maps\n",
    "nmaps_transformed = []\n",
    "nmaps_transformed_array = []\n",
    "# Set paths\n",
    "outpath = \"/Users/pecsok/projects/Neuromaps/pecsok_pfns/neuromaps/data/maps/\"\n",
    "nmda_path = \"/Users/pecsok/projects/Neuromaps/pecsok_pfns/neuromaps/data/maps/PET_nifti_images/\"\n",
    "\n",
    "# Notes:\n",
    "#  1. NMDA is not in available annotations list but was copied from Hansen git repo\n",
    "#       Already in MNI 152 at 1mm resolution. transfer to outt\n",
    "#  2. We are excluding GABA map ('norgaard2021', 'flumazenil', 'MNI152', '1mm') \n",
    "#      Only has cortical data. Consider re-adding for later analyses or future studies. "
   ]
  },
  {
   "cell_type": "code",
   "execution_count": 28,
   "id": "e75a9465-f2f1-4b5f-b462-c309b0a09501",
   "metadata": {},
   "outputs": [],
   "source": [
    "# Set path for downloading neuromaps data\n",
    "data_dir = '/Users/pecsok/projects/Neuromaps'"
   ]
  },
  {
   "cell_type": "markdown",
   "id": "dac44ab6-71ce-4a84-be8e-2909906e3a89",
   "metadata": {},
   "source": [
    "### Load in neuromaps of interest"
   ]
  },
  {
   "cell_type": "code",
   "execution_count": 8,
   "id": "ad691b97-5df9-45fc-9516-1ca6f8d2ebd3",
   "metadata": {},
   "outputs": [
    {
     "ename": "NameError",
     "evalue": "name 'length' is not defined",
     "output_type": "error",
     "traceback": [
      "\u001b[0;31m---------------------------------------------------------------------------\u001b[0m",
      "\u001b[0;31mNameError\u001b[0m                                 Traceback (most recent call last)",
      "Cell \u001b[0;32mIn[8], line 17\u001b[0m\n\u001b[1;32m     14\u001b[0m     img \u001b[38;5;241m=\u001b[39m datasets\u001b[38;5;241m.\u001b[39mfetch_annotation(source\u001b[38;5;241m=\u001b[39msrc, desc\u001b[38;5;241m=\u001b[39mdesc,\n\u001b[1;32m     15\u001b[0m                                     space\u001b[38;5;241m=\u001b[39mspace, den\u001b[38;5;241m=\u001b[39mden)\n\u001b[1;32m     16\u001b[0m     imgs\u001b[38;5;241m.\u001b[39mappend(img)\n\u001b[0;32m---> 17\u001b[0m \u001b[38;5;28mprint\u001b[39m(\u001b[43mlength\u001b[49m(imgs))\n",
      "\u001b[0;31mNameError\u001b[0m: name 'length' is not defined"
     ]
    }
   ],
   "source": [
    "# 6th gen MNI template:\n",
    "mni152 = fetch_atlas('MNI152', '1mm')\n",
    "mninifti = nib.load(mni152['6Asym_T1w'])\n",
    "us_mninifti = resample_img(mninifti, target_affine=np.eye(3)*0.82, interpolation='nearest')\n",
    "\n",
    "# 6th gen MNI mask\n",
    "mnimask = nib.load(mni152['6Asym_brainmask'])\n",
    "us_mnimask = resample_img(mnimask, target_affine=np.eye(3)*0.82, interpolation='nearest')\n",
    "maskarray = us_mnimask.get_fdata()\n",
    "\n",
    "# Fetch annotations\n",
    "imgs=[]\n",
    "for (src, desc, space, den) in ANNOTATIONS:\n",
    "    img = datasets.fetch_annotation(source=src, desc=desc,\n",
    "                                    space=space, den=den)\n",
    "    imgs.append(img)\n"
   ]
  },
  {
   "cell_type": "code",
   "execution_count": 12,
   "id": "bcb60ecb-65ff-4e3b-af12-0957decddc57",
   "metadata": {},
   "outputs": [
    {
     "name": "stdout",
     "output_type": "stream",
     "text": [
      "(<nibabel.nifti1.Nifti1Image object at 0x32d6ae610>, <nibabel.nifti1.Nifti1Image object at 0x344713490>)\n"
     ]
    }
   ],
   "source": [
    "# Resample GABA\n",
    "resampled_GABA=neuromaps.resampling.resample_images(src=imgs[0],src_space='MNI152',trg_space='MNI152',\n",
    "                                                    trg=us_mninifti,method='linear',resampling='transform_to_trg')\n",
    "# Skull Strip\n",
    "print(resampled_GABA)\n",
    "array = resampled_GABA[0].get_fdata()\n",
    "masked_array = array * maskarray\n",
    "nib.save(nib.Nifti1Image(masked_array,resampled_GABA[0].affine),outpath +'resampled_GABA_masked.nii.gz')\n",
    "\n",
    "# Z Score\n",
    "masked_values = masked_array[masked_array > 0]\n",
    "zscored_values = zscore(masked_values)\n",
    "zmasked_array = np.zeros_like(masked_array)\n",
    "zmasked_array[masked_array > 0] = zscored_values\n",
    "\n",
    "nib.save(nib.Nifti1Image(zmasked_array,resampled_GABA[0].affine),outpath +'resampled_GABA_zmasked.nii.gz')"
   ]
  },
  {
   "cell_type": "code",
   "execution_count": 31,
   "id": "fd157520-f9de-495e-8320-af8500f1572b",
   "metadata": {},
   "outputs": [],
   "source": [
    "#### Resample mGluR maps\n",
    "resampled_mglu1=neuromaps.resampling.resample_images(src=imgs[1],src_space='MNI152',trg_space='MNI152',\n",
    "                                                        trg=us_mninifti,method='linear',resampling='transform_to_trg')\n",
    "resampled_mglu2=neuromaps.resampling.resample_images(src=imgs[2],src_space='MNI152',trg_space='MNI152',\n",
    "                                                        trg=us_mninifti,method='linear',resampling='transform_to_trg')\n",
    "resampled_mglu3=neuromaps.resampling.resample_images(src=imgs[3],src_space='MNI152',trg_space='MNI152',\n",
    "                                                        trg=us_mninifti,method='linear',resampling='transform_to_trg')\n",
    "# Save individual maps\n",
    "nib.save(nib.Nifti1Image(resampled_mglu1[0].get_fdata(),resampled_mglu1[0].affine),outpath +'resampled_mGluR1.nii.gz')\n",
    "nib.save(nib.Nifti1Image(resampled_mglu2[0].get_fdata(),resampled_mglu2[0].affine),outpath +'resampled_mGluR2.nii.gz')\n",
    "nib.save(nib.Nifti1Image(resampled_mglu3[0].get_fdata(),resampled_mglu3[0].affine),outpath +'resampled_mGluR3.nii.gz')\n",
    "\n",
    "# Combine maps \n",
    "combined_mglu_array = (22*resampled_mglu1[0].get_fdata()+28*resampled_mglu2[0].get_fdata()+73*resampled_mglu3[0].get_fdata())/(22+28+73)\n",
    "#nib.save(nib.Nifti1Image(combined_mglu_array,resampled_mglu1[0].affine),outpath +'resampled_combined_mGluR5.nii.gz')\n",
    "\n",
    "# Skull Strip\n",
    "masked_array = combined_mglu_array * maskarray\n",
    "nib.save(nib.Nifti1Image(masked_array,resampled_GABA[0].affine),outpath +'resampled_mGluR5_masked.nii.gz')\n",
    "\n",
    "# Z Score\n",
    "masked_values = masked_array[masked_array > 0]\n",
    "zscored_values = zscore(masked_values)\n",
    "zmasked_array = np.zeros_like(masked_array)\n",
    "zmasked_array[masked_array > 0] = zscored_values\n",
    "\n",
    "nib.save(nib.Nifti1Image(zmasked_array,resampled_nmda[0].affine),outpath +'resampled_mGluR5_zmasked.nii.gz')"
   ]
  },
  {
   "cell_type": "code",
   "execution_count": 14,
   "id": "a96ccd51-5c38-4899-b5aa-5b1b25f40b4f",
   "metadata": {},
   "outputs": [],
   "source": [
    "# Resample NMDA \n",
    "nmda = nib.load(nmda_path+'NMDA_ge179_hc29_galovic.nii.gz')\n",
    "resampled_nmda=neuromaps.resampling.resample_images(src=nmda,src_space='MNI152',trg_space='MNI152',\n",
    "                                                        trg=us_mninifti,method='linear',resampling='transform_to_trg')\n",
    "# Skull Strip\n",
    "array = resampled_nmda[0].get_fdata()\n",
    "masked_array = array * maskarray\n",
    "nib.save(nib.Nifti1Image(masked_array,resampled_nmda[0].affine),outpath +'resampled_NMDA_masked.nii.gz')\n",
    "\n",
    "# Z Score\n",
    "masked_values = masked_array[masked_array > 0]\n",
    "zscored_values = zscore(masked_values)\n",
    "zmasked_array = np.zeros_like(masked_array)\n",
    "zmasked_array[masked_array > 0] = zscored_values\n",
    "\n",
    "nib.save(nib.Nifti1Image(zmasked_array,resampled_nmda[0].affine),outpath +'resampled_NMDA_zmasked.nii.gz')"
   ]
  },
  {
   "cell_type": "code",
   "execution_count": 15,
   "id": "b66e0513-7d03-4fa3-b93c-bb6dbfc9bc70",
   "metadata": {},
   "outputs": [],
   "source": [
    "#### Resample D2 maps\n",
    "resampled_D2_1=neuromaps.resampling.resample_images(src=imgs[4],src_space='MNI152',trg_space='MNI152',\n",
    "                                                        trg=us_mninifti,method='linear',resampling='transform_to_trg')\n",
    "resampled_D2_2=neuromaps.resampling.resample_images(src=imgs[5],src_space='MNI152',trg_space='MNI152',\n",
    "                                                        trg=us_mninifti,method='linear',resampling='transform_to_trg')\n",
    "\n",
    "# Save individual maps\n",
    "nib.save(nib.Nifti1Image(resampled_D2_1[0].get_fdata(),resampled_D2_1[0].affine),outpath +'resampled_D2_1.nii.gz')\n",
    "nib.save(nib.Nifti1Image(resampled_D2_2[0].get_fdata(),resampled_D2_2[0].affine),outpath +'resampled_D2_2.nii.gz')\n",
    "\n",
    "# Combine maps \n",
    "combined_D2_array = (55*resampled_D2_1[0].get_fdata()+37*resampled_D2_2[0].get_fdata())/(55+37)\n",
    "#nib.save(nib.Nifti1Image(combined_mglu_array,resampled_mglu1[0].affine),outpath +'resampled_combined_mGluR5.nii.gz')\n",
    "\n",
    "# Skull Strip\n",
    "masked_array = combined_D2_array * maskarray\n",
    "nib.save(nib.Nifti1Image(masked_array,resampled_nmda[0].affine),outpath +'resampled_D2_masked.nii.gz')\n",
    "\n",
    "# Z Score\n",
    "masked_values = masked_array[masked_array > 0]\n",
    "zscored_values = zscore(masked_values)\n",
    "zmasked_array = np.zeros_like(masked_array)\n",
    "zmasked_array[masked_array > 0] = zscored_values\n",
    "\n",
    "nib.save(nib.Nifti1Image(zmasked_array,resampled_nmda[0].affine),outpath +'resampled_D2_zmasked.nii.gz')"
   ]
  }
 ],
 "metadata": {
  "kernelspec": {
   "display_name": "nmap2",
   "language": "python",
   "name": "nmaps2"
  },
  "language_info": {
   "codemirror_mode": {
    "name": "ipython",
    "version": 3
   },
   "file_extension": ".py",
   "mimetype": "text/x-python",
   "name": "python",
   "nbconvert_exporter": "python",
   "pygments_lexer": "ipython3",
   "version": "3.11.0"
  }
 },
 "nbformat": 4,
 "nbformat_minor": 5
}
