

















# Warp each subject's parcellated data? 
# We have:
#    Parcellated atlas file in subject space
#    Subject-MNI transform
#    Average parcel value   
#    Standardize warp from MNI to fsLR or fsavg space

# Goal: 
#    Use 

# 1. Repopulate parcels in subject slice with average parcel value

### Inputs: subject slice nifi, CSV with parcels/values,

# 2. Project that to surface 



