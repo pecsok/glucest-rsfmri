{
 "cells": [
  {
   "cell_type": "markdown",
   "id": "eaf5bad8-d06d-4c67-ac91-b5eca861924a",
   "metadata": {},
   "source": [
    "### Spin Test \n",
    "This script projects data to surface space and performs a spin test"
   ]
  },
  {
   "cell_type": "markdown",
   "id": "20d1a234-a816-4e64-b739-be26eb24ef96",
   "metadata": {},
   "source": [
    "#### Load Packages"
   ]
  },
  {
   "cell_type": "code",
   "execution_count": null,
   "id": "b552c33e-f388-4568-928e-a64de3e6c674",
   "metadata": {},
   "outputs": [],
   "source": []
  },
  {
   "cell_type": "markdown",
   "id": "e3a62312-7baf-4cd5-9a7d-1c72bcd764a1",
   "metadata": {},
   "source": [
    "#### Set Paths and Variables"
   ]
  },
  {
   "cell_type": "code",
   "execution_count": null,
   "id": "44ecf780-95d8-4ed8-b8ea-3461e3204ba3",
   "metadata": {},
   "outputs": [],
   "source": []
  },
  {
   "cell_type": "markdown",
   "id": "3b576e6e-7193-4b91-9e24-df465d50785c",
   "metadata": {},
   "source": [
    "#### Project to surface space"
   ]
  },
  {
   "cell_type": "code",
   "execution_count": null,
   "id": "15029dc1-7ce3-40a9-8b4c-f36068e750df",
   "metadata": {},
   "outputs": [],
   "source": [
    "# Warp each subject's parcellated data? \n",
    "# We have:\n",
    "#    Parcellated atlas file in subject space\n",
    "#    Subject-MNI transform\n",
    "#    Average parcel value   \n",
    "#    Standardize warp from MNI to fsLR or fsavg space\n",
    "\n",
    "# Goal: \n",
    "#    Use \n",
    "\n",
    "# 1. Repopulate parcels in subject slice with average parcel value\n",
    "\n",
    "### Inputs: subject slice nifi, CSV with parcels/values,\n",
    "\n",
    "# 2. Project that to surface "
   ]
  },
  {
   "cell_type": "code",
   "execution_count": null,
   "id": "0ffc3331-98e5-4b33-aead-929e321c3672",
   "metadata": {},
   "outputs": [],
   "source": []
  }
 ],
 "metadata": {
  "kernelspec": {
   "display_name": "Python 3 (ipykernel)",
   "language": "python",
   "name": "python3"
  },
  "language_info": {
   "codemirror_mode": {
    "name": "ipython",
    "version": 3
   },
   "file_extension": ".py",
   "mimetype": "text/x-python",
   "name": "python",
   "nbconvert_exporter": "python",
   "pygments_lexer": "ipython3",
   "version": "3.11.0"
  }
 },
 "nbformat": 4,
 "nbformat_minor": 5
}
