{
 "cells": [
  {
   "cell_type": "markdown",
   "id": "fcef2fb3-3c4e-490b-a4dd-b008b2839942",
   "metadata": {},
   "source": [
    "## In this notebook:\n",
    "#### We import PET-derived volumetric receptor maps and parcellate using the Schaefer100 atlas.\n",
    "\n",
    "1. Import packages and maps\n",
    "2. Parcellate\n"
   ]
  },
  {
   "cell_type": "markdown",
   "id": "cdc18c4f-0970-4f5e-8ddb-41e4a4793763",
   "metadata": {},
   "source": [
    "### Import Packages"
   ]
  },
  {
   "cell_type": "code",
   "execution_count": 3,
   "id": "740faeb0-cdaf-4858-86f3-918ce0386918",
   "metadata": {},
   "outputs": [],
   "source": [
    "import pandas as pd\n",
    "from nilearn.datasets import fetch_atlas_schaefer_2018\n",
    "from neuromaps.parcellate import Parcellater\n",
    "import warnings\n",
    "from neuromaps.datasets import fetch_fslr, fetch_annotation\n",
    "from neuromaps import datasets, images, nulls, resampling, stats, transforms, parcellate\n",
    "from neuromaps.parcellate import Parcellater \n",
    "from neuromaps.resampling import resample_images\n",
    "from neuromaps.images import dlabel_to_gifti\n",
    "import neuromaps\n",
    "import nibabel as nib\n",
    "import os\n",
    "import numpy as np\n",
    "import mayavi\n",
    "from PIL import Image\n",
    "import hcp_utils as hcp\n",
    "import nilearn.plotting as plotting\n",
    "import warnings\n",
    "#import abagen ## This is important for certification purposes \n",
    "warnings.filterwarnings('ignore')"
   ]
  },
  {
   "cell_type": "markdown",
   "id": "50173d37-78cc-4c0e-af13-fc21b3c08680",
   "metadata": {},
   "source": [
    "### Set Variables"
   ]
  },
  {
   "cell_type": "code",
   "execution_count": 5,
   "id": "5c384b7f-5fd3-4a31-974f-6b75b487e08c",
   "metadata": {},
   "outputs": [
    {
     "data": {
      "text/plain": [
       "sklearn.utils._bunch.Bunch"
      ]
     },
     "execution_count": 5,
     "metadata": {},
     "output_type": "execute_result"
    }
   ],
   "source": [
    "scale = 'scale1000_17'\n",
    "\n",
    "schaefer = fetch_atlas_schaefer_2018(n_rois=1000, yeo_networks=17)\n",
    "\n",
    "\n",
    "path = \"/Users/pecsok/projects/Neuromaps/pecsok_pfns/neuromaps/data/maps/PET_nifti_images/\"\n",
    "outpath = \"/Users/pecsok/projects/Neuromaps/pecsok_pfns/neuromaps/data/parcellated/PET_parcellated/\"+scale+\"/\"\n",
    "print(schaefer['maps'])"
   ]
  },
  {
   "cell_type": "markdown",
   "id": "e01d39e0-3823-4a90-9d16-5184ca4178c1",
   "metadata": {},
   "source": [
    "### Load in maps of interest"
   ]
  },
  {
   "cell_type": "code",
   "execution_count": null,
   "id": "7ff3aa93-25a4-4c3d-9cdd-a2db1e525e8c",
   "metadata": {},
   "outputs": [],
   "source": [
    "receptors_nii = [path+'GABAa-bz_flumazenil_hc16_norgaard.nii',\n",
    "                 path+'GABAa_flumazenil_hc6_dukart.nii',\n",
    "                 path+'mGluR5_abp_hc22_rosaneto.nii',\n",
    "                 path+'mGluR5_abp_hc28_dubois.nii',\n",
    "                 path+'mGluR5_abp_hc73_smart.nii',\n",
    "                 path+'NMDA_ge179_hc29_galovic.nii.gz']"
   ]
  },
  {
   "cell_type": "markdown",
   "id": "8df1f0bc-b60e-4467-9212-d5c9d02dff3f",
   "metadata": {},
   "source": [
    "### Parcellate using Schaefer Atlas"
   ]
  },
  {
   "cell_type": "code",
   "execution_count": null,
   "id": "6d4aab13-8948-4ba4-b3e4-fb783b5ff668",
   "metadata": {},
   "outputs": [],
   "source": [
    "parcellated = {}\n",
    "parcellater = Parcellater(schaefer['maps'], 'MNI152')\n",
    "for receptor in receptors_nii:\n",
    "    parcellated[receptor] = parcellater.fit_transform(receptor, 'MNI152', True)\n",
    "    name = receptor.split('/')[-1]  # get nifti file name\n",
    "    name = name.split('.')[0]  # remove .nii\n",
    "    np.savetxt(outpath+name+'.csv', parcellated[receptor], delimiter=',')"
   ]
  }
 ],
 "metadata": {
  "kernelspec": {
   "display_name": "Python 3 (ipykernel)",
   "language": "python",
   "name": "python3"
  },
  "language_info": {
   "codemirror_mode": {
    "name": "ipython",
    "version": 3
   },
   "file_extension": ".py",
   "mimetype": "text/x-python",
   "name": "python",
   "nbconvert_exporter": "python",
   "pygments_lexer": "ipython3",
   "version": "3.11.0"
  }
 },
 "nbformat": 4,
 "nbformat_minor": 5
}
