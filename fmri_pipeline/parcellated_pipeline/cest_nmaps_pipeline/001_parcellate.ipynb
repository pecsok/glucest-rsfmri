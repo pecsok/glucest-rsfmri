{
 "cells": [
  {
   "cell_type": "markdown",
   "id": "fcef2fb3-3c4e-490b-a4dd-b008b2839942",
   "metadata": {},
   "source": [
    "## In this notebook:\n",
    "#### We import PET-derived volumetric receptor maps and parcellate using the Schaefer100 atlas.\n",
    "\n",
    "1. Import packages and maps\n",
    "2. Parcellate\n"
   ]
  },
  {
   "cell_type": "markdown",
   "id": "cdc18c4f-0970-4f5e-8ddb-41e4a4793763",
   "metadata": {},
   "source": [
    "### Import Packages"
   ]
  },
  {
   "cell_type": "code",
   "execution_count": 1,
   "id": "740faeb0-cdaf-4858-86f3-918ce0386918",
   "metadata": {},
   "outputs": [
    {
     "name": "stderr",
     "output_type": "stream",
     "text": [
      "pixdim[1,2,3] should be non-zero; setting 0 dims to 1\n"
     ]
    }
   ],
   "source": [
    "import pandas as pd\n",
    "from nilearn.datasets import fetch_atlas_schaefer_2018\n",
    "from neuromaps.parcellate import Parcellater\n",
    "import warnings\n",
    "from neuromaps.datasets import fetch_fslr, fetch_annotation\n",
    "from neuromaps import datasets, images, nulls, resampling, stats, transforms, parcellate\n",
    "from neuromaps.parcellate import Parcellater \n",
    "from neuromaps.resampling import resample_images\n",
    "from neuromaps.images import dlabel_to_gifti\n",
    "import neuromaps\n",
    "import nibabel as nib\n",
    "import os\n",
    "import numpy as np\n",
    "import mayavi\n",
    "from PIL import Image\n",
    "import hcp_utils as hcp\n",
    "import nilearn.plotting as plotting\n",
    "import warnings\n",
    "from netneurotools.datasets import fetch_cammoun2012\n",
    "#import abagen ## This is important for certification purposes \n",
    "warnings.filterwarnings('ignore')"
   ]
  },
  {
   "cell_type": "markdown",
   "id": "50173d37-78cc-4c0e-af13-fc21b3c08680",
   "metadata": {},
   "source": [
    "### Set Variables"
   ]
  },
  {
   "cell_type": "code",
   "execution_count": 2,
   "id": "5c384b7f-5fd3-4a31-974f-6b75b487e08c",
   "metadata": {},
   "outputs": [
    {
     "name": "stdout",
     "output_type": "stream",
     "text": [
      "/Users/pecsok/nilearn_data/schaefer_2018/Schaefer2018_1000Parcels_17Networks_order_FSLMNI152_1mm.nii.gz\n",
      "{'scale033': '/Users/pecsok/nnt-data/atl-cammoun2012/MNI152NLin2009aSym/atl-Cammoun2012_space-MNI152NLin2009aSym_res-033_deterministic.nii.gz', 'scale060': '/Users/pecsok/nnt-data/atl-cammoun2012/MNI152NLin2009aSym/atl-Cammoun2012_space-MNI152NLin2009aSym_res-060_deterministic.nii.gz', 'scale125': '/Users/pecsok/nnt-data/atl-cammoun2012/MNI152NLin2009aSym/atl-Cammoun2012_space-MNI152NLin2009aSym_res-125_deterministic.nii.gz', 'scale250': '/Users/pecsok/nnt-data/atl-cammoun2012/MNI152NLin2009aSym/atl-Cammoun2012_space-MNI152NLin2009aSym_res-250_deterministic.nii.gz', 'scale500': '/Users/pecsok/nnt-data/atl-cammoun2012/MNI152NLin2009aSym/atl-Cammoun2012_space-MNI152NLin2009aSym_res-500_deterministic.nii.gz', 'info': '/Users/pecsok/nnt-data/atl-cammoun2012/MNI152NLin2009aSym/atl-Cammoun2012_space-MNI152NLin2009aSym_info.csv'}\n"
     ]
    }
   ],
   "source": [
    "scale = 'scale1000_17'\n",
    "schaefer = fetch_atlas_schaefer_2018(n_rois=1000, yeo_networks=17)\n",
    "\n",
    "cammoun = fetch_cammoun2012()\n",
    "scale = 'scale500'\n",
    "\n",
    "path = \"/Users/pecsok/projects/Neuromaps/pecsok_pfns/neuromaps/data/maps/PET_nifti_images/\"\n",
    "outpath = \"/Users/pecsok/projects/Neuromaps/pecsok_pfns/neuromaps/data/parcellated/PET_parcellated/cammoun2012_\"+scale+\"/\"\n",
    "\n",
    "print(schaefer['maps'])\n",
    "print(cammoun)"
   ]
  },
  {
   "cell_type": "markdown",
   "id": "e01d39e0-3823-4a90-9d16-5184ca4178c1",
   "metadata": {},
   "source": [
    "### Load in maps of interest"
   ]
  },
  {
   "cell_type": "code",
   "execution_count": 3,
   "id": "7ff3aa93-25a4-4c3d-9cdd-a2db1e525e8c",
   "metadata": {},
   "outputs": [],
   "source": [
    "receptors_nii = [path+'GABAa-bz_flumazenil_hc16_norgaard.nii',\n",
    "                 path+'GABAa_flumazenil_hc6_dukart.nii',\n",
    "                 path+'mGluR5_abp_hc22_rosaneto.nii',\n",
    "                 path+'mGluR5_abp_hc28_dubois.nii',\n",
    "                 path+'mGluR5_abp_hc73_smart.nii',\n",
    "                 path+'NMDA_ge179_hc29_galovic.nii.gz'] #FIX add back Dopa"
   ]
  },
  {
   "cell_type": "markdown",
   "id": "8df1f0bc-b60e-4467-9212-d5c9d02dff3f",
   "metadata": {},
   "source": [
    "### Parcellate using Schaefer Atlas"
   ]
  },
  {
   "cell_type": "code",
   "execution_count": 5,
   "id": "6d4aab13-8948-4ba4-b3e4-fb783b5ff668",
   "metadata": {},
   "outputs": [
    {
     "name": "stdout",
     "output_type": "stream",
     "text": [
      "(1, 1000)\n",
      "(1, 1000)\n",
      "(1, 1000)\n",
      "(1, 1000)\n",
      "(1, 1000)\n",
      "(1, 1000)\n"
     ]
    }
   ],
   "source": [
    "parcellated = {}\n",
    "parcellater = Parcellater(schaefer['maps'], 'MNI152')\n",
    "for receptor in receptors_nii:\n",
    "    parcellated[receptor] = parcellater.fit_transform(receptor, 'MNI152', True)\n",
    "    #print(parcellated[receptor])\n",
    "    print(parcellated[receptor].shape)\n",
    "    name = receptor.split('/')[-1]  # get nifti file name\n",
    "    name = name.split('.')[0]  # remove .nii\n",
    "    np.savetxt(outpath+name+'.csv', parcellated[receptor], delimiter=',')"
   ]
  },
  {
   "cell_type": "code",
   "execution_count": 6,
   "id": "004d4af0-d338-41f3-be08-6b47058360a0",
   "metadata": {},
   "outputs": [
    {
     "name": "stdout",
     "output_type": "stream",
     "text": [
      "[[518.7395189  535.98943133 810.47141696 ... 538.43689489 467.65230078\n",
      "  135.61115935]]\n",
      "(1, 1015)\n",
      "[[61.87441212 64.81801091 75.34257995 ... 53.71097605 54.33661552\n",
      "  16.36118468]]\n",
      "(1, 1015)\n",
      "[[3.60468964 3.13090897 3.83834514 ... 2.85463526 3.14520325 1.94463151]]\n",
      "(1, 1015)\n",
      "[[2.77503733 2.62848026 2.92945047 ... 2.34415652 2.41282438 1.43390741]]\n",
      "(1, 1015)\n",
      "[[ 0.75509327  0.79738349  0.92528624 ...  0.6470321   0.64818084\n",
      "  -0.04632175]]\n",
      "(1, 1015)\n",
      "[[6.3087232  6.75982295 7.69942227 ... 7.33043923 6.46076483 5.4015    ]]\n",
      "(1, 1015)\n"
     ]
    }
   ],
   "source": [
    "# Cammoun atlas\n",
    "parcellated = {}\n",
    "parcellater = Parcellater(cammoun[scale], 'MNI152')\n",
    "for receptor in receptors_nii:\n",
    "    parcellated[receptor] = parcellater.fit_transform(receptor, 'MNI152', True)\n",
    "    print(parcellated[receptor])\n",
    "    print(parcellated[receptor].shape)\n",
    "    name = receptor.split('/')[-1]  # get nifti file name\n",
    "    name = name.split('.')[0]  # remove .nii\n",
    "    np.savetxt(outpath+name+'.csv', parcellated[receptor], delimiter=',')"
   ]
  }
 ],
 "metadata": {
  "kernelspec": {
   "display_name": "Python 3 (ipykernel)",
   "language": "python",
   "name": "python3"
  },
  "language_info": {
   "codemirror_mode": {
    "name": "ipython",
    "version": 3
   },
   "file_extension": ".py",
   "mimetype": "text/x-python",
   "name": "python",
   "nbconvert_exporter": "python",
   "pygments_lexer": "ipython3",
   "version": "3.11.0"
  }
 },
 "nbformat": 4,
 "nbformat_minor": 5
}
