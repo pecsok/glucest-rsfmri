








import os
import numpy as np
import pandas as pd
import nilearn
from nilearn import image as nimage
from nilearn.masking import apply_mask
import neuromaps
from neuromaps.images import (load_nifti, load_data)
from neuromaps.resampling import resample_images
import nibabel as nib
import os
import ants
from ants import image_read, apply_transforms
from nilearn.datasets import fetch_atlas_harvard_oxford


#from helpers import *


## DEFINE PATHS ##
structural=$1 
pre=$2
post=$3 #Path to newly warped nmaps 
nmaps=$4 # path to nmaps niftis
log=$5
case=$6
method=$7 
reso=$8 # Resolution. Make sure to resample nmaps before running this script.
str=$9 # UNI or INV2


This script:
1. Reads in subject structural data
2. Warps nmap to subject space
3. Extracts slice from warped nmap
4. Extract ROI data from slice.





# Set path for downloading neuromaps data
root = '/Users/pecsok/Desktop/ImageData/PMACS_remote'

cest_path = root + '/data/cest'
#nmaps_path = ' /Users/pecsok/projects/GluCEST-fMRI/glucest-rsfmri/fmri_pipeline/parcellated_pipeline/cest_nmaps_pipeline/'
#nmaps_path = ' /Users/Desktop/'
# nmaps_path = root + '/data/nmaps'
nmaps_path = '/Users/pecsok/projects/Neuromaps/pecsok_pfns/neuromaps/data/maps/'
outpath = root + '/data/nmaps/sandbox'

extract = root + '/github/glucest-rsfmri/cest_nmaps_pipeline/cest2_extract_slice.py'


structural_path = root + '/data/cest/preprocessed'
subjlist_csv = root + '/data/subject_list_031124.csv'
#subjlist = pd.read_csv(subjlist_csv)

nmaps = ["NMDA","GABA"] #,"mGluR5"
#nmaps = (root + '/data/nmaps/average_mGluR', root + '/data/nmaps/average_NMDA')


structural_path = '/Users/pecsok/Desktop'
outpath = '/Users/pecsok/Desktop'
nmaps_path = '/Users/pecsok/Desktop'






def warp_nmap(struct, nmap, xfm):
    #roi_img_path = 'path/to/your/roi_MNI.nii.gz'
    mapnii = os.path.join(nmaps_path, 'resampled_' + nmap + '.nii.gz')

    # Warp it to subject space
    nmap_native = apply_transforms(fixed=struct, moving=image_read(mapnii),
                                      transformlist=xfm['fwdtransforms'], interpolator='nearestNeighbor')
    # save it out
    nmap_native.to_filename(os.path.join(outpath,case + 'nmap_nativespace.nii.gz'))
    return






# Loop through subjects
#for index, row in subjlist.iterrows():
#    bblid = str(int(row['BBLID']))
#    ses = str(int(row['SCANID_CEST']))
#    case = bblid + "_" + ses
#    print(case)

case='20303_12234'

# Read in structural data and make ants transform
structural = os.path.join(structural_path, case, case + '-UNI_masked.nii.gz')
struct = ants.image_read(structural)
structuralmni = os.path.join(structural_path, case, 'MNI_transforms/', case + '-UNIinMNI-Warped.nii.gz')
struct_mni = ants.image_read(structuralmni)
xfm = ants.registration(fixed=struct, moving=struct_mni,
                        type_of_transform='SyN', outprefix=outpath)
print("xfm created")

nmap = 'NMDA'
mapnii = os.path.join(nmaps_path, 'resampled_' + nmap + '.nii.gz')

# Warp it to subject space
nmap_native = apply_transforms(fixed=struct, moving=image_read(mapnii),
                                  transformlist=xfm['fwdtransforms'], interpolator='nearestNeighbor')
nmap_native
nmap_native.to_filename(os.path.join(outpath,case + 'nmap_nativespace.nii.gz'))


"""     
    for nmap in nmaps:        
        warped = warp_nmap(struct,nmap, xfm)
        warped
        os.system(' '.join(cmd))


resampled_mglu1=neuromaps.resampling.resample_images(src=imgs[1],src_space='MNI152',trg_space='MNI152',
                                                        trg=us_mninifti,method='linear',resampling='transform_to_trg')

"""


nmap_native.shape
nib.save(nmap_native,'./NMDA_map_20303.nii.gz')


cestmask = nib.load('~/Desktop/20303_12234/20303_12234-CEST-mask.nii.gz')
nmda_native = nib.load('./NMDA_map_20303.nii.gz')

#masked_data = apply_mask(nmda_native, cestmask)
#masked_nmap =nilearn.masking.apply_mask(nmda_native, cestmask, dtype='f', 
#                                        smoothing_fwhm=None, ensure_finite=True)
#print(nmda_native.affine)
#print(cestmask.affine)


pip install nipype


from nipype.interfaces.fsl import MultiImageMaths
'fslmaths NMDA_map_20303.nii.gz -mul /Users/Desktop/20303_12234/20303_12234-CEST-mask.nii.gz NMDA_20303_slice.nii'



from nipype.interfaces.fsl import MultiImageMaths
maths = MultiImageMaths()
maths.inputs.in_file = 'NMDA_map_20303.nii'
maths.inputs.op_string = "-mul %s"
maths.inputs.operand_files = ['/Users/pecsok/Desktop/20303_12234/20303_12234-CEST-mask.nii']
maths.inputs.out_file = "/Users/pecsok/Desktop/NMDA_20303_slice.nii"
maths.inputs.output_type = "NIFTI"
maths.cmdline
#'fslmaths ./NMDA_map_20303.nii.gz -mul /Users/Desktop/20303_12234/20303_12234-CEST-mask.nii.gz NMDA_20303_slice.nii'



