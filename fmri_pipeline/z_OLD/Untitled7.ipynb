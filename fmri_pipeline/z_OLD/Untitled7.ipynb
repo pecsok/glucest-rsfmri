{
 "cells": [
  {
   "cell_type": "code",
   "execution_count": null,
   "id": "4ed156e4-7908-4bd4-b5a4-fcb6503f5a93",
   "metadata": {},
   "outputs": [],
   "source": []
  }
 ],
 "metadata": {
  "kernelspec": {
   "display_name": "nmap2",
   "language": "python",
   "name": "nmaps2"
  },
  "language_info": {
   "codemirror_mode": {
    "name": "ipython",
    "version": 3
   },
   "file_extension": ".py",
   "mimetype": "text/x-python",
   "name": "python",
   "nbconvert_exporter": "python",
   "pygments_lexer": "ipython3",
   "version": "3.11.7"
  }
 },
 "nbformat": 4,
 "nbformat_minor": 5
}
